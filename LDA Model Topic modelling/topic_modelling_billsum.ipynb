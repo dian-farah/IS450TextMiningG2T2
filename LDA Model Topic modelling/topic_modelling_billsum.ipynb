{
 "cells": [
  {
   "cell_type": "markdown",
   "id": "1c136c8b",
   "metadata": {
    "id": "1c136c8b"
   },
   "source": [
    "# Topic Modeling (LDA Model) Code"
   ]
  },
  {
   "cell_type": "markdown",
   "id": "bb19da21",
   "metadata": {
    "id": "bb19da21"
   },
   "source": [
    "## Model Implementation\n",
    "\n",
    "1. Loading Data\n",
    "2. Data Cleaning and exploratory data analysis\n",
    "3. Phrase Modeling: Bi-grams and Tri-grams\n",
    "4. Data Transformation: Corpus and Dictionary\n",
    "5. Base Model\n",
    "6. Model Evaluation\n",
    "7. Finding optimal number of topics\n",
    "8. Visualise results with pyLDAvis\n",
    "9. Finding dominant topics for each document"
   ]
  },
  {
   "cell_type": "code",
   "execution_count": 37,
   "id": "a1056b1c",
   "metadata": {
    "id": "a1056b1c"
   },
   "outputs": [
    {
     "name": "stderr",
     "output_type": "stream",
     "text": [
      "C:\\anaconda\\lib\\site-packages\\ipykernel\\ipkernel.py:287: DeprecationWarning: `should_run_async` will not call `transform_cell` automatically in the future. Please pass the result to `transformed_cell` argument and any exception that happen during thetransform in `preprocessing_exc_tuple` in IPython 7.17 and above.\n",
      "  and should_run_async(code)\n"
     ]
    }
   ],
   "source": [
    "# Standard dataframe packages\n",
    "import pandas as pd\n",
    "import numpy as np\n",
    "import matplotlib.pyplot as plt\n",
    "\n",
    "# Text analytics packages\n",
    "import gensim\n",
    "import nltk\n",
    "from sklearn.feature_extraction.text import CountVectorizer\n",
    "\n",
    "# Object serialization package\n",
    "import pickle"
   ]
  },
  {
   "cell_type": "markdown",
   "id": "8dd75a88",
   "metadata": {
    "id": "8dd75a88"
   },
   "source": [
    "### 1. Loading Data"
   ]
  },
  {
   "cell_type": "code",
   "execution_count": 2,
   "id": "2f9992c5",
   "metadata": {
    "id": "2f9992c5",
    "outputId": "a644b5cd-1bd0-4975-b947-d181beb283f9"
   },
   "outputs": [
    {
     "data": {
      "text/html": [
       "<div>\n",
       "<style scoped>\n",
       "    .dataframe tbody tr th:only-of-type {\n",
       "        vertical-align: middle;\n",
       "    }\n",
       "\n",
       "    .dataframe tbody tr th {\n",
       "        vertical-align: top;\n",
       "    }\n",
       "\n",
       "    .dataframe thead th {\n",
       "        text-align: right;\n",
       "    }\n",
       "</style>\n",
       "<table border=\"1\" class=\"dataframe\">\n",
       "  <thead>\n",
       "    <tr style=\"text-align: right;\">\n",
       "      <th></th>\n",
       "      <th>contract</th>\n",
       "      <th>content</th>\n",
       "      <th>summary</th>\n",
       "    </tr>\n",
       "  </thead>\n",
       "  <tbody>\n",
       "    <tr>\n",
       "      <th>0</th>\n",
       "      <td>To amend the Internal Revenue Code of 1986 to ...</td>\n",
       "      <td>SECTION 1. SHORT TITLE. This Act may be cited ...</td>\n",
       "      <td>National Science Education Tax Incentive for B...</td>\n",
       "    </tr>\n",
       "    <tr>\n",
       "      <th>1</th>\n",
       "      <td>To amend the Internal Revenue Code of 1986 to ...</td>\n",
       "      <td>SECTION 1. SHORT TITLE. This Act may be cited ...</td>\n",
       "      <td>Small Business Expansion and Hiring Act of 201...</td>\n",
       "    </tr>\n",
       "    <tr>\n",
       "      <th>2</th>\n",
       "      <td>A bill to require the Director of National Int...</td>\n",
       "      <td>SECTION 1. RELEASE OF DOCUMENTS CAPTURED IN IR...</td>\n",
       "      <td>Requires the Director of National Intelligence...</td>\n",
       "    </tr>\n",
       "    <tr>\n",
       "      <th>3</th>\n",
       "      <td>A bill to improve data collection and dissemin...</td>\n",
       "      <td>SECTION 1. SHORT TITLE. This Act may be cited ...</td>\n",
       "      <td>National Cancer Act of 2003 - Amends the Publi...</td>\n",
       "    </tr>\n",
       "    <tr>\n",
       "      <th>4</th>\n",
       "      <td>A bill to amend the Internal Revenue Code of 1...</td>\n",
       "      <td>SECTION 1. SHORT TITLE. This Act may be cited ...</td>\n",
       "      <td>Military Call-up Relief Act - Amends the Inter...</td>\n",
       "    </tr>\n",
       "  </tbody>\n",
       "</table>\n",
       "</div>"
      ],
      "text/plain": [
       "                                            contract  \\\n",
       "0  To amend the Internal Revenue Code of 1986 to ...   \n",
       "1  To amend the Internal Revenue Code of 1986 to ...   \n",
       "2  A bill to require the Director of National Int...   \n",
       "3  A bill to improve data collection and dissemin...   \n",
       "4  A bill to amend the Internal Revenue Code of 1...   \n",
       "\n",
       "                                             content  \\\n",
       "0  SECTION 1. SHORT TITLE. This Act may be cited ...   \n",
       "1  SECTION 1. SHORT TITLE. This Act may be cited ...   \n",
       "2  SECTION 1. RELEASE OF DOCUMENTS CAPTURED IN IR...   \n",
       "3  SECTION 1. SHORT TITLE. This Act may be cited ...   \n",
       "4  SECTION 1. SHORT TITLE. This Act may be cited ...   \n",
       "\n",
       "                                             summary  \n",
       "0  National Science Education Tax Incentive for B...  \n",
       "1  Small Business Expansion and Hiring Act of 201...  \n",
       "2  Requires the Director of National Intelligence...  \n",
       "3  National Cancer Act of 2003 - Amends the Publi...  \n",
       "4  Military Call-up Relief Act - Amends the Inter...  "
      ]
     },
     "execution_count": 2,
     "metadata": {},
     "output_type": "execute_result"
    }
   ],
   "source": [
    "# Read data\n",
    "\n",
    "data = pd.read_excel(\"billsum_test.xlsx\")\n",
    "\n",
    "# Print head\n",
    "data.head()"
   ]
  },
  {
   "cell_type": "markdown",
   "id": "ea6e7194",
   "metadata": {
    "id": "ea6e7194"
   },
   "source": [
    "### 2. Data Cleaning and exploratory data analysis"
   ]
  },
  {
   "cell_type": "code",
   "execution_count": 3,
   "id": "8adf6e4e",
   "metadata": {
    "id": "8adf6e4e",
    "outputId": "e731b1f7-0923-48a6-d93a-d68d0b395dfb"
   },
   "outputs": [
    {
     "name": "stdout",
     "output_type": "stream",
     "text": [
      "<class 'pandas.core.frame.DataFrame'>\n",
      "RangeIndex: 3269 entries, 0 to 3268\n",
      "Data columns (total 3 columns):\n",
      " #   Column    Non-Null Count  Dtype \n",
      "---  ------    --------------  ----- \n",
      " 0   contract  3269 non-null   object\n",
      " 1   content   3269 non-null   object\n",
      " 2   summary   3269 non-null   object\n",
      "dtypes: object(3)\n",
      "memory usage: 76.7+ KB\n"
     ]
    }
   ],
   "source": [
    "#See all column names\n",
    "data.info()\n",
    "    \n"
   ]
  },
  {
   "cell_type": "code",
   "execution_count": 3,
   "id": "3897195c",
   "metadata": {
    "id": "3897195c",
    "outputId": "772915a0-cc6f-4166-d225-d1fc50e26e28"
   },
   "outputs": [
    {
     "data": {
      "text/html": [
       "<div>\n",
       "<style scoped>\n",
       "    .dataframe tbody tr th:only-of-type {\n",
       "        vertical-align: middle;\n",
       "    }\n",
       "\n",
       "    .dataframe tbody tr th {\n",
       "        vertical-align: top;\n",
       "    }\n",
       "\n",
       "    .dataframe thead th {\n",
       "        text-align: right;\n",
       "    }\n",
       "</style>\n",
       "<table border=\"1\" class=\"dataframe\">\n",
       "  <thead>\n",
       "    <tr style=\"text-align: right;\">\n",
       "      <th></th>\n",
       "      <th>Text</th>\n",
       "    </tr>\n",
       "  </thead>\n",
       "  <tbody>\n",
       "    <tr>\n",
       "      <th>0</th>\n",
       "      <td>SECTION 1. SHORT TITLE. This Act may be cited ...</td>\n",
       "    </tr>\n",
       "    <tr>\n",
       "      <th>1</th>\n",
       "      <td>SECTION 1. SHORT TITLE. This Act may be cited ...</td>\n",
       "    </tr>\n",
       "    <tr>\n",
       "      <th>2</th>\n",
       "      <td>SECTION 1. RELEASE OF DOCUMENTS CAPTURED IN IR...</td>\n",
       "    </tr>\n",
       "    <tr>\n",
       "      <th>3</th>\n",
       "      <td>SECTION 1. SHORT TITLE. This Act may be cited ...</td>\n",
       "    </tr>\n",
       "    <tr>\n",
       "      <th>4</th>\n",
       "      <td>SECTION 1. SHORT TITLE. This Act may be cited ...</td>\n",
       "    </tr>\n",
       "  </tbody>\n",
       "</table>\n",
       "</div>"
      ],
      "text/plain": [
       "                                                Text\n",
       "0  SECTION 1. SHORT TITLE. This Act may be cited ...\n",
       "1  SECTION 1. SHORT TITLE. This Act may be cited ...\n",
       "2  SECTION 1. RELEASE OF DOCUMENTS CAPTURED IN IR...\n",
       "3  SECTION 1. SHORT TITLE. This Act may be cited ...\n",
       "4  SECTION 1. SHORT TITLE. This Act may be cited ..."
      ]
     },
     "execution_count": 3,
     "metadata": {},
     "output_type": "execute_result"
    }
   ],
   "source": [
    "# Only take in relevant column\n",
    "data_text = pd.DataFrame()\n",
    "data_text[\"Text\"] = data[\"content\"]\n",
    "\n",
    "# Print out the first few rows of Billsum dataset\n",
    "data_text.head()"
   ]
  },
  {
   "cell_type": "code",
   "execution_count": 4,
   "id": "92b88c31",
   "metadata": {
    "id": "92b88c31",
    "outputId": "57af4981-2e66-4fa5-85c3-b04abb025976"
   },
   "outputs": [
    {
     "data": {
      "text/plain": [
       "0    section  short title this act may be cited as ...\n",
       "1    section  short title this act may be cited as ...\n",
       "2    section  release of documents captured in iraq...\n",
       "3    section  short title this act may be cited as ...\n",
       "4    section  short title this act may be cited as ...\n",
       "Name: Text_Processed, dtype: object"
      ]
     },
     "execution_count": 4,
     "metadata": {},
     "output_type": "execute_result"
    }
   ],
   "source": [
    "# Load the regular expression library\n",
    "import re\n",
    "\n",
    "# Remove punctuation\n",
    "data_text[\"Text_Processed\"] = data_text[\"Text\"].map(lambda x: re.sub('[,\\.!?]', '', x))\n",
    "\n",
    "#remove numbers and space\n",
    "def remove_space(df):\n",
    "    df = df.replace(r'\\n',' ', regex=True)\n",
    "    df = df.replace(r'\\n\\n',' ', regex=True)\n",
    "    df = df.replace(r'\\\\n',' ', regex=True)\n",
    "    df = df.replace('\\s+', ' ', regex=True)\n",
    "    df=df.apply(lambda x: re.sub('[0-9.,\\\\()/:]+', '', x))\n",
    "    return df\n",
    "\n",
    "data_text['Text_Processed']=remove_space(data_text['Text_Processed'])\n",
    "\n",
    "# Convert the titles to lowercase\n",
    "data_text[\"Text_Processed\"] = data_text[\"Text_Processed\"].map(lambda x: x.lower())\n",
    "\n",
    "# Print out the first rows of data_text\n",
    "data_text[\"Text_Processed\"].head()"
   ]
  },
  {
   "cell_type": "markdown",
   "id": "85ba4d71",
   "metadata": {
    "id": "85ba4d71"
   },
   "source": [
    "### 3. Phrase Modeling: Bi-grams and Tri-grams"
   ]
  },
  {
   "cell_type": "code",
   "execution_count": 5,
   "id": "42c8368f",
   "metadata": {
    "id": "42c8368f",
    "outputId": "56435276-e045-46ca-cd83-34b017712875"
   },
   "outputs": [
    {
     "name": "stdout",
     "output_type": "stream",
     "text": [
      "['section', 'short', 'title', 'this', 'act', 'may', 'be', 'cited', 'as', 'the', 'national', 'science', 'education', 'tax', 'incentive', 'for', 'businesses', 'act', 'of', 'sec', 'credits', 'for', 'certain', 'contributions', 'benefiting', 'science', 'technology', 'engineering', 'and', 'mathematics']\n"
     ]
    }
   ],
   "source": [
    "import gensim\n",
    "from gensim.utils import simple_preprocess\n",
    "\n",
    "def sent_to_words(sentences):\n",
    "    for sentence in sentences:\n",
    "        yield(gensim.utils.simple_preprocess(str(sentence), deacc=True))  # deacc=True removes punctuations\n",
    "\n",
    "data = data_text[\"Text_Processed\"].values.tolist()\n",
    "data_words = list(sent_to_words(data))\n",
    "\n",
    "print(data_words[:1][0][:30])"
   ]
  },
  {
   "cell_type": "markdown",
   "id": "56942029",
   "metadata": {
    "id": "56942029"
   },
   "source": [
    "Bigrams are two words frequently occurring together in the document. Trigrams are 3 words frequently occurring. Gensim's Phrases model can build and implement the bigrams, trigrams, quadgrams and more. The two important arguments to Phrases are min_count and threshold."
   ]
  },
  {
   "cell_type": "code",
   "execution_count": 6,
   "id": "29b8fa2b",
   "metadata": {
    "id": "29b8fa2b"
   },
   "outputs": [],
   "source": [
    "# Build the bigram and trigram models\n",
    "bigram = gensim.models.Phrases(data_words, min_count=20, threshold=20) # higher threshold fewer phrases.\n",
    "trigram = gensim.models.Phrases(bigram[data_words], threshold=20)  \n",
    "\n",
    "# Faster way to get a sentence clubbed as a trigram/bigram\n",
    "bigram_mod = gensim.models.phrases.Phraser(bigram)\n",
    "trigram_mod = gensim.models.phrases.Phraser(trigram)"
   ]
  },
  {
   "cell_type": "markdown",
   "id": "1df68c12",
   "metadata": {
    "id": "1df68c12"
   },
   "source": [
    "#### Continuation of data cleaning: Remove Stopwords, Make Bigrams and Lemmatize"
   ]
  },
  {
   "cell_type": "code",
   "execution_count": 7,
   "id": "e629868a",
   "metadata": {
    "id": "e629868a",
    "outputId": "aa71626f-eb61-4cf3-8ce6-a3209486d35d"
   },
   "outputs": [],
   "source": [
    "# NLTK Stop words\n",
    "import nltk\n",
    "#nltk.download('stopwords')\n",
    "from nltk.corpus import stopwords\n",
    "\n",
    "stop_words = stopwords.words('english')\n",
    "\n",
    "#ADD RELEVANT STOP WORDS\n",
    "stop_words.extend(['act','use','section','short'])\n",
    "#stop_words.extend(['agreement','contract','inc','user','exhibit','licensed','statement','page', 'licensee','licensor','fund','member','distributor','agree','agrees'])"
   ]
  },
  {
   "cell_type": "code",
   "execution_count": 9,
   "id": "9e4eb11b",
   "metadata": {},
   "outputs": [
    {
     "name": "stdout",
     "output_type": "stream",
     "text": [
      "['i', 'me', 'my', 'myself', 'we', 'our', 'ours', 'ourselves', 'you', \"you're\", \"you've\", \"you'll\", \"you'd\", 'your', 'yours', 'yourself', 'yourselves', 'he', 'him', 'his', 'himself', 'she', \"she's\", 'her', 'hers', 'herself', 'it', \"it's\", 'its', 'itself', 'they', 'them', 'their', 'theirs', 'themselves', 'what', 'which', 'who', 'whom', 'this', 'that', \"that'll\", 'these', 'those', 'am', 'is', 'are', 'was', 'were', 'be', 'been', 'being', 'have', 'has', 'had', 'having', 'do', 'does', 'did', 'doing', 'a', 'an', 'the', 'and', 'but', 'if', 'or', 'because', 'as', 'until', 'while', 'of', 'at', 'by', 'for', 'with', 'about', 'against', 'between', 'into', 'through', 'during', 'before', 'after', 'above', 'below', 'to', 'from', 'up', 'down', 'in', 'out', 'on', 'off', 'over', 'under', 'again', 'further', 'then', 'once', 'here', 'there', 'when', 'where', 'why', 'how', 'all', 'any', 'both', 'each', 'few', 'more', 'most', 'other', 'some', 'such', 'no', 'nor', 'not', 'only', 'own', 'same', 'so', 'than', 'too', 'very', 's', 't', 'can', 'will', 'just', 'don', \"don't\", 'should', \"should've\", 'now', 'd', 'll', 'm', 'o', 're', 've', 'y', 'ain', 'aren', \"aren't\", 'couldn', \"couldn't\", 'didn', \"didn't\", 'doesn', \"doesn't\", 'hadn', \"hadn't\", 'hasn', \"hasn't\", 'haven', \"haven't\", 'isn', \"isn't\", 'ma', 'mightn', \"mightn't\", 'mustn', \"mustn't\", 'needn', \"needn't\", 'shan', \"shan't\", 'shouldn', \"shouldn't\", 'wasn', \"wasn't\", 'weren', \"weren't\", 'won', \"won't\", 'wouldn', \"wouldn't\", 'act', 'use', 'section', 'short']\n"
     ]
    }
   ],
   "source": [
    "print(stop_words)"
   ]
  },
  {
   "cell_type": "code",
   "execution_count": 8,
   "id": "92f0751a",
   "metadata": {
    "id": "92f0751a"
   },
   "outputs": [],
   "source": [
    "# Define functions for stopwords, bigrams, trigrams and lemmatization\n",
    "def remove_stopwords(texts):\n",
    "    return [[word for word in simple_preprocess(str(doc)) if word not in stop_words] for doc in texts]\n",
    "\n",
    "def make_bigrams(texts):\n",
    "    return [bigram_mod[doc] for doc in texts]\n",
    "\n",
    "def make_trigrams(texts):\n",
    "    return [trigram_mod[bigram_mod[doc]] for doc in texts]\n",
    "\n",
    "def lemmatization(texts, allowed_postags=['NOUN', 'ADJ', 'VERB', 'ADV']):\n",
    "    \"\"\"https://spacy.io/api/annotation\"\"\"\n",
    "    texts_out = []\n",
    "    for sent in texts:\n",
    "        doc = nlp(\" \".join(sent)) \n",
    "        texts_out.append([token.lemma_ for token in doc if token.pos_ in allowed_postags])\n",
    "    return texts_out"
   ]
  },
  {
   "cell_type": "code",
   "execution_count": 9,
   "id": "d0fecd83",
   "metadata": {
    "id": "d0fecd83",
    "outputId": "70e9b3d1-63c2-48e5-e444-25a51ca988f1"
   },
   "outputs": [
    {
     "name": "stdout",
     "output_type": "stream",
     "text": [
      "['title', 'cite', 'national', 'science', 'education', 'tax', 'incentive', 'business', 'credit', 'certain', 'contribution', 'benefit', 'science', 'technology_engineere', 'mathematic', 'education', 'elementary', 'level', 'general', 'subpart', 'part', 'iv', 'subchapter', 'chapter', 'internal_revenue', 'code', 'relate', 'business', 'relate', 'credit']\n"
     ]
    }
   ],
   "source": [
    "import spacy\n",
    "\n",
    "# Remove Stop Words\n",
    "data_words_nostops = remove_stopwords(data_words)\n",
    "\n",
    "# Form Bigrams\n",
    "data_words_bigrams = make_bigrams(data_words_nostops)\n",
    "\n",
    "# Initialize spacy 'en' model, keeping only tagger component (for efficiency)\n",
    "nlp = spacy.load(\"en_core_web_sm\", disable=['parser', 'ner'])\n",
    "\n",
    "# Do lemmatization keeping only noun, adj, vb, adv\n",
    "data_lemmatized = lemmatization(data_words_bigrams, allowed_postags=['NOUN', 'ADJ', 'VERB', 'ADV'])\n",
    "\n",
    "print(data_lemmatized[:1][0][:30])"
   ]
  },
  {
   "cell_type": "code",
   "execution_count": 10,
   "id": "9c3e7778",
   "metadata": {},
   "outputs": [
    {
     "data": {
      "text/plain": [
       "3269"
      ]
     },
     "execution_count": 10,
     "metadata": {},
     "output_type": "execute_result"
    }
   ],
   "source": [
    "len(data_lemmatized)"
   ]
  },
  {
   "cell_type": "markdown",
   "id": "59a09315",
   "metadata": {
    "id": "59a09315"
   },
   "source": [
    "### 4. Data Transformation: Corpus and Dictionary"
   ]
  },
  {
   "cell_type": "markdown",
   "id": "86c8713e",
   "metadata": {
    "id": "86c8713e"
   },
   "source": [
    "We use Gensim package for topic modelling. The two main inputs to the LDA topic model are the dictionary(id2word) and the corpus. Let’s create them."
   ]
  },
  {
   "cell_type": "code",
   "execution_count": 11,
   "id": "75e70a78",
   "metadata": {},
   "outputs": [
    {
     "name": "stdout",
     "output_type": "stream",
     "text": [
      "Total Vocabulary Size: 1625\n",
      "[(0, 1), (1, 1), (2, 3), (3, 1), (4, 1), (5, 9), (6, 2), (7, 1), (8, 1), (9, 2), (10, 4), (11, 5), (12, 1), (13, 3), (14, 1), (15, 1), (16, 1), (17, 19), (18, 1), (19, 2), (20, 5), (21, 3), (22, 5), (23, 1), (24, 4), (25, 1), (26, 1), (27, 12), (28, 2), (29, 1)]\n"
     ]
    }
   ],
   "source": [
    "import gensim.corpora as corpora\n",
    "\n",
    "# Create Dictionary where it assigns an integer id to each unique word in the corpus\n",
    "id2word = corpora.Dictionary(data_lemmatized)\n",
    "\n",
    "#set parameters to filter the vocab based on frequency\n",
    "#Filter out words that occur in less than 70 documents, or more than 50% of the documents.\n",
    "id2word.filter_extremes(no_below=70, no_above=0.5) \n",
    "print('Total Vocabulary Size after filtering:', len(id2word))\n",
    "\n",
    "# Create Corpus\n",
    "texts = data_lemmatized\n",
    "\n",
    "# Term Document Frequency\n",
    "corpus = [id2word.doc2bow(text) for text in texts]\n",
    "\n",
    "# View\n",
    "print(corpus[:1][0][:30])\n"
   ]
  },
  {
   "cell_type": "markdown",
   "id": "f5343bf4",
   "metadata": {
    "id": "f5343bf4"
   },
   "source": [
    "### 5. Base Model"
   ]
  },
  {
   "cell_type": "markdown",
   "id": "5568dc3c",
   "metadata": {
    "id": "5568dc3c"
   },
   "source": [
    "We have everything required to train the base LDA model. In addition to the corpus and dictionary, you need to provide the number of topics as well. Apart from that, alpha and eta are hyperparameters that affect sparsity of the topics. According to the Gensim docs, both defaults to 1.0/num_topics prior (we'll use default for the base model).\n",
    "\n",
    "chunksize controls how many documents are processed at a time in the training algorithm. Increasing chunksize will speed up training, at least as long as the chunk of documents easily fit into memory.\n",
    "\n",
    "passes controls how often we train the model on the entire corpus (set to 25). Another word for passes might be \"epochs\". iterations is somewhat technical, but essentially it controls how often we repeat a particular loop over each document. It is important to set the number of \"passes\" and \"iterations\" high enough."
   ]
  },
  {
   "cell_type": "markdown",
   "id": "f7991897",
   "metadata": {
    "id": "f7991897"
   },
   "source": [
    "The above LDA model is built with 7 different topics where each topic is a combination of keywords and each keyword contributes a certain weightage to the topic.\n",
    "\n",
    "You can see the keywords for each topic and the weightage(importance) of each keyword using lda_model.print_topics()"
   ]
  },
  {
   "cell_type": "code",
   "execution_count": 12,
   "id": "8cbb8190",
   "metadata": {},
   "outputs": [
    {
     "name": "stdout",
     "output_type": "stream",
     "text": [
      "2\n"
     ]
    }
   ],
   "source": [
    "import random\n",
    "\n",
    "random.seed(1) #it will keep printing the same number\n",
    "print(random.randint(0,9))"
   ]
  },
  {
   "cell_type": "code",
   "execution_count": 13,
   "id": "7b92a035",
   "metadata": {
    "id": "7b92a035",
    "outputId": "0cbef6ba-86fa-4fc3-bf5c-12558cea37a8"
   },
   "outputs": [],
   "source": [
    "\n",
    "num_topics = 7\n",
    "\n",
    "lda_model = gensim.models.LdaMulticore(corpus=corpus,\n",
    "                                           id2word=id2word,\n",
    "                                           num_topics=num_topics, \n",
    "                                           random_state=0,\n",
    "                                           chunksize=100,\n",
    "                                           passes=25)\n",
    "                                           "
   ]
  },
  {
   "cell_type": "code",
   "execution_count": 14,
   "id": "c8bf0395",
   "metadata": {
    "id": "c8bf0395",
    "outputId": "bdead097-041f-423d-84f5-512680d54456"
   },
   "outputs": [
    {
     "name": "stdout",
     "output_type": "stream",
     "text": [
      "[(0,\n",
      "  '0.028*\"person\" + 0.014*\"individual\" + 0.014*\"action\" + 0.012*\"employee\" + '\n",
      "  '0.012*\"claim\" + 0.012*\"court\" + 0.011*\"violation\" + 0.009*\"agency\" + '\n",
      "  '0.008*\"right\" + 0.008*\"information\"'),\n",
      " (1,\n",
      "  '0.026*\"credit\" + 0.020*\"qualified\" + 0.016*\"individual\" + 0.016*\"tax\" + '\n",
      "  '0.013*\"pay\" + 0.012*\"percent\" + 0.012*\"taxpayer\" + 0.012*\"striking\" + '\n",
      "  '0.012*\"case\" + 0.011*\"account\"'),\n",
      " (2,\n",
      "  '0.014*\"information\" + 0.011*\"regulation\" + 0.010*\"standard\" + '\n",
      "  '0.010*\"product\" + 0.010*\"consumer\" + 0.009*\"agency\" + 0.008*\"administrator\" '\n",
      "  '+ 0.008*\"loan\" + 0.008*\"security\" + 0.007*\"issue\"'),\n",
      " (3,\n",
      "  '0.030*\"insert\" + 0.029*\"health\" + 0.029*\"plan\" + 0.023*\"individual\" + '\n",
      "  '0.019*\"strike\" + 0.018*\"striking\" + 0.015*\"benefit\" + 0.014*\"drug\" + '\n",
      "  '0.014*\"care\" + 0.014*\"payment\"'),\n",
      " (4,\n",
      "  '0.025*\"member\" + 0.017*\"commission\" + 0.015*\"government\" + 0.013*\"office\" + '\n",
      "  '0.012*\"committee\" + 0.010*\"representative\" + 0.009*\"department\" + '\n",
      "  '0.009*\"security\" + 0.009*\"appoint\" + 0.009*\"country\"'),\n",
      " (5,\n",
      "  '0.031*\"land\" + 0.027*\"project\" + 0.019*\"management\" + 0.017*\"area\" + '\n",
      "  '0.014*\"water\" + 0.014*\"plan\" + 0.012*\"fund\" + 0.009*\"facility\" + '\n",
      "  '0.009*\"national\" + 0.008*\"property\"'),\n",
      " (6,\n",
      "  '0.020*\"grant\" + 0.014*\"fund\" + 0.012*\"agency\" + 0.011*\"fiscal_year\" + '\n",
      "  '0.011*\"research\" + 0.011*\"assistance\" + 0.011*\"development\" + '\n",
      "  '0.010*\"school\" + 0.010*\"activity\" + 0.010*\"education\"')]\n"
     ]
    }
   ],
   "source": [
    "from pprint import pprint\n",
    "\n",
    "# Print the Keyword in the set number of topics\n",
    "pprint(lda_model.print_topics())\n",
    "doc_lda = lda_model[corpus]\n",
    "#topics:\n",
    "#1. About employment, employee - may be related to sth about violation of laws about employment - topic 5\n",
    "#2. about tax and loans on employee, employer (taxpayer)-topic 4\n",
    "#3. about payment/information such as commission fee, costs, regulations regarding products, transportation - topic3\n",
    "#4. about healthcare treatment, health plan, medical drugs - topic6\n",
    "#5. about government office, committee regarding national policies such as security, defense/military, aliens - topic2\n",
    "#6. about environmental conservation such as energy, land conservation -topic7\n",
    "#7. about grants, funding for the development of education, research and technology "
   ]
  },
  {
   "cell_type": "markdown",
   "id": "e306fc45",
   "metadata": {},
   "source": [
    "The topics produced from the model are:\n",
    "1. About employment, employee - may be related to sth about violation of laws about employment\n",
    "2. About tax and loans on employee, employer (taxpayer)\n",
    "3. About payment/information such as commission fee, costs, regulations regarding products, transportation\n",
    "4. About healthcare treatment, health plan, medical drugs\n",
    "5. About government office, committee regarding national policies such as security, defense/military, aliens\n",
    "6. About environmental conservation such as energy, land conservation\n",
    "7. About grants, funding for the development of education, research and technology"
   ]
  },
  {
   "cell_type": "code",
   "execution_count": 34,
   "id": "8f8da721",
   "metadata": {},
   "outputs": [
    {
     "name": "stderr",
     "output_type": "stream",
     "text": [
      "C:\\anaconda\\lib\\site-packages\\ipykernel\\ipkernel.py:287: DeprecationWarning: `should_run_async` will not call `transform_cell` automatically in the future. Please pass the result to `transformed_cell` argument and any exception that happen during thetransform in `preprocessing_exc_tuple` in IPython 7.17 and above.\n",
      "  and should_run_async(code)\n"
     ]
    },
    {
     "data": {
      "text/plain": [
       "[(0,\n",
       "  [('person', 0.028555239),\n",
       "   ('information', 0.014889119),\n",
       "   ('action', 0.013583736),\n",
       "   ('court', 0.011208789),\n",
       "   ('individual', 0.011072345),\n",
       "   ('violation', 0.010562828),\n",
       "   ('agency', 0.009523769),\n",
       "   ('claim', 0.009324864),\n",
       "   ('employee', 0.008613852),\n",
       "   ('right', 0.0074867522)]),\n",
       " (1,\n",
       "  [('school', 0.029348722),\n",
       "   ('student', 0.028355807),\n",
       "   ('eligible', 0.027725795),\n",
       "   ('education', 0.024554908),\n",
       "   ('institution', 0.021841183),\n",
       "   ('loan', 0.021679707),\n",
       "   ('assistance', 0.021527804),\n",
       "   ('grant', 0.018364994),\n",
       "   ('educational', 0.015620118),\n",
       "   ('individual', 0.015473411)]),\n",
       " (2,\n",
       "  [('product', 0.011901613),\n",
       "   ('consumer', 0.011315847),\n",
       "   ('regulation', 0.010978654),\n",
       "   ('standard', 0.009694807),\n",
       "   ('facility', 0.008488847),\n",
       "   ('issue', 0.008167429),\n",
       "   ('security', 0.007848874),\n",
       "   ('administrator', 0.007768771),\n",
       "   ('fee', 0.0071353605),\n",
       "   ('information', 0.00703514)]),\n",
       " (3,\n",
       "  [('health', 0.0414774),\n",
       "   ('plan', 0.031881813),\n",
       "   ('individual', 0.024747824),\n",
       "   ('child', 0.017780485),\n",
       "   ('care', 0.017738406),\n",
       "   ('drug', 0.017145615),\n",
       "   ('medical', 0.016649093),\n",
       "   ('veteran', 0.014975764),\n",
       "   ('payment', 0.014257883),\n",
       "   ('benefit', 0.013914172)]),\n",
       " (4,\n",
       "  [('member', 0.028582854),\n",
       "   ('commission', 0.018990615),\n",
       "   ('government', 0.0133992415),\n",
       "   ('office', 0.012509851),\n",
       "   ('committee', 0.011859914),\n",
       "   ('appoint', 0.01084136),\n",
       "   ('representative', 0.010459584),\n",
       "   ('employee', 0.010401326),\n",
       "   ('department', 0.009521189),\n",
       "   ('country', 0.009386111)]),\n",
       " (5,\n",
       "  [('land', 0.038791236),\n",
       "   ('management', 0.021943886),\n",
       "   ('area', 0.018554663),\n",
       "   ('project', 0.01847306),\n",
       "   ('water', 0.016228674),\n",
       "   ('plan', 0.01325996),\n",
       "   ('property', 0.010103541),\n",
       "   ('conservation', 0.0100771),\n",
       "   ('right', 0.009787046),\n",
       "   ('agreement', 0.009066925)]),\n",
       " (6,\n",
       "  [('grant', 0.01636237),\n",
       "   ('fiscal_year', 0.014814554),\n",
       "   ('fund', 0.0147888055),\n",
       "   ('agency', 0.012823092),\n",
       "   ('research', 0.012557317),\n",
       "   ('activity', 0.012326091),\n",
       "   ('development', 0.011959448),\n",
       "   ('system', 0.010058209),\n",
       "   ('entity', 0.009444841),\n",
       "   ('information', 0.009347281)]),\n",
       " (7,\n",
       "  [('insert', 0.0288442),\n",
       "   ('striking', 0.0229165),\n",
       "   ('credit', 0.021422327),\n",
       "   ('strike', 0.018066058),\n",
       "   ('qualified', 0.0160746),\n",
       "   ('tax', 0.015971364),\n",
       "   ('individual', 0.013638015),\n",
       "   ('inserting', 0.013320547),\n",
       "   ('case', 0.01230666),\n",
       "   ('pay', 0.012180962)])]"
      ]
     },
     "execution_count": 34,
     "metadata": {},
     "output_type": "execute_result"
    }
   ],
   "source": [
    "#another way to present the topics\n",
    "topics = lda_model.show_topics(formatted=False)\n",
    "topics"
   ]
  },
  {
   "cell_type": "markdown",
   "id": "e79950b7",
   "metadata": {
    "id": "e79950b7"
   },
   "source": [
    "### 6. Model Evaluation\n",
    "#### Compute Model Perplexity and Coherence Score\n",
    "\n",
    "Let's calculate the baseline coherence score and perplexity score"
   ]
  },
  {
   "cell_type": "code",
   "execution_count": 15,
   "id": "82de1315",
   "metadata": {},
   "outputs": [
    {
     "name": "stdout",
     "output_type": "stream",
     "text": [
      "Coherence Score:  0.48868986316344004\n"
     ]
    }
   ],
   "source": [
    "from gensim.models import CoherenceModel\n",
    "\n",
    "# Compute Coherence Score\n",
    "coherence_model_lda = CoherenceModel(model=lda_model, texts=data_lemmatized, dictionary=id2word, coherence='c_v')\n",
    "coherence_lda = coherence_model_lda.get_coherence()\n",
    "print('Coherence Score: ', coherence_lda)"
   ]
  },
  {
   "cell_type": "code",
   "execution_count": 16,
   "id": "c215cb11",
   "metadata": {},
   "outputs": [
    {
     "name": "stdout",
     "output_type": "stream",
     "text": [
      "Perplexity:  92.36048202624458\n"
     ]
    }
   ],
   "source": [
    "log_perplexity = lda_model.log_perplexity(corpus)\n",
    "perplexity = 2**(-log_perplexity)\n",
    "print('Perplexity: ',perplexity)"
   ]
  },
  {
   "cell_type": "markdown",
   "id": "a343410f",
   "metadata": {
    "id": "a343410f"
   },
   "source": [
    "### 7. Finding the optimal number of topics\n",
    "\n",
    "To find the optimal number of topics, we plot the number of topics (max of 40 topics) against the coherence score. Using the Elbow method, we are able to find the optimal number of topics. "
   ]
  },
  {
   "cell_type": "code",
   "execution_count": 17,
   "id": "7a199a13",
   "metadata": {},
   "outputs": [],
   "source": [
    "def compute_coherence_values(dictionary, corpus, texts, limit, start=2, step=3):\n",
    "    \"\"\"\n",
    "    Compute c_v coherence for various number of topics\n",
    "\n",
    "    Parameters:\n",
    "    ----------\n",
    "    dictionary : Gensim dictionary\n",
    "    corpus : Gensim corpus\n",
    "    texts : List of input texts\n",
    "    limit : Max num of topics\n",
    "\n",
    "    Returns:\n",
    "    -------\n",
    "    model_list : List of LDA topic models\n",
    "    coherence_values : Coherence values corresponding to the LDA model with respective number of topics\n",
    "    \"\"\"\n",
    "    coherence_values = []\n",
    "    model_list = []\n",
    "    for num_topics in range(start, limit, step):\n",
    "        model=gensim.models.ldamodel.LdaModel(corpus=corpus, id2word=dictionary, num_topics=num_topics)\n",
    "        model_list.append(model)\n",
    "        coherencemodel = CoherenceModel(model=model, texts=texts, dictionary=dictionary, coherence='c_v')\n",
    "        coherence_values.append(coherencemodel.get_coherence())\n",
    "\n",
    "    return model_list, coherence_values"
   ]
  },
  {
   "cell_type": "code",
   "execution_count": 18,
   "id": "8247af92",
   "metadata": {},
   "outputs": [
    {
     "data": {
      "image/png": "[encoded data removed]",
      "text/plain": [
       "<Figure size 432x288 with 1 Axes>"
      ]
     },
     "metadata": {
      "needs_background": "light"
     },
     "output_type": "display_data"
    }
   ],
   "source": [
    "model_list, coherence_values = compute_coherence_values(dictionary=id2word, corpus=corpus, texts=data_lemmatized, start=2, limit=40, step=6)\n",
    "# Show graph\n",
    "import matplotlib.pyplot as plt\n",
    "limit=40; start=2; step=6;\n",
    "x = range(start, limit, step)\n",
    "plt.plot(x, coherence_values)\n",
    "plt.xlabel(\"Num Topics\")\n",
    "plt.ylabel(\"Coherence score\")\n",
    "plt.legend((\"coherence_values\"), loc='best')\n",
    "plt.show()"
   ]
  },
  {
   "cell_type": "markdown",
   "id": "c4bc3bad",
   "metadata": {},
   "source": [
    "Hence, the optimal number of topics is 7 as having 20 topics would be too many topics "
   ]
  },
  {
   "cell_type": "markdown",
   "id": "e11eb3b1",
   "metadata": {
    "id": "e11eb3b1"
   },
   "source": [
    "### 8. Visualise Results with pyLDAvis"
   ]
  },
  {
   "cell_type": "code",
   "execution_count": 55,
   "id": "d9bbf505",
   "metadata": {
    "id": "d9bbf505",
    "outputId": "32ba8a1d-7286-4000-8ad4-3e082a760caa"
   },
   "outputs": [
    {
     "name": "stderr",
     "output_type": "stream",
     "text": [
      "C:\\anaconda\\lib\\site-packages\\ipykernel\\ipkernel.py:287: DeprecationWarning: `should_run_async` will not call `transform_cell` automatically in the future. Please pass the result to `transformed_cell` argument and any exception that happen during thetransform in `preprocessing_exc_tuple` in IPython 7.17 and above.\n",
      "  and should_run_async(code)\n"
     ]
    },
    {
     "data": {
      "text/html": [
       "\n",
       "<link rel=\"stylesheet\" type=\"text/css\" href=\"https://cdn.jsdelivr.net/gh/bmabey/pyLDAvis@3.3.1/pyLDAvis/js/ldavis.v1.0.0.css\">\n",
       "\n",
       "\n",
       "<div id=\"ldavis_el678425313825135521179187036\"></div>\n",
       "<script type=\"text/javascript\">\n",
       "\n",
       "var ldavis_el678425313825135521179187036_data = {\"mdsDat\": {\"x\": [0.1434207071781843, 0.04104992897851424, 0.09811698511079352, -0.25261723658875357, -0.02672768309590741, -0.128904299885232, 0.12566159830240062], \"y\": [-0.12448993547943275, 0.040694499051259596, 0.096209401366688, -0.021626840767998375, 0.17824924712595153, -0.10718799849731903, -0.06184837279914886], \"topics\": [1, 2, 3, 4, 5, 6, 7], \"cluster\": [1, 1, 1, 1, 1, 1, 1], \"Freq\": [21.178208045796858, 15.009897152063534, 14.988775228849354, 13.388126830262781, 12.25707810356886, 12.030059312490911, 11.147855326967719]}, \"tinfo\": {\"Term\": [\"land\", \"health\", \"project\", \"credit\", \"plan\", \"member\", \"insert\", \"person\", \"individual\", \"qualified\", \"grant\", \"commission\", \"striking\", \"tax\", \"management\", \"employee\", \"strike\", \"area\", \"drug\", \"care\", \"water\", \"veteran\", \"taxpayer\", \"school\", \"research\", \"payment\", \"medical\", \"court\", \"property\", \"committee\", \"local_educational\", \"teacher\", \"award_grant\", \"teach\", \"national_institute\", \"college\", \"awarding_grant\", \"secondary_school\", \"school\", \"youth\", \"science\", \"poverty\", \"make_grant\", \"innovative\", \"curriculum\", \"supplant\", \"private_nonprofit\", \"graduate\", \"university\", \"collaboration\", \"student\", \"elementary\", \"research\", \"secondary_education\", \"academic\", \"skill\", \"achievement\", \"disease_control\", \"integration\", \"educate\", \"strategy\", \"grant\", \"initiative\", \"education\", \"community\", \"prevention\", \"laboratory\", \"development\", \"training\", \"woman\", \"technology\", \"evaluation\", \"improve\", \"institution\", \"develop\", \"center\", \"higher_education\", \"support\", \"award\", \"fiscal_year\", \"fund\", \"assistance\", \"need\", \"activity\", \"agency\", \"eligible\", \"child\", \"entity\", \"percent\", \"information\", \"authorize\", \"national\", \"health\", \"system\", \"available\", \"submit\", \"application\", \"customer\", \"commodity\", \"consumer\", \"emission\", \"manufacturer\", \"financial_institution\", \"manufacture\", \"import\", \"operator\", \"internet\", \"product\", \"retail\", \"user\", \"price\", \"marketing\", \"consumption\", \"regulatory\", \"rulemake\", \"volume\", \"electronic\", \"passenger\", \"device\", \"producer\", \"carrier\", \"mortgage\", \"guarantee\", \"software\", \"transaction\", \"weight\", \"bank\", \"motor_vehicle\", \"inspection\", \"market\", \"vehicle\", \"standard\", \"small_business\", \"sale\", \"transportation\", \"administrator\", \"regulation\", \"loan\", \"fee\", \"equipment\", \"information\", \"safety\", \"communication\", \"security\", \"issue\", \"facility\", \"agency\", \"trade\", \"system\", \"rule\", \"commission\", \"cover\", \"later\", \"cost\", \"usc\", \"authority\", \"person\", \"contract\", \"united_nation\", \"executive_schedule\", \"vacancy\", \"minority_leader\", \"majority_leader\", \"hold_hearing\", \"chairperson\", \"terrorist\", \"civilian\", \"chairman\", \"appoint\", \"homeland_security\", \"vote\", \"political\", \"nuclear\", \"appointment\", \"appropriate_congressional\", \"alien\", \"intelligence\", \"armed_force\", \"military\", \"chair\", \"war\", \"weapon\", \"president\", \"subsistence\", \"presidential\", \"candidate\", \"senate\", \"attack\", \"member\", \"defense\", \"house\", \"treaty\", \"committee\", \"country\", \"commission\", \"office\", \"membership\", \"representative\", \"position\", \"government\", \"duty\", \"bill\", \"international\", \"board\", \"foreign\", \"personnel\", \"security\", \"department\", \"official\", \"director\", \"officer\", \"election\", \"employee\", \"submit\", \"agency\", \"review\", \"national\", \"policy\", \"authorize\", \"information\", \"taxpayer\", \"taxable_year\", \"deduction\", \"tax_impose\", \"taxable\", \"gross_income\", \"tax\", \"rules_similar\", \"internal_revenue\", \"dollar_amount\", \"credit\", \"special_rule\", \"trust_fund\", \"allowable\", \"retirement\", \"qualified\", \"calendar_year\", \"taxis\", \"aggregate_amount\", \"repay\", \"bond\", \"estate\", \"multiply\", \"earning\", \"wage\", \"stock\", \"pension\", \"income\", \"corporation\", \"qualify\", \"contribution\", \"subchapter\", \"excess\", \"expense\", \"amount_equal\", \"account\", \"employer\", \"pay\", \"distribution\", \"percentage\", \"property\", \"treat\", \"begin\", \"chapter\", \"percent\", \"following_new\", \"case\", \"rate\", \"striking\", \"loan\", \"employee\", \"individual\", \"payment\", \"eligible\", \"insert\", \"define\", \"limitation\", \"applicable\", \"clause\", \"inserting\", \"offense\", \"civil_action\", \"defendant\", \"allege\", \"imprison\", \"attorney\", \"convict\", \"knowingly\", \"court\", \"attorney_general\", \"complaint\", \"unlawful\", \"prosecution\", \"remedy\", \"fine\", \"false\", \"criminal\", \"violation\", \"violate\", \"proceeding\", \"fraud\", \"discrimination\", \"religious\", \"lawful\", \"judicial\", \"victim\", \"claim\", \"civil_right\", \"discriminate\", \"justice\", \"crime\", \"bring\", \"pende\", \"person\", \"investigation\", \"law_enforcement\", \"file\", \"action\", \"petition\", \"agent\", \"penalty\", \"party\", \"officer\", \"right\", \"record\", \"employee\", \"order\", \"individual\", \"notice\", \"employment\", \"case\", \"procedure\", \"reasonable\", \"agency\", \"information\", \"entity\", \"application\", \"subject\", \"regulation\", \"chapter\", \"government\", \"time\", \"organization\", \"issue\", \"rule\", \"physician\", \"health_insurance\", \"services_furnishe\", \"coverage\", \"veteran\", \"veterans_affair\", \"patient\", \"hospital\", \"care\", \"health_care\", \"drug\", \"medical\", \"social_security\", \"premium\", \"disability\", \"redesignated\", \"supplemental\", \"matter_precede\", \"diagnosis\", \"beneficiary\", \"clinical\", \"enrol\", \"human_service\", \"years_beginne\", \"enrollment\", \"health\", \"medicine\", \"semicolon\", \"subclause\", \"first_sentence\", \"strike\", \"provider\", \"insert\", \"treatment\", \"plan\", \"benefit\", \"striking\", \"inserting\", \"payment\", \"usc\", \"individual\", \"clause\", \"child\", \"following_new\", \"fiscal_year\", \"month\", \"part\", \"eligible\", \"case\", \"define\", \"cover\", \"land\", \"conservation\", \"wildlife\", \"fish\", \"map\", \"boundary\", \"water\", \"conveyance\", \"national_park\", \"acre\", \"specie\", \"recreation\", \"recreational\", \"easement\", \"historic\", \"interior\", \"natural_resource\", \"road\", \"adjacent\", \"park\", \"convey\", \"historical\", \"lease\", \"surface\", \"county\", \"restoration\", \"construct\", \"native\", \"reservation\", \"route\", \"preservation\", \"project\", \"site\", \"construction\", \"management\", \"area\", \"agriculture\", \"locate\", \"resource\", \"energy\", \"environmental\", \"building\", \"unit\", \"facility\", \"right\", \"plan\", \"property\", \"fund\", \"national\", \"agreement\", \"system\", \"authorize\", \"interest\", \"activity\", \"cost\", \"accordance\", \"available\", \"subject\"], \"Freq\": [3848.0, 5684.0, 4420.0, 4085.0, 7183.0, 4865.0, 6770.0, 6138.0, 8910.0, 3294.0, 5358.0, 4017.0, 4879.0, 2327.0, 3522.0, 4818.0, 3865.0, 3264.0, 2035.0, 1966.0, 1770.0, 1798.0, 1790.0, 2419.0, 2800.0, 3991.0, 1819.0, 1605.0, 2974.0, 2537.0, 704.5974959006741, 880.1723345452325, 229.36407544157439, 229.2924476709838, 286.15226946279915, 497.47490932162543, 114.48904029013883, 207.53850085671456, 2398.388837465194, 264.4182276579489, 543.5195567766688, 183.7622628609025, 215.80319282558548, 152.9907552695382, 158.2893257139122, 102.5851774889985, 114.01876208902867, 217.51818752792283, 260.4431959013748, 208.00710081929736, 2072.494283971899, 444.25136271281707, 2674.3112801798843, 126.10790517480213, 480.99284620793424, 363.3706652696907, 122.18975469946328, 151.5785450608574, 142.44723547734526, 164.56863399278905, 810.534184509112, 4704.104132915917, 389.80878215467186, 2261.5599043837947, 2001.2918505556213, 894.5639727443801, 472.4967223949273, 2519.605860353293, 1542.1815840182637, 899.5004150802852, 1628.1726553377885, 906.1869575670675, 1176.2671493347816, 1651.4892760739551, 1776.456199146997, 1313.369442711394, 827.8581180971925, 1864.1578632317378, 1095.3047409338467, 2705.904863284647, 3410.6649007135134, 2531.845666615059, 1228.9554754138917, 2331.8324285832637, 2936.2327015907013, 1857.2617885379964, 1477.954790309189, 1716.8267885670832, 1593.3422178195347, 1901.0619432792616, 1580.4611593676684, 1493.5888202365218, 1669.5474527738165, 1466.9400431481943, 1385.7869208214927, 1418.172302365893, 1390.7884017783606, 427.31112702318853, 264.85114568351037, 1605.151353961088, 283.6120313513766, 703.6922658948816, 309.5857144261412, 431.7174332383386, 371.17845633409655, 445.5487375043545, 560.4874308965112, 1609.3008973330993, 211.70047669278063, 273.45665922582623, 765.0233312114852, 180.0750667198384, 158.92738635443064, 667.1299233967703, 144.76950307274737, 186.14370175510192, 523.9541029116585, 268.72007893434863, 777.5462915187439, 271.02651824940426, 475.86874786766725, 846.4116927661946, 466.62953629686086, 157.0250345834047, 829.0090684992513, 193.95613243601304, 422.48005457361177, 277.18580413960035, 523.7827066942232, 686.4838516763633, 668.1358378524079, 1619.581238555071, 632.5033247086335, 858.084964612593, 884.6865935105985, 1331.5340424672925, 1863.19863528344, 1327.5545303826573, 962.2405155469661, 742.6100096991728, 2266.3991307666847, 897.8104350279241, 681.5184701089601, 1275.6311090061668, 1218.0527433963591, 1124.3058371095235, 1445.026338974703, 642.2195208381319, 1082.7786590160326, 898.7874129663063, 1027.9070667076473, 853.1246527854097, 859.9725458904782, 875.3093680118051, 858.2000087175837, 794.278384144599, 826.3081448980824, 710.9741287627762, 459.44875382368326, 177.31991992410425, 174.15643368385574, 140.1784998284121, 123.53965105444401, 112.64665573312668, 199.24285406128035, 213.62567899957233, 446.22787486765594, 303.8692610874679, 1519.5619335133458, 621.4093889254823, 614.8926466031253, 475.6723033905808, 615.5269911453081, 563.2233384333053, 281.9468137393382, 846.9873162114019, 386.70615311832466, 523.6854363904804, 1239.1107693833803, 172.2673027524733, 212.22407703396965, 326.63430133184283, 1247.9344244683273, 112.52668170474374, 145.80903295596377, 416.89388904358503, 80.77604139545596, 153.407206352306, 4250.183670739893, 1053.811364467085, 1156.0060654907402, 427.0168425081369, 2047.4057555971667, 1480.926772021343, 2894.15949095253, 2204.1957563909186, 367.12418750542656, 1609.115073489348, 639.4418465889107, 2451.023505392174, 1057.4315172475697, 414.8996895644213, 898.7017594616068, 1082.362593504498, 1064.074980494493, 846.7984420613874, 1520.4688409784053, 1581.9195324746788, 925.131990209042, 1048.063359406849, 959.8117765116273, 866.8563315891984, 1359.6474480177455, 1210.7886816859027, 1388.964454639877, 833.1712305525247, 940.9196883353287, 773.2353486824915, 857.2630824934089, 894.7170990431559, 1789.879190885433, 1221.5902492264806, 742.7508404823926, 383.7979364747841, 298.22686361229563, 296.4948094432552, 2317.423918338914, 122.18705766664993, 1187.256103347932, 202.72406330312958, 3840.956630692262, 276.38951604304646, 413.54363801280357, 226.2612372993697, 457.5987352959906, 2969.39298357455, 840.2327163423207, 300.8122485616491, 112.69318748924847, 154.12308038680442, 354.7286174992619, 248.29807337445186, 124.84699427077696, 132.68354455198573, 379.363830495263, 330.7577864494525, 222.94532787656357, 1371.5574640100774, 1362.718888355651, 890.2040478953579, 1145.8756825562907, 901.203151897526, 589.5892355602316, 948.0315046479399, 522.0628111407071, 1695.0256239183977, 1167.184255143601, 1979.5056250228984, 932.6300180345715, 619.4441253144341, 1609.7927249449604, 883.0736643149411, 1210.2086560159185, 1578.730399268443, 1857.963522217783, 1333.8294742715268, 1737.4490895811648, 1238.6970755934615, 1788.9084279873011, 1176.4876894539914, 1693.284873650585, 2381.1259724404254, 1486.2083607354048, 1508.5276982751989, 1526.363883838397, 1171.482493275906, 1053.189670384805, 1042.825242455423, 1011.4922941851166, 1032.1201361605433, 525.6187263823904, 340.0074135843195, 273.214630243977, 234.1405379907026, 181.30538416458535, 341.3847107729538, 172.5532304106544, 146.883893466609, 1582.3032368278098, 981.6016075313884, 342.12977412760443, 245.19577696468554, 163.84811284131996, 317.62353980374655, 298.4670106782583, 129.62675680962428, 535.3171927587833, 1447.0633467094692, 379.21196198532544, 561.2335890935528, 229.70598434057177, 201.87320582539482, 366.1098846832035, 121.0185060747491, 230.58605778635092, 609.3031048462777, 1611.2935768012787, 161.31766483187965, 96.88804373409512, 239.36066279968637, 529.7637384005976, 348.89986382521033, 260.1751776250027, 3843.5745944496366, 577.8680934125971, 702.4237954065322, 951.6325837224296, 1859.9260205885187, 410.0580179701725, 544.1557281313452, 587.1601760708888, 542.3063175800551, 995.0358679354235, 1087.1888296009472, 708.3882511177322, 1630.615544639684, 1049.0206695489646, 1898.0544371344913, 735.8855345721618, 723.2284380468622, 985.1087808622004, 666.5612682352433, 534.5393919648875, 1165.7595754706717, 1055.5915958759094, 784.2856729846569, 760.2170312217605, 725.9904843315074, 711.2043714994966, 684.4371202019319, 679.1858183958459, 654.9889019196424, 641.8063503870023, 627.4973507016565, 624.5860115034105, 603.9419924114655, 592.1663838297384, 199.11578364122178, 1333.2182580606836, 1783.368892032437, 584.9798331944006, 761.5917702110147, 638.2818184438582, 1887.2020869743408, 1156.2620682466581, 1933.9988383197094, 1714.8857772465806, 1278.022538610249, 380.91731438805164, 574.7817113282493, 170.70259739095684, 222.0056409838276, 139.97053379913115, 138.39254698869797, 402.0131908257526, 298.48308462331664, 359.9398979196797, 279.45209985151234, 77.30056851871812, 297.61667028300036, 3943.5852639921545, 127.3040531129716, 164.28350482604216, 302.31546779464423, 198.97286590777674, 2532.5063624284767, 1260.4504555609772, 4030.96008713205, 1218.0614152643604, 3906.1884206087884, 1964.210443816738, 2441.2200473620105, 1668.3820814876046, 1830.5538420108044, 1576.3321215740023, 3044.898052200665, 1141.4437575292488, 1124.5943115488124, 885.8322734839394, 1189.6777814945706, 701.2816431665702, 952.6448839107575, 938.3569237895417, 885.2034667127098, 774.7190101683781, 697.6697705713946, 3847.5665102438793, 1006.9507707903823, 630.1693677607963, 578.8193969235256, 490.7185569471301, 484.32742760256394, 1765.0620564142705, 266.8761298387788, 226.84603400990613, 185.78780917499216, 298.45663706006724, 365.7761331220028, 381.42531840788934, 159.9702058667958, 366.12482864849045, 228.34240674291496, 134.49531705458455, 245.59353791523228, 149.2080438503641, 231.68206645999211, 269.33000328300875, 144.0066327088053, 748.8370678664885, 129.8800324203575, 483.46390003161105, 381.4425229217803, 261.9143654109137, 148.5870448940008, 207.9969249956076, 162.166344686684, 218.03567195951683, 3311.6467135266817, 1009.1465765262474, 956.1798448044731, 2372.9429474654594, 2097.9754246812004, 452.5028711657107, 682.248184368358, 950.3962896819462, 907.636816475963, 663.8965870293214, 508.1688578833723, 630.0706011069776, 1141.4663190788942, 921.5681860811073, 1723.8125834224168, 1037.6542822606516, 1530.1121170851454, 1139.8188565366054, 861.8313333240874, 955.0664752523355, 947.3531761188639, 746.2452686728496, 893.4973707297531, 799.1238345018896, 687.9983152332583, 719.8876058259135, 679.9650816546016], \"Total\": [3848.0, 5684.0, 4420.0, 4085.0, 7183.0, 4865.0, 6770.0, 6138.0, 8910.0, 3294.0, 5358.0, 4017.0, 4879.0, 2327.0, 3522.0, 4818.0, 3865.0, 3264.0, 2035.0, 1966.0, 1770.0, 1798.0, 1790.0, 2419.0, 2800.0, 3991.0, 1819.0, 1605.0, 2974.0, 2537.0, 705.4500174314495, 883.4206948483476, 230.21646226910127, 230.1793390096995, 287.6737662821623, 500.690471343903, 115.34120098031485, 209.1516193871026, 2419.120410602289, 267.1099308322726, 549.3157585805923, 186.5108997115065, 219.32997990218513, 155.84011060385478, 161.90234593077855, 105.57458046889072, 118.2666499364317, 225.8538446013289, 270.5298887948965, 216.32260615839115, 2166.8967919119755, 464.84407987083574, 2800.489248080958, 133.21364867451538, 509.99586894304105, 385.5194674145429, 131.5367379017876, 163.76606672347776, 154.442971776502, 179.11520022089633, 885.3638688556965, 5358.797780343839, 431.07929487392573, 2702.0666676561477, 2384.6224156835897, 1031.7492124438518, 538.2943600418427, 3273.1486191654544, 1923.4529892431306, 1084.0624242484068, 2098.235623925829, 1102.384489736373, 1474.4662735330603, 2200.9382495301647, 2543.091211533514, 1823.4082656539215, 1068.6697402791974, 2976.0863493161232, 1554.6841446069616, 5017.908232356653, 6757.894547154514, 4672.493363580215, 1845.897959620265, 4620.997750662195, 7528.070278642556, 4561.265228623413, 3171.6359262285846, 4356.97588651022, 4178.586078121763, 6530.250977607227, 4247.683308157209, 4140.55212542793, 5684.655593316716, 4307.824015884912, 3695.6176636134305, 4188.971271403068, 3887.8896377573096, 429.23331924130053, 266.99689289952494, 1629.3382835557316, 291.22677306320355, 743.9770012502081, 328.36981603302513, 459.02743368684855, 398.9933419795808, 483.4167456603733, 620.8886749665232, 1821.318844243731, 242.70192098687477, 315.5926725363435, 895.9523175156583, 211.73453763360328, 189.31963417516565, 797.2924542448286, 173.57103931479182, 223.2292579388366, 629.4138054313844, 325.00063029288066, 942.9790857599608, 330.8988707109908, 582.6968366680811, 1047.1570668166275, 583.7532604045983, 196.67064355792309, 1040.8730671278302, 243.68634936185455, 531.8131818091052, 351.0552664586241, 696.3429773841794, 944.6483750015425, 970.4567344398962, 2718.010769574456, 914.8427379736062, 1370.5606520161925, 1456.7809689834248, 2447.558149476552, 3772.908715459693, 2534.6335183093083, 1667.939138959418, 1211.8095312704377, 6530.250977607227, 1626.7646159673195, 1085.624454043617, 3133.4203770222566, 2965.2924614745702, 3286.580040081993, 7528.070278642556, 1136.896444868274, 4307.824015884912, 2791.7457019695635, 4017.5085540043438, 2533.5125421320217, 3042.5099421213504, 3940.5365498095784, 3614.250104330628, 2886.7040769975174, 6138.226812188114, 2663.5985674303856, 460.3085558559421, 178.1783677359947, 175.01491732946957, 141.03634751263783, 124.39756318994117, 113.50474254565817, 200.8988126908335, 216.52927961577944, 452.67084975914196, 309.3941843047551, 1560.599303700984, 638.812503154424, 634.0893888794452, 492.0283893383505, 640.9455778197971, 589.6450541171936, 295.82115511196383, 901.1854505431804, 412.3060345459418, 558.9776335358348, 1328.1183158529818, 185.35997032897097, 228.69601737809887, 356.28680730560194, 1386.4037051747441, 125.01647809773672, 162.00762190224307, 463.95592305880007, 91.5437452872975, 173.90740457762664, 4865.412188212223, 1202.0896306243528, 1372.9242616784504, 495.3677179523741, 2537.631290929579, 1870.0531661607022, 4017.5085540043438, 2982.7286842341787, 424.7522082426069, 2357.2628441046795, 815.1095464650261, 4112.1878487006015, 1498.7226230572267, 491.31889450195007, 1299.8400221086545, 1655.4753891403848, 1695.7144366662444, 1271.2736843674436, 3133.4203770222566, 3481.7088016974067, 1604.2412681579294, 2265.5630034160654, 2000.8521805598928, 1636.6599407958872, 4818.499593693497, 4188.971271403068, 7528.070278642556, 2294.966721130406, 4140.55212542793, 2275.2630134427145, 4247.683308157209, 6530.250977607227, 1790.7738691604384, 1222.4425530715732, 743.604068681219, 384.65027652434225, 299.0790500796339, 297.34707881506233, 2327.621838912369, 123.03977943194202, 1228.4274698895267, 211.63775187436485, 4085.1974160236973, 295.1176017279367, 443.5135351462431, 243.90663167812696, 493.6953132369768, 3294.9133584129527, 934.5512685876978, 336.86627088618013, 127.08543553596176, 176.24198226820434, 409.092489401398, 286.78719112203987, 144.8108372332657, 155.68673810351055, 445.84052379745526, 401.2488938127839, 273.0200670464566, 1680.0007653349974, 1672.3110444385552, 1096.238629309031, 1432.432005889748, 1151.7317257468576, 738.5161481566257, 1270.7467935851046, 684.6352956310812, 2594.351161852989, 1771.0571625214916, 3485.02998590457, 1406.0957535816103, 865.8091266830976, 2974.541058471558, 1401.0649698959276, 2166.670859140506, 3259.883852433555, 4178.586078121763, 2616.2210666449964, 4218.799305742735, 2606.014438544752, 4879.924533384396, 2534.6335183093083, 4818.499593693497, 8910.564190906034, 3991.0509520529126, 4561.265228623413, 6770.163839663844, 3104.2912008193994, 2631.2878745370317, 2782.368665291322, 2701.4111830535585, 3499.208799233866, 526.4823372279064, 340.85746514822847, 274.0624597727481, 235.0032290225158, 182.1548456467908, 343.1427917719532, 173.82717285206513, 148.5532092527531, 1605.4432797048364, 1005.845950843036, 354.2793786319015, 254.93317923627913, 171.44313517627893, 332.595835414092, 314.4157299717222, 136.71875065287927, 571.9944477804404, 1551.8471640616024, 412.7709596909685, 618.5045181136782, 257.3314622163714, 226.22808741303876, 412.3808632033244, 136.95716285437993, 263.3722455471329, 710.7869160136657, 1887.5311608183376, 190.47067693965644, 114.67910593698902, 287.0807163121455, 659.4411958851285, 431.43571510725064, 317.14131964172316, 6138.226812188114, 781.406458261187, 976.6613638876307, 1456.493280992625, 3332.5476247492197, 534.8706377805562, 764.0743925036959, 882.1355833774282, 794.8486814414885, 2000.8521805598928, 2318.462099570761, 1253.815275012705, 4818.499593693497, 2671.084221724784, 8910.564190906034, 1628.0982491189004, 1744.8337664987066, 4218.799305742735, 1779.0873087611099, 1030.5856823974054, 7528.070278642556, 6530.250977607227, 4356.97588651022, 3887.8896377573096, 3297.2570819615858, 3772.908715459693, 3259.883852433555, 4112.1878487006015, 3389.9729544721063, 2860.164891010532, 2965.2924614745702, 2791.7457019695635, 604.8007812769474, 593.0142147233141, 199.9631057049092, 1340.6107045708434, 1798.0284201871993, 590.6582310346248, 783.4281004032596, 663.4926353710622, 1966.3783991470439, 1208.217097576707, 2035.038460610935, 1819.823055319899, 1359.9251126478866, 465.36533976460777, 721.5718533806347, 216.92865352431423, 284.9858817299481, 184.6869948945988, 183.95988280831747, 545.7192729195631, 406.7571532932006, 494.06123570287633, 395.64083046003924, 109.85613219119834, 422.99518414628545, 5684.655593316716, 184.5676179977419, 240.93248528286335, 446.5837311495834, 295.9583384435442, 3865.2422141059374, 1939.4088808223294, 6770.163839663844, 2051.1800209318453, 7183.055506957278, 3479.7620650005547, 4879.924533384396, 3499.208799233866, 3991.0509520529126, 3614.250104330628, 8910.564190906034, 2701.4111830535585, 3171.6359262285846, 2616.2210666449964, 5017.908232356653, 1768.8506433612351, 3846.856812720524, 4561.265228623413, 4218.799305742735, 3104.2912008193994, 2533.5125421320217, 3848.4228175043013, 1007.8106594402072, 631.025216086804, 579.676094684589, 491.5746482135905, 485.1857019201891, 1770.3988180556003, 267.7541510423712, 227.70161689565478, 186.6434460571849, 301.1991343538885, 369.6178123574718, 386.5678601397059, 162.65558619037398, 372.3551275638453, 232.98113793951615, 139.34004128697083, 258.44041646904424, 157.40400175891227, 247.24592120284956, 287.8330385904031, 159.43347371974977, 837.4112686610963, 145.723936831104, 544.166196529003, 431.9528923770471, 296.8445824729223, 173.17006969568942, 246.50893250488184, 200.25856183024104, 270.38705386284084, 4420.331062645875, 1305.2029932815458, 1279.6445777347903, 3522.4081763394724, 3264.1202085227387, 635.5597100796205, 1119.5541946773028, 1797.3128775824594, 1702.0660171528411, 1166.031760799497, 796.3636106846462, 1130.261847669149, 3286.580040081993, 2318.462099570761, 7183.055506957278, 2974.541058471558, 6757.894547154514, 4140.55212542793, 2689.6085256067163, 4307.824015884912, 4247.683308157209, 2548.282699414055, 4620.997750662195, 3940.5365498095784, 2397.038791680168, 3695.6176636134305, 3297.2570819615858], \"Category\": [\"Default\", \"Default\", \"Default\", \"Default\", \"Default\", \"Default\", \"Default\", \"Default\", \"Default\", \"Default\", \"Default\", \"Default\", \"Default\", \"Default\", \"Default\", \"Default\", \"Default\", \"Default\", \"Default\", \"Default\", \"Default\", \"Default\", \"Default\", \"Default\", \"Default\", \"Default\", \"Default\", \"Default\", \"Default\", \"Default\", \"Topic1\", \"Topic1\", \"Topic1\", \"Topic1\", \"Topic1\", \"Topic1\", \"Topic1\", \"Topic1\", \"Topic1\", \"Topic1\", \"Topic1\", \"Topic1\", \"Topic1\", \"Topic1\", \"Topic1\", \"Topic1\", \"Topic1\", \"Topic1\", \"Topic1\", \"Topic1\", \"Topic1\", \"Topic1\", \"Topic1\", \"Topic1\", \"Topic1\", \"Topic1\", \"Topic1\", \"Topic1\", \"Topic1\", \"Topic1\", \"Topic1\", \"Topic1\", \"Topic1\", \"Topic1\", \"Topic1\", \"Topic1\", \"Topic1\", \"Topic1\", \"Topic1\", \"Topic1\", \"Topic1\", \"Topic1\", \"Topic1\", \"Topic1\", \"Topic1\", \"Topic1\", \"Topic1\", \"Topic1\", \"Topic1\", \"Topic1\", \"Topic1\", \"Topic1\", \"Topic1\", \"Topic1\", \"Topic1\", \"Topic1\", \"Topic1\", \"Topic1\", \"Topic1\", \"Topic1\", \"Topic1\", \"Topic1\", \"Topic1\", \"Topic1\", \"Topic1\", \"Topic1\", \"Topic1\", \"Topic2\", \"Topic2\", \"Topic2\", \"Topic2\", \"Topic2\", \"Topic2\", \"Topic2\", \"Topic2\", \"Topic2\", \"Topic2\", \"Topic2\", \"Topic2\", \"Topic2\", \"Topic2\", \"Topic2\", \"Topic2\", \"Topic2\", \"Topic2\", \"Topic2\", \"Topic2\", \"Topic2\", \"Topic2\", \"Topic2\", \"Topic2\", \"Topic2\", \"Topic2\", \"Topic2\", \"Topic2\", \"Topic2\", \"Topic2\", \"Topic2\", \"Topic2\", \"Topic2\", \"Topic2\", \"Topic2\", \"Topic2\", \"Topic2\", \"Topic2\", \"Topic2\", \"Topic2\", \"Topic2\", \"Topic2\", \"Topic2\", \"Topic2\", \"Topic2\", \"Topic2\", \"Topic2\", \"Topic2\", \"Topic2\", \"Topic2\", \"Topic2\", \"Topic2\", \"Topic2\", \"Topic2\", \"Topic2\", \"Topic2\", \"Topic2\", \"Topic2\", \"Topic2\", \"Topic2\", \"Topic2\", \"Topic3\", \"Topic3\", \"Topic3\", \"Topic3\", \"Topic3\", \"Topic3\", \"Topic3\", \"Topic3\", \"Topic3\", \"Topic3\", \"Topic3\", \"Topic3\", \"Topic3\", \"Topic3\", \"Topic3\", \"Topic3\", \"Topic3\", \"Topic3\", \"Topic3\", \"Topic3\", \"Topic3\", \"Topic3\", \"Topic3\", \"Topic3\", \"Topic3\", \"Topic3\", \"Topic3\", \"Topic3\", \"Topic3\", \"Topic3\", \"Topic3\", \"Topic3\", \"Topic3\", \"Topic3\", \"Topic3\", \"Topic3\", \"Topic3\", \"Topic3\", \"Topic3\", \"Topic3\", \"Topic3\", \"Topic3\", \"Topic3\", \"Topic3\", \"Topic3\", \"Topic3\", \"Topic3\", \"Topic3\", \"Topic3\", \"Topic3\", \"Topic3\", \"Topic3\", \"Topic3\", \"Topic3\", \"Topic3\", \"Topic3\", \"Topic3\", \"Topic3\", \"Topic3\", \"Topic3\", \"Topic3\", \"Topic3\", \"Topic4\", \"Topic4\", \"Topic4\", \"Topic4\", \"Topic4\", \"Topic4\", \"Topic4\", \"Topic4\", \"Topic4\", \"Topic4\", \"Topic4\", \"Topic4\", \"Topic4\", \"Topic4\", \"Topic4\", \"Topic4\", \"Topic4\", \"Topic4\", \"Topic4\", \"Topic4\", \"Topic4\", \"Topic4\", \"Topic4\", \"Topic4\", \"Topic4\", \"Topic4\", \"Topic4\", \"Topic4\", \"Topic4\", \"Topic4\", \"Topic4\", \"Topic4\", \"Topic4\", \"Topic4\", \"Topic4\", \"Topic4\", \"Topic4\", \"Topic4\", \"Topic4\", \"Topic4\", \"Topic4\", \"Topic4\", \"Topic4\", \"Topic4\", \"Topic4\", \"Topic4\", \"Topic4\", \"Topic4\", \"Topic4\", \"Topic4\", \"Topic4\", \"Topic4\", \"Topic4\", \"Topic4\", \"Topic4\", \"Topic4\", \"Topic4\", \"Topic4\", \"Topic4\", \"Topic4\", \"Topic5\", \"Topic5\", \"Topic5\", \"Topic5\", \"Topic5\", \"Topic5\", \"Topic5\", \"Topic5\", \"Topic5\", \"Topic5\", \"Topic5\", \"Topic5\", \"Topic5\", \"Topic5\", \"Topic5\", \"Topic5\", \"Topic5\", \"Topic5\", \"Topic5\", \"Topic5\", \"Topic5\", \"Topic5\", \"Topic5\", \"Topic5\", \"Topic5\", \"Topic5\", \"Topic5\", \"Topic5\", \"Topic5\", \"Topic5\", \"Topic5\", \"Topic5\", \"Topic5\", \"Topic5\", \"Topic5\", \"Topic5\", \"Topic5\", \"Topic5\", \"Topic5\", \"Topic5\", \"Topic5\", \"Topic5\", \"Topic5\", \"Topic5\", \"Topic5\", \"Topic5\", \"Topic5\", \"Topic5\", \"Topic5\", \"Topic5\", \"Topic5\", \"Topic5\", \"Topic5\", \"Topic5\", \"Topic5\", \"Topic5\", \"Topic5\", \"Topic5\", \"Topic5\", \"Topic5\", \"Topic5\", \"Topic5\", \"Topic5\", \"Topic5\", \"Topic5\", \"Topic6\", \"Topic6\", \"Topic6\", \"Topic6\", \"Topic6\", \"Topic6\", \"Topic6\", \"Topic6\", \"Topic6\", \"Topic6\", \"Topic6\", \"Topic6\", \"Topic6\", \"Topic6\", \"Topic6\", \"Topic6\", \"Topic6\", \"Topic6\", \"Topic6\", \"Topic6\", \"Topic6\", \"Topic6\", \"Topic6\", \"Topic6\", \"Topic6\", \"Topic6\", \"Topic6\", \"Topic6\", \"Topic6\", \"Topic6\", \"Topic6\", \"Topic6\", \"Topic6\", \"Topic6\", \"Topic6\", \"Topic6\", \"Topic6\", \"Topic6\", \"Topic6\", \"Topic6\", \"Topic6\", \"Topic6\", \"Topic6\", \"Topic6\", \"Topic6\", \"Topic6\", \"Topic6\", \"Topic6\", \"Topic6\", \"Topic6\", \"Topic6\", \"Topic7\", \"Topic7\", \"Topic7\", \"Topic7\", \"Topic7\", \"Topic7\", \"Topic7\", \"Topic7\", \"Topic7\", \"Topic7\", \"Topic7\", \"Topic7\", \"Topic7\", \"Topic7\", \"Topic7\", \"Topic7\", \"Topic7\", \"Topic7\", \"Topic7\", \"Topic7\", \"Topic7\", \"Topic7\", \"Topic7\", \"Topic7\", \"Topic7\", \"Topic7\", \"Topic7\", \"Topic7\", \"Topic7\", \"Topic7\", \"Topic7\", \"Topic7\", \"Topic7\", \"Topic7\", \"Topic7\", \"Topic7\", \"Topic7\", \"Topic7\", \"Topic7\", \"Topic7\", \"Topic7\", \"Topic7\", \"Topic7\", \"Topic7\", \"Topic7\", \"Topic7\", \"Topic7\", \"Topic7\", \"Topic7\", \"Topic7\", \"Topic7\", \"Topic7\", \"Topic7\", \"Topic7\", \"Topic7\", \"Topic7\", \"Topic7\", \"Topic7\"], \"logprob\": [30.0, 29.0, 28.0, 27.0, 26.0, 25.0, 24.0, 23.0, 22.0, 21.0, 20.0, 19.0, 18.0, 17.0, 16.0, 15.0, 14.0, 13.0, 12.0, 11.0, 10.0, 9.0, 8.0, 7.0, 6.0, 5.0, 4.0, 3.0, 2.0, 1.0, -5.8153, -5.5929, -6.9377, -6.938, -6.7164, -6.1634, -7.6325, -7.0377, -4.5904, -6.7954, -6.0749, -7.1593, -6.9986, -7.3426, -7.3085, -7.7423, -7.6366, -6.9907, -6.8106, -7.0354, -4.7365, -6.2766, -4.4815, -7.5358, -6.1971, -6.4775, -7.5674, -7.3519, -7.414, -7.2696, -5.6753, -3.9168, -6.4073, -4.6492, -4.7714, -5.5766, -6.2149, -4.5411, -5.032, -5.5711, -4.9778, -5.5637, -5.3029, -4.9635, -4.8906, -5.1926, -5.6541, -4.8424, -5.3742, -4.4698, -4.2383, -4.5363, -5.2591, -4.6186, -4.3881, -4.8461, -5.0746, -4.9247, -4.9994, -4.8228, -5.0075, -5.064, -4.9527, -5.082, -5.1389, -5.1158, -5.1353, -5.9712, -6.4495, -4.6477, -6.3811, -5.4724, -6.2935, -5.9609, -6.112, -5.9294, -5.6999, -4.6452, -6.6735, -6.4176, -5.3888, -6.8353, -6.9603, -5.5257, -7.0536, -6.8022, -5.7673, -6.435, -5.3726, -6.4265, -5.8636, -5.2877, -5.8832, -6.9723, -5.3085, -6.7611, -5.9826, -6.404, -5.7676, -5.4971, -5.5242, -4.6388, -5.579, -5.274, -5.2435, -4.8346, -4.4987, -4.8376, -5.1594, -5.4185, -4.3028, -5.2288, -5.5044, -4.8775, -4.9237, -5.0038, -4.7528, -5.5638, -5.0414, -5.2277, -5.0934, -5.2798, -5.2718, -5.2541, -5.2739, -5.3513, -5.3117, -5.4621, -5.8973, -6.8493, -6.8673, -7.0844, -7.2107, -7.303, -6.7328, -6.6631, -5.9265, -6.3107, -4.7011, -5.5953, -5.6059, -5.8626, -5.6048, -5.6936, -6.3856, -5.2856, -6.0696, -5.7664, -4.9052, -6.8783, -6.6697, -6.2385, -4.8981, -7.3041, -7.045, -5.9945, -7.6356, -6.9942, -3.6726, -5.0671, -4.9746, -5.9705, -4.403, -4.7269, -4.0569, -4.3292, -6.1216, -4.6439, -5.5667, -4.223, -5.0637, -5.9993, -5.2264, -5.0404, -5.0574, -5.2858, -4.7005, -4.6609, -5.1974, -5.0726, -5.1606, -5.2624, -4.8123, -4.9283, -4.791, -5.3021, -5.1804, -5.3767, -5.2736, -5.2308, -4.4245, -4.8065, -5.304, -5.9643, -6.2165, -6.2223, -4.1662, -7.1088, -4.835, -6.6025, -3.6609, -6.2926, -5.8896, -6.4927, -5.7884, -3.9183, -5.1807, -6.2079, -7.1897, -6.8766, -6.043, -6.3997, -7.0873, -7.0264, -5.9759, -6.113, -6.5074, -4.6907, -4.6971, -5.1229, -4.8704, -5.1106, -5.5349, -5.06, -5.6566, -4.4789, -4.852, -4.3238, -5.0764, -5.4855, -4.5305, -5.131, -4.8158, -4.55, -4.3871, -4.7186, -4.4542, -4.7926, -4.425, -4.8441, -4.4799, -4.139, -4.6104, -4.5955, -4.5837, -4.8483, -4.9548, -4.9647, -4.9952, -4.975, -5.5615, -5.9971, -6.2158, -6.3702, -6.6259, -5.9931, -6.6754, -6.8365, -4.4595, -4.9369, -5.9909, -6.324, -6.7272, -6.0652, -6.1274, -6.9614, -5.5432, -4.5488, -5.888, -5.496, -6.3893, -6.5185, -5.9232, -7.0302, -6.3855, -5.4138, -4.4413, -6.7427, -7.2525, -6.3481, -5.5537, -5.9713, -6.2647, -3.5719, -5.4668, -5.2716, -4.9679, -4.2978, -5.8098, -5.5269, -5.4508, -5.5303, -4.9233, -4.8348, -5.2631, -4.4294, -4.8705, -4.2775, -5.225, -5.2424, -4.9334, -5.324, -5.5447, -4.765, -4.8642, -5.1613, -5.1925, -5.2386, -5.2591, -5.2975, -5.3052, -5.3415, -5.3618, -5.3844, -5.389, -5.4039, -5.4236, -6.5135, -4.6121, -4.3211, -5.4358, -5.172, -5.3486, -4.2646, -4.7545, -4.2401, -4.3603, -4.6543, -5.8648, -5.4534, -6.6675, -6.4047, -6.866, -6.8773, -5.8109, -6.1087, -5.9215, -6.1746, -7.4597, -6.1116, -3.5276, -6.9608, -6.7058, -6.0959, -6.5142, -3.9704, -4.6682, -3.5056, -4.7024, -3.5371, -4.2246, -4.0072, -4.3878, -4.295, -4.4446, -3.7862, -4.7674, -4.7822, -5.0209, -4.726, -5.2545, -4.9482, -4.9633, -5.0216, -5.1549, -5.2597, -3.4761, -4.8166, -5.2853, -5.3703, -5.5354, -5.5485, -4.2553, -6.1445, -6.307, -6.5066, -6.0326, -5.8292, -5.7873, -6.6563, -5.8283, -6.3004, -6.8297, -6.2276, -6.7259, -6.2859, -6.1353, -6.7614, -5.1127, -6.8646, -5.5503, -5.7873, -6.1632, -6.7301, -6.3937, -6.6426, -6.3466, -3.626, -4.8144, -4.8683, -3.9594, -4.0825, -5.6165, -5.2059, -4.8744, -4.9204, -5.2331, -5.5004, -5.2854, -4.6912, -4.9052, -4.279, -4.7865, -4.3982, -4.6926, -4.9722, -4.8695, -4.8776, -5.1162, -4.9361, -5.0477, -5.1975, -5.1522, -5.2092], \"loglift\": [30.0, 29.0, 28.0, 27.0, 26.0, 25.0, 24.0, 23.0, 22.0, 21.0, 20.0, 19.0, 18.0, 17.0, 16.0, 15.0, 14.0, 13.0, 12.0, 11.0, 10.0, 9.0, 8.0, 7.0, 6.0, 5.0, 4.0, 3.0, 2.0, 1.0, 1.551, 1.5485, 1.5485, 1.5483, 1.5469, 1.5458, 1.5448, 1.5445, 1.5436, 1.5421, 1.5416, 1.5374, 1.536, 1.5337, 1.5296, 1.5235, 1.5156, 1.5146, 1.5142, 1.513, 1.5077, 1.5069, 1.5061, 1.4974, 1.4936, 1.493, 1.4785, 1.4749, 1.4713, 1.4675, 1.4639, 1.4219, 1.4516, 1.3742, 1.3769, 1.4095, 1.4218, 1.2905, 1.3313, 1.3656, 1.2986, 1.3562, 1.3262, 1.265, 1.1934, 1.2241, 1.2969, 1.0844, 1.202, 0.9346, 0.8684, 0.9395, 1.1454, 0.8682, 0.6107, 0.6537, 0.7886, 0.6209, 0.5881, 0.3182, 0.5635, 0.5326, 0.327, 0.4749, 0.5713, 0.4691, 0.5242, 1.892, 1.8884, 1.8815, 1.87, 1.8408, 1.8376, 1.8351, 1.8242, 1.8149, 1.7941, 1.7727, 1.7598, 1.7532, 1.7385, 1.7345, 1.7215, 1.7182, 1.715, 1.7148, 1.7131, 1.7063, 1.7036, 1.6969, 1.6939, 1.6836, 1.6725, 1.6713, 1.6689, 1.6682, 1.6663, 1.6602, 1.6117, 1.5772, 1.5232, 1.3787, 1.5274, 1.4282, 1.3977, 1.2877, 1.1909, 1.2497, 1.3464, 1.4068, 0.8382, 1.3021, 1.4309, 0.9978, 1.0067, 0.8238, 0.2459, 1.3253, 0.5156, 0.7631, 0.5333, 0.808, 0.6329, 0.392, 0.4587, 0.606, -0.1089, 0.5757, 1.896, 1.893, 1.893, 1.8918, 1.8909, 1.8903, 1.8896, 1.8844, 1.8835, 1.8799, 1.8712, 1.8702, 1.8671, 1.8641, 1.8574, 1.852, 1.8498, 1.8358, 1.8338, 1.8327, 1.8285, 1.8246, 1.8231, 1.811, 1.7926, 1.7926, 1.7925, 1.7909, 1.7727, 1.7724, 1.7627, 1.7662, 1.7259, 1.7494, 1.6832, 1.6646, 1.5699, 1.5954, 1.7521, 1.5161, 1.6551, 1.3804, 1.5491, 1.7288, 1.5288, 1.4729, 1.4319, 1.4916, 1.1748, 1.109, 1.3474, 1.127, 1.1633, 1.2623, 0.6326, 0.6567, 0.2078, 0.8846, 0.4161, 0.8186, 0.2975, -0.0898, 2.0103, 2.0101, 2.0097, 2.0086, 2.0079, 2.0079, 2.0064, 2.0038, 1.9767, 1.9678, 1.9492, 1.9452, 1.9408, 1.9357, 1.9349, 1.9068, 1.9044, 1.8976, 1.8906, 1.8767, 1.8682, 1.8667, 1.8625, 1.8509, 1.8493, 1.8176, 1.8082, 1.808, 1.8061, 1.8026, 1.7876, 1.7655, 1.7856, 1.7178, 1.7397, 1.5852, 1.5938, 1.4452, 1.6002, 1.676, 1.3968, 1.5492, 1.4284, 1.2857, 1.2003, 1.3371, 1.1237, 1.267, 1.0073, 1.2433, 0.965, 0.6911, 1.023, 0.9043, 0.5212, 1.0363, 1.0952, 1.0294, 1.0285, 0.7899, 2.0974, 2.0966, 2.096, 2.0954, 2.0944, 2.0939, 2.0917, 2.0878, 2.0845, 2.0747, 2.0642, 2.0601, 2.0538, 2.053, 2.047, 2.0458, 2.0328, 2.0292, 2.0143, 2.0019, 1.9855, 1.9852, 1.9801, 1.9753, 1.9661, 1.945, 1.9408, 1.9329, 1.9305, 1.9173, 1.8801, 1.8867, 1.9011, 1.6309, 1.7973, 1.7695, 1.6735, 1.5159, 1.8333, 1.7596, 1.692, 1.7167, 1.4005, 1.3418, 1.5281, 1.0156, 1.1644, 0.5527, 1.305, 1.2184, 0.6445, 1.1173, 1.4426, 0.2338, 0.2767, 0.3843, 0.467, 0.5858, 0.4304, 0.5382, 0.2983, 0.4551, 0.6047, 0.5461, 0.6017, 2.1163, 2.1163, 2.1135, 2.1122, 2.1096, 2.1081, 2.0895, 2.079, 2.0767, 2.0738, 2.0668, 2.0584, 2.0556, 1.9175, 1.8903, 1.8781, 1.868, 1.8405, 1.8331, 1.8121, 1.8083, 1.801, 1.7701, 1.7663, 1.7662, 1.7521, 1.7463, 1.7348, 1.7276, 1.7207, 1.6949, 1.6868, 1.5992, 1.5966, 1.5086, 1.5459, 1.4251, 1.3771, 1.3383, 1.288, 1.044, 1.2563, 1.0809, 1.0348, 0.6784, 1.1926, 0.722, 0.5365, 0.5563, 0.7297, 0.8281, 2.1937, 2.1931, 2.1926, 2.1924, 2.1922, 2.1922, 2.1909, 2.1906, 2.1902, 2.1893, 2.1848, 2.1835, 2.1805, 2.1773, 2.177, 2.1738, 2.1585, 2.1429, 2.1404, 2.1289, 2.1275, 2.0922, 2.0821, 2.0788, 2.0756, 2.0696, 2.0687, 2.0408, 2.024, 1.9829, 1.9787, 1.9052, 1.9367, 1.9025, 1.7989, 1.7519, 1.8542, 1.6986, 1.5568, 1.5652, 1.6307, 1.7447, 1.6096, 1.1364, 1.2713, 0.7667, 1.1408, 0.7086, 0.904, 1.0558, 0.6875, 0.6935, 0.9658, 0.5507, 0.5984, 0.9457, 0.5581, 0.6151]}, \"token.table\": {\"Topic\": [1, 4, 1, 2, 3, 4, 5, 6, 7, 1, 2, 3, 4, 5, 6, 7, 1, 3, 7, 1, 2, 3, 5, 6, 7, 1, 2, 3, 4, 5, 6, 7, 2, 7, 1, 2, 3, 5, 6, 7, 1, 2, 3, 4, 5, 6, 7, 1, 2, 3, 5, 6, 1, 4, 5, 6, 7, 1, 2, 3, 4, 5, 6, 7, 1, 2, 3, 6, 7, 3, 4, 5, 5, 1, 2, 4, 5, 6, 7, 1, 2, 3, 4, 5, 6, 7, 1, 2, 3, 4, 5, 6, 7, 1, 2, 3, 4, 5, 6, 7, 1, 3, 1, 3, 6, 1, 3, 1, 2, 3, 4, 5, 6, 7, 3, 4, 5, 1, 2, 3, 4, 5, 6, 7, 1, 3, 3, 5, 1, 3, 5, 1, 2, 3, 4, 5, 6, 7, 1, 2, 3, 4, 5, 6, 7, 1, 2, 3, 4, 5, 6, 7, 1, 3, 4, 5, 6, 1, 1, 1, 2, 3, 4, 1, 2, 3, 4, 5, 6, 7, 3, 4, 5, 6, 7, 1, 2, 3, 4, 5, 6, 7, 2, 3, 6, 1, 2, 3, 4, 5, 6, 7, 2, 3, 4, 5, 7, 7, 1, 2, 3, 4, 5, 7, 1, 2, 4, 5, 7, 2, 4, 6, 7, 1, 3, 4, 7, 1, 5, 6, 2, 5, 6, 1, 2, 3, 4, 5, 6, 7, 1, 3, 6, 7, 1, 3, 3, 7, 1, 3, 1, 2, 3, 4, 5, 6, 7, 1, 4, 5, 6, 5, 1, 3, 5, 1, 3, 2, 4, 5, 6, 7, 1, 2, 3, 4, 5, 6, 7, 1, 6, 1, 6, 1, 4, 2, 3, 5, 1, 2, 3, 6, 7, 2, 4, 1, 2, 3, 5, 6, 7, 1, 2, 3, 4, 5, 6, 7, 2, 5, 7, 1, 2, 4, 7, 1, 2, 3, 4, 5, 6, 7, 1, 2, 6, 1, 2, 4, 7, 1, 2, 3, 4, 5, 6, 7, 1, 3, 4, 5, 6, 7, 1, 2, 7, 7, 3, 5, 2, 3, 4, 5, 7, 1, 2, 3, 4, 5, 6, 7, 1, 2, 3, 5, 1, 4, 5, 7, 3, 5, 7, 1, 2, 3, 4, 5, 6, 7, 2, 5, 6, 1, 2, 4, 7, 1, 3, 5, 1, 2, 3, 5, 1, 5, 2, 4, 4, 5, 1, 2, 3, 4, 5, 6, 7, 1, 2, 3, 4, 5, 6, 7, 1, 2, 3, 4, 5, 6, 7, 1, 2, 3, 5, 6, 7, 1, 2, 3, 4, 6, 7, 1, 2, 5, 6, 1, 2, 6, 1, 2, 3, 5, 6, 7, 1, 3, 4, 5, 6, 2, 3, 4, 5, 6, 1, 2, 3, 5, 6, 1, 6, 1, 2, 4, 5, 6, 7, 4, 6, 1, 2, 5, 6, 1, 2, 3, 4, 5, 7, 1, 4, 5, 2, 7, 1, 2, 3, 5, 1, 2, 3, 4, 5, 6, 7, 3, 4, 5, 6, 1, 2, 3, 5, 1, 4, 1, 2, 3, 4, 5, 6, 7, 1, 2, 7, 1, 2, 3, 4, 5, 6, 4, 5, 6, 1, 3, 4, 5, 6, 1, 2, 4, 7, 1, 4, 5, 6, 7, 1, 4, 6, 1, 2, 3, 4, 5, 6, 7, 1, 2, 4, 7, 1, 2, 3, 4, 6, 7, 4, 5, 7, 1, 2, 3, 6, 7, 1, 2, 3, 4, 5, 6, 7, 3, 1, 2, 3, 4, 5, 6, 7, 1, 2, 3, 4, 5, 6, 7, 2, 5, 1, 2, 4, 5, 6, 7, 2, 3, 4, 5, 6, 7, 1, 2, 3, 2, 5, 2, 3, 4, 5, 6, 7, 1, 2, 3, 4, 6, 7, 7, 1, 2, 3, 4, 5, 6, 1, 2, 3, 4, 5, 2, 5, 6, 1, 2, 3, 4, 5, 6, 7, 1, 2, 3, 4, 5, 6, 7, 1, 3, 4, 1, 2, 3, 4, 5, 6, 7, 4, 2, 3, 4, 5, 6, 7, 1, 2, 5, 6, 7, 1, 3, 5, 6, 6, 1, 4, 1, 4, 7, 1, 3, 6, 7, 3, 1, 2, 3, 1, 6, 1, 2, 3, 4, 5, 6, 7, 1, 5, 6, 2, 3, 5, 5, 1, 2, 3, 4, 6, 7, 1, 4, 6, 7, 1, 2, 3, 4, 5, 6, 7, 1, 2, 3, 4, 5, 6, 7, 1, 2, 3, 5, 7, 1, 2, 1, 2, 3, 4, 5, 6, 7, 1, 2, 3, 4, 5, 6, 7, 2, 3, 5, 7, 1, 2, 3, 4, 5, 6, 1, 3, 1, 3, 5, 1, 2, 3, 4, 5, 7, 1, 3, 7, 4, 5, 6, 1, 2, 3, 5, 7, 1, 2, 3, 5, 1, 2, 3, 5, 7, 1, 2, 3, 4, 5, 6, 7, 2, 3, 5, 7, 1, 3, 5, 3, 5, 1, 2, 5, 6, 7, 7, 1, 2, 3, 4, 5, 6, 7, 1, 3, 5, 2, 3, 5, 2, 4, 5, 7, 1, 2, 3, 4, 5, 6, 7, 1, 2, 4, 6, 1, 1, 2, 3, 4, 5, 6, 7, 3, 1, 2, 7, 1, 2, 3, 4, 5, 6, 7, 1, 2, 4, 5, 2, 5, 6, 7, 1, 2, 3, 4, 6, 1, 2, 4, 6, 7, 2, 3, 4, 5, 6, 1, 3, 5, 6, 1, 3, 6, 1, 2, 3, 4, 5, 6, 7, 1, 3, 4, 7, 1, 3, 4, 6, 7, 3, 1, 2, 3, 4, 5, 6, 7, 2, 4, 7, 2, 4, 5, 7, 1, 4, 6, 1, 2, 3, 4, 5, 6, 7, 1, 2, 7, 1, 7, 3, 7, 1, 2, 3, 4, 5, 6, 7, 2, 3, 4, 5, 6, 7, 1, 2, 3, 5, 1, 2, 3, 4, 5, 6, 7, 1, 2, 3, 4, 5, 7, 1, 2, 3, 5, 7, 2, 5, 7, 1, 2, 3, 4, 5, 6, 7, 1, 2, 3, 4, 5, 6, 7, 1, 2, 7, 1, 2, 3, 4, 5, 6, 7, 1, 2, 3, 4, 5, 6, 7, 2, 3, 5, 7, 1, 6, 1, 2, 3, 4, 5, 6, 7, 1, 2, 3, 4, 5, 6, 7, 2, 4, 5, 6, 2, 3, 5, 6, 7, 3, 4, 5, 6, 1, 2, 4, 5, 6, 7, 1, 2, 4, 6, 1, 2, 3, 4, 5, 6, 7, 1, 3, 5, 6, 2, 3, 5, 7, 6, 1, 2, 3, 4, 5, 6, 7, 1, 2, 3, 4, 5, 6, 7, 1, 3, 5, 1, 2, 3, 4, 5, 6, 1, 4, 2, 4, 6, 1, 2, 3, 4, 5, 7, 1, 2, 3, 5, 6, 7, 1, 3, 7, 1, 2, 3, 4, 5, 6, 7, 2, 4, 6, 7, 1, 2, 1, 2, 3, 4, 5, 6, 7, 2, 3, 5, 2, 4, 7, 1, 2, 4, 5, 6, 7, 1, 2, 4, 6, 7, 2, 3, 4, 5, 7, 3, 5, 1, 2, 5, 6, 1, 2, 3, 4, 5, 6, 7, 1, 2, 4, 5, 6, 7, 1, 2, 3, 4, 5, 6, 7, 1, 2, 3, 4, 5, 6, 7, 1, 2, 3, 4, 5, 6, 7, 1, 7, 1, 7, 2, 3, 4, 6, 1, 2, 3, 4, 5, 6, 7, 1, 2, 3, 5, 6, 7, 1, 3, 5, 7, 2, 5, 7, 1, 2, 4, 1, 2, 3, 4, 5, 6, 7, 1, 2, 3, 4, 7, 1, 2, 3, 5, 7, 1, 2, 3, 5, 6, 7, 1, 4, 5, 6, 7, 2, 4, 7, 3, 4, 6, 1, 2, 3, 5, 6, 7, 1, 2, 3, 4, 5, 6, 7, 1, 2, 4, 7, 1, 2, 7, 1, 2, 3, 4, 5, 6, 7, 2, 3, 5, 6, 4, 1, 2, 3, 5, 6, 7, 2, 3, 4, 5, 7, 1, 4, 5, 7, 1, 3, 1, 4, 1, 4, 1, 2, 3, 4, 5, 6, 7, 1, 2, 3, 4, 5, 6, 1, 3, 7, 6, 1, 2, 3, 5, 6, 7, 1, 4, 5, 1, 2, 4, 4, 6, 1, 2, 4, 4, 5, 6, 1, 7, 1, 2, 3, 4, 5, 6, 7, 2, 4, 7, 1, 3, 6, 7, 1, 2, 3, 4, 5, 6, 7, 1, 2, 3, 4, 5, 6, 7, 1, 4, 3, 4, 5, 6, 2, 4, 5, 6, 7, 1, 2, 3, 4, 5, 6, 7, 1, 2, 3, 4, 5, 6, 7, 3, 7, 1, 3, 4, 1, 3, 4, 5, 6, 7, 1, 2, 3, 4, 5, 6, 7, 1, 2, 7, 1, 2, 3, 4, 5, 6, 7, 2, 3, 4, 5, 4, 4, 4, 3, 4, 5, 7, 4, 1, 1, 4, 1, 2, 3, 4, 1, 3, 1, 2, 3, 4, 5, 6, 7, 2, 3, 4, 5, 7, 1, 2, 3, 4, 5, 6, 7, 2, 3, 4, 7, 1, 2, 3, 4, 5, 7, 1, 2, 3, 4, 5, 6, 7, 1, 2, 3, 4, 5, 6, 7, 3, 4, 7, 1, 3, 4, 6, 7, 1, 2, 3, 4, 5, 6, 7, 3, 1, 5, 7, 2, 3, 5, 1, 2, 3, 4, 5, 6, 7, 1, 2, 7, 3, 1, 2, 4, 7, 3, 4, 6, 3, 6, 1, 5, 2, 3, 5, 2, 3, 5, 1, 2, 4, 6, 7, 3, 4, 7, 1, 3, 4, 5, 6, 3, 6, 7, 1, 2, 7, 1, 3, 5, 1, 2, 5, 6, 7, 1, 5, 6, 2, 3, 4, 6, 1, 6], \"Freq\": [0.9431448944809405, 0.05490240549993001, 0.10137508030467578, 0.15435711815938286, 0.13808704354258305, 0.06716620546935309, 0.11806233632190635, 0.13433241093870618, 0.287020803496366, 0.014261754747793325, 0.16304654752206965, 0.04471252839848718, 0.6533425485813429, 0.01850173588902918, 0.06629788693568789, 0.03970164159520845, 0.9274975337391426, 0.06842194921026462, 0.996552538699978, 0.027306436470460917, 0.1545364261789821, 0.16143805297920852, 0.5581315586270034, 0.0015003536522231273, 0.09692284593361403, 0.5046529182287139, 0.01687947153595184, 0.1436919115368208, 0.03310973262821322, 0.10755253017138544, 0.0006492104436904554, 0.19324830873852555, 0.04447155041662502, 0.9466087160110183, 0.36730485859641987, 0.5442158750282884, 0.06659698770991818, 0.00040857047674796427, 0.014708537162926713, 0.006945698104715392, 0.3900069860306103, 0.19194826117650948, 0.1845094358298766, 0.008103006181153689, 0.15488697061024917, 0.0022582148373707, 0.06827778978873764, 0.023557915533614658, 0.09554043521965944, 0.13218608160528225, 0.711972558349243, 0.035336873300421984, 0.023606166885670236, 0.8891656193602455, 0.04721233377134047, 0.015737444590446823, 0.015737444590446823, 0.030487708236834433, 0.0922067273504261, 0.18999047450027312, 0.07770647587193166, 0.15429754778397914, 0.13459207782602517, 0.32049273780672294, 0.0409088234947159, 0.23443902695048724, 0.009440497729549822, 0.0031468325765166075, 0.7127575785810115, 0.9398731409716827, 0.0466052797176041, 0.012206144687943931, 0.9957309989880195, 0.024599577136213094, 0.028699506658915276, 0.9265840721306932, 0.004099929522702182, 0.004099929522702182, 0.004099929522702182, 0.045279581987406746, 0.014606316770131208, 0.002921263354026242, 0.7624497354008491, 0.04966147701844611, 0.07887411055870852, 0.045279581987406746, 0.026955450201688956, 0.14052774705147175, 0.05355149440068873, 0.3748604608048211, 0.11249407884171525, 0.13909012304071502, 0.1523881451402149, 0.3577776453557937, 0.17104394979266918, 0.03729529732321358, 0.08050640042873, 0.1954787997630505, 0.13066214510477586, 0.02726414838800441, 0.025631178935643133, 0.9739847995544391, 0.0033918710689337765, 0.9548117059048581, 0.039006517292738435, 0.04394547102312442, 0.9532786791170066, 0.25121623825585515, 0.015318063308283851, 0.014705340775952497, 0.03523154560905286, 0.00030636126616567707, 0.03982696460153801, 0.6427459364155904, 0.9374257010703945, 0.055458390712179825, 0.007155921382216752, 0.541894830656303, 0.0010700924775993343, 0.13397557819543665, 0.13333352270887705, 0.023328016011665488, 0.14553257695350946, 0.020973812560946953, 0.11500372884394723, 0.8797785256561963, 0.00291423869006866, 0.9937553933134131, 0.002982564077019539, 0.02087794853913677, 0.9762926412110623, 0.06824391927450395, 0.2750541721013002, 0.26362244958323605, 0.003117742504926576, 0.1319844327085584, 0.05369445425151326, 0.2043853419896311, 0.37196746682262866, 0.07698314028544277, 0.20175703738417264, 0.0023542244735609407, 0.10240876459990093, 0.02142344270940456, 0.2229450576462211, 0.3750387962603316, 0.15558968820324, 0.09145967758729587, 0.027870848495536907, 0.05817701384990714, 0.0968714928291477, 0.19482534870666576, 0.7043231281404919, 0.0006432174686214538, 0.003216087343107269, 0.2894478608796542, 0.0019296524058643612, 0.994716006591747, 0.9883718829965733, 0.09213761838943772, 0.7935117338845452, 0.037607191179362336, 0.07333402279975655, 0.022153803286504285, 0.050769132531572315, 0.09784596451539393, 0.5584604578472955, 0.021692265718035446, 0.21323035663260373, 0.03507685520363178, 0.010994663919235223, 0.23821771825009652, 0.012827107905774427, 0.73664248258876, 0.0018324439865392039, 0.03850838002625868, 0.0451180273441986, 0.04454327540350817, 0.19800204356785245, 0.03937050793729432, 0.5644064057580003, 0.07011973676423221, 0.12415561600136647, 0.8446652564027392, 0.03053006950853274, 0.11597877036377878, 0.1504099678155256, 0.653588695487545, 0.022350075538853202, 0.03503525354739151, 0.004228392669512768, 0.017517626773695755, 0.08311079005569202, 0.012222175008190003, 0.8677744255814902, 0.026888785018018006, 0.009777740006552002, 0.9975561894847755, 0.039403321062035784, 0.037085478646621914, 0.08344232695489931, 0.0023178424154138696, 0.8089270029794405, 0.027814108984966435, 0.23356165136688364, 0.0037671234091432846, 0.11929224128953735, 0.006278539015238808, 0.6378995639482629, 0.04815145141047682, 0.8988270929955673, 0.038521161128381456, 0.012840387042793819, 0.038796788887462366, 0.8987922758928782, 0.004310754320829152, 0.05819518333119355, 0.03051294706350833, 0.009153884119052498, 0.959632185147337, 0.8168913404812967, 0.12699571259583184, 0.05663322318462771, 0.0244145294751978, 0.04432540788215522, 0.07039917722459947, 0.41172852134386967, 0.23347875274825078, 0.20977532607330146, 0.005688822401987836, 0.7200800965597928, 0.001096847062543477, 0.23527369491557584, 0.04332545897046735, 0.06473889685406607, 0.9279241882416137, 0.9825653338737558, 0.016160614043976246, 0.004977630213967051, 0.9905484125794431, 0.008896022469742608, 0.03343677411041187, 0.18957730642417003, 0.4843730855077095, 0.20982342652772218, 0.06687354822082374, 0.007055466096692413, 0.4660055675928418, 0.012927082727541618, 0.16616030725401057, 0.35470653825571513, 0.9974843879453965, 0.07875227956874534, 0.06825197562624596, 0.8452744673711999, 0.013254663964318649, 0.9852633546810196, 0.0037085480469446425, 0.025430043750477548, 0.8534958433754027, 0.08264764218905203, 0.03390672500063673, 0.002591238254995118, 0.07995820901127793, 0.01961937535924875, 0.3742488394000092, 0.078477501436995, 0.4223718355642042, 0.0225807905078146, 0.2655146913228369, 0.7326238705019018, 0.9615268773514251, 0.03698180297505481, 0.9926292359149608, 0.005991725770110427, 0.2558799778970896, 0.7203469416674877, 0.02364649601189058, 0.12019082562946848, 0.01458052638783716, 0.806657770700072, 0.013792389826332447, 0.04452971572501619, 0.9925209133415781, 0.0037453619371380304, 0.08658611147702036, 0.6282098726311477, 0.15751303258053703, 0.11145659030552621, 0.014738061528003466, 0.00276338653650065, 0.8391265580829415, 0.00796771844256666, 0.018032204896335075, 0.00796771844256666, 0.005032243226884207, 0.011741900862729816, 0.10987064378697185, 0.03104894234171351, 0.9653398437150927, 0.9991956232724731, 0.023581363492252816, 0.05390025941086358, 0.040425194558147685, 0.8826167478528911, 0.06798762837256438, 0.08127256724996201, 0.004688801956728578, 0.019536674819702407, 0.06720616137977628, 0.012503471884609542, 0.7470824451054201, 0.005523714805472534, 0.9850624736426019, 0.009206191342454224, 0.07394901253108631, 0.8398494994601945, 0.0475386509128412, 0.036974506265543154, 0.11262958452835278, 0.2669321153321961, 0.048430721347191695, 0.07170750214971794, 0.20836473137745265, 0.20423497994474638, 0.08747564398368733, 0.09913210499076876, 0.06003775372680362, 0.8000379740804295, 0.002094340246283847, 0.003490567077139745, 0.0356037841868254, 0.038216599643564206, 0.024319654318631766, 0.9345695731017064, 0.9971834197922413, 0.005752840500092846, 0.9952414065160624, 0.018537221351909224, 0.028104819469023663, 0.8150397646016861, 0.04126026688005601, 0.09687193093578368, 0.1682511992007887, 0.22205097933739082, 0.044410195867478165, 0.14515789734970005, 0.042633788032779035, 0.17434174034832856, 0.20276426570351458, 0.09785818035093981, 0.10962255175924951, 0.7919560934412123, 0.0005347441549231683, 0.0808576502558532, 0.011026043216707256, 0.01837673869451209, 0.887596478944934, 0.011834737633018828, 0.9853976281808309, 0.00249152371221449, 0.02605078873793897, 0.3366867089918476, 0.01855131925277472, 0.017367192491959314, 0.19024969957100885, 0.2755068263497182, 0.13577986857350008, 0.004475572199701868, 0.0007459286999503112, 0.9943229570337649, 0.0004895724236374084, 0.057035187353758086, 0.940223839595643, 0.002203075906368338, 0.19410373631297517, 0.0015164354399451185, 0.8037107831709128, 0.005244806154397407, 0.01573441846319222, 0.04195844923517925, 0.9353237642008709, 0.9758969154625653, 0.018529688268276556, 0.9947969574094386, 0.0023297352632539545, 0.9991876474233252, 0.996123293304639, 0.035771043110709014, 0.0033275388940194432, 0.8768064985741233, 0.0008318847235048608, 0.06488700843337915, 0.004159423617524304, 0.013310155576077773, 0.0860099722376314, 0.11983411862321679, 0.03285774220314009, 0.3772197658811475, 0.12047838807818032, 0.2496544137983683, 0.013529658554234153, 0.22517678664504723, 0.03216811237786389, 0.45437458733732744, 0.0011488611563522818, 0.0379124181596253, 0.19990184120529703, 0.049113814434060044, 0.6983626823707401, 0.09791233553508687, 0.0739257794401459, 0.002752555617452241, 0.029098445098780835, 0.09751911330402226, 0.7699008793076183, 0.04155020618485559, 0.020469586870480328, 0.0003055162219474676, 0.0036661946633696108, 0.16436772740773756, 0.07635376127347951, 0.825044809316209, 0.09544220159184938, 0.0021209378131522086, 0.18482290530390977, 0.05979564583361787, 0.7501635568217514, 0.3963694669474987, 0.07547792744768628, 0.4625781752349428, 0.03222157136655613, 0.009710610548825134, 0.02383513498347988, 0.11641252303073046, 0.002771726738826916, 0.034646584235336446, 0.04989108129888448, 0.7968714374127382, 0.026159952813447677, 0.0348799370845969, 0.008719984271149225, 0.8458384743014749, 0.08719984271149225, 0.013260952847657296, 0.04420317615885765, 0.013260952847657296, 0.8929041584089246, 0.03978285854297189, 0.9281532068340812, 0.06716898207351904, 0.11521263725272851, 0.1820644144240648, 0.6635394478814549, 0.01564616061456807, 0.005689512950752025, 0.017779727971100077, 0.9591861480389732, 0.03780043933158515, 0.029483472259284726, 0.0004913912043214121, 0.019655648172856484, 0.9503505891576111, 0.03669791804957621, 0.09674905667615546, 0.7052672614254919, 0.02068428108248841, 0.11810057263227253, 0.022018750829745727, 0.07065470144725168, 0.854279572044043, 0.07065470144725168, 0.01229591953675158, 0.9836735629401264, 0.9211948499988356, 0.005582999090902034, 0.005582999090902034, 0.061412989999922375, 0.8371370059355809, 0.00037008709369389076, 0.00037008709369389076, 0.14322370525953573, 0.0037008709369389077, 0.0074017418738778155, 0.0077718289675717065, 0.5297374111682533, 0.41731332390763204, 0.013442010433335146, 0.03910403035152043, 0.07308387519157251, 0.832520665225739, 0.017476578850158644, 0.07626143498251045, 0.9551589860483377, 0.043025179551726925, 0.4071238805291841, 0.001534661908295255, 0.004603985724885765, 0.33082925994536283, 0.007015597295064023, 0.20564469571156416, 0.04340900826320864, 0.01373500093390074, 0.9751850663069527, 0.010301250700425556, 0.002697935269521354, 0.00020753348227087336, 0.2822455358883878, 0.35135418548458863, 0.33848710958379447, 0.024904017872504805, 0.6589284776887254, 0.26594285603375295, 0.07509639034498755, 0.10602729242868371, 0.08997991843947753, 0.3782595297455743, 0.41436612122128824, 0.010889289492675624, 0.1680310852327639, 0.22267056399726404, 0.07637776601489267, 0.5334693195501734, 0.2408608314123342, 0.004048081200207297, 0.004048081200207297, 0.7286546160373135, 0.022264446601140134, 0.1962197280508421, 0.09929191057994419, 0.7044997464957945, 0.39408067538681163, 0.09708568764625587, 0.007803577730431914, 0.07023219957388722, 0.17994132178407707, 0.1204964208375516, 0.13013613450455574, 0.3927851842440118, 0.035161992475992325, 0.0017152191451703573, 0.5694527561965587, 0.21125432123942328, 0.6131326589097325, 0.038784973040050366, 0.02393115357790342, 0.04621188277112384, 0.06684218757966127, 0.8647527075031245, 0.04881668510098283, 0.08368574588739915, 0.8218548142097527, 0.010885494227943745, 0.06984858796263903, 0.08708395382354996, 0.009978369708948434, 0.0067703326629759645, 0.013540665325951929, 0.07988992542311639, 0.7988992542311638, 0.0189569314563327, 0.025727264119308667, 0.056870794368998105, 0.9933865836186092, 0.03856000286395243, 0.003934694169791064, 0.07712000572790487, 0.7460180145923858, 0.08735021056936162, 0.011804082509373193, 0.03541224752811958, 0.10436380548074006, 0.3419968436161861, 0.05568098076669222, 0.020081665194544737, 0.007606691361569975, 0.1229241324029708, 0.3471693937420537, 0.04388571407614484, 0.9508571383164716, 0.009592676151230535, 0.5767596535927358, 0.08693362762052671, 0.20144619917584122, 0.06415102176135419, 0.061153310464094654, 0.10436024798989077, 0.0068658057888086035, 0.13937585751281464, 0.6536247110945791, 0.013731611577617207, 0.08238966946570324, 0.009136040688034131, 0.9440575377635269, 0.04568020344017065, 0.04770753677415905, 0.9477897305799599, 0.13177530393332532, 0.016894269735041708, 0.030409685523075075, 0.09122905656922523, 0.67239193545466, 0.05744051709914181, 0.5392685307696692, 0.003985724543752175, 0.11239743213381133, 0.03945867298314653, 0.23715061035325438, 0.06755803101659935, 0.9988336681626369, 0.003822306963082387, 0.05771683514254405, 0.03975199241605683, 0.5098957488751904, 0.04968999052007103, 0.3386563969290995, 0.02064026774980439, 0.14389215231292202, 0.6274641395940534, 0.091406900034848, 0.11617522133461328, 0.07772077237560422, 0.8937888823194485, 0.027202270331461477, 0.5047430048218552, 0.05134735346619284, 0.07102803937686618, 0.11127726169042366, 0.016129283941830025, 0.01923676066456792, 0.22640187551376093, 0.10189223241160994, 0.061767606282933, 0.5960330826750739, 0.004863591045900236, 0.16511891600831302, 0.002431795522950118, 0.06760391553801327, 0.9652259866765063, 0.004427642140717919, 0.030993494985025433, 0.8778088281767884, 0.005784879607457577, 0.009330450979770285, 0.0026125262743356796, 0.06960516430908632, 0.0026125262743356796, 0.03209675137040978, 0.9954696753019048, 0.7999955318045215, 0.013704420245045337, 0.06509599616396534, 0.04453936579639735, 0.04625241832702801, 0.03254799808198267, 0.29377329419276876, 0.006860573936238313, 0.003342330892013537, 0.6937975283211257, 0.0022868579787461043, 0.03310663297202719, 0.0057936607701047586, 0.004138329121503399, 0.9567816928915859, 0.9982897294902326, 0.7747950267438837, 0.22457826862141556, 0.008056824729734948, 0.008056824729734948, 0.9829326170276637, 0.018816625706050687, 0.06272208568683561, 0.006272208568683562, 0.903198033890433, 0.9955531149242056, 0.02191566372115246, 0.00469621365453267, 0.9721162264882626, 0.03767939336058885, 0.9615781185622275, 0.04443071020205095, 0.025493030443799726, 0.8419983769437853, 0.006555350685548501, 0.000728372298394278, 0.018937679758251225, 0.06191164536351362, 0.2881401291859696, 0.005055089985718765, 0.7051850530077677, 0.9298400774291281, 0.05764507218563328, 0.012531537431659408, 0.9936600882469517, 0.797576737501166, 0.054935132429927244, 0.046118382780679666, 0.0040692690688835, 0.044761959757718496, 0.05154407487252433, 0.019047610370355458, 0.8166662946289902, 0.15892849902765335, 0.005357140416662473, 0.08675096025781513, 0.00011222633927272332, 0.08989329775745139, 0.2672109138083542, 0.21300559193962887, 0.3417292030854425, 0.00134671607127268, 0.2911067287488164, 0.34700044573635874, 0.13705445672287778, 0.0062784723191485915, 0.16170894558587592, 0.055893716987542336, 0.0009188008271924768, 0.9047059430540735, 0.016238311798406447, 0.03943590008184423, 0.011598794141718891, 0.027837105940125336, 0.9817754839055888, 0.012833666456282205, 0.0008862414768824731, 0.08611313017041364, 0.0165431742351395, 0.22540074895377568, 0.06691123150462672, 0.5954065655522082, 0.008714707856010986, 0.010002261084752379, 0.07515984757971074, 0.015717838847468024, 0.2949238125561273, 0.10916753526786882, 0.4766791854104848, 0.018575627728825848, 0.7525027422096108, 0.02297718296823239, 0.04308221806543573, 0.18094531587483006, 0.7501346302434608, 0.10768134910218062, 0.001363055051926337, 0.07087886270016952, 0.06678969754439051, 0.002726110103852674, 0.9194332274665855, 0.07122370071924254, 0.03638074329064568, 0.9386231768986586, 0.024253828860430454, 0.016874108987157233, 0.17501982809935177, 0.09457349455592774, 0.36338197493273483, 0.057293486328487346, 0.2927461698702162, 0.012876578879011336, 0.004292192959670445, 0.9786199948048615, 0.9662760147383774, 0.011396684251337223, 0.021165270752483416, 0.18771540793471883, 0.1077055619297567, 0.6916235726775091, 0.00615460353884324, 0.006923928981198645, 0.061202598037480495, 0.9019330237102389, 0.020937730907559116, 0.012884757481574841, 0.012797437101111692, 0.12797437101111692, 0.11517693391000523, 0.7396918644442558, 0.0025594874202223383, 0.04721288096162403, 0.4107520643661291, 0.17974618251818292, 0.03911924422534563, 0.21144625973527334, 0.03136284235307882, 0.08026189763476085, 0.003796907293411222, 0.11011031150892543, 0.8770855847779923, 0.007593814586822444, 0.08360018153885536, 0.08011684064140305, 0.8325184744911013, 0.0067315947264294275, 0.9895444247851258, 0.8768436659141488, 0.05944702819756941, 0.026008074836436617, 0.02229263557408853, 0.014861757049392353, 0.9998901322634358, 0.17682768840021817, 0.28266136063975394, 0.26557020860107117, 0.019720560044634, 0.051273456116048395, 0.10681970024176748, 0.09695942021945049, 0.1351543174335984, 0.14436938453134374, 0.718775233624137, 0.03650776560928225, 0.0730155312185645, 0.8834879277446305, 0.032242221964804973, 0.0585136620842757, 0.015524032797869063, 0.8944231204310714, 0.026602942489641623, 0.07942878543335856, 0.09045000446478152, 0.4001842634513233, 0.13073446023481028, 0.17709958857389996, 0.09539055092714353, 0.010652427581723913, 0.5239416232788651, 0.4639724013373082, 0.0011836030646359904, 0.9993620845980159, 0.12772941290369416, 0.07413665224480151, 0.026796380329446326, 0.12237013683780489, 0.007145701421185687, 0.03215565639533559, 0.6091710461560799, 0.9968040918186305, 0.9848174886822576, 0.009118680450761646, 0.004559340225380823, 0.1425161352315745, 0.021292251279617706, 0.10901632655164264, 0.0005677933674564722, 0.0034067602047388327, 0.049681919652441314, 0.6736868304871042, 0.006535557092752367, 0.9411202213563409, 0.034856304494679295, 0.017428152247339648, 0.9462658103906045, 0.005376510286310253, 0.04704446500521472, 0.9988310051877598, 0.07198445665022074, 0.7261961362066386, 0.057164127339881174, 0.042343798029541614, 0.10162511527089987, 0.03306026535979299, 0.8501211092518197, 0.014168685154196996, 0.04250605546259099, 0.05667474061678798, 0.12994959398032788, 0.06497479699016394, 0.03790196491092896, 0.005414566415846995, 0.7580392982185793, 0.028574206622994532, 0.003846527814633879, 0.024727678808360652, 0.9423993145853005, 0.3034118368514954, 0.005418068515205276, 0.68809470143107, 0.045422667484459445, 0.00020553243205637757, 0.8735128362396047, 0.05672695124756021, 0.00924895944253699, 0.008837894578424236, 0.00596044052963495, 0.11536137787896451, 0.8640331771751015, 0.0070629415027937455, 0.01177156917132291, 0.02258834897607187, 0.9328988127117683, 0.004517669795214375, 0.0007529449658690623, 0.03840019325932218, 0.9926519118587854, 0.050315158226631795, 0.16112157409651756, 0.09158489474959945, 0.27927739510063043, 0.007914743990706125, 0.3963025383917853, 0.013568132555496215, 0.8079017244011465, 0.19003834888395763, 0.0009549665773063197, 0.7890495499307589, 0.1595190425852798, 0.011394217327519985, 0.03703120631443995, 0.020716681550342182, 0.8631950645975909, 0.11739452878527237, 0.3608214447597598, 0.07390318748091466, 0.2272643771880415, 0.010626602121438709, 0.02825710109564384, 0.023909854773237097, 0.2753256004190938, 0.9941817208298354, 0.003476159863041382, 0.9969187004237379, 0.13859207911722296, 0.8604258245194258, 0.02870675193616456, 0.9616761898615128, 0.6658006167647684, 0.07259339515580063, 0.06392552707749607, 0.008667868078304553, 0.031421021783854, 0.07855255445963501, 0.07909429621452904, 0.2610407573560152, 0.0362385992564821, 0.0024568541868801425, 0.45206117038594623, 0.1811929962824105, 0.06694927659248388, 0.02808350759081254, 0.010921364063093764, 0.9610800375522512, 0.9990838491744166, 0.11466011032371493, 0.03218529412595507, 0.7389207109750517, 0.001005790441436096, 0.023468443633508904, 0.03654371937217815, 0.05330689339611308, 0.003998296364782621, 0.00849637977516307, 0.4797955637739145, 0.009495953866358726, 0.4972881103698385, 0.0009995740911956552, 0.044257682063949005, 0.0087268668858491, 0.5765965621007441, 0.31167381735175353, 0.05797133002742616, 0.9225994010421381, 0.01861747670264404, 0.059989647152964135, 0.07599910116983057, 0.14076680807810982, 0.2755435392167256, 0.012354533687706446, 0.3927244193455776, 0.07188092327392842, 0.030699144314906928, 0.4199058605938176, 0.011537796336049943, 0.16467582043271284, 0.055241570336239124, 0.22446258326497162, 0.08496013665636777, 0.038808951312167994, 0.016178224419396, 0.044490117153339004, 0.938337016324968, 0.22069966243416825, 0.11359923731888283, 0.04081254063859177, 0.2472148162248457, 0.06706774194112533, 0.2477347212011335, 0.06316845461896688, 0.002516202198854911, 0.041517336281106036, 0.1811665583175536, 0.006290505497137278, 0.6818907958896809, 0.006290505497137278, 0.0792603692639297, 0.8276907024998241, 0.1507689383735739, 0.015384585548323868, 0.006153834219329547, 0.02680526775742473, 0.9726482871979831, 0.014347078849314998, 0.013486254118356097, 0.19856357127451957, 0.5681443224328739, 0.09698625302136939, 0.07804810894027359, 0.030702748737534095, 0.0010022422785513384, 0.05311884076322094, 0.0007516817089135039, 0.37233300648182227, 0.07642097373953956, 0.4587764030068752, 0.037584085445675194, 0.2267225172283165, 0.07028398034077811, 0.6654305880651089, 0.03740921534267222, 0.022072179077478615, 0.09144188474955427, 0.8198237943063486, 0.018919010637838813, 0.04729752659459704, 0.0036627344312747602, 0.8167897781742715, 0.0036627344312747602, 0.17214851826991373, 0.3812294326879199, 0.05193144186646492, 0.44464801376908675, 0.0009572616012251598, 0.06581173508422973, 0.05552117287105927, 0.12589379880710827, 0.03695964735621527, 0.7149381785467891, 0.12127384288758136, 0.0016291349775710334, 0.13456654914736738, 0.05180649228675886, 0.1651942867257028, 0.6262394853783053, 0.006679453408041237, 0.014173474304867992, 0.20923897290641666, 0.6662609400441162, 0.05742272564724968, 0.06686207780844142, 0.10656782401913348, 0.057957939378826984, 0.7665404885586794, 0.06917560506505156, 0.9986759585937427, 0.13684984044017168, 0.02742565469655526, 0.02575505644092753, 0.02603348948353215, 0.00013921652130231097, 0.5437797322068266, 0.2400092827251841, 0.19953737098422297, 0.16965071629936138, 0.3397409422264413, 0.0008790192554371056, 0.07120055969040555, 0.07427712708443542, 0.14459866751940387, 0.008129612206683751, 0.9674238525953665, 0.024388836620051257, 0.035578039940480935, 0.009814631707718879, 0.7839437076540454, 0.024536579269297195, 0.1190024094560914, 0.025763408232762054, 0.9865375175639046, 0.01072323388656418, 0.051572383994346764, 0.1289309599858669, 0.8187115959102549, 0.04068242115460146, 0.04068242115460146, 0.04068242115460146, 0.02588881346201911, 0.04068242115460146, 0.806251619245738, 0.02813033451543206, 0.0064916156574073985, 0.900170704493826, 0.0007212906286008221, 0.0021638718858024665, 0.06275228468827151, 0.012345098190545745, 0.9011921679098394, 0.08641568733382021, 0.8674588642331591, 0.04652293350077277, 0.003876911125064398, 0.001938455562532199, 0.041676794594442276, 0.03295374456304739, 0.005815366687596597, 0.8538400817146503, 0.10938082092553691, 0.03348392477312354, 0.0022322616515415695, 0.9639234734498269, 0.03382187626139743, 0.07307117495572893, 0.18267793738932234, 0.22146186871197845, 0.0022483438447916597, 0.37491133611900923, 0.11185510627838506, 0.034287243633072804, 0.029102455152464523, 0.06305531949700646, 0.9070265189184776, 0.8189813383699732, 0.16923599612073248, 0.009066214077896383, 0.020864001995092078, 0.883425768686925, 0.06643537477384583, 0.021962107363254817, 0.006039579524895075, 0.0016471580522441113, 0.24907636654277543, 0.00022622739922141275, 0.0011311369961070636, 0.00022622739922141275, 0.749265146221319, 0.011094148425356335, 0.023533042114392225, 0.5412599686310212, 0.07530573476605512, 0.3489613959248447, 0.04082986462422397, 0.9565853997675331, 0.04279654528796792, 0.28462280721636496, 0.02268732521289866, 0.649682494733007, 0.017299392669752917, 0.008801445393383064, 0.002427984936105673, 0.9010859094122178, 0.0003034981170132091, 0.06707308385991921, 0.0027314830531188815, 0.05017155802534252, 0.02554188408562892, 0.8118670298646335, 0.014595362334645097, 0.08118670298646335, 0.01733199277239105, 0.1366070712174554, 0.1170369570823705, 0.17689848267204197, 0.4754386551641215, 0.0003837277281389197, 0.09209465475334072, 0.0015349109125556788, 0.019406440766259136, 0.20764891619897277, 0.017465796689633224, 0.07277415287347176, 0.5191222904974319, 0.07762576306503655, 0.08635866140985315, 0.03509288878264316, 0.18264253480057463, 0.11405188854359027, 0.003987828270754904, 0.5646764831388945, 0.022331838316227464, 0.07656630279849416, 0.008116491953852546, 0.9902120183700106, 0.010347471718301665, 0.9855966811682335, 0.06453734798308157, 0.004609810570220111, 0.14290412767682345, 0.7882776075076391, 0.010601899758692248, 0.49378348126109145, 0.0768637732505188, 0.07580358327464957, 0.1884487682107547, 0.06891234843149961, 0.0853452930574726, 0.06271224534209156, 0.8365813528635014, 0.016305183788943807, 0.02132216341631113, 0.015050938882101975, 0.046407061553147756, 0.06304851247954418, 0.01939954230139821, 0.887529060288968, 0.026674370664422537, 0.030066521992224267, 0.9561153993527317, 0.012026608796889706, 0.06241418678133252, 0.06241418678133252, 0.8737986149386553, 0.12472092398828999, 0.061512020334360706, 0.6825713152964578, 0.002545324979352857, 0.03011967892234214, 0.047512732947919994, 0.05090649958705714, 0.9548331606101915, 0.011069494382541487, 0.006784528815106073, 0.004999126495341317, 0.022138988765082974, 0.10141620324247237, 0.012169944389096684, 0.024339888778193368, 0.020283240648494474, 0.8437828109773701, 0.36944040644338855, 0.011684109239926445, 0.05341307081109232, 0.010571336931362021, 0.026150149251263948, 0.528566846568101, 0.004630134524609738, 0.05787668155762172, 0.03935614345918277, 0.01620547083613408, 0.882040626938155, 0.8734994726781123, 0.11124757435051431, 0.01648112212600212, 0.056715142415297404, 0.9276976866502218, 0.014178785603824351, 0.09978358199773985, 0.254905657068462, 0.3629682262188528, 0.15120044957736126, 0.05926011856634331, 0.07233220354421316, 0.0004313203999259421, 0.03925015639326073, 0.0737557883873361, 0.0073324467987410154, 0.46884527471949905, 0.013370932397704205, 0.3976774087317186, 0.007738727662356782, 0.03482427448060552, 0.007738727662356782, 0.9518635024698843, 0.044941898702085405, 0.13981924040648794, 0.8089541766375373, 0.0021491928852140894, 0.3220207339679111, 0.19772574543969623, 0.20990450512257608, 0.22387425887646767, 0.037969074305448915, 0.0071639762840469655, 0.83539281997975, 0.05185196813667414, 0.08065861710149311, 0.02880664896481897, 0.9915492417432594, 0.19793890083386761, 0.5520159408348234, 0.010450190416694875, 0.13585247541703338, 0.06024227416682928, 0.04303019583344948, 0.6260211824539256, 0.004377770506670808, 0.2072144706490849, 0.068585071271176, 0.09339243747564391, 0.9912693843143464, 0.0012401201638628187, 0.00289361371567991, 0.004133733879542729, 0.9903229454142587, 0.009102232954175171, 0.9458490271357953, 0.0450404298636093, 0.9944938538344703, 0.0047812204511272615, 0.017871843947481366, 0.4072227299461826, 0.4850929071459228, 0.034467127612999776, 0.003510540775398126, 0.050424131137536715, 0.0012765602819629549, 0.0456559437681706, 0.10791404890658506, 0.06640864548097541, 0.016602161370243854, 0.08301080685121927, 0.680688616179998, 0.06554243527146308, 0.8848228761647516, 0.05461869605955257, 0.9951835829839006, 0.1187554738978176, 0.04213903912503205, 0.017621779997740675, 0.001532328695455711, 0.04673602521139918, 0.7730598268574062, 0.94158669193655, 0.031126832791290908, 0.023345124593468183, 0.012023924488229755, 0.6919222000954032, 0.29622577602820577, 0.059562103270735474, 0.9397576293827153, 0.1881317889169505, 0.7982889421611143, 0.010169285887402731, 0.9352203947985426, 0.0067769593825981345, 0.054215675060785076, 0.006640125325360783, 0.9893786734787566, 0.1585718514527738, 0.5960241284303794, 0.0209712193336615, 0.023178716105625868, 0.07726238701875289, 0.09013945152187837, 0.03384828383678698, 0.05482881159110394, 0.8249243925752457, 0.11713427930826752, 0.9160075631369401, 0.04743812287515596, 0.00564739558037571, 0.03049593613402883, 0.00025871599879318517, 0.06881845567898726, 0.03466794383828681, 0.16816539921557036, 0.055365223741741625, 0.655327624943138, 0.01759268791793659, 0.0020492120178474673, 0.05450903967474263, 0.010860823694591577, 0.3666040299929119, 0.06127143933363927, 0.5002126535565669, 0.004098424035694935, 0.9562061320750571, 0.04338000792232402, 0.14065775595002272, 0.7823002352529042, 0.012155608538890852, 0.06425107370556593, 0.01791377392859033, 0.2619889437056336, 0.026870660892885492, 0.676244965804285, 0.01567455218751654, 0.05792693601142297, 0.18530553875905464, 0.08279609178596058, 0.09705036399819555, 0.22018301332090615, 0.15042806419720312, 0.20623202349616554, 0.33850793145331126, 0.1651956901027443, 0.2890924576798025, 0.004535719814959742, 0.036285758519677934, 0.09023695210814645, 0.07615234847221883, 0.9038808461046043, 0.09598734648898452, 0.9756136329649033, 0.009471977019076731, 0.009471977019076731, 0.024562620286689086, 0.04561629481813687, 0.021053674531447786, 0.0035089457552412977, 0.7789859576635682, 0.12632204718868673, 0.6263259130328426, 0.010080352677567208, 0.2657852989318554, 0.005712199850621418, 0.023520822914323485, 0.011424399701242836, 0.05745801026213308, 0.013724581173771245, 0.09607206821639871, 0.8920977762951309, 0.3405431592819256, 0.2514030276089471, 0.10724672091905223, 0.007660480065646588, 0.04039162216431837, 0.031106191781716447, 0.22168965038462096, 0.002148115263575786, 0.0008592461054303145, 0.9954366131410193, 0.0012888691581454718, 0.9983094344030685, 0.996392090722013, 0.9996379763855068, 0.0059370740642531025, 0.8935296466700919, 0.03562244438551861, 0.06233927767465757, 0.9995678576878044, 0.9948764341110137, 0.9961278982162233, 0.0033958905621007613, 0.7758899817714413, 0.19587885903443633, 0.02764227207785233, 0.0004765908978940057, 0.009236626120720955, 0.9883189949171423, 0.14129906239166173, 0.13480933510018667, 0.17374769884903707, 0.23510512051389226, 0.1932168807234623, 0.08112159114343837, 0.04100327697795612, 0.5646952305092175, 0.18471339315722068, 0.2260540097209796, 0.021989689661573893, 0.0017591751729259114, 0.8016832273123398, 0.0025994916579518148, 0.09254190302308461, 0.03847247653768686, 0.01767654327407234, 0.0379525782060965, 0.00883827163703617, 0.7964467774034449, 0.021136102657268747, 0.1806176045257511, 0.0019214638779335223, 0.14964500816627596, 0.6075038175557533, 0.0597207142681927, 0.004118669949530531, 0.017161124789710543, 0.16200101801486755, 0.00785117052838534, 0.051389479822158586, 0.006423684977769823, 0.6302348705967504, 0.029977196562925842, 0.2490962285824076, 0.02426725436046378, 0.15357013854732088, 0.06191557966828492, 0.020476018472976115, 0.12626878058335272, 0.024376212467828708, 0.5938045357163073, 0.01950096997426297, 0.8619859238406263, 0.004037404795506447, 0.13323435825171273, 0.022547226200667413, 0.0022547226200667412, 0.9334551647076309, 0.03156611668093438, 0.009018890480266965, 0.19022140793602632, 0.020349266895481884, 0.026542522037585066, 0.012386510284206365, 0.18756715573226782, 0.0061932551421031825, 0.5573929627892864, 0.9971572202182755, 0.9610768006381735, 0.0332680430990137, 0.0036964492332237442, 0.02745817559319027, 0.00784519302662579, 0.9610361457616594, 0.09296534282378568, 0.23739364328216703, 0.03652209896648723, 0.02379470084180229, 0.0675105465744158, 0.43605172705442335, 0.10569274094847063, 0.03802369650587526, 0.8650390955086622, 0.09189059988919855, 0.9942009667235453, 0.0010304426405749606, 0.6883356839040737, 0.18238834738176804, 0.12777488743129511, 0.0011123294701825528, 0.0066739768210953175, 0.9916417226677459, 0.008465132181840189, 0.9904204652753021, 0.14209603148921518, 0.8567968631379411, 0.06298892736898343, 0.01695855736857246, 0.9181847489555661, 0.05541782850246336, 0.011599080384236517, 0.93243718422168, 0.026878197129714787, 0.8332241110211583, 0.053756394259429574, 0.008959399043238262, 0.07615489186752523, 0.969894798408187, 0.02523303540574145, 0.0031541294257176815, 0.008971817918052677, 0.011214772397565846, 0.8500797477354911, 0.11887658741419797, 0.008971817918052677, 0.9269947174003662, 0.008745233183022323, 0.056844015689645096, 0.0011296889602516607, 0.0011296889602516607, 0.9969505074220906, 0.0280672755626974, 0.9177999109002051, 0.05332782356912506, 0.016414542753317392, 0.7961053235358935, 0.04103635688329348, 0.1436272490915272, 0.9983753167691749, 0.8302104932969894, 0.02398385869524636, 0.1457480643788048, 0.054616887381009754, 0.009102814563501626, 0.22757036408754064, 0.7009167213896251, 0.9883571126592615, 0.007487553883782284], \"Term\": [\"academic\", \"academic\", \"accordance\", \"accordance\", \"accordance\", \"accordance\", \"accordance\", \"accordance\", \"accordance\", \"account\", \"account\", \"account\", \"account\", \"account\", \"account\", \"account\", \"achievement\", \"achievement\", \"acre\", \"action\", \"action\", \"action\", \"action\", \"action\", \"action\", \"activity\", \"activity\", \"activity\", \"activity\", \"activity\", \"activity\", \"activity\", \"adjacent\", \"adjacent\", \"administrator\", \"administrator\", \"administrator\", \"administrator\", \"administrator\", \"administrator\", \"agency\", \"agency\", \"agency\", \"agency\", \"agency\", \"agency\", \"agency\", \"agent\", \"agent\", \"agent\", \"agent\", \"agent\", \"aggregate_amount\", \"aggregate_amount\", \"aggregate_amount\", \"aggregate_amount\", \"aggregate_amount\", \"agreement\", \"agreement\", \"agreement\", \"agreement\", \"agreement\", \"agreement\", \"agreement\", \"agriculture\", \"agriculture\", \"agriculture\", \"agriculture\", \"agriculture\", \"alien\", \"alien\", \"alien\", \"allege\", \"allowable\", \"allowable\", \"allowable\", \"allowable\", \"allowable\", \"allowable\", \"amount_equal\", \"amount_equal\", \"amount_equal\", \"amount_equal\", \"amount_equal\", \"amount_equal\", \"amount_equal\", \"applicable\", \"applicable\", \"applicable\", \"applicable\", \"applicable\", \"applicable\", \"applicable\", \"application\", \"application\", \"application\", \"application\", \"application\", \"application\", \"application\", \"appoint\", \"appoint\", \"appointment\", \"appointment\", \"appointment\", \"appropriate_congressional\", \"appropriate_congressional\", \"area\", \"area\", \"area\", \"area\", \"area\", \"area\", \"area\", \"armed_force\", \"armed_force\", \"armed_force\", \"assistance\", \"assistance\", \"assistance\", \"assistance\", \"assistance\", \"assistance\", \"assistance\", \"attack\", \"attack\", \"attorney\", \"attorney\", \"attorney_general\", \"attorney_general\", \"attorney_general\", \"authority\", \"authority\", \"authority\", \"authority\", \"authority\", \"authority\", \"authority\", \"authorize\", \"authorize\", \"authorize\", \"authorize\", \"authorize\", \"authorize\", \"authorize\", \"available\", \"available\", \"available\", \"available\", \"available\", \"available\", \"available\", \"award\", \"award\", \"award\", \"award\", \"award\", \"award_grant\", \"awarding_grant\", \"bank\", \"bank\", \"bank\", \"bank\", \"begin\", \"begin\", \"begin\", \"begin\", \"begin\", \"begin\", \"begin\", \"beneficiary\", \"beneficiary\", \"beneficiary\", \"beneficiary\", \"beneficiary\", \"benefit\", \"benefit\", \"benefit\", \"benefit\", \"benefit\", \"benefit\", \"benefit\", \"bill\", \"bill\", \"bill\", \"board\", \"board\", \"board\", \"board\", \"board\", \"board\", \"board\", \"bond\", \"bond\", \"bond\", \"bond\", \"bond\", \"boundary\", \"bring\", \"bring\", \"bring\", \"bring\", \"bring\", \"bring\", \"building\", \"building\", \"building\", \"building\", \"building\", \"calendar_year\", \"calendar_year\", \"calendar_year\", \"calendar_year\", \"candidate\", \"candidate\", \"candidate\", \"candidate\", \"care\", \"care\", \"care\", \"carrier\", \"carrier\", \"carrier\", \"case\", \"case\", \"case\", \"case\", \"case\", \"case\", \"case\", \"center\", \"center\", \"center\", \"center\", \"chair\", \"chair\", \"chairman\", \"chairman\", \"chairperson\", \"chairperson\", \"chapter\", \"chapter\", \"chapter\", \"chapter\", \"chapter\", \"chapter\", \"chapter\", \"child\", \"child\", \"child\", \"child\", \"civil_action\", \"civil_right\", \"civil_right\", \"civil_right\", \"civilian\", \"civilian\", \"claim\", \"claim\", \"claim\", \"claim\", \"claim\", \"clause\", \"clause\", \"clause\", \"clause\", \"clause\", \"clause\", \"clause\", \"clinical\", \"clinical\", \"collaboration\", \"collaboration\", \"college\", \"college\", \"commission\", \"commission\", \"commission\", \"committee\", \"committee\", \"committee\", \"committee\", \"committee\", \"commodity\", \"commodity\", \"communication\", \"communication\", \"communication\", \"communication\", \"communication\", \"communication\", \"community\", \"community\", \"community\", \"community\", \"community\", \"community\", \"community\", \"complaint\", \"complaint\", \"conservation\", \"construct\", \"construct\", \"construct\", \"construct\", \"construction\", \"construction\", \"construction\", \"construction\", \"construction\", \"construction\", \"construction\", \"consumer\", \"consumer\", \"consumer\", \"consumption\", \"consumption\", \"consumption\", \"consumption\", \"contract\", \"contract\", \"contract\", \"contract\", \"contract\", \"contract\", \"contract\", \"contribution\", \"contribution\", \"contribution\", \"contribution\", \"contribution\", \"contribution\", \"convey\", \"convey\", \"convey\", \"conveyance\", \"convict\", \"convict\", \"corporation\", \"corporation\", \"corporation\", \"corporation\", \"corporation\", \"cost\", \"cost\", \"cost\", \"cost\", \"cost\", \"cost\", \"cost\", \"country\", \"country\", \"country\", \"country\", \"county\", \"county\", \"county\", \"county\", \"court\", \"court\", \"court\", \"cover\", \"cover\", \"cover\", \"cover\", \"cover\", \"cover\", \"cover\", \"coverage\", \"coverage\", \"coverage\", \"credit\", \"credit\", \"credit\", \"credit\", \"crime\", \"crime\", \"crime\", \"criminal\", \"criminal\", \"criminal\", \"criminal\", \"curriculum\", \"curriculum\", \"customer\", \"customer\", \"deduction\", \"defendant\", \"defense\", \"defense\", \"defense\", \"defense\", \"defense\", \"defense\", \"defense\", \"define\", \"define\", \"define\", \"define\", \"define\", \"define\", \"define\", \"department\", \"department\", \"department\", \"department\", \"department\", \"department\", \"department\", \"develop\", \"develop\", \"develop\", \"develop\", \"develop\", \"develop\", \"development\", \"development\", \"development\", \"development\", \"development\", \"development\", \"device\", \"device\", \"device\", \"device\", \"diagnosis\", \"diagnosis\", \"diagnosis\", \"director\", \"director\", \"director\", \"director\", \"director\", \"director\", \"disability\", \"disability\", \"disability\", \"disability\", \"disability\", \"discriminate\", \"discriminate\", \"discriminate\", \"discriminate\", \"discriminate\", \"discrimination\", \"discrimination\", \"discrimination\", \"discrimination\", \"discrimination\", \"disease_control\", \"disease_control\", \"distribution\", \"distribution\", \"distribution\", \"distribution\", \"distribution\", \"distribution\", \"dollar_amount\", \"dollar_amount\", \"drug\", \"drug\", \"drug\", \"drug\", \"duty\", \"duty\", \"duty\", \"duty\", \"duty\", \"duty\", \"earning\", \"earning\", \"earning\", \"easement\", \"easement\", \"educate\", \"educate\", \"educate\", \"educate\", \"education\", \"education\", \"education\", \"education\", \"education\", \"education\", \"education\", \"election\", \"election\", \"election\", \"election\", \"electronic\", \"electronic\", \"electronic\", \"electronic\", \"elementary\", \"elementary\", \"eligible\", \"eligible\", \"eligible\", \"eligible\", \"eligible\", \"eligible\", \"eligible\", \"emission\", \"emission\", \"emission\", \"employee\", \"employee\", \"employee\", \"employee\", \"employee\", \"employee\", \"employer\", \"employer\", \"employer\", \"employment\", \"employment\", \"employment\", \"employment\", \"employment\", \"energy\", \"energy\", \"energy\", \"energy\", \"enrol\", \"enrol\", \"enrol\", \"enrol\", \"enrol\", \"enrollment\", \"enrollment\", \"enrollment\", \"entity\", \"entity\", \"entity\", \"entity\", \"entity\", \"entity\", \"entity\", \"environmental\", \"environmental\", \"environmental\", \"environmental\", \"equipment\", \"equipment\", \"equipment\", \"equipment\", \"equipment\", \"equipment\", \"estate\", \"estate\", \"estate\", \"evaluation\", \"evaluation\", \"evaluation\", \"evaluation\", \"evaluation\", \"excess\", \"excess\", \"excess\", \"excess\", \"excess\", \"excess\", \"excess\", \"executive_schedule\", \"expense\", \"expense\", \"expense\", \"expense\", \"expense\", \"expense\", \"expense\", \"facility\", \"facility\", \"facility\", \"facility\", \"facility\", \"facility\", \"facility\", \"false\", \"false\", \"fee\", \"fee\", \"fee\", \"fee\", \"fee\", \"fee\", \"file\", \"file\", \"file\", \"file\", \"file\", \"file\", \"financial_institution\", \"financial_institution\", \"financial_institution\", \"fine\", \"fine\", \"first_sentence\", \"first_sentence\", \"first_sentence\", \"first_sentence\", \"first_sentence\", \"first_sentence\", \"fiscal_year\", \"fiscal_year\", \"fiscal_year\", \"fiscal_year\", \"fiscal_year\", \"fiscal_year\", \"fish\", \"following_new\", \"following_new\", \"following_new\", \"following_new\", \"following_new\", \"following_new\", \"foreign\", \"foreign\", \"foreign\", \"foreign\", \"foreign\", \"fraud\", \"fraud\", \"fraud\", \"fund\", \"fund\", \"fund\", \"fund\", \"fund\", \"fund\", \"fund\", \"government\", \"government\", \"government\", \"government\", \"government\", \"government\", \"government\", \"graduate\", \"graduate\", \"graduate\", \"grant\", \"grant\", \"grant\", \"grant\", \"grant\", \"grant\", \"grant\", \"gross_income\", \"guarantee\", \"guarantee\", \"guarantee\", \"guarantee\", \"guarantee\", \"guarantee\", \"health\", \"health\", \"health\", \"health\", \"health\", \"health_care\", \"health_care\", \"health_care\", \"health_care\", \"health_insurance\", \"higher_education\", \"higher_education\", \"historic\", \"historic\", \"historic\", \"historical\", \"historical\", \"historical\", \"historical\", \"hold_hearing\", \"homeland_security\", \"homeland_security\", \"homeland_security\", \"hospital\", \"hospital\", \"house\", \"house\", \"house\", \"house\", \"house\", \"house\", \"house\", \"human_service\", \"human_service\", \"human_service\", \"import\", \"import\", \"import\", \"imprison\", \"improve\", \"improve\", \"improve\", \"improve\", \"improve\", \"improve\", \"income\", \"income\", \"income\", \"income\", \"individual\", \"individual\", \"individual\", \"individual\", \"individual\", \"individual\", \"individual\", \"information\", \"information\", \"information\", \"information\", \"information\", \"information\", \"information\", \"initiative\", \"initiative\", \"initiative\", \"initiative\", \"initiative\", \"innovative\", \"innovative\", \"insert\", \"insert\", \"insert\", \"insert\", \"insert\", \"insert\", \"insert\", \"inserting\", \"inserting\", \"inserting\", \"inserting\", \"inserting\", \"inserting\", \"inserting\", \"inspection\", \"inspection\", \"inspection\", \"inspection\", \"institution\", \"institution\", \"institution\", \"institution\", \"institution\", \"institution\", \"integration\", \"integration\", \"intelligence\", \"intelligence\", \"intelligence\", \"interest\", \"interest\", \"interest\", \"interest\", \"interest\", \"interest\", \"interior\", \"interior\", \"interior\", \"internal_revenue\", \"internal_revenue\", \"internal_revenue\", \"international\", \"international\", \"international\", \"international\", \"international\", \"internet\", \"internet\", \"internet\", \"internet\", \"investigation\", \"investigation\", \"investigation\", \"investigation\", \"investigation\", \"issue\", \"issue\", \"issue\", \"issue\", \"issue\", \"issue\", \"issue\", \"judicial\", \"judicial\", \"judicial\", \"judicial\", \"justice\", \"justice\", \"justice\", \"knowingly\", \"knowingly\", \"laboratory\", \"laboratory\", \"laboratory\", \"laboratory\", \"laboratory\", \"land\", \"later\", \"later\", \"later\", \"later\", \"later\", \"later\", \"later\", \"law_enforcement\", \"law_enforcement\", \"law_enforcement\", \"lawful\", \"lawful\", \"lawful\", \"lease\", \"lease\", \"lease\", \"lease\", \"limitation\", \"limitation\", \"limitation\", \"limitation\", \"limitation\", \"limitation\", \"limitation\", \"loan\", \"loan\", \"loan\", \"loan\", \"local_educational\", \"locate\", \"locate\", \"locate\", \"locate\", \"locate\", \"locate\", \"locate\", \"majority_leader\", \"make_grant\", \"make_grant\", \"make_grant\", \"management\", \"management\", \"management\", \"management\", \"management\", \"management\", \"management\", \"manufacture\", \"manufacture\", \"manufacture\", \"manufacture\", \"manufacturer\", \"manufacturer\", \"manufacturer\", \"map\", \"market\", \"market\", \"market\", \"market\", \"market\", \"marketing\", \"marketing\", \"marketing\", \"marketing\", \"marketing\", \"matter_precede\", \"matter_precede\", \"matter_precede\", \"matter_precede\", \"matter_precede\", \"medical\", \"medical\", \"medical\", \"medical\", \"medicine\", \"medicine\", \"medicine\", \"member\", \"member\", \"member\", \"member\", \"member\", \"member\", \"member\", \"membership\", \"membership\", \"membership\", \"membership\", \"military\", \"military\", \"military\", \"military\", \"military\", \"minority_leader\", \"month\", \"month\", \"month\", \"month\", \"month\", \"month\", \"month\", \"mortgage\", \"mortgage\", \"mortgage\", \"motor_vehicle\", \"motor_vehicle\", \"motor_vehicle\", \"motor_vehicle\", \"multiply\", \"multiply\", \"multiply\", \"national\", \"national\", \"national\", \"national\", \"national\", \"national\", \"national\", \"national_institute\", \"national_institute\", \"national_park\", \"native\", \"native\", \"natural_resource\", \"natural_resource\", \"need\", \"need\", \"need\", \"need\", \"need\", \"need\", \"need\", \"notice\", \"notice\", \"notice\", \"notice\", \"notice\", \"notice\", \"nuclear\", \"nuclear\", \"nuclear\", \"offense\", \"office\", \"office\", \"office\", \"office\", \"office\", \"office\", \"office\", \"officer\", \"officer\", \"officer\", \"officer\", \"officer\", \"officer\", \"official\", \"official\", \"official\", \"official\", \"official\", \"operator\", \"operator\", \"operator\", \"order\", \"order\", \"order\", \"order\", \"order\", \"order\", \"order\", \"organization\", \"organization\", \"organization\", \"organization\", \"organization\", \"organization\", \"organization\", \"park\", \"park\", \"park\", \"part\", \"part\", \"part\", \"part\", \"part\", \"part\", \"part\", \"party\", \"party\", \"party\", \"party\", \"party\", \"party\", \"party\", \"passenger\", \"passenger\", \"passenger\", \"passenger\", \"patient\", \"patient\", \"pay\", \"pay\", \"pay\", \"pay\", \"pay\", \"pay\", \"pay\", \"payment\", \"payment\", \"payment\", \"payment\", \"payment\", \"payment\", \"payment\", \"penalty\", \"penalty\", \"penalty\", \"penalty\", \"pende\", \"pende\", \"pende\", \"pende\", \"pende\", \"pension\", \"pension\", \"pension\", \"pension\", \"percent\", \"percent\", \"percent\", \"percent\", \"percent\", \"percent\", \"percentage\", \"percentage\", \"percentage\", \"percentage\", \"person\", \"person\", \"person\", \"person\", \"person\", \"person\", \"person\", \"personnel\", \"personnel\", \"personnel\", \"personnel\", \"petition\", \"petition\", \"petition\", \"petition\", \"physician\", \"plan\", \"plan\", \"plan\", \"plan\", \"plan\", \"plan\", \"plan\", \"policy\", \"policy\", \"policy\", \"policy\", \"policy\", \"policy\", \"policy\", \"political\", \"political\", \"political\", \"position\", \"position\", \"position\", \"position\", \"position\", \"position\", \"poverty\", \"poverty\", \"premium\", \"premium\", \"premium\", \"preservation\", \"preservation\", \"preservation\", \"preservation\", \"preservation\", \"preservation\", \"president\", \"president\", \"president\", \"president\", \"president\", \"president\", \"presidential\", \"presidential\", \"presidential\", \"prevention\", \"prevention\", \"prevention\", \"prevention\", \"prevention\", \"prevention\", \"prevention\", \"price\", \"price\", \"price\", \"price\", \"private_nonprofit\", \"private_nonprofit\", \"procedure\", \"procedure\", \"procedure\", \"procedure\", \"procedure\", \"procedure\", \"procedure\", \"proceeding\", \"proceeding\", \"proceeding\", \"producer\", \"producer\", \"producer\", \"product\", \"product\", \"product\", \"product\", \"product\", \"product\", \"project\", \"project\", \"project\", \"project\", \"project\", \"property\", \"property\", \"property\", \"property\", \"property\", \"prosecution\", \"prosecution\", \"provider\", \"provider\", \"provider\", \"provider\", \"qualified\", \"qualified\", \"qualified\", \"qualified\", \"qualified\", \"qualified\", \"qualified\", \"qualify\", \"qualify\", \"qualify\", \"qualify\", \"qualify\", \"qualify\", \"rate\", \"rate\", \"rate\", \"rate\", \"rate\", \"rate\", \"rate\", \"reasonable\", \"reasonable\", \"reasonable\", \"reasonable\", \"reasonable\", \"reasonable\", \"reasonable\", \"record\", \"record\", \"record\", \"record\", \"record\", \"record\", \"record\", \"recreation\", \"recreation\", \"recreational\", \"recreational\", \"redesignated\", \"redesignated\", \"redesignated\", \"redesignated\", \"regulation\", \"regulation\", \"regulation\", \"regulation\", \"regulation\", \"regulation\", \"regulation\", \"regulatory\", \"regulatory\", \"regulatory\", \"regulatory\", \"regulatory\", \"regulatory\", \"religious\", \"religious\", \"religious\", \"religious\", \"remedy\", \"remedy\", \"remedy\", \"repay\", \"repay\", \"repay\", \"representative\", \"representative\", \"representative\", \"representative\", \"representative\", \"representative\", \"representative\", \"research\", \"research\", \"research\", \"research\", \"research\", \"reservation\", \"reservation\", \"reservation\", \"reservation\", \"reservation\", \"resource\", \"resource\", \"resource\", \"resource\", \"resource\", \"resource\", \"restoration\", \"restoration\", \"restoration\", \"restoration\", \"restoration\", \"retail\", \"retail\", \"retail\", \"retirement\", \"retirement\", \"retirement\", \"review\", \"review\", \"review\", \"review\", \"review\", \"review\", \"right\", \"right\", \"right\", \"right\", \"right\", \"right\", \"right\", \"road\", \"road\", \"road\", \"road\", \"route\", \"route\", \"route\", \"rule\", \"rule\", \"rule\", \"rule\", \"rule\", \"rule\", \"rule\", \"rulemake\", \"rulemake\", \"rulemake\", \"rulemake\", \"rules_similar\", \"safety\", \"safety\", \"safety\", \"safety\", \"safety\", \"safety\", \"sale\", \"sale\", \"sale\", \"sale\", \"sale\", \"school\", \"school\", \"school\", \"school\", \"science\", \"science\", \"secondary_education\", \"secondary_education\", \"secondary_school\", \"secondary_school\", \"security\", \"security\", \"security\", \"security\", \"security\", \"security\", \"security\", \"semicolon\", \"semicolon\", \"semicolon\", \"semicolon\", \"semicolon\", \"semicolon\", \"senate\", \"senate\", \"senate\", \"services_furnishe\", \"site\", \"site\", \"site\", \"site\", \"site\", \"site\", \"skill\", \"skill\", \"skill\", \"small_business\", \"small_business\", \"small_business\", \"social_security\", \"social_security\", \"software\", \"software\", \"software\", \"special_rule\", \"special_rule\", \"special_rule\", \"specie\", \"specie\", \"standard\", \"standard\", \"standard\", \"standard\", \"standard\", \"standard\", \"standard\", \"stock\", \"stock\", \"stock\", \"strategy\", \"strategy\", \"strategy\", \"strategy\", \"strike\", \"strike\", \"strike\", \"strike\", \"strike\", \"strike\", \"strike\", \"striking\", \"striking\", \"striking\", \"striking\", \"striking\", \"striking\", \"striking\", \"student\", \"student\", \"subchapter\", \"subchapter\", \"subchapter\", \"subchapter\", \"subclause\", \"subclause\", \"subclause\", \"subclause\", \"subclause\", \"subject\", \"subject\", \"subject\", \"subject\", \"subject\", \"subject\", \"subject\", \"submit\", \"submit\", \"submit\", \"submit\", \"submit\", \"submit\", \"submit\", \"subsistence\", \"subsistence\", \"supplant\", \"supplant\", \"supplant\", \"supplemental\", \"supplemental\", \"supplemental\", \"supplemental\", \"supplemental\", \"supplemental\", \"support\", \"support\", \"support\", \"support\", \"support\", \"support\", \"support\", \"surface\", \"surface\", \"surface\", \"system\", \"system\", \"system\", \"system\", \"system\", \"system\", \"system\", \"tax\", \"tax\", \"tax\", \"tax\", \"tax_impose\", \"taxable\", \"taxable_year\", \"taxis\", \"taxis\", \"taxis\", \"taxis\", \"taxpayer\", \"teach\", \"teacher\", \"teacher\", \"technology\", \"technology\", \"technology\", \"technology\", \"terrorist\", \"terrorist\", \"time\", \"time\", \"time\", \"time\", \"time\", \"time\", \"time\", \"trade\", \"trade\", \"trade\", \"trade\", \"trade\", \"training\", \"training\", \"training\", \"training\", \"training\", \"training\", \"training\", \"transaction\", \"transaction\", \"transaction\", \"transaction\", \"transportation\", \"transportation\", \"transportation\", \"transportation\", \"transportation\", \"transportation\", \"treat\", \"treat\", \"treat\", \"treat\", \"treat\", \"treat\", \"treat\", \"treatment\", \"treatment\", \"treatment\", \"treatment\", \"treatment\", \"treatment\", \"treatment\", \"treaty\", \"treaty\", \"treaty\", \"trust_fund\", \"trust_fund\", \"trust_fund\", \"trust_fund\", \"trust_fund\", \"unit\", \"unit\", \"unit\", \"unit\", \"unit\", \"unit\", \"unit\", \"united_nation\", \"university\", \"university\", \"university\", \"unlawful\", \"unlawful\", \"unlawful\", \"usc\", \"usc\", \"usc\", \"usc\", \"usc\", \"usc\", \"usc\", \"user\", \"user\", \"user\", \"vacancy\", \"vehicle\", \"vehicle\", \"vehicle\", \"vehicle\", \"veteran\", \"veteran\", \"veteran\", \"veterans_affair\", \"veterans_affair\", \"victim\", \"victim\", \"violate\", \"violate\", \"violate\", \"violation\", \"violation\", \"violation\", \"volume\", \"volume\", \"volume\", \"volume\", \"volume\", \"vote\", \"vote\", \"vote\", \"wage\", \"wage\", \"wage\", \"wage\", \"wage\", \"war\", \"war\", \"war\", \"water\", \"water\", \"water\", \"weapon\", \"weapon\", \"weapon\", \"weight\", \"weight\", \"weight\", \"weight\", \"wildlife\", \"woman\", \"woman\", \"woman\", \"years_beginne\", \"years_beginne\", \"years_beginne\", \"years_beginne\", \"youth\", \"youth\"]}, \"R\": 30, \"lambda.step\": 0.01, \"plot.opts\": {\"xlab\": \"PC1\", \"ylab\": \"PC2\"}, \"topic.order\": [7, 3, 5, 2, 1, 4, 6]};\n",
       "\n",
       "function LDAvis_load_lib(url, callback){\n",
       "  var s = document.createElement('script');\n",
       "  s.src = url;\n",
       "  s.async = true;\n",
       "  s.onreadystatechange = s.onload = callback;\n",
       "  s.onerror = function(){console.warn(\"failed to load library \" + url);};\n",
       "  document.getElementsByTagName(\"head\")[0].appendChild(s);\n",
       "}\n",
       "\n",
       "if(typeof(LDAvis) !== \"undefined\"){\n",
       "   // already loaded: just create the visualization\n",
       "   !function(LDAvis){\n",
       "       new LDAvis(\"#\" + \"ldavis_el678425313825135521179187036\", ldavis_el678425313825135521179187036_data);\n",
       "   }(LDAvis);\n",
       "}else if(typeof define === \"function\" && define.amd){\n",
       "   // require.js is available: use it to load d3/LDAvis\n",
       "   require.config({paths: {d3: \"https://d3js.org/d3.v5\"}});\n",
       "   require([\"d3\"], function(d3){\n",
       "      window.d3 = d3;\n",
       "      LDAvis_load_lib(\"https://cdn.jsdelivr.net/gh/bmabey/pyLDAvis@3.3.1/pyLDAvis/js/ldavis.v3.0.0.js\", function(){\n",
       "        new LDAvis(\"#\" + \"ldavis_el678425313825135521179187036\", ldavis_el678425313825135521179187036_data);\n",
       "      });\n",
       "    });\n",
       "}else{\n",
       "    // require.js not available: dynamically load d3 & LDAvis\n",
       "    LDAvis_load_lib(\"https://d3js.org/d3.v5.js\", function(){\n",
       "         LDAvis_load_lib(\"https://cdn.jsdelivr.net/gh/bmabey/pyLDAvis@3.3.1/pyLDAvis/js/ldavis.v3.0.0.js\", function(){\n",
       "                 new LDAvis(\"#\" + \"ldavis_el678425313825135521179187036\", ldavis_el678425313825135521179187036_data);\n",
       "            })\n",
       "         });\n",
       "}\n",
       "</script>"
      ],
      "text/plain": [
       "PreparedData(topic_coordinates=              x         y  topics  cluster       Freq\n",
       "topic                                                \n",
       "6      0.143421 -0.124490       1        1  21.178208\n",
       "2      0.041050  0.040694       2        1  15.009897\n",
       "4      0.098117  0.096209       3        1  14.988775\n",
       "1     -0.252617 -0.021627       4        1  13.388127\n",
       "0     -0.026728  0.178249       5        1  12.257078\n",
       "3     -0.128904 -0.107188       6        1  12.030059\n",
       "5      0.125662 -0.061848       7        1  11.147855, topic_info=           Term         Freq        Total Category  logprob  loglift\n",
       "681        land  3848.000000  3848.000000  Default  30.0000  30.0000\n",
       "299      health  5684.000000  5684.000000  Default  29.0000  29.0000\n",
       "364     project  4420.000000  4420.000000  Default  28.0000  28.0000\n",
       "20       credit  4085.000000  4085.000000  Default  27.0000  27.0000\n",
       "72         plan  7183.000000  7183.000000  Default  26.0000  26.0000\n",
       "..          ...          ...          ...      ...      ...      ...\n",
       "197    activity   893.497371  4620.997751   Topic7  -4.9361   0.5507\n",
       "18         cost   799.123835  3940.536550   Topic7  -5.0477   0.5984\n",
       "0    accordance   687.998315  2397.038792   Topic7  -5.1975   0.9457\n",
       "153   available   719.887606  3695.617664   Topic7  -5.1522   0.5581\n",
       "652     subject   679.965082  3297.257082   Topic7  -5.2092   0.6151\n",
       "\n",
       "[454 rows x 6 columns], token_table=      Topic      Freq           Term\n",
       "term                                \n",
       "496       1  0.943145       academic\n",
       "496       4  0.054902       academic\n",
       "0         1  0.101375     accordance\n",
       "0         2  0.154357     accordance\n",
       "0         3  0.138087     accordance\n",
       "...     ...       ...            ...\n",
       "840       3  0.009103  years_beginne\n",
       "840       4  0.227570  years_beginne\n",
       "840       6  0.700917  years_beginne\n",
       "1505      1  0.988357          youth\n",
       "1505      6  0.007488          youth\n",
       "\n",
       "[1568 rows x 3 columns], R=30, lambda_step=0.01, plot_opts={'xlab': 'PC1', 'ylab': 'PC2'}, topic_order=[7, 3, 5, 2, 1, 4, 6])"
      ]
     },
     "execution_count": 55,
     "metadata": {},
     "output_type": "execute_result"
    }
   ],
   "source": [
    "import pyLDAvis.gensim_models\n",
    "import pickle \n",
    "import pyLDAvis\n",
    "import os\n",
    "\n",
    "# Visualize the topics\n",
    "pyLDAvis.enable_notebook()\n",
    "\n",
    "\n",
    "LDAvis_data_filepath = os.path.join('ldavis_tuned_'+str(num_topics))\n",
    "\n",
    "# # this is a bit time consuming - make the if statement True\n",
    "# # if you want to execute visualization prep yourself\n",
    "if 1 == 1:\n",
    "    LDAvis_prepared = pyLDAvis.gensim_models.prepare(lda_model, corpus, id2word)\n",
    "    with open(LDAvis_data_filepath, 'wb') as f:\n",
    "        pickle.dump(LDAvis_prepared, f)\n",
    "\n",
    "# load the pre-prepared pyLDAvis data from disk\n",
    "with open(LDAvis_data_filepath, 'rb') as f:\n",
    "    LDAvis_prepared = pickle.load(f)\n",
    "\n",
    "pyLDAvis.save_html(LDAvis_prepared, 'ldavis_tuned_'+ str(num_topics) +'.html')\n",
    "\n",
    "LDAvis_prepared"
   ]
  },
  {
   "cell_type": "markdown",
   "id": "094432db",
   "metadata": {},
   "source": [
    "### 9. Finding dominant topics for each document \n",
    "We find the topic number that has the highest percentage contribution in that document."
   ]
  },
  {
   "cell_type": "code",
   "execution_count": 16,
   "id": "7a04890f",
   "metadata": {},
   "outputs": [
    {
     "name": "stderr",
     "output_type": "stream",
     "text": [
      "C:\\anaconda\\lib\\site-packages\\ipykernel\\ipkernel.py:287: DeprecationWarning: `should_run_async` will not call `transform_cell` automatically in the future. Please pass the result to `transformed_cell` argument and any exception that happen during thetransform in `preprocessing_exc_tuple` in IPython 7.17 and above.\n",
      "  and should_run_async(code)\n"
     ]
    }
   ],
   "source": [
    "# Keep the processed tokens as a sentence\n",
    "sentences = []\n",
    "for i in range(len(data_lemmatized)): \n",
    "    sentence = data_lemmatized[i]\n",
    "    sentences.append(' '.join(sentence))\n",
    "\n"
   ]
  },
  {
   "cell_type": "code",
   "execution_count": 23,
   "id": "3a8dcf4c",
   "metadata": {},
   "outputs": [
    {
     "name": "stderr",
     "output_type": "stream",
     "text": [
      "C:\\anaconda\\lib\\site-packages\\ipykernel\\ipkernel.py:287: DeprecationWarning: `should_run_async` will not call `transform_cell` automatically in the future. Please pass the result to `transformed_cell` argument and any exception that happen during thetransform in `preprocessing_exc_tuple` in IPython 7.17 and above.\n",
      "  and should_run_async(code)\n"
     ]
    }
   ],
   "source": [
    "def format_topics_sentences(ldamodel=lda_model, corpus=corpus, texts=sentences):\n",
    "    # Init output\n",
    "    sent_topics_df = pd.DataFrame()\n",
    "\n",
    "    # Get main topic in each document\n",
    "    for i, row_list in enumerate(ldamodel[corpus]):\n",
    "        row = row_list[0] if ldamodel.per_word_topics else row_list            \n",
    "        # print(row)\n",
    "        row = sorted(row, key=lambda x: (x[1]), reverse=True)\n",
    "        # Get the Dominant topic, Perc Contribution and Keywords for each document\n",
    "        for j, (topic_num, prop_topic) in enumerate(row):\n",
    "            if j == 0:  # => dominant topic\n",
    "                wp = ldamodel.show_topic(topic_num)\n",
    "                topic_keywords = \", \".join([word for word, prop in wp])\n",
    "                sent_topics_df = sent_topics_df.append(pd.Series([int(topic_num), round(prop_topic,4), topic_keywords]), ignore_index=True)\n",
    "            else:\n",
    "                break\n",
    "    sent_topics_df.columns = ['Dominant_Topic', 'Perc_Contribution', 'Topic_Keywords']\n",
    "\n",
    "    # Add original text to the end of the output\n",
    "    contents = pd.Series(texts)\n",
    "    sent_topics_df = pd.concat([sent_topics_df, contents], axis=1)\n",
    "    return(sent_topics_df)"
   ]
  },
  {
   "cell_type": "code",
   "execution_count": 24,
   "id": "9e8809c0",
   "metadata": {},
   "outputs": [
    {
     "name": "stderr",
     "output_type": "stream",
     "text": [
      "C:\\anaconda\\lib\\site-packages\\ipykernel\\ipkernel.py:287: DeprecationWarning: `should_run_async` will not call `transform_cell` automatically in the future. Please pass the result to `transformed_cell` argument and any exception that happen during thetransform in `preprocessing_exc_tuple` in IPython 7.17 and above.\n",
      "  and should_run_async(code)\n"
     ]
    },
    {
     "data": {
      "text/html": [
       "<div>\n",
       "<style scoped>\n",
       "    .dataframe tbody tr th:only-of-type {\n",
       "        vertical-align: middle;\n",
       "    }\n",
       "\n",
       "    .dataframe tbody tr th {\n",
       "        vertical-align: top;\n",
       "    }\n",
       "\n",
       "    .dataframe thead th {\n",
       "        text-align: right;\n",
       "    }\n",
       "</style>\n",
       "<table border=\"1\" class=\"dataframe\">\n",
       "  <thead>\n",
       "    <tr style=\"text-align: right;\">\n",
       "      <th></th>\n",
       "      <th>Dominant_Topic</th>\n",
       "      <th>Perc_Contribution</th>\n",
       "      <th>Topic_Keywords</th>\n",
       "      <th>0</th>\n",
       "    </tr>\n",
       "  </thead>\n",
       "  <tbody>\n",
       "    <tr>\n",
       "      <th>0</th>\n",
       "      <td>1.0</td>\n",
       "      <td>0.5799</td>\n",
       "      <td>credit, qualified, individual, tax, pay, perce...</td>\n",
       "      <td>title cite national science education tax ince...</td>\n",
       "    </tr>\n",
       "    <tr>\n",
       "      <th>1</th>\n",
       "      <td>1.0</td>\n",
       "      <td>0.9963</td>\n",
       "      <td>credit, qualified, individual, tax, pay, perce...</td>\n",
       "      <td>title cite small_business expansion hire busin...</td>\n",
       "    </tr>\n",
       "    <tr>\n",
       "      <th>2</th>\n",
       "      <td>4.0</td>\n",
       "      <td>0.6027</td>\n",
       "      <td>member, commission, government, office, commit...</td>\n",
       "      <td>release document capture make publicly_availab...</td>\n",
       "    </tr>\n",
       "    <tr>\n",
       "      <th>3</th>\n",
       "      <td>6.0</td>\n",
       "      <td>0.6811</td>\n",
       "      <td>grant, fund, agency, fiscal_year, research, as...</td>\n",
       "      <td>title cite national cancer findings_congress m...</td>\n",
       "    </tr>\n",
       "    <tr>\n",
       "      <th>4</th>\n",
       "      <td>1.0</td>\n",
       "      <td>0.7841</td>\n",
       "      <td>credit, qualified, individual, tax, pay, perce...</td>\n",
       "      <td>title cite military call relief waiver early w...</td>\n",
       "    </tr>\n",
       "    <tr>\n",
       "      <th>...</th>\n",
       "      <td>...</td>\n",
       "      <td>...</td>\n",
       "      <td>...</td>\n",
       "      <td>...</td>\n",
       "    </tr>\n",
       "    <tr>\n",
       "      <th>3264</th>\n",
       "      <td>6.0</td>\n",
       "      <td>0.8669</td>\n",
       "      <td>grant, fund, agency, fiscal_year, research, as...</td>\n",
       "      <td>title cite congenital heart future reauthoriza...</td>\n",
       "    </tr>\n",
       "    <tr>\n",
       "      <th>3265</th>\n",
       "      <td>4.0</td>\n",
       "      <td>0.7040</td>\n",
       "      <td>member, commission, government, office, commit...</td>\n",
       "      <td>title cite internal watchdog agency elevation ...</td>\n",
       "    </tr>\n",
       "    <tr>\n",
       "      <th>3266</th>\n",
       "      <td>3.0</td>\n",
       "      <td>0.9308</td>\n",
       "      <td>insert, health, plan, individual, strike, stri...</td>\n",
       "      <td>title cite veteran eligibility reform veteran ...</td>\n",
       "    </tr>\n",
       "    <tr>\n",
       "      <th>3267</th>\n",
       "      <td>6.0</td>\n",
       "      <td>0.8238</td>\n",
       "      <td>grant, fund, agency, fiscal_year, research, as...</td>\n",
       "      <td>teacher recruitment math science teacher recru...</td>\n",
       "    </tr>\n",
       "    <tr>\n",
       "      <th>3268</th>\n",
       "      <td>3.0</td>\n",
       "      <td>0.3910</td>\n",
       "      <td>insert, health, plan, individual, strike, stri...</td>\n",
       "      <td>year eligibility department veterans_affair he...</td>\n",
       "    </tr>\n",
       "  </tbody>\n",
       "</table>\n",
       "<p>3269 rows × 4 columns</p>\n",
       "</div>"
      ],
      "text/plain": [
       "      Dominant_Topic  Perc_Contribution  \\\n",
       "0                1.0             0.5799   \n",
       "1                1.0             0.9963   \n",
       "2                4.0             0.6027   \n",
       "3                6.0             0.6811   \n",
       "4                1.0             0.7841   \n",
       "...              ...                ...   \n",
       "3264             6.0             0.8669   \n",
       "3265             4.0             0.7040   \n",
       "3266             3.0             0.9308   \n",
       "3267             6.0             0.8238   \n",
       "3268             3.0             0.3910   \n",
       "\n",
       "                                         Topic_Keywords  \\\n",
       "0     credit, qualified, individual, tax, pay, perce...   \n",
       "1     credit, qualified, individual, tax, pay, perce...   \n",
       "2     member, commission, government, office, commit...   \n",
       "3     grant, fund, agency, fiscal_year, research, as...   \n",
       "4     credit, qualified, individual, tax, pay, perce...   \n",
       "...                                                 ...   \n",
       "3264  grant, fund, agency, fiscal_year, research, as...   \n",
       "3265  member, commission, government, office, commit...   \n",
       "3266  insert, health, plan, individual, strike, stri...   \n",
       "3267  grant, fund, agency, fiscal_year, research, as...   \n",
       "3268  insert, health, plan, individual, strike, stri...   \n",
       "\n",
       "                                                      0  \n",
       "0     title cite national science education tax ince...  \n",
       "1     title cite small_business expansion hire busin...  \n",
       "2     release document capture make publicly_availab...  \n",
       "3     title cite national cancer findings_congress m...  \n",
       "4     title cite military call relief waiver early w...  \n",
       "...                                                 ...  \n",
       "3264  title cite congenital heart future reauthoriza...  \n",
       "3265  title cite internal watchdog agency elevation ...  \n",
       "3266  title cite veteran eligibility reform veteran ...  \n",
       "3267  teacher recruitment math science teacher recru...  \n",
       "3268  year eligibility department veterans_affair he...  \n",
       "\n",
       "[3269 rows x 4 columns]"
      ]
     },
     "execution_count": 24,
     "metadata": {},
     "output_type": "execute_result"
    }
   ],
   "source": [
    "df_topic_sents_keywords = format_topics_sentences(ldamodel=lda_model, corpus=corpus, texts=sentences)\n"
   ]
  },
  {
   "cell_type": "code",
   "execution_count": 25,
   "id": "22506ad3",
   "metadata": {},
   "outputs": [
    {
     "name": "stderr",
     "output_type": "stream",
     "text": [
      "C:\\anaconda\\lib\\site-packages\\ipykernel\\ipkernel.py:287: DeprecationWarning: `should_run_async` will not call `transform_cell` automatically in the future. Please pass the result to `transformed_cell` argument and any exception that happen during thetransform in `preprocessing_exc_tuple` in IPython 7.17 and above.\n",
      "  and should_run_async(code)\n"
     ]
    },
    {
     "data": {
      "text/html": [
       "<div>\n",
       "<style scoped>\n",
       "    .dataframe tbody tr th:only-of-type {\n",
       "        vertical-align: middle;\n",
       "    }\n",
       "\n",
       "    .dataframe tbody tr th {\n",
       "        vertical-align: top;\n",
       "    }\n",
       "\n",
       "    .dataframe thead th {\n",
       "        text-align: right;\n",
       "    }\n",
       "</style>\n",
       "<table border=\"1\" class=\"dataframe\">\n",
       "  <thead>\n",
       "    <tr style=\"text-align: right;\">\n",
       "      <th></th>\n",
       "      <th>Document_No</th>\n",
       "      <th>Dominant_Topic</th>\n",
       "      <th>Topic_Perc_Contrib</th>\n",
       "      <th>Keywords</th>\n",
       "      <th>Text</th>\n",
       "    </tr>\n",
       "  </thead>\n",
       "  <tbody>\n",
       "    <tr>\n",
       "      <th>0</th>\n",
       "      <td>0</td>\n",
       "      <td>1.0</td>\n",
       "      <td>0.5799</td>\n",
       "      <td>credit, qualified, individual, tax, pay, perce...</td>\n",
       "      <td>title cite national science education tax ince...</td>\n",
       "    </tr>\n",
       "    <tr>\n",
       "      <th>1</th>\n",
       "      <td>1</td>\n",
       "      <td>1.0</td>\n",
       "      <td>0.9963</td>\n",
       "      <td>credit, qualified, individual, tax, pay, perce...</td>\n",
       "      <td>title cite small_business expansion hire busin...</td>\n",
       "    </tr>\n",
       "    <tr>\n",
       "      <th>2</th>\n",
       "      <td>2</td>\n",
       "      <td>4.0</td>\n",
       "      <td>0.6027</td>\n",
       "      <td>member, commission, government, office, commit...</td>\n",
       "      <td>release document capture make publicly_availab...</td>\n",
       "    </tr>\n",
       "    <tr>\n",
       "      <th>3</th>\n",
       "      <td>3</td>\n",
       "      <td>6.0</td>\n",
       "      <td>0.6811</td>\n",
       "      <td>grant, fund, agency, fiscal_year, research, as...</td>\n",
       "      <td>title cite national cancer findings_congress m...</td>\n",
       "    </tr>\n",
       "    <tr>\n",
       "      <th>4</th>\n",
       "      <td>4</td>\n",
       "      <td>1.0</td>\n",
       "      <td>0.7841</td>\n",
       "      <td>credit, qualified, individual, tax, pay, perce...</td>\n",
       "      <td>title cite military call relief waiver early w...</td>\n",
       "    </tr>\n",
       "    <tr>\n",
       "      <th>5</th>\n",
       "      <td>5</td>\n",
       "      <td>2.0</td>\n",
       "      <td>0.7354</td>\n",
       "      <td>information, regulation, standard, product, co...</td>\n",
       "      <td>reliquidation certain entry prematurely liquid...</td>\n",
       "    </tr>\n",
       "    <tr>\n",
       "      <th>6</th>\n",
       "      <td>6</td>\n",
       "      <td>3.0</td>\n",
       "      <td>0.5718</td>\n",
       "      <td>insert, health, plan, individual, strike, stri...</td>\n",
       "      <td>title cite service dog veteran service dog tre...</td>\n",
       "    </tr>\n",
       "    <tr>\n",
       "      <th>7</th>\n",
       "      <td>7</td>\n",
       "      <td>6.0</td>\n",
       "      <td>0.9285</td>\n",
       "      <td>grant, fund, agency, fiscal_year, research, as...</td>\n",
       "      <td>title cite race top top general title elementa...</td>\n",
       "    </tr>\n",
       "    <tr>\n",
       "      <th>8</th>\n",
       "      <td>8</td>\n",
       "      <td>6.0</td>\n",
       "      <td>0.4190</td>\n",
       "      <td>grant, fund, agency, fiscal_year, research, as...</td>\n",
       "      <td>title cite troop talent make follow finding ac...</td>\n",
       "    </tr>\n",
       "    <tr>\n",
       "      <th>9</th>\n",
       "      <td>9</td>\n",
       "      <td>2.0</td>\n",
       "      <td>0.2743</td>\n",
       "      <td>information, regulation, standard, product, co...</td>\n",
       "      <td>title cite taxpayer right view find follow fed...</td>\n",
       "    </tr>\n",
       "  </tbody>\n",
       "</table>\n",
       "</div>"
      ],
      "text/plain": [
       "   Document_No  Dominant_Topic  Topic_Perc_Contrib  \\\n",
       "0            0             1.0              0.5799   \n",
       "1            1             1.0              0.9963   \n",
       "2            2             4.0              0.6027   \n",
       "3            3             6.0              0.6811   \n",
       "4            4             1.0              0.7841   \n",
       "5            5             2.0              0.7354   \n",
       "6            6             3.0              0.5718   \n",
       "7            7             6.0              0.9285   \n",
       "8            8             6.0              0.4190   \n",
       "9            9             2.0              0.2743   \n",
       "\n",
       "                                            Keywords  \\\n",
       "0  credit, qualified, individual, tax, pay, perce...   \n",
       "1  credit, qualified, individual, tax, pay, perce...   \n",
       "2  member, commission, government, office, commit...   \n",
       "3  grant, fund, agency, fiscal_year, research, as...   \n",
       "4  credit, qualified, individual, tax, pay, perce...   \n",
       "5  information, regulation, standard, product, co...   \n",
       "6  insert, health, plan, individual, strike, stri...   \n",
       "7  grant, fund, agency, fiscal_year, research, as...   \n",
       "8  grant, fund, agency, fiscal_year, research, as...   \n",
       "9  information, regulation, standard, product, co...   \n",
       "\n",
       "                                                Text  \n",
       "0  title cite national science education tax ince...  \n",
       "1  title cite small_business expansion hire busin...  \n",
       "2  release document capture make publicly_availab...  \n",
       "3  title cite national cancer findings_congress m...  \n",
       "4  title cite military call relief waiver early w...  \n",
       "5  reliquidation certain entry prematurely liquid...  \n",
       "6  title cite service dog veteran service dog tre...  \n",
       "7  title cite race top top general title elementa...  \n",
       "8  title cite troop talent make follow finding ac...  \n",
       "9  title cite taxpayer right view find follow fed...  "
      ]
     },
     "execution_count": 25,
     "metadata": {},
     "output_type": "execute_result"
    }
   ],
   "source": [
    "# Format\n",
    "\n",
    "df_dominant_topic = df_topic_sents_keywords.reset_index()\n",
    "df_dominant_topic.columns = ['Document_No', 'Dominant_Topic', 'Topic_Perc_Contrib', 'Keywords', 'Text']\n",
    "#df_dominant_topic.to_csv('dominant_topics.csv')\n",
    "df_dominant_topic.head(10)"
   ]
  },
  {
   "cell_type": "code",
   "execution_count": 27,
   "id": "1af4f005",
   "metadata": {},
   "outputs": [
    {
     "name": "stderr",
     "output_type": "stream",
     "text": [
      "C:\\anaconda\\lib\\site-packages\\ipykernel\\ipkernel.py:287: DeprecationWarning: `should_run_async` will not call `transform_cell` automatically in the future. Please pass the result to `transformed_cell` argument and any exception that happen during thetransform in `preprocessing_exc_tuple` in IPython 7.17 and above.\n",
      "  and should_run_async(code)\n"
     ]
    },
    {
     "data": {
      "text/html": [
       "<div>\n",
       "<style scoped>\n",
       "    .dataframe tbody tr th:only-of-type {\n",
       "        vertical-align: middle;\n",
       "    }\n",
       "\n",
       "    .dataframe tbody tr th {\n",
       "        vertical-align: top;\n",
       "    }\n",
       "\n",
       "    .dataframe thead th {\n",
       "        text-align: right;\n",
       "    }\n",
       "</style>\n",
       "<table border=\"1\" class=\"dataframe\">\n",
       "  <thead>\n",
       "    <tr style=\"text-align: right;\">\n",
       "      <th></th>\n",
       "      <th>Topic_Num</th>\n",
       "      <th>Topic_Perc_Contrib</th>\n",
       "      <th>Keywords</th>\n",
       "      <th>Text</th>\n",
       "    </tr>\n",
       "  </thead>\n",
       "  <tbody>\n",
       "    <tr>\n",
       "      <th>0</th>\n",
       "      <td>0.0</td>\n",
       "      <td>0.9953</td>\n",
       "      <td>person, individual, action, employee, claim, c...</td>\n",
       "      <td>title cite gun victim compensation victim comp...</td>\n",
       "    </tr>\n",
       "    <tr>\n",
       "      <th>1</th>\n",
       "      <td>1.0</td>\n",
       "      <td>0.9987</td>\n",
       "      <td>credit, qualified, individual, tax, pay, perce...</td>\n",
       "      <td>index certain asset purpose determine gain los...</td>\n",
       "    </tr>\n",
       "    <tr>\n",
       "      <th>2</th>\n",
       "      <td>2.0</td>\n",
       "      <td>0.9977</td>\n",
       "      <td>information, regulation, standard, product, co...</td>\n",
       "      <td>title cite internet freedom deployment finding...</td>\n",
       "    </tr>\n",
       "    <tr>\n",
       "      <th>3</th>\n",
       "      <td>3.0</td>\n",
       "      <td>0.9985</td>\n",
       "      <td>insert, health, plan, individual, strike, stri...</td>\n",
       "      <td>title finding title cite mammogram availabilit...</td>\n",
       "    </tr>\n",
       "    <tr>\n",
       "      <th>4</th>\n",
       "      <td>4.0</td>\n",
       "      <td>0.9978</td>\n",
       "      <td>member, commission, government, office, commit...</td>\n",
       "      <td>group establishment establish refer group sens...</td>\n",
       "    </tr>\n",
       "    <tr>\n",
       "      <th>5</th>\n",
       "      <td>5.0</td>\n",
       "      <td>0.9990</td>\n",
       "      <td>land, project, management, area, water, plan, ...</td>\n",
       "      <td>definition purpose follow definition apply con...</td>\n",
       "    </tr>\n",
       "    <tr>\n",
       "      <th>6</th>\n",
       "      <td>6.0</td>\n",
       "      <td>0.9986</td>\n",
       "      <td>grant, fund, agency, fiscal_year, research, as...</td>\n",
       "      <td>title cite support afterschool stem find follo...</td>\n",
       "    </tr>\n",
       "  </tbody>\n",
       "</table>\n",
       "</div>"
      ],
      "text/plain": [
       "   Topic_Num  Topic_Perc_Contrib  \\\n",
       "0        0.0              0.9953   \n",
       "1        1.0              0.9987   \n",
       "2        2.0              0.9977   \n",
       "3        3.0              0.9985   \n",
       "4        4.0              0.9978   \n",
       "5        5.0              0.9990   \n",
       "6        6.0              0.9986   \n",
       "\n",
       "                                            Keywords  \\\n",
       "0  person, individual, action, employee, claim, c...   \n",
       "1  credit, qualified, individual, tax, pay, perce...   \n",
       "2  information, regulation, standard, product, co...   \n",
       "3  insert, health, plan, individual, strike, stri...   \n",
       "4  member, commission, government, office, commit...   \n",
       "5  land, project, management, area, water, plan, ...   \n",
       "6  grant, fund, agency, fiscal_year, research, as...   \n",
       "\n",
       "                                                Text  \n",
       "0  title cite gun victim compensation victim comp...  \n",
       "1  index certain asset purpose determine gain los...  \n",
       "2  title cite internet freedom deployment finding...  \n",
       "3  title finding title cite mammogram availabilit...  \n",
       "4  group establishment establish refer group sens...  \n",
       "5  definition purpose follow definition apply con...  \n",
       "6  title cite support afterschool stem find follo...  "
      ]
     },
     "execution_count": 27,
     "metadata": {},
     "output_type": "execute_result"
    }
   ],
   "source": [
    "# Group top 5 sentences under each topic\n",
    "df_dominant_topic2 = pd.DataFrame()\n",
    "\n",
    "sent_topics_outdf_grpd = df_topic_sents_keywords.groupby('Dominant_Topic')\n",
    "\n",
    "for i, grp in sent_topics_outdf_grpd:\n",
    "    df_dominant_topic2 = pd.concat([df_dominant_topic2 ,grp.sort_values(['Perc_Contribution'], ascending=[0]).head(1)], axis=0)\n",
    "\n",
    "# Reset Index    \n",
    "df_dominant_topic2 .reset_index(drop=True, inplace=True)\n",
    "#df_dominant_topic2\n",
    "\n",
    "# Format\n",
    "df_dominant_topic2 .columns = ['Topic_Num', \"Topic_Perc_Contrib\", \"Keywords\", \"Text\"]\n",
    "\n",
    "# Show\n",
    "df_dominant_topic2"
   ]
  },
  {
   "cell_type": "code",
   "execution_count": 38,
   "id": "6bb37190",
   "metadata": {},
   "outputs": [
    {
     "name": "stderr",
     "output_type": "stream",
     "text": [
      "C:\\anaconda\\lib\\site-packages\\ipykernel\\ipkernel.py:287: DeprecationWarning: `should_run_async` will not call `transform_cell` automatically in the future. Please pass the result to `transformed_cell` argument and any exception that happen during thetransform in `preprocessing_exc_tuple` in IPython 7.17 and above.\n",
      "  and should_run_async(code)\n"
     ]
    },
    {
     "data": {
      "text/html": [
       "<div>\n",
       "<style scoped>\n",
       "    .dataframe tbody tr th:only-of-type {\n",
       "        vertical-align: middle;\n",
       "    }\n",
       "\n",
       "    .dataframe tbody tr th {\n",
       "        vertical-align: top;\n",
       "    }\n",
       "\n",
       "    .dataframe thead th {\n",
       "        text-align: right;\n",
       "    }\n",
       "</style>\n",
       "<table border=\"1\" class=\"dataframe\">\n",
       "  <thead>\n",
       "    <tr style=\"text-align: right;\">\n",
       "      <th></th>\n",
       "      <th>Document_No</th>\n",
       "      <th>Dominant_Topic</th>\n",
       "    </tr>\n",
       "  </thead>\n",
       "  <tbody>\n",
       "    <tr>\n",
       "      <th>0</th>\n",
       "      <td>0</td>\n",
       "      <td>1.0</td>\n",
       "    </tr>\n",
       "    <tr>\n",
       "      <th>1</th>\n",
       "      <td>1</td>\n",
       "      <td>1.0</td>\n",
       "    </tr>\n",
       "    <tr>\n",
       "      <th>2</th>\n",
       "      <td>2</td>\n",
       "      <td>4.0</td>\n",
       "    </tr>\n",
       "    <tr>\n",
       "      <th>3</th>\n",
       "      <td>3</td>\n",
       "      <td>6.0</td>\n",
       "    </tr>\n",
       "    <tr>\n",
       "      <th>4</th>\n",
       "      <td>4</td>\n",
       "      <td>1.0</td>\n",
       "    </tr>\n",
       "    <tr>\n",
       "      <th>...</th>\n",
       "      <td>...</td>\n",
       "      <td>...</td>\n",
       "    </tr>\n",
       "    <tr>\n",
       "      <th>3264</th>\n",
       "      <td>3264</td>\n",
       "      <td>6.0</td>\n",
       "    </tr>\n",
       "    <tr>\n",
       "      <th>3265</th>\n",
       "      <td>3265</td>\n",
       "      <td>4.0</td>\n",
       "    </tr>\n",
       "    <tr>\n",
       "      <th>3266</th>\n",
       "      <td>3266</td>\n",
       "      <td>3.0</td>\n",
       "    </tr>\n",
       "    <tr>\n",
       "      <th>3267</th>\n",
       "      <td>3267</td>\n",
       "      <td>6.0</td>\n",
       "    </tr>\n",
       "    <tr>\n",
       "      <th>3268</th>\n",
       "      <td>3268</td>\n",
       "      <td>3.0</td>\n",
       "    </tr>\n",
       "  </tbody>\n",
       "</table>\n",
       "<p>3269 rows × 2 columns</p>\n",
       "</div>"
      ],
      "text/plain": [
       "      Document_No  Dominant_Topic\n",
       "0               0             1.0\n",
       "1               1             1.0\n",
       "2               2             4.0\n",
       "3               3             6.0\n",
       "4               4             1.0\n",
       "...           ...             ...\n",
       "3264         3264             6.0\n",
       "3265         3265             4.0\n",
       "3266         3266             3.0\n",
       "3267         3267             6.0\n",
       "3268         3268             3.0\n",
       "\n",
       "[3269 rows x 2 columns]"
      ]
     },
     "execution_count": 38,
     "metadata": {},
     "output_type": "execute_result"
    }
   ],
   "source": [
    "new_df=df_dominant_topic[['Document_No','Dominant_Topic']]\n",
    "new_df"
   ]
  },
  {
   "cell_type": "code",
   "execution_count": 54,
   "id": "b7256bdd",
   "metadata": {},
   "outputs": [
    {
     "name": "stderr",
     "output_type": "stream",
     "text": [
      "C:\\anaconda\\lib\\site-packages\\ipykernel\\ipkernel.py:287: DeprecationWarning: `should_run_async` will not call `transform_cell` automatically in the future. Please pass the result to `transformed_cell` argument and any exception that happen during thetransform in `preprocessing_exc_tuple` in IPython 7.17 and above.\n",
      "  and should_run_async(code)\n"
     ]
    }
   ],
   "source": [
    "#To save to csv to create a bar chart of the frequency of documents for each topic\n",
    "topic_count=pd.DataFrame(new_df.groupby('Dominant_Topic')['Document_No'].count())\n",
    "topic_count.reset_index(inplace=True)\n",
    "topic_count.columns=['Dominant_Topic','Number_docs']\n",
    "#topic_count.to_csv('Topic_count.csv')"
   ]
  },
  {
   "cell_type": "code",
   "execution_count": 52,
   "id": "41711140",
   "metadata": {},
   "outputs": [
    {
     "name": "stdout",
     "output_type": "stream",
     "text": [
      "<class 'pandas.core.frame.DataFrame'>\n",
      "RangeIndex: 7 entries, 0 to 6\n",
      "Data columns (total 2 columns):\n",
      " #   Column          Non-Null Count  Dtype  \n",
      "---  ------          --------------  -----  \n",
      " 0   Dominant_Topic  7 non-null      float64\n",
      " 1   Number_docs     7 non-null      int64  \n",
      "dtypes: float64(1), int64(1)\n",
      "memory usage: 240.0 bytes\n"
     ]
    },
    {
     "name": "stderr",
     "output_type": "stream",
     "text": [
      "C:\\anaconda\\lib\\site-packages\\ipykernel\\ipkernel.py:287: DeprecationWarning: `should_run_async` will not call `transform_cell` automatically in the future. Please pass the result to `transformed_cell` argument and any exception that happen during thetransform in `preprocessing_exc_tuple` in IPython 7.17 and above.\n",
      "  and should_run_async(code)\n"
     ]
    }
   ],
   "source": [
    "topic_count.info()"
   ]
  },
  {
   "cell_type": "markdown",
   "id": "bdc213bf",
   "metadata": {},
   "source": [
    "#### Create wordcloud for each topic"
   ]
  },
  {
   "cell_type": "code",
   "execution_count": 45,
   "id": "f62a139d",
   "metadata": {},
   "outputs": [
    {
     "name": "stderr",
     "output_type": "stream",
     "text": [
      "C:\\anaconda\\lib\\site-packages\\ipykernel\\ipkernel.py:287: DeprecationWarning: `should_run_async` will not call `transform_cell` automatically in the future. Please pass the result to `transformed_cell` argument and any exception that happen during thetransform in `preprocessing_exc_tuple` in IPython 7.17 and above.\n",
      "  and should_run_async(code)\n"
     ]
    },
    {
     "ename": "IndexError",
     "evalue": "list index out of range",
     "output_type": "error",
     "traceback": [
      "\u001b[1;31m---------------------------------------------------------------------------\u001b[0m",
      "\u001b[1;31mIndexError\u001b[0m                                Traceback (most recent call last)",
      "\u001b[1;32m<ipython-input-45-a3e163885dd1>\u001b[0m in \u001b[0;36m<module>\u001b[1;34m\u001b[0m\n\u001b[0;32m     21\u001b[0m \u001b[1;32mfor\u001b[0m \u001b[0mi\u001b[0m\u001b[1;33m,\u001b[0m \u001b[0max\u001b[0m \u001b[1;32min\u001b[0m \u001b[0menumerate\u001b[0m\u001b[1;33m(\u001b[0m\u001b[0maxes\u001b[0m\u001b[1;33m.\u001b[0m\u001b[0mflatten\u001b[0m\u001b[1;33m(\u001b[0m\u001b[1;33m)\u001b[0m\u001b[1;33m)\u001b[0m\u001b[1;33m:\u001b[0m\u001b[1;33m\u001b[0m\u001b[1;33m\u001b[0m\u001b[0m\n\u001b[0;32m     22\u001b[0m     \u001b[0mfig\u001b[0m\u001b[1;33m.\u001b[0m\u001b[0madd_subplot\u001b[0m\u001b[1;33m(\u001b[0m\u001b[0max\u001b[0m\u001b[1;33m)\u001b[0m\u001b[1;33m\u001b[0m\u001b[1;33m\u001b[0m\u001b[0m\n\u001b[1;32m---> 23\u001b[1;33m     \u001b[0mtopic_words\u001b[0m \u001b[1;33m=\u001b[0m \u001b[0mdict\u001b[0m\u001b[1;33m(\u001b[0m\u001b[0mtopics\u001b[0m\u001b[1;33m[\u001b[0m\u001b[0mi\u001b[0m\u001b[1;33m]\u001b[0m\u001b[1;33m[\u001b[0m\u001b[1;36m1\u001b[0m\u001b[1;33m]\u001b[0m\u001b[1;33m)\u001b[0m\u001b[1;33m\u001b[0m\u001b[1;33m\u001b[0m\u001b[0m\n\u001b[0m\u001b[0;32m     24\u001b[0m     \u001b[0mcloud\u001b[0m\u001b[1;33m.\u001b[0m\u001b[0mgenerate_from_frequencies\u001b[0m\u001b[1;33m(\u001b[0m\u001b[0mtopic_words\u001b[0m\u001b[1;33m,\u001b[0m \u001b[0mmax_font_size\u001b[0m\u001b[1;33m=\u001b[0m\u001b[1;36m300\u001b[0m\u001b[1;33m)\u001b[0m\u001b[1;33m\u001b[0m\u001b[1;33m\u001b[0m\u001b[0m\n\u001b[0;32m     25\u001b[0m     \u001b[0mplt\u001b[0m\u001b[1;33m.\u001b[0m\u001b[0mgca\u001b[0m\u001b[1;33m(\u001b[0m\u001b[1;33m)\u001b[0m\u001b[1;33m.\u001b[0m\u001b[0mimshow\u001b[0m\u001b[1;33m(\u001b[0m\u001b[0mcloud\u001b[0m\u001b[1;33m)\u001b[0m\u001b[1;33m\u001b[0m\u001b[1;33m\u001b[0m\u001b[0m\n",
      "\u001b[1;31mIndexError\u001b[0m: list index out of range"
     ]
    },
    {
     "data": {
      "image/png": "[encoded data removed]",
      "text/plain": [
       "<Figure size 720x720 with 9 Axes>"
      ]
     },
     "metadata": {
      "needs_background": "light"
     },
     "output_type": "display_data"
    }
   ],
   "source": [
    "#  Wordcloud of Top N words in each topic\n",
    "from matplotlib import pyplot as plt\n",
    "from wordcloud import WordCloud, STOPWORDS\n",
    "import matplotlib.colors as mcolors\n",
    "\n",
    "cols = [color for name, color in mcolors.TABLEAU_COLORS.items()]  # more colors: 'mcolors.XKCD_COLORS'\n",
    "\n",
    "cloud = WordCloud(stopwords=stop_words,\n",
    "                  background_color='white',\n",
    "                  width=2500,\n",
    "                  height=1800,\n",
    "                  max_words=10,\n",
    "                  colormap='tab10',\n",
    "                  color_func=lambda *args, **kwargs: cols[i],\n",
    "                  prefer_horizontal=1.0)\n",
    "\n",
    "topics = lda_model.show_topics(formatted=False)\n",
    "\n",
    "fig, axes = plt.subplots(3, 3, figsize=(10,10), sharex=True, sharey=True)\n",
    "\n",
    "for i, ax in enumerate(axes.flatten()):\n",
    "    fig.add_subplot(ax)\n",
    "    topic_words = dict(topics[i][1])\n",
    "    cloud.generate_from_frequencies(topic_words, max_font_size=300)\n",
    "    plt.gca().imshow(cloud)\n",
    "    plt.gca().set_title('Topic ' + str(i), fontdict=dict(size=16))\n",
    "    plt.gca().axis('off')\n",
    "\n",
    "\n",
    "plt.subplots_adjust(wspace=0, hspace=0)\n",
    "plt.axis('off')\n",
    "plt.margins(x=0, y=0)\n",
    "plt.tight_layout()\n",
    "plt.show()"
   ]
  },
  {
   "cell_type": "code",
   "execution_count": null,
   "id": "8c1a41fc",
   "metadata": {},
   "outputs": [],
   "source": []
  }
 ],
 "metadata": {
  "colab": {
   "name": "TopicModelling.ipynb",
   "provenance": []
  },
  "kernelspec": {
   "display_name": "Python 3",
   "language": "python",
   "name": "python3"
  },
  "language_info": {
   "codemirror_mode": {
    "name": "ipython",
    "version": 3
   },
   "file_extension": ".py",
   "mimetype": "text/x-python",
   "name": "python",
   "nbconvert_exporter": "python",
   "pygments_lexer": "ipython3",
   "version": "3.8.8"
  }
 },
 "nbformat": 4,
 "nbformat_minor": 5
}
