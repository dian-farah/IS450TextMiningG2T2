{
 "cells": [
  {
   "cell_type": "markdown",
   "metadata": {},
   "source": [
    "# Load Libraries"
   ]
  },
  {
   "cell_type": "code",
   "execution_count": 44,
   "metadata": {},
   "outputs": [
    {
     "name": "stderr",
     "output_type": "stream",
     "text": [
      "[nltk_data] Downloading package stopwords to\n",
      "[nltk_data]     C:\\Users\\ivyha\\AppData\\Roaming\\nltk_data...\n",
      "[nltk_data]   Package stopwords is already up-to-date!\n",
      "[nltk_data] Downloading package punkt to\n",
      "[nltk_data]     C:\\Users\\ivyha\\AppData\\Roaming\\nltk_data...\n",
      "[nltk_data]   Package punkt is already up-to-date!\n",
      "[nltk_data] Downloading package averaged_perceptron_tagger to\n",
      "[nltk_data]     C:\\Users\\ivyha\\AppData\\Roaming\\nltk_data...\n",
      "[nltk_data]   Package averaged_perceptron_tagger is already up-to-\n",
      "[nltk_data]       date!\n",
      "[nltk_data] Downloading package universal_tagset to\n",
      "[nltk_data]     C:\\Users\\ivyha\\AppData\\Roaming\\nltk_data...\n",
      "[nltk_data]   Package universal_tagset is already up-to-date!\n"
     ]
    },
    {
     "data": {
      "text/plain": [
       "True"
      ]
     },
     "execution_count": 44,
     "metadata": {},
     "output_type": "execute_result"
    }
   ],
   "source": [
    "import pandas as pd\n",
    "import numpy as np\n",
    "import seaborn as sns\n",
    "#nltk.download()\n",
    "import nltk\n",
    "from collections import  Counter\n",
    "import random\n",
    "from nltk.tokenize import word_tokenize\n",
    "import matplotlib.pyplot as plt\n",
    "import re, string\n",
    "\n",
    "nltk.download('stopwords')\n",
    "nltk.download('punkt')\n",
    "nltk.download('averaged_perceptron_tagger')\n",
    "nltk.download('universal_tagset')"
   ]
  },
  {
   "cell_type": "markdown",
   "metadata": {},
   "source": [
    "# Load File"
   ]
  },
  {
   "cell_type": "code",
   "execution_count": 6,
   "metadata": {},
   "outputs": [],
   "source": [
    "file = pd.read_excel(\"../data/contract_new.xlsx\")\n",
    "file_pd = pd.DataFrame(file)"
   ]
  },
  {
   "cell_type": "code",
   "execution_count": 7,
   "metadata": {},
   "outputs": [
    {
     "data": {
      "text/html": [
       "<div>\n",
       "<style scoped>\n",
       "    .dataframe tbody tr th:only-of-type {\n",
       "        vertical-align: middle;\n",
       "    }\n",
       "\n",
       "    .dataframe tbody tr th {\n",
       "        vertical-align: top;\n",
       "    }\n",
       "\n",
       "    .dataframe thead th {\n",
       "        text-align: right;\n",
       "    }\n",
       "</style>\n",
       "<table border=\"1\" class=\"dataframe\">\n",
       "  <thead>\n",
       "    <tr style=\"text-align: right;\">\n",
       "      <th></th>\n",
       "      <th>contract</th>\n",
       "      <th>content</th>\n",
       "    </tr>\n",
       "  </thead>\n",
       "  <tbody>\n",
       "    <tr>\n",
       "      <th>0</th>\n",
       "      <td>2ThemartComInc_19990826_10-12G_EX-10.10_670028...</td>\n",
       "      <td>CO-BRANDING AND ADVERTISING AGREEMENT THIS CO-...</td>\n",
       "    </tr>\n",
       "    <tr>\n",
       "      <th>1</th>\n",
       "      <td>ABILITYINC_06_15_2020-EX-4.25-SERVICESAGREEMEN...</td>\n",
       "      <td>EXHIBIT 4.25 INFORMATION IN THIS EXHIBIT IDENT...</td>\n",
       "    </tr>\n",
       "    <tr>\n",
       "      <th>2</th>\n",
       "      <td>ACCELERATEDTECHNOLOGIESHOLDINGCORP_04_24_2003-...</td>\n",
       "      <td>EXHIBIT 10.13 JOINT VENTURE AGREEMENT Collecti...</td>\n",
       "    </tr>\n",
       "    <tr>\n",
       "      <th>3</th>\n",
       "      <td>ACCURAYINC_09_01_2010-EX-10.31-DISTRIBUTORAGRE...</td>\n",
       "      <td>Exhibit 10.31 PURSUANT TO 17 C.F.R. § 240.24B-...</td>\n",
       "    </tr>\n",
       "    <tr>\n",
       "      <th>4</th>\n",
       "      <td>ADAMSGOLFINC_03_21_2005-EX-10.17-ENDORSEMENTAG...</td>\n",
       "      <td>REDACTED COPY CONFIDENTIAL TREATMENT REQUESTED...</td>\n",
       "    </tr>\n",
       "    <tr>\n",
       "      <th>...</th>\n",
       "      <td>...</td>\n",
       "      <td>...</td>\n",
       "    </tr>\n",
       "    <tr>\n",
       "      <th>505</th>\n",
       "      <td>ZEBRATECHNOLOGIESCORP_04_16_2014-EX-10.1-INTEL...</td>\n",
       "      <td>Exhibit 10.1 INTELLECTUAL PROPERTY AGREEMENT T...</td>\n",
       "    </tr>\n",
       "    <tr>\n",
       "      <th>506</th>\n",
       "      <td>ZogenixInc_20190509_10-Q_EX-10.2_11663313_EX-1...</td>\n",
       "      <td>Exhibit 10.2 CERTAIN INFORMATION (INDICATED BY...</td>\n",
       "    </tr>\n",
       "    <tr>\n",
       "      <th>507</th>\n",
       "      <td>ZONDWINDSYSTEMPARTNERSLTDSERIES85-B_04_03_2006...</td>\n",
       "      <td>Exhibit 10.17(b) ---------------- FIRST AMENDM...</td>\n",
       "    </tr>\n",
       "    <tr>\n",
       "      <th>508</th>\n",
       "      <td>ZoundsHearing,Inc.-MANUFACTURINGDESIGNMARKETIN...</td>\n",
       "      <td>Exhibit 10.1 MANUFACTURING, DESIGN AND MARKETI...</td>\n",
       "    </tr>\n",
       "    <tr>\n",
       "      <th>509</th>\n",
       "      <td>ZtoExpressCaymanInc_20160930_F-1_EX-10.10_9752...</td>\n",
       "      <td>Exhibit 10.10 Road Transportation Agreement Pa...</td>\n",
       "    </tr>\n",
       "  </tbody>\n",
       "</table>\n",
       "<p>510 rows × 2 columns</p>\n",
       "</div>"
      ],
      "text/plain": [
       "                                              contract  \\\n",
       "0    2ThemartComInc_19990826_10-12G_EX-10.10_670028...   \n",
       "1    ABILITYINC_06_15_2020-EX-4.25-SERVICESAGREEMEN...   \n",
       "2    ACCELERATEDTECHNOLOGIESHOLDINGCORP_04_24_2003-...   \n",
       "3    ACCURAYINC_09_01_2010-EX-10.31-DISTRIBUTORAGRE...   \n",
       "4    ADAMSGOLFINC_03_21_2005-EX-10.17-ENDORSEMENTAG...   \n",
       "..                                                 ...   \n",
       "505  ZEBRATECHNOLOGIESCORP_04_16_2014-EX-10.1-INTEL...   \n",
       "506  ZogenixInc_20190509_10-Q_EX-10.2_11663313_EX-1...   \n",
       "507  ZONDWINDSYSTEMPARTNERSLTDSERIES85-B_04_03_2006...   \n",
       "508  ZoundsHearing,Inc.-MANUFACTURINGDESIGNMARKETIN...   \n",
       "509  ZtoExpressCaymanInc_20160930_F-1_EX-10.10_9752...   \n",
       "\n",
       "                                               content  \n",
       "0    CO-BRANDING AND ADVERTISING AGREEMENT THIS CO-...  \n",
       "1    EXHIBIT 4.25 INFORMATION IN THIS EXHIBIT IDENT...  \n",
       "2    EXHIBIT 10.13 JOINT VENTURE AGREEMENT Collecti...  \n",
       "3    Exhibit 10.31 PURSUANT TO 17 C.F.R. § 240.24B-...  \n",
       "4    REDACTED COPY CONFIDENTIAL TREATMENT REQUESTED...  \n",
       "..                                                 ...  \n",
       "505  Exhibit 10.1 INTELLECTUAL PROPERTY AGREEMENT T...  \n",
       "506  Exhibit 10.2 CERTAIN INFORMATION (INDICATED BY...  \n",
       "507  Exhibit 10.17(b) ---------------- FIRST AMENDM...  \n",
       "508  Exhibit 10.1 MANUFACTURING, DESIGN AND MARKETI...  \n",
       "509  Exhibit 10.10 Road Transportation Agreement Pa...  \n",
       "\n",
       "[510 rows x 2 columns]"
      ]
     },
     "execution_count": 7,
     "metadata": {},
     "output_type": "execute_result"
    }
   ],
   "source": [
    "# Preview Dataframe\n",
    "\n",
    "file_pd"
   ]
  },
  {
   "cell_type": "markdown",
   "metadata": {},
   "source": [
    "# Clean Dataframe\n",
    "\n",
    "Data cleaning is the process of fixing or removing incorrect, corrupted, incorrectly formatted, duplicate, or incomplete data within a dataset. \n",
    "\n",
    "The following are the relevant steps needed to clean the data:\n",
    "1. Unify text (small letter, white space)\n",
    "2. Check for duplicates"
   ]
  },
  {
   "cell_type": "markdown",
   "metadata": {},
   "source": [
    "## Create Functions"
   ]
  },
  {
   "cell_type": "code",
   "execution_count": 8,
   "metadata": {},
   "outputs": [],
   "source": [
    "def lower_case(df):\n",
    "  df['content'] = df['content'].str.lower()\n",
    "  return df"
   ]
  },
  {
   "cell_type": "code",
   "execution_count": 9,
   "metadata": {},
   "outputs": [],
   "source": [
    "def remove_space(df):\n",
    "  df = df.replace(r'\\n',' ', regex=True)\n",
    "  df = df.replace(r'\\n\\n',' ', regex=True)\n",
    "  df = df.replace(r'\\\\n',' ', regex=True)\n",
    "  df = df.replace('\\s+', ' ', regex=True)\n",
    "  df['content'] = df['content'].str.strip(\" \")\n",
    "  \n",
    "  return df\n"
   ]
  },
  {
   "cell_type": "markdown",
   "metadata": {},
   "source": [
    "## Run Functions"
   ]
  },
  {
   "cell_type": "code",
   "execution_count": 10,
   "metadata": {},
   "outputs": [],
   "source": [
    "file_clean = lower_case(file_pd)\n",
    "file_clean = remove_space(file_clean)\n",
    "file_clean.drop_duplicates(subset = ['content'], inplace = True)"
   ]
  },
  {
   "cell_type": "code",
   "execution_count": 11,
   "metadata": {},
   "outputs": [
    {
     "data": {
      "text/html": [
       "<div>\n",
       "<style scoped>\n",
       "    .dataframe tbody tr th:only-of-type {\n",
       "        vertical-align: middle;\n",
       "    }\n",
       "\n",
       "    .dataframe tbody tr th {\n",
       "        vertical-align: top;\n",
       "    }\n",
       "\n",
       "    .dataframe thead th {\n",
       "        text-align: right;\n",
       "    }\n",
       "</style>\n",
       "<table border=\"1\" class=\"dataframe\">\n",
       "  <thead>\n",
       "    <tr style=\"text-align: right;\">\n",
       "      <th></th>\n",
       "      <th>contract</th>\n",
       "      <th>content</th>\n",
       "    </tr>\n",
       "  </thead>\n",
       "  <tbody>\n",
       "    <tr>\n",
       "      <th>0</th>\n",
       "      <td>2ThemartComInc_19990826_10-12G_EX-10.10_670028...</td>\n",
       "      <td>co-branding and advertising agreement this co-...</td>\n",
       "    </tr>\n",
       "    <tr>\n",
       "      <th>1</th>\n",
       "      <td>ABILITYINC_06_15_2020-EX-4.25-SERVICESAGREEMEN...</td>\n",
       "      <td>exhibit 4.25 information in this exhibit ident...</td>\n",
       "    </tr>\n",
       "    <tr>\n",
       "      <th>2</th>\n",
       "      <td>ACCELERATEDTECHNOLOGIESHOLDINGCORP_04_24_2003-...</td>\n",
       "      <td>exhibit 10.13 joint venture agreement collecti...</td>\n",
       "    </tr>\n",
       "    <tr>\n",
       "      <th>3</th>\n",
       "      <td>ACCURAYINC_09_01_2010-EX-10.31-DISTRIBUTORAGRE...</td>\n",
       "      <td>exhibit 10.31 pursuant to 17 c.f.r. § 240.24b-...</td>\n",
       "    </tr>\n",
       "    <tr>\n",
       "      <th>4</th>\n",
       "      <td>ADAMSGOLFINC_03_21_2005-EX-10.17-ENDORSEMENTAG...</td>\n",
       "      <td>redacted copy confidential treatment requested...</td>\n",
       "    </tr>\n",
       "    <tr>\n",
       "      <th>...</th>\n",
       "      <td>...</td>\n",
       "      <td>...</td>\n",
       "    </tr>\n",
       "    <tr>\n",
       "      <th>505</th>\n",
       "      <td>ZEBRATECHNOLOGIESCORP_04_16_2014-EX-10.1-INTEL...</td>\n",
       "      <td>exhibit 10.1 intellectual property agreement t...</td>\n",
       "    </tr>\n",
       "    <tr>\n",
       "      <th>506</th>\n",
       "      <td>ZogenixInc_20190509_10-Q_EX-10.2_11663313_EX-1...</td>\n",
       "      <td>exhibit 10.2 certain information (indicated by...</td>\n",
       "    </tr>\n",
       "    <tr>\n",
       "      <th>507</th>\n",
       "      <td>ZONDWINDSYSTEMPARTNERSLTDSERIES85-B_04_03_2006...</td>\n",
       "      <td>exhibit 10.17(b) ---------------- first amendm...</td>\n",
       "    </tr>\n",
       "    <tr>\n",
       "      <th>508</th>\n",
       "      <td>ZoundsHearing,Inc.-MANUFACTURINGDESIGNMARKETIN...</td>\n",
       "      <td>exhibit 10.1 manufacturing, design and marketi...</td>\n",
       "    </tr>\n",
       "    <tr>\n",
       "      <th>509</th>\n",
       "      <td>ZtoExpressCaymanInc_20160930_F-1_EX-10.10_9752...</td>\n",
       "      <td>exhibit 10.10 road transportation agreement pa...</td>\n",
       "    </tr>\n",
       "  </tbody>\n",
       "</table>\n",
       "<p>509 rows × 2 columns</p>\n",
       "</div>"
      ],
      "text/plain": [
       "                                              contract  \\\n",
       "0    2ThemartComInc_19990826_10-12G_EX-10.10_670028...   \n",
       "1    ABILITYINC_06_15_2020-EX-4.25-SERVICESAGREEMEN...   \n",
       "2    ACCELERATEDTECHNOLOGIESHOLDINGCORP_04_24_2003-...   \n",
       "3    ACCURAYINC_09_01_2010-EX-10.31-DISTRIBUTORAGRE...   \n",
       "4    ADAMSGOLFINC_03_21_2005-EX-10.17-ENDORSEMENTAG...   \n",
       "..                                                 ...   \n",
       "505  ZEBRATECHNOLOGIESCORP_04_16_2014-EX-10.1-INTEL...   \n",
       "506  ZogenixInc_20190509_10-Q_EX-10.2_11663313_EX-1...   \n",
       "507  ZONDWINDSYSTEMPARTNERSLTDSERIES85-B_04_03_2006...   \n",
       "508  ZoundsHearing,Inc.-MANUFACTURINGDESIGNMARKETIN...   \n",
       "509  ZtoExpressCaymanInc_20160930_F-1_EX-10.10_9752...   \n",
       "\n",
       "                                               content  \n",
       "0    co-branding and advertising agreement this co-...  \n",
       "1    exhibit 4.25 information in this exhibit ident...  \n",
       "2    exhibit 10.13 joint venture agreement collecti...  \n",
       "3    exhibit 10.31 pursuant to 17 c.f.r. § 240.24b-...  \n",
       "4    redacted copy confidential treatment requested...  \n",
       "..                                                 ...  \n",
       "505  exhibit 10.1 intellectual property agreement t...  \n",
       "506  exhibit 10.2 certain information (indicated by...  \n",
       "507  exhibit 10.17(b) ---------------- first amendm...  \n",
       "508  exhibit 10.1 manufacturing, design and marketi...  \n",
       "509  exhibit 10.10 road transportation agreement pa...  \n",
       "\n",
       "[509 rows x 2 columns]"
      ]
     },
     "execution_count": 11,
     "metadata": {},
     "output_type": "execute_result"
    }
   ],
   "source": [
    "# Preview cleaned dataframe\n",
    "\n",
    "file_clean"
   ]
  },
  {
   "cell_type": "markdown",
   "metadata": {},
   "source": [
    "# POS Tagging"
   ]
  },
  {
   "cell_type": "markdown",
   "metadata": {},
   "source": [
    "## Create POS tagging function"
   ]
  },
  {
   "cell_type": "code",
   "execution_count": 18,
   "metadata": {},
   "outputs": [],
   "source": [
    "def get_pos_tags(sentences, tagset='universal'):\n",
    "    ''' Extract the part-of-speech taggings of the sentence\n",
    "        Input:\n",
    "        - sentence: string, sentence to tag\n",
    "        - tagset: string, tagset or the set of tags to search for\n",
    "    '''\n",
    "    #Create the Dataframe to store the count of tags\n",
    "    df = pd.DataFrame(columns=['ADJ','ADP','ADV','CONJ','DET','NOUN','NUM','PRT','PRON','VERB','.','X'])\n",
    "    for sent in sentences:\n",
    "        # Extract the part of Speech tags in the sentence\n",
    "        pos_tags = Counter([j for i,j in nltk.pos_tag(word_tokenize(sent), tagset='universal')])\n",
    "        #Appends the pos tags to the dataframe, fill NaN values with 0\n",
    "        df = df.append(pos_tags, ignore_index=True).fillna(0)\n",
    "\n",
    "    return df.astype(int)"
   ]
  },
  {
   "cell_type": "code",
   "execution_count": 24,
   "metadata": {},
   "outputs": [],
   "source": [
    "# Identify the taggings for the text variable\n",
    "contract_name = file_clean['contract'].values\n",
    "df_contractn = get_pos_tags(contract_name)\n",
    "\n",
    "# Identify the taggings for the summary variable\n",
    "content = file_clean['content'].values\n",
    "df_content = get_pos_tags(content)"
   ]
  },
  {
   "cell_type": "code",
   "execution_count": 28,
   "metadata": {},
   "outputs": [
    {
     "data": {
      "text/html": [
       "<div>\n",
       "<style scoped>\n",
       "    .dataframe tbody tr th:only-of-type {\n",
       "        vertical-align: middle;\n",
       "    }\n",
       "\n",
       "    .dataframe tbody tr th {\n",
       "        vertical-align: top;\n",
       "    }\n",
       "\n",
       "    .dataframe thead th {\n",
       "        text-align: right;\n",
       "    }\n",
       "</style>\n",
       "<table border=\"1\" class=\"dataframe\">\n",
       "  <thead>\n",
       "    <tr style=\"text-align: right;\">\n",
       "      <th></th>\n",
       "      <th>ADJ</th>\n",
       "      <th>ADP</th>\n",
       "      <th>ADV</th>\n",
       "      <th>CONJ</th>\n",
       "      <th>DET</th>\n",
       "      <th>NOUN</th>\n",
       "      <th>NUM</th>\n",
       "      <th>PRT</th>\n",
       "      <th>PRON</th>\n",
       "      <th>VERB</th>\n",
       "      <th>.</th>\n",
       "      <th>X</th>\n",
       "    </tr>\n",
       "  </thead>\n",
       "  <tbody>\n",
       "    <tr>\n",
       "      <th>0</th>\n",
       "      <td>408</td>\n",
       "      <td>585</td>\n",
       "      <td>117</td>\n",
       "      <td>221</td>\n",
       "      <td>623</td>\n",
       "      <td>1462</td>\n",
       "      <td>194</td>\n",
       "      <td>171</td>\n",
       "      <td>46</td>\n",
       "      <td>685</td>\n",
       "      <td>725</td>\n",
       "      <td>0</td>\n",
       "    </tr>\n",
       "    <tr>\n",
       "      <th>1</th>\n",
       "      <td>346</td>\n",
       "      <td>595</td>\n",
       "      <td>103</td>\n",
       "      <td>275</td>\n",
       "      <td>558</td>\n",
       "      <td>1312</td>\n",
       "      <td>89</td>\n",
       "      <td>157</td>\n",
       "      <td>44</td>\n",
       "      <td>655</td>\n",
       "      <td>677</td>\n",
       "      <td>2</td>\n",
       "    </tr>\n",
       "    <tr>\n",
       "      <th>2</th>\n",
       "      <td>208</td>\n",
       "      <td>292</td>\n",
       "      <td>36</td>\n",
       "      <td>108</td>\n",
       "      <td>283</td>\n",
       "      <td>584</td>\n",
       "      <td>47</td>\n",
       "      <td>61</td>\n",
       "      <td>30</td>\n",
       "      <td>269</td>\n",
       "      <td>241</td>\n",
       "      <td>0</td>\n",
       "    </tr>\n",
       "    <tr>\n",
       "      <th>3</th>\n",
       "      <td>434</td>\n",
       "      <td>719</td>\n",
       "      <td>117</td>\n",
       "      <td>305</td>\n",
       "      <td>534</td>\n",
       "      <td>1749</td>\n",
       "      <td>136</td>\n",
       "      <td>237</td>\n",
       "      <td>50</td>\n",
       "      <td>768</td>\n",
       "      <td>614</td>\n",
       "      <td>2</td>\n",
       "    </tr>\n",
       "    <tr>\n",
       "      <th>4</th>\n",
       "      <td>368</td>\n",
       "      <td>494</td>\n",
       "      <td>100</td>\n",
       "      <td>226</td>\n",
       "      <td>405</td>\n",
       "      <td>1692</td>\n",
       "      <td>124</td>\n",
       "      <td>153</td>\n",
       "      <td>47</td>\n",
       "      <td>651</td>\n",
       "      <td>434</td>\n",
       "      <td>3</td>\n",
       "    </tr>\n",
       "  </tbody>\n",
       "</table>\n",
       "</div>"
      ],
      "text/plain": [
       "   ADJ  ADP  ADV  CONJ  DET  NOUN  NUM  PRT  PRON  VERB    .  X\n",
       "0  408  585  117   221  623  1462  194  171    46   685  725  0\n",
       "1  346  595  103   275  558  1312   89  157    44   655  677  2\n",
       "2  208  292   36   108  283   584   47   61    30   269  241  0\n",
       "3  434  719  117   305  534  1749  136  237    50   768  614  2\n",
       "4  368  494  100   226  405  1692  124  153    47   651  434  3"
      ]
     },
     "execution_count": 28,
     "metadata": {},
     "output_type": "execute_result"
    }
   ],
   "source": [
    "df_content.head()"
   ]
  },
  {
   "cell_type": "markdown",
   "metadata": {},
   "source": [
    "## Plot historgram to check the distribution"
   ]
  },
  {
   "cell_type": "code",
   "execution_count": 80,
   "metadata": {},
   "outputs": [],
   "source": [
    "def plot_histograms(data, plot_vars, xlim, labels, figsize):\n",
    "    ''' Function to plot the histograms of the variables in plot_vars\n",
    "        Input:\n",
    "        - data: a dataframe, containing the data points to plot\n",
    "        - plot_vars: a (1,x) array, containig the columns to plot\n",
    "        - xlim: a list, define the max x value for every column to plot\n",
    "        - labels: a dctionary, to map the column names to its label\n",
    "        - figsize: a tuple, indicating the size of the figure\n",
    "    '''\n",
    "    # Set some parameters\n",
    "    kwargs = dict(hist_kws={'alpha':.7}, kde_kws={'linewidth':2})\n",
    "\n",
    "    cmap = get_cmap(plot_vars.shape[1])\n",
    "    # Create the figure and axes\n",
    "    fig, axes = plt.subplots(plot_vars.shape[0], plot_vars.shape[1], figsize=figsize, sharey=False, dpi=100)\n",
    "    #For every variable in plot_vars\n",
    "    for i in range(plot_vars.shape[1]):\n",
    "        # Plot the histogram \n",
    "        sns.distplot(data[plot_vars[0,i]] , color=(random.uniform(0, 1), random.uniform(0, 1), random.uniform(0, 1),), \n",
    "                     ax=axes[i], axlabel=labels[plot_vars[0,i]], bins= 50, norm_hist = True)\n",
    "        #For a better visualization we set the x limit\n",
    "        axes[i].set_xlim(left=0, right=xlim[i])\n",
    "        \n",
    "    fig.tight_layout()"
   ]
  },
  {
   "cell_type": "code",
   "execution_count": 29,
   "metadata": {},
   "outputs": [],
   "source": [
    "# We declare a new dataframe for plotting porpouses\n",
    "#data=dataset\n",
    "\n",
    "# Create a dictionary to title the columns based on their names\n",
    "labels_dict={'sum_word_count': 'Word Count of Summaries','text_word_count': 'Word Count of Texts',\n",
    "             'sum_char_count': 'Char Count of Summaries','text_char_count': 'Char Count of Texts',\n",
    "             'sum_word_density': 'Word Density of Summaries','text_word_density': 'Word Density of Texts',\n",
    "             'sum_punc_count': 'Punctuation Count of Summaries','text_punc_count': 'Punctuation Count of Texts',\n",
    "             'text_sent_count': 'Sentence Count of Texts', 'sum_sent_count': 'Sentence Count of Summaries',\n",
    "             'text_sent_density': 'Sentence Density of Texts', 'sum_sent_density': 'Sentence Density of Summaries',\n",
    "             'text_stopw_count': 'Stopwords Count of Texts', 'sum_stopw_count': 'Stopwords Count of Summaries',\n",
    "             'ADJ': 'adjective','ADP': 'adposition', 'ADV': 'adverb','CONJ': 'conjunction',\n",
    "             'DET': 'determiner','NOUN': 'noun', 'text_unknown_count': 'Unknown words in Texts',\n",
    "             'sum_unknown_count': 'Unknown words in Summaries',}"
   ]
  },
  {
   "cell_type": "markdown",
   "metadata": {},
   "source": [
    "## Contract Name POS Tagging"
   ]
  },
  {
   "cell_type": "code",
   "execution_count": 107,
   "metadata": {},
   "outputs": [
    {
     "data": {
      "image/png": "[encoded data removed]",
      "text/plain": [
       "<Figure size 1080x720 with 6 Axes>"
      ]
     },
     "metadata": {
      "needs_background": "light"
     },
     "output_type": "display_data"
    }
   ],
   "source": [
    "#content_unknown_count\n",
    "df_contractn[['ADJ','ADP','ADV','CONJ','DET','NOUN']].hist(figsize = (15,10), layout = (3, 2), alpha=0.5)\n",
    "plt.tight_layout()\n",
    "plt.show()"
   ]
  },
  {
   "cell_type": "markdown",
   "metadata": {},
   "source": [
    "### Contract Content POS Tagging"
   ]
  },
  {
   "cell_type": "code",
   "execution_count": 106,
   "metadata": {},
   "outputs": [
    {
     "data": {
      "image/png": "[encoded data removed]",
      "text/plain": [
       "<Figure size 1080x720 with 6 Axes>"
      ]
     },
     "metadata": {
      "needs_background": "light"
     },
     "output_type": "display_data"
    }
   ],
   "source": [
    "#content_unknown_count\n",
    "df_content[['ADJ','ADP','ADV','CONJ','DET','NOUN']].hist(figsize = (15,10), layout = (3, 2), alpha=0.5)\n",
    "plt.tight_layout()\n",
    "plt.show()"
   ]
  },
  {
   "cell_type": "code",
   "execution_count": 39,
   "metadata": {},
   "outputs": [
    {
     "name": "stderr",
     "output_type": "stream",
     "text": [
      "C:\\Users\\ivyha\\AppData\\Local\\Programs\\Python\\Python37\\lib\\site-packages\\seaborn\\distributions.py:2557: FutureWarning: `distplot` is a deprecated function and will be removed in a future version. Please adapt your code to use either `displot` (a figure-level function with similar flexibility) or `histplot` (an axes-level function for histograms).\n",
      "  warnings.warn(msg, FutureWarning)\n",
      "C:\\Users\\ivyha\\AppData\\Local\\Programs\\Python\\Python37\\lib\\site-packages\\seaborn\\distributions.py:2557: FutureWarning: `distplot` is a deprecated function and will be removed in a future version. Please adapt your code to use either `displot` (a figure-level function with similar flexibility) or `histplot` (an axes-level function for histograms).\n",
      "  warnings.warn(msg, FutureWarning)\n",
      "C:\\Users\\ivyha\\AppData\\Local\\Programs\\Python\\Python37\\lib\\site-packages\\seaborn\\distributions.py:2557: FutureWarning: `distplot` is a deprecated function and will be removed in a future version. Please adapt your code to use either `displot` (a figure-level function with similar flexibility) or `histplot` (an axes-level function for histograms).\n",
      "  warnings.warn(msg, FutureWarning)\n",
      "C:\\Users\\ivyha\\AppData\\Local\\Programs\\Python\\Python37\\lib\\site-packages\\seaborn\\distributions.py:2557: FutureWarning: `distplot` is a deprecated function and will be removed in a future version. Please adapt your code to use either `displot` (a figure-level function with similar flexibility) or `histplot` (an axes-level function for histograms).\n",
      "  warnings.warn(msg, FutureWarning)\n",
      "C:\\Users\\ivyha\\AppData\\Local\\Programs\\Python\\Python37\\lib\\site-packages\\seaborn\\distributions.py:2557: FutureWarning: `distplot` is a deprecated function and will be removed in a future version. Please adapt your code to use either `displot` (a figure-level function with similar flexibility) or `histplot` (an axes-level function for histograms).\n",
      "  warnings.warn(msg, FutureWarning)\n",
      "C:\\Users\\ivyha\\AppData\\Local\\Programs\\Python\\Python37\\lib\\site-packages\\seaborn\\distributions.py:2557: FutureWarning: `distplot` is a deprecated function and will be removed in a future version. Please adapt your code to use either `displot` (a figure-level function with similar flexibility) or `histplot` (an axes-level function for histograms).\n",
      "  warnings.warn(msg, FutureWarning)\n"
     ]
    },
    {
     "data": {
      "image/png": "[encoded data removed]",
      "text/plain": [
       "<Figure size 1500x500 with 6 Axes>"
      ]
     },
     "metadata": {
      "needs_background": "light"
     },
     "output_type": "display_data"
    }
   ],
   "source": [
    "# Select the columns to plot: those related to pos taggings\n",
    "plot_vars=np.array([['ADJ','ADP','ADV','CONJ','DET','NOUN']])\n",
    "\n",
    "# Plot a histograms of the variables \n",
    "plot_histograms(df_content, plot_vars, [20, 30, 10, 10, 20, 25], labels_dict, figsize=(15,5))"
   ]
  },
  {
   "cell_type": "markdown",
   "metadata": {},
   "source": [
    "# Check for Unknown words"
   ]
  },
  {
   "cell_type": "markdown",
   "metadata": {},
   "source": [
    "## Create Functions"
   ]
  },
  {
   "cell_type": "code",
   "execution_count": 40,
   "metadata": {},
   "outputs": [],
   "source": [
    "class GloveVectorizer:\n",
    "  '''Class to store the vocabulary of our texts, including mappings between words and its integer representation. \n",
    "     It also contain the embeddings of the vocab to transform every token or integer value\n",
    "  '''\n",
    "  def __init__(self, embedding_file):\n",
    "    ''' Build the embeddings, load them from a file and store it in a list of embedded vectors '''\n",
    "    # load in pre-trained word vectors\n",
    "    print('Loading word vectors...')\n",
    "    word2vec = {}\n",
    "    embedding = []\n",
    "    idx2word = []\n",
    "    with open(embedding_file, encoding='utf8') as f:\n",
    "      # is just a space-separated text file in the format:\n",
    "      # word vec[0] vec[1] vec[2] ...\n",
    "      for line in f:\n",
    "        values = line.split()\n",
    "        word = values[0]\n",
    "        vec = np.asarray(values[1:], dtype='float32')\n",
    "        word2vec[word] = vec\n",
    "        embedding.append(vec)\n",
    "        idx2word.append(word)\n",
    "    print('Found %s word vectors.' % len(word2vec))\n",
    "\n",
    "    # save for later\n",
    "    self.word2vec = word2vec\n",
    "    self.embedding = np.array(embedding)\n",
    "    self.word2idx = {v:k for k,v in enumerate(idx2word)}\n",
    "    self.V, self.D = self.embedding.shape\n",
    "\n",
    "  def fit(self, data):\n",
    "    pass\n",
    "\n",
    "  def transform(self, data):\n",
    "    ''' Include the tokens contained in the data in the vocabulary'''\n",
    "    X = np.zeros((len(data), self.D))\n",
    "    n = 0\n",
    "    emptycount = 0\n",
    "    # For every sentence in the data\n",
    "    for sentence in data:\n",
    "      tokens = sentence.lower().split() # Extract the words\n",
    "      vecs = []\n",
    "      unknowns=0\n",
    "      # For every word in the setence\n",
    "      for word in tokens:\n",
    "        # Include the embedded word in the output list \n",
    "        if word in self.word2vec:\n",
    "          vec = self.word2vec[word]\n",
    "          vecs.append(vec)\n",
    "        else:\n",
    "          unknowns += 1  \n",
    "      # Calculate the embedding of a data as the mean of the embeddings of every word \n",
    "      if len(vecs) > 0:\n",
    "        vecs = np.array(vecs)\n",
    "        X[n] = vecs.mean(axis=0)\n",
    "      else:\n",
    "        emptycount += 1\n",
    "      n += 1\n",
    "    #print(\"Numer of samples with no words found: %s / %s\" % (emptycount, len(data)))\n",
    "    return X\n",
    "\n",
    "  def fit_transform(self, data):\n",
    "    self.fit(data)\n",
    "    return self.transform(data)"
   ]
  },
  {
   "cell_type": "code",
   "execution_count": 41,
   "metadata": {},
   "outputs": [],
   "source": [
    "def replace_punctuation(text, punctuation):\n",
    "    ''' Replace punctuation with whitespace'''\n",
    "    table=str.maketrans(punctuation, ' '*len(punctuation))\n",
    "    return text.translate(table)\n",
    "\n",
    "def unknown_words(text, vocab):\n",
    "    ''' Return the unknow words found in the text, those not found in the embeddings '''\n",
    "    tokens = word_tokenize(text)\n",
    "    unknown = [t for t in tokens if t not in vocab.word2vec]\n",
    "    \n",
    "    return unknown"
   ]
  },
  {
   "cell_type": "markdown",
   "metadata": {},
   "source": [
    "## Run functions"
   ]
  },
  {
   "cell_type": "code",
   "execution_count": 84,
   "metadata": {},
   "outputs": [
    {
     "name": "stdout",
     "output_type": "stream",
     "text": [
      "Loading word vectors...\n",
      "Found 400000 word vectors.\n"
     ]
    }
   ],
   "source": [
    "# Set the filename containing the embeddings\n",
    "glove_file = 'glove.6B.100d.txt'\n",
    "glove_filename = os.path.join(\"\", glove_file)\n",
    "\n",
    "#Load the Glove embeddings\n",
    "vectorizer = GloveVectorizer(glove_filename)"
   ]
  },
  {
   "cell_type": "code",
   "execution_count": 51,
   "metadata": {},
   "outputs": [],
   "source": [
    "# Clean the content to tokenize and extract the unknown words\n",
    "file_clean['contract_unknown_words'] = file_clean['contract'].apply(lambda x : replace_punctuation(x.lower(), string.punctuation))\n",
    "file_clean['contract_unknown_words'] = file_clean['contract_unknown_words'].apply(lambda x : unknown_words(x, vectorizer))\n",
    "# Count the ocurrencies of unknown words in the summary\n",
    "file_clean['contract_unknown_count'] = file_clean['contract_unknown_words'].apply(lambda x : len(x))"
   ]
  },
  {
   "cell_type": "code",
   "execution_count": 52,
   "metadata": {},
   "outputs": [],
   "source": [
    "# Clean the text to tokenize and extract the unknown words\n",
    "file_clean['content_unknown_words'] = file_clean['content'].apply(lambda x : replace_punctuation(x.lower(), string.punctuation))\n",
    "file_clean['content_unknown_words'] = file_clean['content_unknown_words'].apply(lambda x : unknown_words(x, vectorizer))\n",
    "# Count the ocurrencies of unknown words in the text\n",
    "file_clean['content_unknown_count'] = file_clean['content_unknown_words'].apply(lambda x : len(x))"
   ]
  },
  {
   "cell_type": "code",
   "execution_count": 62,
   "metadata": {},
   "outputs": [
    {
     "data": {
      "text/html": [
       "<div>\n",
       "<style scoped>\n",
       "    .dataframe tbody tr th:only-of-type {\n",
       "        vertical-align: middle;\n",
       "    }\n",
       "\n",
       "    .dataframe tbody tr th {\n",
       "        vertical-align: top;\n",
       "    }\n",
       "\n",
       "    .dataframe thead th {\n",
       "        text-align: right;\n",
       "    }\n",
       "</style>\n",
       "<table border=\"1\" class=\"dataframe\">\n",
       "  <thead>\n",
       "    <tr style=\"text-align: right;\">\n",
       "      <th></th>\n",
       "      <th>contract_unknown_count</th>\n",
       "      <th>content_unknown_count</th>\n",
       "    </tr>\n",
       "  </thead>\n",
       "  <tbody>\n",
       "    <tr>\n",
       "      <th>count</th>\n",
       "      <td>509.000000</td>\n",
       "      <td>509.000000</td>\n",
       "    </tr>\n",
       "    <tr>\n",
       "      <th>mean</th>\n",
       "      <td>2.836935</td>\n",
       "      <td>46.070727</td>\n",
       "    </tr>\n",
       "    <tr>\n",
       "      <th>std</th>\n",
       "      <td>1.188417</td>\n",
       "      <td>53.077040</td>\n",
       "    </tr>\n",
       "    <tr>\n",
       "      <th>min</th>\n",
       "      <td>1.000000</td>\n",
       "      <td>0.000000</td>\n",
       "    </tr>\n",
       "    <tr>\n",
       "      <th>25%</th>\n",
       "      <td>2.000000</td>\n",
       "      <td>10.000000</td>\n",
       "    </tr>\n",
       "    <tr>\n",
       "      <th>50%</th>\n",
       "      <td>2.000000</td>\n",
       "      <td>23.000000</td>\n",
       "    </tr>\n",
       "    <tr>\n",
       "      <th>75%</th>\n",
       "      <td>4.000000</td>\n",
       "      <td>64.000000</td>\n",
       "    </tr>\n",
       "    <tr>\n",
       "      <th>max</th>\n",
       "      <td>8.000000</td>\n",
       "      <td>304.000000</td>\n",
       "    </tr>\n",
       "  </tbody>\n",
       "</table>\n",
       "</div>"
      ],
      "text/plain": [
       "       contract_unknown_count  content_unknown_count\n",
       "count              509.000000             509.000000\n",
       "mean                 2.836935              46.070727\n",
       "std                  1.188417              53.077040\n",
       "min                  1.000000               0.000000\n",
       "25%                  2.000000              10.000000\n",
       "50%                  2.000000              23.000000\n",
       "75%                  4.000000              64.000000\n",
       "max                  8.000000             304.000000"
      ]
     },
     "execution_count": 62,
     "metadata": {},
     "output_type": "execute_result"
    }
   ],
   "source": [
    "# Extract the descriptive statistics for the summary variable\n",
    "file_clean[['contract_unknown_count', 'content_unknown_count']].describe()"
   ]
  },
  {
   "cell_type": "code",
   "execution_count": 63,
   "metadata": {},
   "outputs": [
    {
     "data": {
      "text/html": [
       "<div>\n",
       "<style scoped>\n",
       "    .dataframe tbody tr th:only-of-type {\n",
       "        vertical-align: middle;\n",
       "    }\n",
       "\n",
       "    .dataframe tbody tr th {\n",
       "        vertical-align: top;\n",
       "    }\n",
       "\n",
       "    .dataframe thead th {\n",
       "        text-align: right;\n",
       "    }\n",
       "</style>\n",
       "<table border=\"1\" class=\"dataframe\">\n",
       "  <thead>\n",
       "    <tr style=\"text-align: right;\">\n",
       "      <th></th>\n",
       "      <th>contract_unknown_count</th>\n",
       "    </tr>\n",
       "  </thead>\n",
       "  <tbody>\n",
       "    <tr>\n",
       "      <th>0</th>\n",
       "      <td>5</td>\n",
       "    </tr>\n",
       "    <tr>\n",
       "      <th>1</th>\n",
       "      <td>2</td>\n",
       "    </tr>\n",
       "    <tr>\n",
       "      <th>2</th>\n",
       "      <td>2</td>\n",
       "    </tr>\n",
       "    <tr>\n",
       "      <th>3</th>\n",
       "      <td>2</td>\n",
       "    </tr>\n",
       "    <tr>\n",
       "      <th>4</th>\n",
       "      <td>2</td>\n",
       "    </tr>\n",
       "    <tr>\n",
       "      <th>...</th>\n",
       "      <td>...</td>\n",
       "    </tr>\n",
       "    <tr>\n",
       "      <th>505</th>\n",
       "      <td>2</td>\n",
       "    </tr>\n",
       "    <tr>\n",
       "      <th>506</th>\n",
       "      <td>4</td>\n",
       "    </tr>\n",
       "    <tr>\n",
       "      <th>507</th>\n",
       "      <td>2</td>\n",
       "    </tr>\n",
       "    <tr>\n",
       "      <th>508</th>\n",
       "      <td>2</td>\n",
       "    </tr>\n",
       "    <tr>\n",
       "      <th>509</th>\n",
       "      <td>4</td>\n",
       "    </tr>\n",
       "  </tbody>\n",
       "</table>\n",
       "<p>509 rows × 1 columns</p>\n",
       "</div>"
      ],
      "text/plain": [
       "     contract_unknown_count\n",
       "0                         5\n",
       "1                         2\n",
       "2                         2\n",
       "3                         2\n",
       "4                         2\n",
       "..                      ...\n",
       "505                       2\n",
       "506                       4\n",
       "507                       2\n",
       "508                       2\n",
       "509                       4\n",
       "\n",
       "[509 rows x 1 columns]"
      ]
     },
     "execution_count": 63,
     "metadata": {},
     "output_type": "execute_result"
    }
   ],
   "source": [
    "file_clean[['contract_unknown_count']]"
   ]
  },
  {
   "cell_type": "markdown",
   "metadata": {},
   "source": [
    "## Examples of some unknown word"
   ]
  },
  {
   "cell_type": "code",
   "execution_count": 55,
   "metadata": {},
   "outputs": [
    {
     "name": "stdout",
     "output_type": "stream",
     "text": [
      "Unknown words:  ['77030', 'adaptimmune', 'adaptimmune', 'adaptimmune', 'ox14', '4ry', 'adaptimmune', 'adaptimmune', 'witnesseth', 'adaptimmune', 'adaptimmune', 'adaptimmune', 'adaptimmune', 'adaptimmune', 'mdacc', 'workscope', 'workscope', 'adaptimmune', 'workscope', 'workscope', 'adaptimmune', 'adaptimmune', 'adaptimmune', 'adaptimmune', '6002', 'adaptimmune', 'adaptimmune', 'adaptimmune', 'adaptimmune', 'adaptimmune', 'adaptimmune', 'adaptimmune', 'adaptimmune', 'adaptimmune', 'adaptimmune', 'adaptimmune', 'adaptimmune', 'adaptimmune', 'adaptimmune', 'adaptimmune', 'adaptimmune', 'adaptimmune', 'adaptimmune', 'workscope', 'workscope', 'adaptimmune', 'workscope', 'adaptimmune', 'adaptimmune', 'adaptimmune', 'adaptimmune', 'adaptimmune', 'adaptimmune', 'adaptimmune', '§', 'adaptimmune', 'adaptimmune', 'adaptimmune', 'adaptimmune', 'adaptimmune', 'adaptimmune', 'adaptimmune', 'adaptimmune', 'adaptimmune', 'adaptimmune', 'adaptimmune', 'adaptimmune', 'adaptimmune', 'adaptimmune', 'workscope', 'workscope', 'adaptimmune', 'workscope', 'adaptimmune', 'adaptimmune', 'adaptimmune', 'adaptimmune', 'adaptimmune', 'adamptimmune', 'adaptimmune', 'adaptimmune']\n",
      "Unknown words:  ['stremick', 'stremicks', '92703', '94608', 'bellring', 'maov', 'bellring', 'maov', 'bellring', 'maov', 'merchantable', 'bellring', 'japer', 'bellring', 'palletized', 'bellring', 'bellring', '94608', 'bellring', 'bellring', 'withi']\n",
      "Unknown words:  ['hm12', 'wd18', '7jj', 'anvisa', 'exw', 'd7bt', 'notw', 'tand']\n"
     ]
    }
   ],
   "source": [
    "print('Unknown words: ', file_clean['content_unknown_words'].values[5])\n",
    "print('Unknown words: ', file_clean['content_unknown_words'].values[50])\n",
    "print('Unknown words: ', file_clean['content_unknown_words'].values[100])"
   ]
  },
  {
   "cell_type": "markdown",
   "metadata": {},
   "source": [
    "## Plot histogram to observe distribution of unknown words"
   ]
  },
  {
   "cell_type": "code",
   "execution_count": 105,
   "metadata": {},
   "outputs": [
    {
     "data": {
      "image/png": "[encoded data removed]",
      "text/plain": [
       "<Figure size 1080x1080 with 6 Axes>"
      ]
     },
     "metadata": {
      "needs_background": "light"
     },
     "output_type": "display_data"
    }
   ],
   "source": [
    "file_clean[['contract_unknown_count','content_unknown_count']].hist(figsize = (15,15), layout = (3, 2), alpha=0.5)\n",
    "plt.tight_layout()\n",
    "plt.show()"
   ]
  },
  {
   "cell_type": "markdown",
   "metadata": {},
   "source": [
    "# Stops Words and Punctuations"
   ]
  },
  {
   "cell_type": "code",
   "execution_count": 108,
   "metadata": {},
   "outputs": [],
   "source": [
    "stopwords = nltk.corpus.stopwords.words('english')\n",
    "#Define some global variables for text processing\n",
    "punc = string.punctuation\n",
    "\n",
    "def count_stopwords(text, stopwords):\n",
    "    ''' Return the number of stopwords in the text\n",
    "        Input:\n",
    "            - text: string\n",
    "            - stopwords: list of string, containing the stopwords\n",
    "        Output:\n",
    "            - int, number of stopwords in the text argument\n",
    "    '''\n",
    "    word_tokens = word_tokenize(text) #splitta i pezzi\n",
    "    stopwords_x = [w for w in word_tokens if w in stopwords]\n",
    "    \n",
    "    return len(stopwords_x)"
   ]
  },
  {
   "cell_type": "code",
   "execution_count": 109,
   "metadata": {},
   "outputs": [],
   "source": [
    "# Create a new variable containing the number of stopwords in the text\n",
    "file_clean['content_stopw_count'] =  file_clean['content'].apply(lambda x : count_stopwords(x, stopwords))\n",
    "# Create a new variable containing the number of stopwords in the summary\n",
    "file_clean['contract_stopw_count'] =  file_clean['contract'].apply(lambda x : count_stopwords(x, stopwords))\n",
    "\n",
    "# Create a new variable containing the number of punctuations in the text\n",
    "file_clean['content_punc_count'] = file_clean['content'].apply(lambda x : len([a for a in x if a in punc]))\n",
    "# Create a new variable containing the number of punctuations in the summary\n",
    "file_clean['contract_punc_count'] = file_clean['contract'].apply(lambda x : len([a for a in x if a in punc]))"
   ]
  },
  {
   "cell_type": "code",
   "execution_count": 110,
   "metadata": {},
   "outputs": [],
   "source": [
    "def plot_boxplots(data, plot_vars, labels, figsize):\n",
    "    ''' Plot a box-plot of the variables in the plot_vars list using the labels and a size of figesize\n",
    "        Input:\n",
    "        - data: a dataframe, containing the data points to plot\n",
    "        - plot_vars: a (1,x) array, containig the columns to plot\n",
    "        - labels: a dctionary, to map the column names to its label\n",
    "        - figsize: a tuple, indicating the size of the figure\n",
    "    '''\n",
    "    \n",
    "   # We need to identify is this a matrix or a vector\n",
    "    if plot_vars.ndim == 1:\n",
    "        nrows=1\n",
    "        ncols = plot_vars.shape[0]\n",
    "    else:\n",
    "        nrows= plot_vars.shape[0]\n",
    "        ncols = plot_vars.shape[1]\n",
    "\n",
    "    #Create a figure and its axes for the dimensions defined\n",
    "    f, axes = plt.subplots(nrows, ncols, sharey=False, figsize=(15,5))\n",
    "    #For every variable in the plot_vars\n",
    "    for i in range(nrows):\n",
    "        for j in range(ncols):\n",
    "            # If the column name is defined we plot it\n",
    "            if plot_vars[i,j]!=None:\n",
    "                if axes.ndim>1:\n",
    "                    #Set the title\n",
    "                    axes[i,j].set_title(labels[plot_vars[i,j]])\n",
    "                    axes[i,j].grid(True)\n",
    "                    #Set x ticks\n",
    "                    axes[i,j].tick_params(\n",
    "                        axis='x',          # changes apply to the x-axis\n",
    "                        which='both',      # both major and minor ticks are affected\n",
    "                        bottom=False,      # ticks along the bottom edge are off\n",
    "                        top=False,         # ticks along the top edge are off\n",
    "                        labelbottom=False)\n",
    "                    # Plot a boxplot for the column in plot_vars\n",
    "                    axes[i,j].boxplot(data[plot_vars[i,j]])\n",
    "                else:\n",
    "                    #Set the title\n",
    "                    axes[j].set_title(labels[plot_vars[i,j]])\n",
    "                    axes[j].grid(True)\n",
    "                    #Set x ticks\n",
    "                    axes[j].tick_params(\n",
    "                        axis='x',          # changes apply to the x-axis\n",
    "                        which='both',      # both major and minor ticks are affected\n",
    "                        bottom=False,      # ticks along the bottom edge are off\n",
    "                        top=False,         # ticks along the top edge are off\n",
    "                        labelbottom=False)\n",
    "                    # Plot a boxplot for the column in plot_vars\n",
    "                    axes[j].boxplot(data[plot_vars[i,j]])\n",
    "                \n",
    "            else:\n",
    "                axes[i,j].set_visible(False)\n",
    "    # Adjust the plots for a better visualization\n",
    "    f.tight_layout()\n",
    "    plt.show() \n",
    "\n",
    "\n",
    "def get_cmap(n, name='hsv'):\n",
    "    '''Returns a function that maps each index in 0, 1, ..., n-1 to a distinct \n",
    "    RGB color; the keyword argument name must be a standard mpl colormap name.'''\n",
    "    return plt.cm.get_cmap(name, n)\n",
    "\n",
    "def plot_histograms(data, plot_vars, xlim, labels, figsize):\n",
    "    ''' Function to plot the histograms of the variables in plot_vars\n",
    "        Input:\n",
    "        - data: a dataframe, containing the data points to plot\n",
    "        - plot_vars: a (1,x) array, containig the columns to plot\n",
    "        - xlim: a list, define the max x value for every column to plot\n",
    "        - labels: a dctionary, to map the column names to its label\n",
    "        - figsize: a tuple, indicating the size of the figure\n",
    "    '''\n",
    "    #Set some parameters\n",
    "    kwargs = dict(hist_kws={'alpha':.7}, kde_kws={'linewidth':2})\n",
    "\n",
    "    #cmap = get_cmap(plot_vars.shape[1])\n",
    "    # Create the figure and axes\n",
    "    fig, axes = plt.subplots(plot_vars.shape[0], plot_vars.shape[1], figsize=figsize, sharey=False, dpi=100)\n",
    "    #For every variable in plot_vars\n",
    "    for i in range(plot_vars.shape[1]):\n",
    "        # Plot the histogram \n",
    "        sns.distplot(data[plot_vars[0,i]] , color=(random.uniform(0, 1), random.uniform(0, 1), random.uniform(0, 1),), \n",
    "                     ax=axes[i], axlabel=labels[plot_vars[0,i]], bins= 50, norm_hist = True)\n",
    "        #For a better visualization we set the x limit\n",
    "        axes[i].set_xlim(left=0, right=xlim[i])\n",
    "        \n",
    "    fig.tight_layout()"
   ]
  },
  {
   "cell_type": "code",
   "execution_count": 121,
   "metadata": {},
   "outputs": [
    {
     "data": {
      "text/plain": [
       "<AxesSubplot:>"
      ]
     },
     "execution_count": 121,
     "metadata": {},
     "output_type": "execute_result"
    },
    {
     "data": {
      "image/png": "[encoded data removed]",
      "text/plain": [
       "<Figure size 720x720 with 1 Axes>"
      ]
     },
     "metadata": {
      "needs_background": "light"
     },
     "output_type": "display_data"
    }
   ],
   "source": [
    "file_clean.boxplot(column = ['content_stopw_count'], figsize = (10,10))\n",
    "\n"
   ]
  },
  {
   "cell_type": "code",
   "execution_count": 122,
   "metadata": {},
   "outputs": [
    {
     "data": {
      "text/plain": [
       "<AxesSubplot:>"
      ]
     },
     "execution_count": 122,
     "metadata": {},
     "output_type": "execute_result"
    },
    {
     "data": {
      "image/png": "[encoded data removed]",
      "text/plain": [
       "<Figure size 720x720 with 1 Axes>"
      ]
     },
     "metadata": {
      "needs_background": "light"
     },
     "output_type": "display_data"
    }
   ],
   "source": [
    "file_clean.boxplot(column = ['contract_stopw_count'], figsize = (10,10))\n"
   ]
  },
  {
   "cell_type": "code",
   "execution_count": 123,
   "metadata": {},
   "outputs": [
    {
     "data": {
      "text/plain": [
       "<AxesSubplot:>"
      ]
     },
     "execution_count": 123,
     "metadata": {},
     "output_type": "execute_result"
    },
    {
     "data": {
      "image/png": "[encoded data removed]",
      "text/plain": [
       "<Figure size 720x720 with 1 Axes>"
      ]
     },
     "metadata": {
      "needs_background": "light"
     },
     "output_type": "display_data"
    }
   ],
   "source": [
    "file_clean.boxplot(column = ['content_punc_count'], figsize = (10,10))"
   ]
  },
  {
   "cell_type": "code",
   "execution_count": 124,
   "metadata": {},
   "outputs": [
    {
     "data": {
      "text/plain": [
       "<AxesSubplot:>"
      ]
     },
     "execution_count": 124,
     "metadata": {},
     "output_type": "execute_result"
    },
    {
     "data": {
      "image/png": "[encoded data removed]",
      "text/plain": [
       "<Figure size 720x720 with 1 Axes>"
      ]
     },
     "metadata": {
      "needs_background": "light"
     },
     "output_type": "display_data"
    }
   ],
   "source": [
    "\n",
    "file_clean.boxplot(column = ['contract_punc_count'], figsize = (10,10))"
   ]
  },
  {
   "cell_type": "markdown",
   "metadata": {},
   "source": [
    "# Remove Punctuation and stopwords"
   ]
  },
  {
   "cell_type": "code",
   "execution_count": 126,
   "metadata": {},
   "outputs": [],
   "source": [
    "def clean_text(text, stopwords):\n",
    "    ''' Apply some basic techniques for cleaning a text for an analysis of words\n",
    "    \n",
    "    Input:\n",
    "       - text: text to be cleaned\n",
    "    Output:\n",
    "       - result: cleaned text\n",
    "    '''\n",
    "    # Lowercase the text\n",
    "    text = text.lower()\n",
    "    # Remove any  non-alphabet characters including digits\n",
    "    pattern =  r'[^a-zA-Z\\s]'    \n",
    "    text = re.sub(pattern, '', text)\n",
    "    # Remove punctuation\n",
    "    #table=str.maketrans('','',string.punctuation)\n",
    "    #text = text.translate(table)\n",
    "    # Remove the stopwords    \n",
    "    tokens = nltk.word_tokenize(text)    \n",
    "    tokens = [token.strip() for token in tokens]    \n",
    "    text = ' '.join([token for token in tokens if token not in stopwords])\n",
    "    return text"
   ]
  },
  {
   "cell_type": "code",
   "execution_count": 150,
   "metadata": {},
   "outputs": [],
   "source": [
    "c_contract = []\n",
    "c_content = []\n",
    "\n",
    "for index,row in file_clean.iterrows():\n",
    "    c_contract.append(clean_text(row['contract'], stopwords))\n",
    "    c_content.append(clean_text(row['content'], stopwords))\n",
    "    #print(clean_text(row['contract'], stopwords))\n",
    "\n",
    "#file_new2 = pd.DataFrame()\n",
    "file_clean['contract_clean'] = c_contract\n",
    "file_clean['content_clean'] = c_content"
   ]
  },
  {
   "cell_type": "code",
   "execution_count": 151,
   "metadata": {},
   "outputs": [
    {
     "data": {
      "text/html": [
       "<div>\n",
       "<style scoped>\n",
       "    .dataframe tbody tr th:only-of-type {\n",
       "        vertical-align: middle;\n",
       "    }\n",
       "\n",
       "    .dataframe tbody tr th {\n",
       "        vertical-align: top;\n",
       "    }\n",
       "\n",
       "    .dataframe thead th {\n",
       "        text-align: right;\n",
       "    }\n",
       "</style>\n",
       "<table border=\"1\" class=\"dataframe\">\n",
       "  <thead>\n",
       "    <tr style=\"text-align: right;\">\n",
       "      <th></th>\n",
       "      <th>contract</th>\n",
       "      <th>content</th>\n",
       "      <th>content_unknown_words</th>\n",
       "      <th>content_unknown_count</th>\n",
       "      <th>contract_unknown_words</th>\n",
       "      <th>contract_unknown_count</th>\n",
       "      <th>content_stopw_count</th>\n",
       "      <th>contract_stopw_count</th>\n",
       "      <th>content_punc_count</th>\n",
       "      <th>contract_punc_count</th>\n",
       "      <th>contract_clean</th>\n",
       "      <th>content_clean</th>\n",
       "    </tr>\n",
       "  </thead>\n",
       "  <tbody>\n",
       "    <tr>\n",
       "      <th>0</th>\n",
       "      <td>2ThemartComInc_19990826_10-12G_EX-10.10_670028...</td>\n",
       "      <td>co-branding and advertising agreement this co-...</td>\n",
       "      <td>[94402, 2themart, 18301, 92612, 2themart, 2the...</td>\n",
       "      <td>86.0</td>\n",
       "      <td>[2themartcominc, 19990826, 6700288, brandingag...</td>\n",
       "      <td>5.0</td>\n",
       "      <td>1794</td>\n",
       "      <td>0</td>\n",
       "      <td>990</td>\n",
       "      <td>14</td>\n",
       "      <td>themartcomincgexexcobrandingagreementagencyagr...</td>\n",
       "      <td>cobranding advertising agreement cobranding ad...</td>\n",
       "    </tr>\n",
       "    <tr>\n",
       "      <th>1</th>\n",
       "      <td>ABILITYINC_06_15_2020-EX-4.25-SERVICESAGREEMEN...</td>\n",
       "      <td>exhibit 4.25 information in this exhibit ident...</td>\n",
       "      <td>[telcostar, setoff, esign, docusign, telcostar...</td>\n",
       "      <td>12.0</td>\n",
       "      <td>[abilityinc, servicesagreement]</td>\n",
       "      <td>2.0</td>\n",
       "      <td>1825</td>\n",
       "      <td>0</td>\n",
       "      <td>821</td>\n",
       "      <td>8</td>\n",
       "      <td>abilityincexservicesagreementtxt</td>\n",
       "      <td>exhibit information exhibit identified confide...</td>\n",
       "    </tr>\n",
       "    <tr>\n",
       "      <th>2</th>\n",
       "      <td>ACCELERATEDTECHNOLOGIESHOLDINGCORP_04_24_2003-...</td>\n",
       "      <td>exhibit 10.13 joint venture agreement collecti...</td>\n",
       "      <td>[ccgi, pvss, mightycell, mightycell, 18901, pv...</td>\n",
       "      <td>18.0</td>\n",
       "      <td>[acceleratedtechnologiesholdingcorp, jointvent...</td>\n",
       "      <td>2.0</td>\n",
       "      <td>863</td>\n",
       "      <td>0</td>\n",
       "      <td>488</td>\n",
       "      <td>8</td>\n",
       "      <td>acceleratedtechnologiesholdingcorpexjointventu...</td>\n",
       "      <td>exhibit joint venture agreement collectible co...</td>\n",
       "    </tr>\n",
       "    <tr>\n",
       "      <th>3</th>\n",
       "      <td>ACCURAYINC_09_01_2010-EX-10.31-DISTRIBUTORAGRE...</td>\n",
       "      <td>exhibit 10.31 pursuant to 17 c.f.r. § 240.24b-...</td>\n",
       "      <td>[§, accuray, accuray, 94089, accuray, accuray,...</td>\n",
       "      <td>176.0</td>\n",
       "      <td>[accurayinc, distributoragreement]</td>\n",
       "      <td>2.0</td>\n",
       "      <td>2100</td>\n",
       "      <td>0</td>\n",
       "      <td>903</td>\n",
       "      <td>8</td>\n",
       "      <td>accurayincexdistributoragreementtxt</td>\n",
       "      <td>exhibit pursuant cfr b confidential informatio...</td>\n",
       "    </tr>\n",
       "    <tr>\n",
       "      <th>4</th>\n",
       "      <td>ADAMSGOLFINC_03_21_2005-EX-10.17-ENDORSEMENTAG...</td>\n",
       "      <td>redacted copy confidential treatment requested...</td>\n",
       "      <td>[witnesseth, spga, proration, spga, spga, spga...</td>\n",
       "      <td>14.0</td>\n",
       "      <td>[adamsgolfinc, endorsementagreement]</td>\n",
       "      <td>2.0</td>\n",
       "      <td>1439</td>\n",
       "      <td>0</td>\n",
       "      <td>1124</td>\n",
       "      <td>8</td>\n",
       "      <td>adamsgolfincexendorsementagreementtxt</td>\n",
       "      <td>redacted copy confidential treatment requested...</td>\n",
       "    </tr>\n",
       "    <tr>\n",
       "      <th>...</th>\n",
       "      <td>...</td>\n",
       "      <td>...</td>\n",
       "      <td>...</td>\n",
       "      <td>...</td>\n",
       "      <td>...</td>\n",
       "      <td>...</td>\n",
       "      <td>...</td>\n",
       "      <td>...</td>\n",
       "      <td>...</td>\n",
       "      <td>...</td>\n",
       "      <td>...</td>\n",
       "      <td>...</td>\n",
       "    </tr>\n",
       "    <tr>\n",
       "      <th>505</th>\n",
       "      <td>ZEBRATECHNOLOGIESCORP_04_16_2014-EX-10.1-INTEL...</td>\n",
       "      <td>exhibit 10.1 intellectual property agreement t...</td>\n",
       "      <td>[§101, §101, reexaminations, reissuances, subl...</td>\n",
       "      <td>25.0</td>\n",
       "      <td>[zebratechnologiescorp, intellectualpropertyag...</td>\n",
       "      <td>2.0</td>\n",
       "      <td>2075</td>\n",
       "      <td>0</td>\n",
       "      <td>1628</td>\n",
       "      <td>8</td>\n",
       "      <td>zebratechnologiescorpexintellectualpropertyagr...</td>\n",
       "      <td>exhibit intellectual property agreement intell...</td>\n",
       "    </tr>\n",
       "    <tr>\n",
       "      <th>506</th>\n",
       "      <td>ZogenixInc_20190509_10-Q_EX-10.2_11663313_EX-1...</td>\n",
       "      <td>exhibit 10.2 certain information (indicated by...</td>\n",
       "      <td>[zogenix, shinyaku, 105216871, zogenix, noncli...</td>\n",
       "      <td>107.0</td>\n",
       "      <td>[zogenixinc, 20190509, 11663313, distributorag...</td>\n",
       "      <td>4.0</td>\n",
       "      <td>1809</td>\n",
       "      <td>0</td>\n",
       "      <td>1471</td>\n",
       "      <td>12</td>\n",
       "      <td>zogenixincqexexdistributoragreementtxt</td>\n",
       "      <td>exhibit certain information indicated asterisk...</td>\n",
       "    </tr>\n",
       "    <tr>\n",
       "      <th>507</th>\n",
       "      <td>ZONDWINDSYSTEMPARTNERSLTDSERIES85-B_04_03_2006...</td>\n",
       "      <td>exhibit 10.17(b) ---------------- first amendm...</td>\n",
       "      <td>[toyowest, sp11, sp12, sp13, sp14, sp21, toyow...</td>\n",
       "      <td>13.0</td>\n",
       "      <td>[zondwindsystempartnersltdseries85, management...</td>\n",
       "      <td>2.0</td>\n",
       "      <td>442</td>\n",
       "      <td>0</td>\n",
       "      <td>1330</td>\n",
       "      <td>8</td>\n",
       "      <td>zondwindsystempartnersltdseriesbexmanagementan...</td>\n",
       "      <td>exhibit b first amendment sagebrush management...</td>\n",
       "    </tr>\n",
       "    <tr>\n",
       "      <th>508</th>\n",
       "      <td>ZoundsHearing,Inc.-MANUFACTURINGDESIGNMARKETIN...</td>\n",
       "      <td>exhibit 10.1 manufacturing, design and marketi...</td>\n",
       "      <td>[innerscope, cancellable, nonconformities, mer...</td>\n",
       "      <td>6.0</td>\n",
       "      <td>[zoundshearing, manufacturingdesignmarketingag...</td>\n",
       "      <td>2.0</td>\n",
       "      <td>1955</td>\n",
       "      <td>0</td>\n",
       "      <td>872</td>\n",
       "      <td>4</td>\n",
       "      <td>zoundshearingincmanufacturingdesignmarketingag...</td>\n",
       "      <td>exhibit manufacturing design marketing agreeme...</td>\n",
       "    </tr>\n",
       "    <tr>\n",
       "      <th>509</th>\n",
       "      <td>ZtoExpressCaymanInc_20160930_F-1_EX-10.10_9752...</td>\n",
       "      <td>exhibit 10.10 road transportation agreement pa...</td>\n",
       "      <td>[zto, huazhi, twon, tonglu, tongze, yinchun, t...</td>\n",
       "      <td>26.0</td>\n",
       "      <td>[ztoexpresscaymaninc, 20160930, 9752871, trans...</td>\n",
       "      <td>4.0</td>\n",
       "      <td>515</td>\n",
       "      <td>0</td>\n",
       "      <td>297</td>\n",
       "      <td>12</td>\n",
       "      <td>ztoexpresscaymanincfexextransportationagreemen...</td>\n",
       "      <td>exhibit road transportation agreement party sh...</td>\n",
       "    </tr>\n",
       "  </tbody>\n",
       "</table>\n",
       "<p>509 rows × 12 columns</p>\n",
       "</div>"
      ],
      "text/plain": [
       "                                              contract  \\\n",
       "0    2ThemartComInc_19990826_10-12G_EX-10.10_670028...   \n",
       "1    ABILITYINC_06_15_2020-EX-4.25-SERVICESAGREEMEN...   \n",
       "2    ACCELERATEDTECHNOLOGIESHOLDINGCORP_04_24_2003-...   \n",
       "3    ACCURAYINC_09_01_2010-EX-10.31-DISTRIBUTORAGRE...   \n",
       "4    ADAMSGOLFINC_03_21_2005-EX-10.17-ENDORSEMENTAG...   \n",
       "..                                                 ...   \n",
       "505  ZEBRATECHNOLOGIESCORP_04_16_2014-EX-10.1-INTEL...   \n",
       "506  ZogenixInc_20190509_10-Q_EX-10.2_11663313_EX-1...   \n",
       "507  ZONDWINDSYSTEMPARTNERSLTDSERIES85-B_04_03_2006...   \n",
       "508  ZoundsHearing,Inc.-MANUFACTURINGDESIGNMARKETIN...   \n",
       "509  ZtoExpressCaymanInc_20160930_F-1_EX-10.10_9752...   \n",
       "\n",
       "                                               content  \\\n",
       "0    co-branding and advertising agreement this co-...   \n",
       "1    exhibit 4.25 information in this exhibit ident...   \n",
       "2    exhibit 10.13 joint venture agreement collecti...   \n",
       "3    exhibit 10.31 pursuant to 17 c.f.r. § 240.24b-...   \n",
       "4    redacted copy confidential treatment requested...   \n",
       "..                                                 ...   \n",
       "505  exhibit 10.1 intellectual property agreement t...   \n",
       "506  exhibit 10.2 certain information (indicated by...   \n",
       "507  exhibit 10.17(b) ---------------- first amendm...   \n",
       "508  exhibit 10.1 manufacturing, design and marketi...   \n",
       "509  exhibit 10.10 road transportation agreement pa...   \n",
       "\n",
       "                                 content_unknown_words  content_unknown_count  \\\n",
       "0    [94402, 2themart, 18301, 92612, 2themart, 2the...                   86.0   \n",
       "1    [telcostar, setoff, esign, docusign, telcostar...                   12.0   \n",
       "2    [ccgi, pvss, mightycell, mightycell, 18901, pv...                   18.0   \n",
       "3    [§, accuray, accuray, 94089, accuray, accuray,...                  176.0   \n",
       "4    [witnesseth, spga, proration, spga, spga, spga...                   14.0   \n",
       "..                                                 ...                    ...   \n",
       "505  [§101, §101, reexaminations, reissuances, subl...                   25.0   \n",
       "506  [zogenix, shinyaku, 105216871, zogenix, noncli...                  107.0   \n",
       "507  [toyowest, sp11, sp12, sp13, sp14, sp21, toyow...                   13.0   \n",
       "508  [innerscope, cancellable, nonconformities, mer...                    6.0   \n",
       "509  [zto, huazhi, twon, tonglu, tongze, yinchun, t...                   26.0   \n",
       "\n",
       "                                contract_unknown_words  \\\n",
       "0    [2themartcominc, 19990826, 6700288, brandingag...   \n",
       "1                      [abilityinc, servicesagreement]   \n",
       "2    [acceleratedtechnologiesholdingcorp, jointvent...   \n",
       "3                   [accurayinc, distributoragreement]   \n",
       "4                 [adamsgolfinc, endorsementagreement]   \n",
       "..                                                 ...   \n",
       "505  [zebratechnologiescorp, intellectualpropertyag...   \n",
       "506  [zogenixinc, 20190509, 11663313, distributorag...   \n",
       "507  [zondwindsystempartnersltdseries85, management...   \n",
       "508  [zoundshearing, manufacturingdesignmarketingag...   \n",
       "509  [ztoexpresscaymaninc, 20160930, 9752871, trans...   \n",
       "\n",
       "     contract_unknown_count  content_stopw_count  contract_stopw_count  \\\n",
       "0                       5.0                 1794                     0   \n",
       "1                       2.0                 1825                     0   \n",
       "2                       2.0                  863                     0   \n",
       "3                       2.0                 2100                     0   \n",
       "4                       2.0                 1439                     0   \n",
       "..                      ...                  ...                   ...   \n",
       "505                     2.0                 2075                     0   \n",
       "506                     4.0                 1809                     0   \n",
       "507                     2.0                  442                     0   \n",
       "508                     2.0                 1955                     0   \n",
       "509                     4.0                  515                     0   \n",
       "\n",
       "     content_punc_count  contract_punc_count  \\\n",
       "0                   990                   14   \n",
       "1                   821                    8   \n",
       "2                   488                    8   \n",
       "3                   903                    8   \n",
       "4                  1124                    8   \n",
       "..                  ...                  ...   \n",
       "505                1628                    8   \n",
       "506                1471                   12   \n",
       "507                1330                    8   \n",
       "508                 872                    4   \n",
       "509                 297                   12   \n",
       "\n",
       "                                        contract_clean  \\\n",
       "0    themartcomincgexexcobrandingagreementagencyagr...   \n",
       "1                     abilityincexservicesagreementtxt   \n",
       "2    acceleratedtechnologiesholdingcorpexjointventu...   \n",
       "3                  accurayincexdistributoragreementtxt   \n",
       "4                adamsgolfincexendorsementagreementtxt   \n",
       "..                                                 ...   \n",
       "505  zebratechnologiescorpexintellectualpropertyagr...   \n",
       "506             zogenixincqexexdistributoragreementtxt   \n",
       "507  zondwindsystempartnersltdseriesbexmanagementan...   \n",
       "508  zoundshearingincmanufacturingdesignmarketingag...   \n",
       "509  ztoexpresscaymanincfexextransportationagreemen...   \n",
       "\n",
       "                                         content_clean  \n",
       "0    cobranding advertising agreement cobranding ad...  \n",
       "1    exhibit information exhibit identified confide...  \n",
       "2    exhibit joint venture agreement collectible co...  \n",
       "3    exhibit pursuant cfr b confidential informatio...  \n",
       "4    redacted copy confidential treatment requested...  \n",
       "..                                                 ...  \n",
       "505  exhibit intellectual property agreement intell...  \n",
       "506  exhibit certain information indicated asterisk...  \n",
       "507  exhibit b first amendment sagebrush management...  \n",
       "508  exhibit manufacturing design marketing agreeme...  \n",
       "509  exhibit road transportation agreement party sh...  \n",
       "\n",
       "[509 rows x 12 columns]"
      ]
     },
     "execution_count": 151,
     "metadata": {},
     "output_type": "execute_result"
    }
   ],
   "source": [
    "file_clean"
   ]
  }
 ],
 "metadata": {
  "interpreter": {
   "hash": "097a94cc1bfc5a0a380b63d1eb45dc603bb0f63840061a2276c4020d01d7c102"
  },
  "kernelspec": {
   "display_name": "Python 3.7.0 64-bit",
   "language": "python",
   "name": "python3"
  },
  "language_info": {
   "codemirror_mode": {
    "name": "ipython",
    "version": 3
   },
   "file_extension": ".py",
   "mimetype": "text/x-python",
   "name": "python",
   "nbconvert_exporter": "python",
   "pygments_lexer": "ipython3",
   "version": "3.7.0"
  },
  "orig_nbformat": 4
 },
 "nbformat": 4,
 "nbformat_minor": 2
}
