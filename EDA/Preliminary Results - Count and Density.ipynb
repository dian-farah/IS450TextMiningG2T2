{
 "cells": [
  {
   "cell_type": "markdown",
   "metadata": {},
   "source": [
    "### Importing relevant libraries"
   ]
  },
  {
   "cell_type": "code",
   "execution_count": 1,
   "metadata": {},
   "outputs": [
    {
     "name": "stderr",
     "output_type": "stream",
     "text": [
      "C:\\Users\\dianfarahr.2019\\AppData\\Local\\Continuum\\anaconda3\\lib\\site-packages\\pandas\\compat\\_optional.py:138: UserWarning: Pandas requires version '2.7.0' or newer of 'numexpr' (version '2.6.9' currently installed).\n",
      "  warnings.warn(msg, UserWarning)\n",
      "C:\\Users\\dianfarahr.2019\\AppData\\Local\\Continuum\\anaconda3\\lib\\site-packages\\statsmodels\\tools\\_testing.py:19: FutureWarning: pandas.util.testing is deprecated. Use the functions in the public API at pandas.testing instead.\n",
      "  import pandas.util.testing as tm\n"
     ]
    }
   ],
   "source": [
    "import nltk\n",
    "from nltk import tokenize\n",
    "from nltk.corpus import PlaintextCorpusReader, stopwords\n",
    "import os\n",
    "import re\n",
    "import pandas as pd\n",
    "import matplotlib.pyplot as plt\n",
    "%matplotlib inline\n",
    "import numpy as np\n",
    "import seaborn as sns\n",
    "import random\n",
    "from collections import  Counter, defaultdict"
   ]
  },
  {
   "cell_type": "markdown",
   "metadata": {},
   "source": [
    "### Loading Legal txt Documents"
   ]
  },
  {
   "cell_type": "code",
   "execution_count": 9,
   "metadata": {},
   "outputs": [
    {
     "data": {
      "text/plain": [
       "['2ThemartComInc_19990826_10-12G_EX-10.10_6700288_EX-10.10_Co-BrandingAgreement_AgencyAgreement.txt',\n",
       " 'ABILITYINC_06_15_2020-EX-4.25-SERVICESAGREEMENT.txt',\n",
       " 'ACCELERATEDTECHNOLOGIESHOLDINGCORP_04_24_2003-EX-10.13-JOINTVENTUREAGREEMENT.txt',\n",
       " 'ACCURAYINC_09_01_2010-EX-10.31-DISTRIBUTORAGREEMENT.txt',\n",
       " 'ADAMSGOLFINC_03_21_2005-EX-10.17-ENDORSEMENTAGREEMENT.txt',\n",
       " 'ADAPTIMMUNETHERAPEUTICSPLC_04_06_2017-EX-10.11-STRATEGICALLIANCEAGREEMENT.txt',\n",
       " 'ADIANUTRITION,INC_04_01_2005-EX-10.D2-RESELLERAGREEMENT.txt',\n",
       " 'ADMABioManufacturing,LLC-Amendment#3toManufacturingAgreement.txt',\n",
       " 'ADUROBIOTECH,INC_06_02_2020-EX-10.7-CONSULTINGAGREEMENT(1).txt',\n",
       " 'ADUROBIOTECH,INC_06_02_2020-EX-10.7-CONSULTINGAGREEMENT.txt',\n",
       " 'AFSALABANCORPINC_08_01_1996-EX-1.1-AGENCYAGREEMENT.txt',\n",
       " 'AIRSPANNETWORKSINC_04_11_2000-EX-10.5-DistributorAgreement.txt',\n",
       " 'AIRTECHINTERNATIONALGROUPINC_05_08_2000-EX-10.4-FRANCHISEAGREEMENT.txt',\n",
       " 'ALAMOGORDOFINANCIALCORP_12_16_1999-EX-1-AGENCYAGREEMENT.txt',\n",
       " 'ALCOSTORESINC_12_14_2005-EX-10.26-AGENCYAGREEMENT.txt',\n",
       " 'ALLIANCEBANCORPINCOFPENNSYLVANIA_10_18_2006-EX-1.2-AGENCYAGREEMENT.txt',\n",
       " 'ALLISONTRANSMISSIONHOLDINGSINC_12_15_2014-EX-99.1-COOPERATIONAGREEMENT.txt',\n",
       " 'AMBASSADOREYEWEARGROUPINC_11_17_1997-EX-10.28-ENDORSEMENTAGREEMENT.txt',\n",
       " 'AMERICANPHYSICIANSCAPITALINC_03_31_2003-EX-10.26-AGENCYAGREEMENT.txt',\n",
       " 'AMERICASSHOPPINGMALLINC_12_10_1999-EX-10.2-SITEDEVELOPMENTANDHOSTINGAGREEMENT.txt',\n",
       " 'ANIXABIOSCIENCESINC_06_09_2020-EX-10.1-COLLABORATIONAGREEMENT.txt',\n",
       " 'ARMSTRONGFLOORING,INC_01_07_2019-EX-10.2-INTELLECTUALPROPERTYAGREEMENT.txt',\n",
       " 'ASHWORTHINC_01_29_1999-EX-10.(D)-PROMOTIONAGREEMENTANDNANTZCOMMUNICATIONS,INC..txt',\n",
       " 'ASIANDRAGONGROUPINC_08_11_2005-EX-10.5-ResellerAgreement.txt',\n",
       " 'ASPIRITYHOLDINGSLLC_05_07_2012-EX-10.6-OUTSOURCINGAGREEMENT.txt',\n",
       " 'ATENTOSA_07_06_2020-EX-99.1-JOINTFILINGAGREEMENT.txt',\n",
       " 'ATHENSBANCSHARESCORP_11_02_2009-EX-1.2-AGENCYAGREEMENT,2009.txt',\n",
       " 'ATMOSENERGYCORP_11_22_2002-EX-10.17-TRANSPORTATIONSERVICEAGREEMENT.txt',\n",
       " 'AULAMERICANUNITTRUST_04_24_2020-EX-99.8.77-SERVICINGAGREEMENT.txt',\n",
       " 'AURASYSTEMSINC_06_16_2010-EX-10.25-STRATEGICALLIANCEAGREEMENT.txt',\n",
       " 'AgapeAtpCorp_20191202_10-KA_EX-10.1_11911128_EX-10.1_SupplyAgreement.txt',\n",
       " 'AimmuneTherapeuticsInc_20200205_8-K_EX-10.3_11967170_EX-10.3_DevelopmentAgreement.txt',\n",
       " 'AlliedEsportsEntertainmentInc_20190815_8-K_EX-10.19_11788293_EX-10.19_ContentLicenseAgreement.txt',\n",
       " 'AlliedEsportsEntertainmentInc_20190815_8-K_EX-10.34_11788308_EX-10.34_SponsorshipAgreement.txt',\n",
       " 'AntaresPharma,Inc.-ManufacturingAgreement.txt',\n",
       " 'ApolloEndosurgery-ManufacturingandSupplyAgreement.txt',\n",
       " 'ArcGroupInc_20171211_8-K_EX-10.1_10976103_EX-10.1_SponsorshipAgreement.txt',\n",
       " 'ArcaUsTreasuryFund_20200207_N-2_EX-99.K5_11971930_EX-99.K5_DevelopmentAgreement.txt',\n",
       " 'ArconicRolledProductsCorp_20191217_10-12B_EX-2.7_11923804_EX-2.7_TrademarkLicenseAgreement.txt',\n",
       " 'ArmstrongFlooringInc_20190107_8-K_EX-10.2_11471795_EX-10.2_IntellectualPropertyAgreement.txt',\n",
       " 'ArrayBioPharmaInc.-LICENSE,DEVELOPMENTANDCOMMERCIALIZATIONAGREEMENT.txt',\n",
       " 'ArtaraTherapeuticsInc_20200110_8-K_EX-10.5_11943350_EX-10.5_LicenseAgreement.txt',\n",
       " 'AtnInternationalInc_20191108_10-Q_EX-10.1_11878541_EX-10.1_MaintenanceAgreement.txt',\n",
       " 'AudibleInc_20001113_10-Q_EX-10.32_2599586_EX-10.32_Co-BrandingAgreement_MarketingAgreement_InvestmentDistributionAgreement.txt',\n",
       " 'AzulSa_20170303_F-1A_EX-10.3_9943903_EX-10.3_MaintenanceAgreement1.txt',\n",
       " 'AzulSa_20170303_F-1A_EX-10.3_9943903_EX-10.3_MaintenanceAgreement2.txt',\n",
       " 'BANGIINC_05_25_2005-EX-10-PremiumManagedHostingAgreement.txt',\n",
       " 'BANUESTRAFINANCIALCORP_09_08_2006-EX-10.16-AGENCYAGREEMENT.txt',\n",
       " 'BELLICUMPHARMACEUTICALS,INC_05_07_2019-EX-10.1-SupplyAgreement.txt',\n",
       " 'BELLRINGBRANDS,INC_02_07_2020-EX-10.18-MASTERSUPPLYAGREEMENT.txt',\n",
       " 'BERKELEYLIGHTS,INC_06_26_2020-EX-10.12-COLLABORATIONAGREEMENT.txt',\n",
       " 'BEYONDCOMCORP_08_03_2000-EX-10.2-CO-HOSTINGAGREEMENT.txt',\n",
       " 'BICYCLETHERAPEUTICSPLC_03_10_2020-EX-10.11-SERVICEAGREEMENT.txt',\n",
       " 'BIOAMBERINC_04_10_2013-EX-10.34-DEVELOPMENTAGREEMENT(1).txt',\n",
       " 'BIOAMBERINC_04_10_2013-EX-10.34-DEVELOPMENTAGREEMENT-FirstAmendment.txt',\n",
       " 'BIOCEPTINC_08_19_2013-EX-10-COLLABORATIONAGREEMENT.txt',\n",
       " 'BIOFRONTERAAG_04_29_2019-EX-4.17-SUPPLYAGREEMENT.txt',\n",
       " 'BIOPURECORP_06_30_1999-EX-10.13-AGENCYAGREEMENT.txt',\n",
       " 'BLACKBOXSTOCKSINC_08_05_2014-EX-10.1-DISTRIBUTORAGREEMENT.txt',\n",
       " 'BLACKROCKMUNIHOLDINGSINVESTMENTQUALITYFUND_04_07_2020-EX-99.01-JOINTFILINGAGREEMENT.txt',\n",
       " 'BLACKSTONEGSOLONG-SHORTCREDITINCOMEFUND_05_11_2020-EX-99.(K)(1)-SERVICEAGREEMENT.txt',\n",
       " 'BLUEFLYINC_03_27_2002-EX-10.27-e-businessHostingAgreement.txt',\n",
       " 'BLUEHILLSBANCORP,INC_05_20_2014-EX-1.1-AGENCYAGREEMENT.txt',\n",
       " 'BLUEROCKRESIDENTIALGROWTHREIT,INC_06_01_2016-EX-1.1-AGENCYAGREEMENT.txt',\n",
       " 'BNCMORTGAGEINC_05_17_1999-EX-10.4-LICENSINGANDWEBSITEHOSTINGAGREEMENT.txt',\n",
       " 'BNLFINANCIALCORP_03_30_2007-EX-10.8-OUTSOURCINGAGREEMENT.txt',\n",
       " 'BOLIVARMININGCORP_05_23_2003-EX-2.1-VISPWEBSITEBUILDINGANDHOSTINGAGREEMENT.txt',\n",
       " 'BONTONSTORESINC_04_20_2018-EX-99.3-AGENCYAGREEMENT.txt',\n",
       " 'BORROWMONEYCOM,INC_06_11_2020-EX-10.1-JOINTVENTUREAGREEMENT.txt',\n",
       " 'BUFFALOWILDWINGSINC_06_05_1998-EX-10.3-FRANCHISEAGREEMENT.txt',\n",
       " 'BellringBrandsInc_20190920_S-1_EX-10.12_11817081_EX-10.12_ManufacturingAgreement1.txt',\n",
       " 'BellringBrandsInc_20190920_S-1_EX-10.12_11817081_EX-10.12_ManufacturingAgreement2.txt',\n",
       " 'BellringBrandsInc_20190920_S-1_EX-10.12_11817081_EX-10.12_ManufacturingAgreement3.txt',\n",
       " 'BellringBrandsInc_20190920_S-1_EX-10.12_11817081_EX-10.12_ManufacturingAgreement4.txt',\n",
       " 'BerkshireHillsBancorpInc_20120809_10-Q_EX-10.16_7708169_EX-10.16_EndorsementAgreement.txt',\n",
       " 'BizzingoInc_20120322_8-K_EX-10.17_7504499_EX-10.17_EndorsementAgreement.txt',\n",
       " 'BloomEnergyCorp_20180321_DRSA(onS-1)_EX-10_11240356_EX-10_MaintenanceAgreement.txt',\n",
       " 'BravatekSolutionsInc_20170418_8-K_EX-10.1_10205739_EX-10.1_ResellerAgreement.txt',\n",
       " 'CANOPETROLEUM,INC_12_13_2007-EX-10.1-SponsorshipAgreement.txt',\n",
       " 'CARDAX,INC_08_19_2014-EX-10.1-COLLABORATIONAGREEMENT.txt',\n",
       " 'CCAINDUSTRIESINC_04_14_2014-EX-10.1-OUTSOURCINGAGREEMENT.txt',\n",
       " 'CENTRACKINTERNATIONALINC_10_29_1999-EX-10.3-WEBSITEHOSTINGAGREEMENT.txt',\n",
       " 'CERES,INC_01_25_2012-EX-10.20-CollaborationAgreement.txt',\n",
       " 'CHANGEPOINTCORP_03_08_2000-EX-10.6-LICENSEANDHOSTINGAGREEMENT.txt',\n",
       " 'CHAPARRALRESOURCESINC_03_30_2000-EX-10.66-TRANSPORTATIONCONTRACT.txt',\n",
       " 'CHEETAHMOBILEINC_04_22_2014-EX-10.43-CooperationAgreement.txt',\n",
       " 'CHERRYHILLMORTGAGEINVESTMENTCORP_09_26_2013-EX-10.1-StrategicAllianceAgreement.txt',\n",
       " 'CHINARECYCLINGENERGYCORP_11_14_2013-EX-10.6-CooperationAgreement.txt',\n",
       " 'CHIPMOSTECHNOLOGIESBERMUDALTD_04_18_2016-EX-4.72-StrategicAllianceAgreement.txt',\n",
       " 'COOLTECHNOLOGIES,INC_10_25_2017-EX-10.71-StrategicAllianceAgreement.txt',\n",
       " 'CORALGOLDRESOURCES,LTD_05_28_2020-EX-4.1-CONSULTINGAGREEMENT.txt',\n",
       " 'CORIOINC_07_20_2000-EX-10.5-LICENSEANDHOSTINGAGREEMENT.txt',\n",
       " 'CURAEGISTECHNOLOGIES,INC_05_26_2010-EX-1-CORPORATESPONSORSHIPAGREEMENT.txt',\n",
       " 'CUROGROUPHOLDINGSCORP_05_04_2020-EX-10.3-SERVICINGAGREEMENT.txt',\n",
       " 'CYBERIANOUTPOSTINC_07_09_1998-EX-10.13-PROMOTIONAGREEMENT.txt',\n",
       " 'CardlyticsInc_20180112_S-1_EX-10.16_11002987_EX-10.16_MaintenanceAgreement1.txt',\n",
       " 'CardlyticsInc_20180112_S-1_EX-10.16_11002987_EX-10.16_MaintenanceAgreement2.txt',\n",
       " 'CardlyticsInc_20180112_S-1_EX-10.16_11002987_EX-10.16_MaintenanceAgreement3.txt',\n",
       " 'CardlyticsInc_20180112_S-1_EX-10.16_11002987_EX-10.16_MaintenanceAgreement4.txt',\n",
       " 'CcRealEstateIncomeFundadv_20181205_POS8C_EX-99.(H)(3)_11447739_EX-99.(H)(3)_MarketingAgreement.txt',\n",
       " 'CerenceInc_20191002_8-K_EX-10.4_11827494_EX-10.4_IntellectualPropertyAgreement.txt',\n",
       " 'CerusCorporation-FIRSTAMENDTOSUPPLYANDMANUFACTURINGAGREEMENT.txt',\n",
       " 'ChinaRealEstateInformationCorp_20090929_F-1_EX-10.32_4771615_EX-10.32_ContentLicenseAgreement.txt',\n",
       " 'ClickstreamCorp_20200330_1-A_EX1A-6MATCTRCT_12089935_EX1A-6MATCTRCT_DevelopmentAgreement.txt',\n",
       " 'CnsPharmaceuticalsInc_20200326_8-K_EX-10.1_12079626_EX-10.1_DevelopmentAgreement.txt',\n",
       " 'CoherusBiosciencesInc_20200227_10-K_EX-10.29_12021376_EX-10.29_DevelopmentAgreement.txt',\n",
       " 'ColumbiaLaboratories,(Bermuda)Ltd.-AMENDNO.2TOMANUFACTURINGANDSUPPLYAGREEMENT.txt',\n",
       " 'ConformisInc_20191101_10-Q_EX-10.6_11861402_EX-10.6_DevelopmentAgreement.txt',\n",
       " 'CreditcardscomInc_20070810_S-1_EX-10.33_362297_EX-10.33_AffiliateAgreement.txt',\n",
       " 'CybergyHoldingsInc_20140520_10-Q_EX-10.27_8605784_EX-10.27_AffiliateAgreement.txt',\n",
       " 'CytodynInc_20200109_10-Q_EX-10.5_11941634_EX-10.5_LicenseAgreement.txt',\n",
       " 'DIVERSINETCORP_03_01_2012-EX-4-RESELLERAGREEMENT.txt',\n",
       " 'DOMINIADVISORTRUST_02_18_2005-EX-99.(H)(2)-SPONSORSHIPAGREEMENT.txt',\n",
       " 'DRAGONSYSTEMSINC_01_08_1999-EX-10.17-OUTSOURCINGAGREEMENT.txt',\n",
       " 'DRIVENDELIVERIES,INC_05_22_2020-EX-10.4-CONSULTINGAGREEMENT.txt',\n",
       " 'DRKOOPCOMINC_04_21_1999-EX-10.28-SPONSORSHIPAGREEMENT.txt',\n",
       " 'DUOSTECHNOLOGIESGROUP,INC_04_21_2009-EX-10.1-STRATEGICALLIANCEAGREEMENT.txt',\n",
       " 'DYNAMEXINC_06_06_1996-EX-10.4-TRANSPORTATIONSERVICESAGREEMENT.txt',\n",
       " 'DYNTEKINC_07_30_1999-EX-10-ONLINEHOSTINGAGREEMENT.txt',\n",
       " 'DataCallTechnologies_20060918_SB-2A_EX-10.9_944510_EX-10.9_ContentLicenseAgreement.txt',\n",
       " 'DeltathreeInc_19991102_S-1A_EX-10.19_6227850_EX-10.19_Co-BrandingAgreement_ServiceAgreement.txt',\n",
       " 'DigitalCinemaDestinationsCorp_20111220_S-1_EX-10.10_7346719_EX-10.10_AffiliateAgreement.txt',\n",
       " 'DovaPharmaceuticalsInc_20181108_10-Q_EX-10.2_11414857_EX-10.2_PromotionAgreement.txt',\n",
       " 'ELANDIAINTERNATIONALINC_04_25_2007-EX-10.21-OutsourcingAgreement.txt',\n",
       " 'ELECTRAMECCANICAVEHICLESCORP.-ManufacturingAgreement.txt',\n",
       " 'ELFBEAUTY,INC_07_02_2020-EX-10.1-COOPERATIONAGREEMENT.txt',\n",
       " 'EMERALDHEALTHTHERAPEUTICSINC_06_10_2020-EX-4.5-CONSULTINGAGREEMENT-DR.GAETANOMORELLON.D.INC..txt',\n",
       " 'ENERGOUSCORP_03_16_2017-EX-10.24-STRATEGICALLIANCEAGREEMENT.txt',\n",
       " 'ENERGYXXILTD_05_08_2015-EX-10.13-TransportationAGREEMENT.txt',\n",
       " 'ENTERPRISEPRODUCTSPARTNERSLP_07_08_1998-EX-10.3-TRANSPORTATIONCONTRACT.txt',\n",
       " 'ENTERTAINMENTGAMINGASIAINC_02_15_2005-EX-10.5-DISTRIBUTORAGREEMENT.txt',\n",
       " 'ENTRUSTINC_07_24_1998-EX-10.5-STRATEGICALLIANCEAGREEMENT.txt',\n",
       " 'ETELOS,INC_03_09_2004-EX-10.8-DISTRIBUTORAGREEMENT.txt',\n",
       " 'EUROPEANMICROHOLDINGSINC_03_06_1998-EX-10.6-DISTRIBUTORAGREEMENT.txt',\n",
       " 'EbixInc_20010515_10-Q_EX-10.3_4049767_EX-10.3_Co-BrandingAgreement.txt',\n",
       " 'EcoScienceSolutionsInc_20171117_8-K_EX-10.1_10956472_EX-10.1_EndorsementAgreement.txt',\n",
       " 'EcoScienceSolutionsInc_20180406_8-K_EX-10.1_11135398_EX-10.1_SponsorshipAgreement.txt',\n",
       " 'EdietsComInc_20001030_10QSB_EX-10.4_2606646_EX-10.4_Co-BrandingAgreement.txt',\n",
       " 'EhaveInc_20190515_20-F_EX-4.44_11678816_EX-4.44_LicenseAgreement_ResellerAgreement.txt',\n",
       " 'ElPolloLocoHoldingsInc_20200306_10-K_EX-10.16_12041700_EX-10.16_DevelopmentAgreement.txt',\n",
       " 'EmbarkComInc_19991008_S-1A_EX-10.10_6487661_EX-10.10_Co-BrandingAgreement.txt',\n",
       " 'EmeraldHealthBioceuticalsInc_20200218_1-A_EX1A-6MATCTRCT_11987205_EX1A-6MATCTRCT_DevelopmentAgreement.txt',\n",
       " 'EmmisCommunicationsCorp_20191125_8-K_EX-10.6_11906433_EX-10.6_MarketingAgreement.txt',\n",
       " 'EtonPharmaceuticalsInc_20191114_10-Q_EX-10.1_11893941_EX-10.1_DevelopmentAgreement.txt',\n",
       " 'EuromediaHoldingsCorp_20070215_10SB12G_EX-10.B(01)_525118_EX-10.B(01)_ContentLicenseAgreement.txt',\n",
       " 'ExactSciencesCorp_20180822_8-K_EX-10.1_11331629_EX-10.1_PromotionAgreement.txt',\n",
       " 'FEDERATEDGOVERNMENTINCOMESECURITIESINC_04_28_2020-EX-99.SERVAGREE-SERVICESAGREEMENT.txt',\n",
       " 'FEDERATEDGOVERNMENTINCOMESECURITIESINC_04_28_2020-EX-99.SERVAGREE-SERVICESAGREEMENT_AMENDMENT.txt',\n",
       " 'FEDERATEDGOVERNMENTINCOMESECURITIESINC_04_28_2020-EX-99.SERVAGREE-SERVICESAGREEMENT_POWEROF.txt',\n",
       " 'FEDERATEDGOVERNMENTINCOMESECURITIESINC_04_28_2020-EX-99.SERVAGREE-SERVICESAGREEMENT_SECONDAMENDMENT.txt',\n",
       " 'FIBROGENINC_10_01_2014-EX-10.11-COLLABORATIONAGREEMENT.txt',\n",
       " 'FIDELITYNATIONALINFORMATIONSERVICES,INC_08_05_2009-EX-10.3-INTELLECTUALPROPERTYAGREEMENT.txt',\n",
       " 'FLOTEKINDUSTRIESINCCN_05_09_2019-EX-10.1-SUPPLYAGREEMENT.txt',\n",
       " 'FOUNDATIONMEDICINE,INC_02_02_2015-EX-10.2-CollaborationAgreement.txt',\n",
       " 'FTENETWORKS,INC_02_18_2016-EX-99.4-STRATEGICALLIANCEAGREEMENT.txt',\n",
       " 'FUSIONPHARMACEUTICALSINC_06_05_2020-EX-10.17-SupplyAgreement-FUSION.txt',\n",
       " 'FerroglobePlc_20150624_F-4A_EX-10.20_9154746_EX-10.20_OutsourcingAgreement.txt',\n",
       " 'Freecook_20180605_S-1_EX-10.3_11233807_EX-10.3_HostingAgreement.txt',\n",
       " 'FreezeTagInc_20180411_8-K_EX-10.1_11139603_EX-10.1_SponsorshipAgreement.txt',\n",
       " 'FuelcellEnergyInc_20191106_8-K_EX-10.1_11868007_EX-10.1_DevelopmentAgreement.txt',\n",
       " 'FulucaiProductionsLtd_20131223_10-Q_EX-10.9_8368347_EX-10.9_ContentLicenseAgreement.txt',\n",
       " 'FuseMedicalInc_20190321_10-K_EX-10.43_11575454_EX-10.43_DistributorAgreement.txt',\n",
       " 'GAINSCOINC_01_21_2010-EX-10.41-SPONSORSHIPAGREEMENT.txt',\n",
       " 'GALACTICOMMTECHNOLOGIESINC_11_07_1997-EX-10.46-WEBHOSTINGAGREEMENT.txt',\n",
       " 'GALERATHERAPEUTICS,INC_02_14_2020-EX-99.A-JOINTFILINGAGREEMENT.txt',\n",
       " 'GIGGLESN_HUGS,INC_06_23_2016-EX-10.2-STRATEGICALLIANCEAGREEMENT.txt',\n",
       " 'GLOBALTECHNOLOGIESLTD_06_08_2020-EX-10.16-CONSULTINGAGREEMENT.txt',\n",
       " 'GOCALLINC_03_30_2000-EX-10.7-PromotionAgreement.txt',\n",
       " 'GOLDRESOURCECORP_12_11_2008-EX-10.1-STRATEGICALLIANCEAGREEMENT.txt',\n",
       " 'GOOSEHEADINSURANCE,INC_04_02_2018-EX-10.6-FranchiseAgreement.txt',\n",
       " 'GRANTIERRAENERGYINC_05_07_2012-EX-10.6-TRANSPORTATIONCONTRACT.txt',\n",
       " 'GRIDIRONBIONUTRIENTS,INC_02_05_2020-EX-10.3-SUPPLYAGREEMENT.txt',\n",
       " 'GSITECHNOLOGYINC_11_16_2009-EX-10.2-INTELLECTUALPROPERTYAGREEMENTbetweenSONYELECTRONICSINC.andGSITECHNOLOGY,INC..txt',\n",
       " 'GSVINC_05_15_1998-EX-10-SPONSORSHIPAGREEMENT.txt',\n",
       " 'GULFSOUTHMEDICALSUPPLYINC_12_24_1997-EX-4-AFFILIATEAGREEMENT.txt',\n",
       " 'GWGHOLDINGS,INC.-ORDERLYMARKETINGAGREEMENT.txt',\n",
       " 'GarrettMotionInc_20181001_8-K_EX-2.4_11364532_EX-2.4_IntellectualPropertyAgreement.txt',\n",
       " 'GentechHoldingsInc_20190808_1-A_EX1A-6MATCTRCT_11776814_EX1A-6MATCTRCT_DistributorAgreement.txt',\n",
       " 'GlobalTechnologiesGroupInc_20050928_10KSB_EX-10.9_4148808_EX-10.9_ContentLicenseAgreement.txt',\n",
       " 'GluMobileInc_20070319_S-1A_EX-10.09_436630_EX-10.09_ContentLicenseAgreement1.txt',\n",
       " 'GluMobileInc_20070319_S-1A_EX-10.09_436630_EX-10.09_ContentLicenseAgreement2.txt',\n",
       " 'GluMobileInc_20070319_S-1A_EX-10.09_436630_EX-10.09_ContentLicenseAgreement3.txt',\n",
       " 'GluMobileInc_20070319_S-1A_EX-10.09_436630_EX-10.09_ContentLicenseAgreement4.txt',\n",
       " 'GopageCorp_20140221_10-K_EX-10.1_8432966_EX-10.1_ContentLicenseAgreement.txt',\n",
       " 'GpaqAcquisitionHoldingsInc_20200123_S-4A_EX-10.6_11951677_EX-10.6_LicenseAgreement.txt',\n",
       " 'GpaqAcquisitionHoldingsInc_20200123_S-4A_EX-10.8_11951679_EX-10.8_ServiceAgreement.txt',\n",
       " 'GridironBionutrientsInc_20171206_8-K_EX-10.1_10972555_EX-10.1_EndorsementAgreement.txt',\n",
       " 'GridironBionutrientsInc_20171206_8-K_EX-10.2_10972556_EX-10.2_EndorsementAgreement.txt',\n",
       " 'HALITRON,INC_03_01_2005-EX-10.15-SPONSORSHIPANDDEVELOPMENTAGREEMENT.txt',\n",
       " 'HC2HOLDINGS,INC_05_14_2020-EX-10.1-COOPERATIONAGREEMENT.txt',\n",
       " 'HEALTHGATEDATACORP_11_24_1999-EX-10.1-HOSTINGANDMANAGEMENTAGREEMENT(1).txt',\n",
       " 'HEALTHGATEDATACORP_11_24_1999-EX-10.1-HOSTINGANDMANAGEMENTAGREEMENT-EscrowAgreement.txt',\n",
       " 'HEMISPHERX-Sales,Marketing,Distribution,andSupplyAgreement.txt',\n",
       " 'HERTZGLOBALHOLDINGS,INC_07_07_2016-EX-10.4-INTELLECTUALPROPERTYAGREEMENT.txt',\n",
       " 'HOLIDAYRVSUPERSTORESINC_04_15_2002-EX-10.13-ENDORSEMENTAGREEMENT.txt',\n",
       " 'HOSPITALITYINVESTORSTRUST,INC_04_07_2014-EX-10.26-FRANCHISEAGREEMENT.txt',\n",
       " 'HPILHOLDING_01_07_2015-EX-99.1-COOPERATIONAGREEMENT.txt',\n",
       " 'HUBEIMINKANGPHARMACEUTICALLTD_09_19_2006-EX-10.1-OUTSOURCINGAGREEMENT.txt',\n",
       " 'HYDRONTECHNOLOGIESINC_03_31_1997-EX-10.47-SPONSORSHIPAGREEMENT.txt',\n",
       " 'HYPERIONSOFTWARECORP_09_28_1994-EX-10.47-EXCLUSIVEDISTRIBUTORAGREEMENT.txt',\n",
       " 'HarpoonTherapeuticsInc_20200312_10-K_EX-10.18_12051356_EX-10.18_DevelopmentAgreement.txt',\n",
       " 'HealthcareIntegratedTechnologiesInc_20190812_8-K_EX-10.1_11776966_EX-10.1_ResellerAgreement.txt',\n",
       " 'HealthcentralCom_19991108_S-1A_EX-10.27_6623292_EX-10.27_Co-BrandingAgreement.txt',\n",
       " 'HerImports_20161018_8-KA_EX-10.14_9765707_EX-10.14_MaintenanceAgreement.txt',\n",
       " 'HertzGroupRealtyTrustInc_20190920_S-11A_EX-10.8_11816941_EX-10.8_TrademarkLicenseAgreement.txt',\n",
       " 'HfEnterprisesInc_20191223_S-1_EX-10.22_11931299_EX-10.22_DevelopmentAgreement.txt',\n",
       " 'ICORECONNECTINC_10_13_2010-EX-7.1-StrategicAllianceAgreement.txt',\n",
       " 'IDREAMSKYTECHNOLOGYLTD_07_03_2014-EX-10.39-CooperationAgreementonMobileGameBusiness.txt',\n",
       " 'IGENEBIOTECHNOLOGYINC_05_13_2003-EX-1-JOINTVENTUREAGREEMENT.txt',\n",
       " 'IMAGEWARESYSTEMSINC_12_20_1999-EX-10.22-MAINTENANCEAGREEMENT.txt',\n",
       " 'IMMUNOMEDICSINC_08_07_2019-EX-10.1-PROMOTIONAGREEMENT.txt',\n",
       " 'IMPCOTECHNOLOGIESINC_04_15_2003-EX-10.65-JOINTVENTUREAGREEMENT.txt',\n",
       " 'INGEVITYCORP_05_16_2016-EX-10.5-INTELLECTUALPROPERTYAGREEMENT.txt',\n",
       " 'INKTOMICORP_06_08_1998-EX-10.14-SOFTWAREHOSTINGAGREEMENT.txt',\n",
       " 'INNOVIVA,INC_08_07_2014-EX-10.1-COLLABORATIONAGREEMENT.txt',\n",
       " 'INTELLIGENTHIGHWAYSOLUTIONS,INC_01_18_2018-EX-10.1-StrategicAllianceAgreement.txt',\n",
       " 'INTERNATIONALFASTFOODCORP_04_04_1997-EX-99-FRANCHISEAGREEMENT.txt',\n",
       " 'INTERSECTENT,INC_05_11_2020-EX-10.1-SUPPLYAGREEMENT.txt',\n",
       " 'INTRICONCORP_03_10_2009-EX-10.22-StrategicAllianceAgreement.txt',\n",
       " 'IOVANCEBIOTHERAPEUTICS,INC_08_03_2017-EX-10.1-STRATEGICALLIANCEAGREEMENT.txt',\n",
       " 'IPAYMENT,INC_05_14_2007-EX-10.1-SPONSORSHIPAGREEMENT.txt',\n",
       " 'IVILLAGEINC_03_17_1999-EX-10.16-SPONSORSHIPAGREEMENT.txt',\n",
       " 'IbioInc_20200313_8-K_EX-10.1_12052678_EX-10.1_DevelopmentAgreement.txt',\n",
       " 'IdeanomicsInc_20151124_8-K_EX-10.2_9354744_EX-10.2_ContentLicenseAgreement.txt',\n",
       " 'IdeanomicsInc_20160330_10-K_EX-10.26_9512211_EX-10.26_ContentLicenseAgreement.txt',\n",
       " 'ImineCorp_20180725_S-1_EX-10.5_11275970_EX-10.5_DistributorAgreement.txt',\n",
       " 'ImperialGardenResortInc_20161028_DRS(onF-1)_EX-10.13_9963189_EX-10.13_OutsourcingAgreement.txt',\n",
       " 'ImpresseCorp_20000322_S-1A_EX-10.11_5199234_EX-10.11_Co-BrandingAgreement.txt',\n",
       " 'InmodeLtd_20190729_F-1A_EX-10.9_11743243_EX-10.9_ManufacturingAgreement.txt',\n",
       " 'InnerscopeHearingTechnologiesInc_20181109_8-K_EX-10.6_11419704_EX-10.6_DistributorAgreement.txt',\n",
       " 'IntegrityFunds_20200121_485BPOS_EX-99.EUNDRCONTR_11948727_EX-99.EUNDRCONTR_ServiceAgreement.txt',\n",
       " 'IntegrityMediaInc_20010329_10-K405_EX-10.17_2373875_EX-10.17_Co-BrandingAgreement.txt',\n",
       " 'InvendaCorp_20000828_S-1A_EX-10.2_2588206_EX-10.2_Co-BrandingAgreement.txt',\n",
       " 'IpassInc_20181203_8-K_EX-99.1_11445874_EX-99.1_ResellerAgreement.txt',\n",
       " 'JINGWEIINTERNATIONALLTD_10_04_2007-EX-10.7-INTELLECTUALPROPERTYAGREEMENT.txt',\n",
       " 'JOINTCORP_09_19_2014-EX-10.15-FRANCHISEAGREEMENT.txt',\n",
       " 'KALLOINC_11_03_2011-EX-10.1-STRATEGICALLIANCEAGREEMENT.txt',\n",
       " 'KENTUCKYUTILITIESCO_03_25_2003-EX-10.65-TRANSPORTATIONAGREEMENT.txt',\n",
       " 'KINGPHARMACEUTICALSINC_08_09_2006-EX-10.1-PROMOTIONAGREEMENT.txt',\n",
       " 'KIROMICBIOPHARMA,INC_04_08_2020-EX-10.28-JOINTVENTUREAGREEMENT.txt',\n",
       " 'KIROMICBIOPHARMA,INC_05_11_2020-EX-10.23-CONSULTINGAGREEMENT.txt',\n",
       " 'KNOWLABS,INC_08_15_2005-EX-10-INTELLECTUALPROPERTYAGREEMENT.txt',\n",
       " 'KUBIENT,INC_07_02_2020-EX-10.14-MASTERSERVICESAGREEMENT_Part1.txt',\n",
       " 'KUBIENT,INC_07_02_2020-EX-10.14-MASTERSERVICESAGREEMENT_Part2.txt',\n",
       " 'KitovPharmaLtd_20190326_20-F_EX-4.15_11584449_EX-4.15_ManufacturingAgreement.txt',\n",
       " 'LECLANCHÉS.A.-JOINTDEVELOPMENTANDMARKETINGAGREEMENT.txt',\n",
       " 'LEGACYTECHNOLOGYHOLDINGS,INC_12_09_2005-EX-10.2-DISTRIBUTORAGREEMENT.txt',\n",
       " 'LEJUHOLDINGSLTD_03_12_2014-EX-10.34-INTERNETCHANNELCOOPERATIONAGREEMENT.txt',\n",
       " 'LIGHTBRIDGECORP_11_23_2015-EX-10.26-STRATEGICALLIANCEAGREEMENT.txt',\n",
       " 'LIMEENERGYCO_09_09_1999-EX-10-DISTRIBUTORAGREEMENT.txt',\n",
       " 'LOGANSROADHOUSEINC_03_27_1998-EX-10.17-SPONSORSHIPAGREEMENT.txt',\n",
       " 'LOOKSMARTLTD_07_20_2012-EX-99.(D)(I)-SPONSORSHIPAGREEMENT.txt',\n",
       " 'LOYALTYPOINTINC_11_16_2004-EX-10.2-RESELLERAGREEMENT.txt',\n",
       " 'LUCIDINC_04_15_2011-EX-10.9-DISTRIBUTORAGREEMENT.txt',\n",
       " 'LeadersonlineInc_20000427_S-1A_EX-10.8_4991089_EX-10.8_Co-BrandingAgreement.txt',\n",
       " 'LegacyEducationAllianceInc_20141110_8-K_EX-10.9_8828866_EX-10.9_EndorsementAgreement.txt',\n",
       " 'LegacyEducationAllianceInc_20200330_10-K_EX-10.18_12090678_EX-10.18_DevelopmentAgreement.txt',\n",
       " 'LejuHoldingsLtd_20140121_DRS(onF-1)_EX-10.26_8473102_EX-10.26_ContentLicenseAgreement1.txt',\n",
       " 'LejuHoldingsLtd_20140121_DRS(onF-1)_EX-10.26_8473102_EX-10.26_ContentLicenseAgreement2.txt',\n",
       " 'LifewayFoodsInc_20160316_10-K_EX-10.24_9489766_EX-10.24_EndorsementAgreement.txt',\n",
       " 'LinkPlusCorp_20050802_8-K_EX-10_3240252_EX-10_AffiliateAgreement.txt',\n",
       " 'LiquidmetalTechnologiesInc_20200205_8-K_EX-10.1_11968198_EX-10.1_DevelopmentAgreement.txt',\n",
       " 'LohaCompanyltd_20191209_F-1_EX-10.16_11917878_EX-10.16_SupplyAgreement.txt',\n",
       " 'LoopIndustries,Inc.-MarketingAgreement.txt',\n",
       " 'MACROGENICSINC_08_02_2013-EX-10-COLLABORATIONAGREEMENT.txt',\n",
       " 'MACY_S,INC_05_11_2020-EX-99.4-JOINTFILINGAGREEMENT.txt',\n",
       " 'MANAKOASERVICESCORP_11_21_2007-EX-7.5-STRATEGICALLIANCEAGREEMENT.txt',\n",
       " 'MANUFACTURERSSERVICESLTD_06_05_2000-EX-10.14-OUTSOURCINGAGREEMENT.txt',\n",
       " 'MARSHALLHOLDINGSINTERNATIONAL,INC_04_14_2004-EX-10.15-ENDORSEMENTAGREEMENT.txt',\n",
       " 'MARTINMIDSTREAMPARTNERSLP_01_23_2004-EX-10.3-TRANSPORTATIONSERVICESAGREEMENT.txt',\n",
       " 'MEDALISTDIVERSIFIEDREIT,INC_05_18_2020-EX-10.1-CONSULTINGAGREEMENT.txt',\n",
       " 'MEDIWOUNDLTD_01_15_2014-EX-10.6-SUPPLYAGREEMENT.txt',\n",
       " 'MEETGROUP,INC_06_29_2017-EX-10.1-COOPERATIONAGREEMENT.txt',\n",
       " 'MERCATAINC_03_09_2000-EX-10.21-SPONSORSHIPAGREEMENT.txt',\n",
       " 'MERITLIFEINSURANCECO_06_19_2020-EX-10.(XIV)-MASTERSERVICESAGREEMENT.txt',\n",
       " 'MFAFINANCIAL,INC_07_06_2020-EX-99.D-JOINTFILINGAGREEMENT.txt',\n",
       " 'MIDDLEBROOKPHARMACEUTICALS,INC_03_18_2010-EX-10.1-PROMOTIONAGREEMENT.txt',\n",
       " 'MJBIOTECH,INC_12_06_2018-EX-99.01-JOINTVENTUREAGREEMENT.txt',\n",
       " 'MOELIS_CO_03_24_2014-EX-10.19-STRATEGICALLIANCEAGREEMENT.txt',\n",
       " 'MOSSIMOINC_04_14_2000-EX-10.14-ENDORSEMENTAGREEMENT.txt',\n",
       " 'MOVADOGROUPINC_04_30_2003-EX-10.28-ENDORSEMENTAGREEMENT.txt',\n",
       " 'MPLXLP_06_17_2015-EX-10.1-TRANSPORTATIONSERVICESAGREEMENT.txt',\n",
       " 'MRSFIELDSORIGINALCOOKIESINC_01_29_1998-EX-10-FRANCHISEAGREEMENT.txt',\n",
       " 'MSCIINC_02_28_2008-EX-10.10-.txt',\n",
       " 'MTITECHNOLOGYCORP_11_16_2004-EX-10.102-ResellerAgreementPremierAddendum.txt',\n",
       " 'MagentaTherapeutics,Inc.-MasterDevelopmentandManufacturingAgreement.txt',\n",
       " 'MetLife,Inc.-RemarketingAgreement.txt',\n",
       " 'MicrogenicsCorporation-CollaborativeDevelopmentandCommercializationAgreement.txt',\n",
       " 'MidwestEnergyEmissionsCorp_20080604_8-K_EX-10.2_3093976_EX-10.2_ContentLicenseAgreement.txt',\n",
       " 'MonsantoCompany-SECONDA_REXCLUSIVEAGENCYANDMARKETINGAGREEMENT.txt',\n",
       " 'MorganStanleyDirectLendingFund_20191119_10-12GA_EX-10.5_11898508_EX-10.5_TrademarkLicenseAgreement.txt',\n",
       " 'MphaseTechnologiesInc_20030911_10-K_EX-10.15_1560667_EX-10.15_Co-BrandingAgreement.txt',\n",
       " 'MusclepharmCorp_20170208_10-KA_EX-10.38_9893581_EX-10.38_Co-BrandingAgreement.txt',\n",
       " 'N2KINC_10_16_1997-EX-10.16-SPONSORSHIPAGREEMENT.txt',\n",
       " 'NANOPHASETECHNOLOGIESCORP_11_01_2005-EX-99.1-DISTRIBUTORAGREEMENT.txt',\n",
       " 'NATIONALPROCESSINGINC_07_18_1996-EX-10.4-SPONSORSHIPAGREEMENT.txt',\n",
       " 'NELNETINC_04_08_2020-EX-1-JOINTFILINGAGREEMENT.txt',\n",
       " 'NEOMEDIATECHNOLOGIESINC_12_15_2005-EX-16.1-DISTRIBUTORAGREEMENT.txt',\n",
       " 'NEONSYSTEMSINC_03_01_1999-EX-10.5-DISTRIBUTORAGREEMENT_Amendment.txt',\n",
       " 'NEONSYSTEMSINC_03_01_1999-EX-10.5-DISTRIBUTORAGREEMENT_New.txt',\n",
       " 'NETGEAR,INC_04_21_2003-EX-10.16-AMENDMENT#2TOTHEDISTRIBUTIONAGREEMENT.txt',\n",
       " 'NETGEAR,INC_04_21_2003-EX-10.16-AMENDMENTTOTHEDISTRIBUTORAGREEMENTBETWEENINGRAMMICROANDNETGEAR.txt',\n",
       " 'NETGEAR,INC_04_21_2003-EX-10.16-DISTRIBUTORAGREEMENT.txt',\n",
       " 'NETGROCERINC_07_31_1998-EX-10.15-SPONSORSHIPAGREEMENT.txt',\n",
       " 'NETZEEINC_11_14_2002-EX-10.3-MAINTENANCEAGREEMENT.txt',\n",
       " 'NEXSTARFINANCEHOLDINGSINC_03_27_2002-EX-10.26-OUTSOURCINGAGREEMENT.txt',\n",
       " 'NICELTD_06_26_2003-EX-4.5-OUTSOURCINGAGREEMENT.txt',\n",
       " 'NOVOINTEGRATEDSCIENCES,INC_12_23_2019-EX-10.1-JOINTVENTUREAGREEMENT.txt',\n",
       " 'NUVEEN-REMARKETINGAGREEMENT.txt',\n",
       " 'NYLIACVARIABLEANNUITYSEPARATEACCOUNTIII_04_10_2020-EX-99.8.KK-SERVICEAGREEMENT.txt',\n",
       " 'NakedBrandGroupInc_20150731_POSAM(onS-1)_EX-10.75_9196027_EX-10.75_EndorsementAgreement.txt',\n",
       " 'NeoformaInc_19991202_S-1A_EX-10.26_5224521_EX-10.26_Co-BrandingAgreement.txt',\n",
       " 'NeuroboPharmaceuticalsInc_20190903_S-4_EX-10.36_11802165_EX-10.36_ManufacturingAgreement_SupplyAgreement.txt',\n",
       " 'NlsPharmaceuticsLtd_20200228_F-1_EX-10.14_12029046_EX-10.14_DevelopmentAgreement.txt',\n",
       " 'NmfSlfIInc_20200115_10-12GA_EX-10.5_11946987_EX-10.5_TrademarkLicenseAgreement.txt',\n",
       " 'OAKTREECAPITALGROUP,LLC_03_02_2020-EX-10.8-ServicesAgreement.txt',\n",
       " 'OASYSMOBILE,INC_07_05_2001-EX-10.17-OUTSOURCINGAGREEMENT.txt',\n",
       " 'OFGBANCORP_03_28_2007-EX-10.23-OUTSOURCINGAGREEMENT.txt',\n",
       " 'OLDAPIWIND-DOWNLTD_01_08_2016-EX-1.3-AGENCYAGREEMENT1.txt',\n",
       " 'OLDAPIWIND-DOWNLTD_01_08_2016-EX-1.3-AGENCYAGREEMENT2.txt',\n",
       " 'OMINTO,INC_03_29_2004-EX-10-RESELLERAGREEMENT.txt',\n",
       " 'ON2TECHNOLOGIES,INC_11_17_2006-EX-10.3-SUPPORTANDMAINTENANCEAGREEMENT.txt',\n",
       " 'ON4COMMUNICATIONSINC_07_02_2009-EX-10.1-PROMOTIONAGREEMENT.txt',\n",
       " 'ONEMAINHOLDINGS,INC_02_20_2020-EX-99.D-JOINTFILINGAGREEMENT.txt',\n",
       " 'OPERALTD_04_30_2020-EX-4.14-SERVICEAGREEMENT.txt',\n",
       " 'OPTIMIZEDTRANSPORTATIONMANAGEMENT,INC_07_26_2000-EX-6.6-DISTRIBUTORAGREEMENT.txt',\n",
       " 'ORBSATCORP_08_17_2007-EX-7.3-STRATEGICALLIANCEAGREEMENT.txt',\n",
       " 'PACIFICSYSTEMSCONTROLTECHNOLOGYINC_08_24_2000-EX-10.53-SPONSORSHIPAGREEMENT.txt',\n",
       " 'PACIRAPHARMACEUTICALS,INC.-A_RSTRATEGICLICENSING,DISTRIBUTIONANDMARKETINGAGREEMENT.txt',\n",
       " 'PANDIONTHERAPEUTICSHOLDCOLLC_05_22_2020-EX-10.17-CONSULTINGAGREEMENT.txt',\n",
       " 'PAXMEDICA,INC_07_02_2020-EX-10.12-MasterServiceAgreement.txt',\n",
       " 'PFSFUNDS_06_26_2020-EX-99.HOTHMATCONT-SERVICESAGREEMENT.txt',\n",
       " 'PHLVARIABLEINSURANCECOCT_08_17_2009-EX-10.1-STRATEGICALLIANCEAGREEMENT.txt',\n",
       " 'PHREESIA,INC_05_28_2019-EX-10.18-STRATEGICALLIANCEAGREEMENT.txt',\n",
       " 'PLAYAHOTELS_RESORTSNV_03_14_2017-EX-10.22-STRATEGICALLIANCEAGREEMENT(HyattZivaCancun).txt',\n",
       " 'PRECIGEN,INC_01_22_2020-EX-99.1-JOINTFILINGAGREEMENT.txt',\n",
       " 'PREMIERBIOMEDICALINC_05_14_2020-EX-10.2-INTELLECTUALPROPERTYAGREEMENT.txt',\n",
       " 'PRIMEENERGYRESOURCESCORP_04_02_2007-EX-10.28-COMPLETIONANDLIQUIDITYMAINTENANCEAGREEMENT.txt',\n",
       " 'PROFOUNDMEDICALCORP_08_29_2019-EX-4.5-SUPPLYAGREEMENT.txt',\n",
       " 'PROLONGINTERNATIONALCORP_03_23_1998-EX-10.16-SPONSORSHIPAGREEMENT.txt',\n",
       " 'PacificapEntertainmentHoldingsInc_20051115_8-KA_EX-1.01_4300894_EX-1.01_ContentLicenseAgreement.txt',\n",
       " 'PalmerSquareCapitalBdcInc_20200116_10-12GA_EX-10.6_11949289_EX-10.6_TrademarkLicenseAgreement.txt',\n",
       " 'PapaJohnsInternationalInc_20190617_8-K_EX-10.1_11707365_EX-10.1_EndorsementAgreement.txt',\n",
       " 'PaperexchangeComInc_20000322_S-1A_EX-10.4_5202103_EX-10.4_Co-BrandingAgreement.txt',\n",
       " 'ParatekPharmaceuticalsInc_20170505_10-KA_EX-10.29_10323872_EX-10.29_OutsourcingAgreement.txt',\n",
       " 'PareteumCorp_20081001_8-K_EX-99.1_2654808_EX-99.1_HostingAgreement.txt',\n",
       " 'PcquoteComInc_19990721_S-1A_EX-10.11_6377149_EX-10.11_Co-BrandingAgreement1.txt',\n",
       " 'PcquoteComInc_19990721_S-1A_EX-10.11_6377149_EX-10.11_Co-BrandingAgreement2.txt',\n",
       " 'PcquoteComInc_19990721_S-1A_EX-10.11_6377149_EX-10.11_Co-BrandingAgreement3.txt',\n",
       " 'PelicanDeliversInc_20200211_S-1_EX-10.3_11975895_EX-10.3_DevelopmentAgreement1.txt',\n",
       " 'PelicanDeliversInc_20200211_S-1_EX-10.3_11975895_EX-10.3_DevelopmentAgreement2.txt',\n",
       " 'PenntexMidstreamPartnersLp_20150416_S-1A_EX-10.4_9042833_EX-10.4_TransportationAgreement.txt',\n",
       " 'PerformanceSportsBrandsInc_20110909_S-1_EX-10.10_7220214_EX-10.10_EndorsementAgreement.txt',\n",
       " 'PfHospitalityGroupInc_20150923_10-12G_EX-10.1_9266710_EX-10.1_FranchiseAgreement1.txt',\n",
       " 'PfHospitalityGroupInc_20150923_10-12G_EX-10.1_9266710_EX-10.1_FranchiseAgreement3.txt',\n",
       " 'PharmagenInc_20120803_8-KA_EX-10.1_7693204_EX-10.1_EndorsementAgreement.txt',\n",
       " 'PhasebioPharmaceuticalsInc_20200330_10-K_EX-10.21_12086810_EX-10.21_DevelopmentAgreement.txt',\n",
       " 'PhoenixNewMediaLtd_20110421_F-1_EX-10.17_6958322_EX-10.17_ContentLicenseAgreement.txt',\n",
       " 'PhotronicsInc_20171219_10-QA_EX-10.28_10982650_EX-10.28_OutsourcingAgreement.txt',\n",
       " 'PlayboyEnterprisesInc_20090220_10-QA_EX-10.2_4091580_EX-10.2_ContentLicenseAgreement_MarketingAgreement_Sales-PurchaseAgreement1.txt',\n",
       " 'PlayboyEnterprisesInc_20090220_10-QA_EX-10.2_4091580_EX-10.2_ContentLicenseAgreement_MarketingAgreement_Sales-PurchaseAgreement2.txt',\n",
       " 'PrecheckHealthServicesInc_20200320_8-K_EX-99.2_12070169_EX-99.2_DistributorAgreement.txt',\n",
       " 'PrincipalLifeInsuranceCompany-BrokerDealerMarketingandServicingAgreement.txt',\n",
       " 'PrudentialBancorpInc_20170606_8-K_EX-10.4_10474434_EX-10.4_EndorsementAgreement.txt',\n",
       " 'QBIOMEDINC_04_08_2020-EX-99.1-JOINTFILINGAGREEMENT.txt',\n",
       " 'QIWI_06_16_2017-EX-99.(D)(2)-COOPERATIONAGREEMENT.txt',\n",
       " 'QuakerChemicalCorporation-NONCOMPETITIONANDNONSOLICITATIONAGREEMENT.txt',\n",
       " 'QuantumGroupIncFl_20090120_8-K_EX-99.2_3672910_EX-99.2_HostingAgreement.txt',\n",
       " 'REGANHOLDINGCORP_03_31_2008-EX-10-LICENSEANDHOSTINGAGREEMENT.txt',\n",
       " 'REWALKROBOTICSLTD_07_10_2014-EX-10.2-STRATEGICALLIANCEAGREEMENT.txt',\n",
       " 'RISEEDUCATIONCAYMANLTD_04_17_2020-EX-4.23-SERVICEAGREEMENT.txt',\n",
       " 'RMRGROUPINC_01_22_2020-EX-99.1-JOINTFILINGAGREEMENT.txt',\n",
       " 'ROCKYMOUNTAINCHOCOLATEFACTORY,INC_12_23_2019-EX-10.2-STRATEGICALLIANCEAGREEMENT.txt',\n",
       " 'RUBIOSRESTAURANTSINC_03_31_2008-EX-10.75-SPONSORSHIPAGREEMENT.txt',\n",
       " 'RaeSystemsInc_20001114_10-Q_EX-10.57_2631790_EX-10.57_Co-BrandingAgreement.txt',\n",
       " 'RandWorldwideInc_20010402_8-KA_EX-10.2_2102464_EX-10.2_Co-BrandingAgreement.txt',\n",
       " 'RangeResourcesLouisianaInc_20150417_8-K_EX-10.5_9045501_EX-10.5_TransportationAgreement.txt',\n",
       " 'RareElementResourcesLtd_20171019_SC13D_EX-99.4_10897534_EX-99.4_IntellectualPropertyAgreement.txt',\n",
       " 'ReedsInc_20191113_10-Q_EX-10.4_11888303_EX-10.4_DevelopmentAgreement.txt',\n",
       " 'ReinsuranceGroupofAmerica,Incorporated-A_RREMARKETINGAGREEMENT.txt',\n",
       " 'RemarkHoldingsInc_20081114_10-Q_EX-10.24_2895649_EX-10.24_ContentLicenseAgreement.txt',\n",
       " 'RevolutionMedicinesInc_20200117_S-1_EX-10.1_11948417_EX-10.1_DevelopmentAgreement.txt',\n",
       " 'ReynoldsConsumerProductsInc_20191115_S-1_EX-10.18_11896469_EX-10.18_SupplyAgreement.txt',\n",
       " 'ReynoldsConsumerProductsInc_20200121_S-1A_EX-10.22_11948918_EX-10.22_ServiceAgreement.txt',\n",
       " 'RgcResourcesInc_20151216_8-K_EX-10.3_9372751_EX-10.3_FranchiseAgreement.txt',\n",
       " 'RitterPharmaceuticalsInc_20200313_S-4A_EX-10.54_12055220_EX-10.54_DevelopmentAgreement.txt',\n",
       " 'SANDRIDGEENERGYINC_08_06_2009-EX-10.6-OPERATIONSANDMAINTENANCEAGREEMENT.txt',\n",
       " 'SCOUTCAMINC_05_12_2020-EX-10.22-SERVICESAGREEMENT.txt',\n",
       " 'SEASPINEHOLDINGSCORP_10_10_2018-EX-10.1-SUPPLYAGREEMENT.txt',\n",
       " 'SECURIANFUNDSTRUST_05_01_2012-EX-99.28.H.9-NETINVESTMENTINCOMEMAINTENANCEAGREEMENT.txt',\n",
       " 'SENMIAOTECHNOLOGYLTD_02_19_2019-EX-10.5-CollaborationAgreement.txt',\n",
       " 'SEPARATEACCOUNTIIOFAGL_05_02_2011-EX-99.(J)(4)-UNCONDITIONALCAPITALMAINTENANCEAGREEMENT.txt',\n",
       " 'SFGFINANCIALCORP_05_12_2009-EX-10.1-SOFTWARELICENSEANDMAINTENANCEAGREEMENT.txt',\n",
       " 'SIBANNAC,INC_12_04_2017-EX-2.1-StrategicAllianceAgreement.txt',\n",
       " 'SLINGERBAGINC_05_27_2020-EX-10.7-CONSULTINGAGREEMENT.txt',\n",
       " 'SLOVAKWIRELESSFINANCECOBV_03_28_2001-EX-4.(B)(II).3-MaintenanceandsupportcontractforSICAP(R)modules.txt',\n",
       " 'SMITHELECTRICVEHICLESCORP_04_04_2012-EX-10.26-FLEETMAINTENANCEAGREEMENT.txt',\n",
       " 'SOLUTIONSVENDINGINTERNATIONAL,INC_03_31_2020-EX1A-1UNDRAGMT-SERVICESAGREEMENT.txt',\n",
       " 'SONUSCORP_03_12_1997-EX-10.11-SPONSORSHIPAGREEMENT.txt',\n",
       " 'SPARKLINGSPRINGWATERHOLDINGSLTD_07_03_2002-EX-10.13-SOFTWARELICENSEANDMAINTENANCEAGREEMENT.txt',\n",
       " 'SPHERE3DCORP_06_24_2020-EX-10.12-CONSULTINGAGREEMENT.txt',\n",
       " 'SPIENERGYCO,LTD_03_09_2011-EX-99.5-OPERATIONSANDMAINTENANCEAGREEMENT.txt',\n",
       " 'SPIENERGYCO,LTD_07_10_2014-EX-10-CooperationAgreementof50MWpPhotovoltaicGrid-connectedPowerGenerationProjectinYangqiaoof-1.txt',\n",
       " 'SPOKHOLDINGS,INC_06_19_2020-EX-10.1-COOPERATIONAGREEMENT.txt',\n",
       " 'SPORTHALEYINC_09_29_1997-EX-10.2-10-ENDORSEMENTAGREEMENT.txt',\n",
       " 'SPRINGBANKPHARMACEUTICALS,INC_04_08_2020-EX-99.A-JOINTFILINGAGREEMENT.txt',\n",
       " 'STAMPSCOMINC_06_24_1999-EX-10.18-SPONSORSHIPAGREEMENT.txt',\n",
       " 'STARTECGLOBALCOMMUNICATIONSCORP_11_16_1998-EX-10.30-CONSTRUCTIONANDMAINTENANCEAGREEMENT.txt',\n",
       " 'STWRESOURCESHOLDINGCORP_08_06_2014-EX-10.1-COOPERATIONAGREEMENT.txt',\n",
       " 'SUCAMPOPHARMACEUTICALS,INC_11_04_2015-EX-10.2-STRATEGICALLIANCEAGREEMENT.txt',\n",
       " 'SUMMAFOURINC_06_19_1998-EX-10.3-SOFTWARELICENSEANDMAINTENANCEAGREEMENT.txt',\n",
       " 'SUNTRONCORP_05_17_2006-EX-10.22-MAINTENANCEAGREEMENT.txt',\n",
       " 'SYKESHEALTHPLANSERVICESINC_04_24_1998-EX-10.14-OUTSOURCINGAGREEMENT.txt',\n",
       " 'SalesforcecomInc_20171122_10-Q_EX-10.1_10961535_EX-10.1_ResellerAgreement.txt',\n",
       " 'ScansourceInc_20190509_10-Q_EX-10.2_11661422_EX-10.2_DistributorAgreement.txt',\n",
       " 'ScansourceInc_20190822_10-K_EX-10.38_11793958_EX-10.38_DistributorAgreement1.txt',\n",
       " 'ScansourceInc_20190822_10-K_EX-10.38_11793958_EX-10.38_DistributorAgreement2.txt',\n",
       " 'ScansourceInc_20190822_10-K_EX-10.39_11793959_EX-10.39_DistributorAgreement.txt',\n",
       " 'SigaTechnologiesInc_20190603_8-K_EX-10.1_11695818_EX-10.1_PromotionAgreement.txt',\n",
       " 'SightLifeSurgical,Inc.-STRATEGICSALES_MARKETINGAGREEMENT.txt',\n",
       " 'SimplicityEsportsGamingCompany_20181130_8-K_EX-10.1_11444071_EX-10.1_FranchiseAgreement.txt',\n",
       " 'SmartRxSystemsInc_20180914_1-A_EX1A-6MATCTRCT_11351705_EX1A-6MATCTRCT_DistributorAgreement.txt',\n",
       " 'Sonos,Inc.-ManufacturingAgreement.txt',\n",
       " 'SoupmanInc_20150814_8-K_EX-10.1_9230148_EX-10.1_FranchiseAgreement1.txt',\n",
       " 'SoupmanInc_20150814_8-K_EX-10.1_9230148_EX-10.1_FranchiseAgreement2.txt',\n",
       " 'SoupmanInc_20150814_8-K_EX-10.1_9230148_EX-10.1_FranchiseAgreement3.txt',\n",
       " 'SoupmanInc_20150814_8-K_EX-10.1_9230148_EX-10.1_FranchiseAgreement4.txt',\n",
       " 'SouthernStarEnergyInc_20051202_SB-2A_EX-9_801890_EX-9_AffiliateAgreement.txt',\n",
       " 'StaarSurgicalCompany_20180801_10-Q_EX-10.37_11289449_EX-10.37_DistributorAgreement.txt',\n",
       " 'StampscomInc_20001114_10-Q_EX-10.47_2631630_EX-10.47_Co-BrandingAgreement.txt',\n",
       " 'SteelVaultCorp_20081224_10-K_EX-10.16_3074935_EX-10.16_AffiliateAgreement.txt',\n",
       " 'TALCOTTRESOLUTIONLIFEINSURANCECO-SEPARATEACCOUNTTWELVE_04_30_2020-EX-99.8(L)-SERVICEAGREEMENT.txt',\n",
       " 'TALLGRASSENERGY,LP_02_20_2020-EX-99.26-JOINTFILINGAGREEMENT.txt',\n",
       " 'TEARDROPGOLFCO_10_23_1996-EX-10.12-ENDORSEMENTAGREEMENT.txt',\n",
       " 'TELEGLOBEINTERNATIONALHOLDINGSLTD_03_29_2004-EX-10.10-CONSTRUCTIONANDMAINTENANCEAGREEMENT.txt',\n",
       " 'TELKOMSALTD_01_30_2003-EX-10-LICENCEANDMAINTENANCEAGREEMENT.txt',\n",
       " 'THERAVANCEBIOPHARMA,INC_05_08_2020-EX-10.2-SERVICEAGREEMENT.txt',\n",
       " 'TICKETSCOMINC_06_22_1999-EX-10.22-SPONSORSHIPAGREEMENT.txt',\n",
       " 'TRANSMONTAIGNEPARTNERSLLC_03_13_2020-EX-10.9-SERVICESAGREEMENT.txt',\n",
       " 'TRANSPHORM,INC_02_14_2020-EX-10.12(1)-JOINTVENTUREAGREEMENT.txt',\n",
       " 'TRICITYBANKSHARESCORP_05_15_1998-EX-10-OUTSOURCINGAGREEMENT.txt',\n",
       " 'TRIZETTOGROUPINC_08_18_1999-EX-10.17-TECHNICALINFRASTRUCTUREMAINTENANCEAGREEMENT.txt',\n",
       " 'TRUENORTHENERGYCORP_02_08_2007-EX-10.1-DEVELOPMENTAGREEMENT.txt',\n",
       " 'TUNIUCORP_03_06_2014-EX-10-COOPERATIONAGREEMENT.txt',\n",
       " 'TURNKEYCAPITAL,INC_07_20_2017-EX-1.1-StrategicAllianceAgreement.txt',\n",
       " 'TcPipelinesLp_20160226_10-K_EX-99.12_9454048_EX-99.12_TransportationAgreement.txt',\n",
       " 'TheglobeComInc_19990503_S-1A_EX-10.20_5416126_EX-10.20_Co-BrandingAgreement.txt',\n",
       " 'ThriventVariableInsuranceAccountB_20190701_N-6_EX-99.D(IV)_11720968_EX-99.D(IV)_EndorsementAgreement.txt',\n",
       " 'TodosMedicalLtd_20190328_20-F_EX-4.10_11587157_EX-4.10_MarketingAgreement_ResellerAgreement.txt',\n",
       " 'TomOnlineInc_20060501_20-F_EX-4.46_749700_EX-4.46_Co-BrandingAgreement.txt',\n",
       " 'TubeMediaCorp_20060310_8-K_EX-10.1_513921_EX-10.1_AffiliateAgreement.txt',\n",
       " 'UAGHINC_04_14_2004-EX-10.18-MAINTENANCEAGREEMENT.txt',\n",
       " 'ULTRAGENYXPHARMACEUTICALINC_12_23_2013-EX-10.9-SUPPLYAGREEMENT.txt',\n",
       " 'UNITEDNATIONALBANCORP_03_03_1999-EX-99-OutsourcingAgreementwiththeBISYSGroup,Inc..txt',\n",
       " 'URSCORPNEW_03_17_2014-EX-99-COOPERATIONAGREEMENT.txt',\n",
       " 'USASYNTHETICFUELCORP_10_21_2010-EX-10.10-STRATEGICALLIANCEAGREEMENT.txt',\n",
       " 'UnionDentalHoldingsInc_20050204_8-KA_EX-10_3345577_EX-10_AffiliateAgreement.txt',\n",
       " 'UpjohnInc_20200121_10-12G_EX-2.6_11948692_EX-2.6_ManufacturingAgreement_SupplyAgreement.txt',\n",
       " 'UsioInc_20040428_SB-2_EX-10.11_1723988_EX-10.11_AffiliateAgreement2.txt',\n",
       " 'VALENCETECHNOLOGYINC_02_14_2003-EX-10-JOINTVENTURECONTRACT.txt',\n",
       " 'VAPOTHERM,INC.-ManufacturingandSupplyAgreement.txt',\n",
       " 'VARIABLESEPARATEACCOUNT_04_30_2014-EX-13.C-UNCONDITIONALCAPITALMAINTENANCEAGREEMENT.txt',\n",
       " 'VAXCYTE,INC_05_22_2020-EX-10.19-SUPPLYAGREEMENT.txt',\n",
       " 'VEONEER,INC_02_21_2020-EX-10.11-JOINTVENTUREAGREEMENT.txt',\n",
       " 'VERICELCORP_08_06_2019-EX-10.10-SUPPLYAGREEMENT.txt',\n",
       " 'VERSOTECHNOLOGIESINC_12_28_2007-EX-99.3-INTELLECTUALPROPERTYAGREEMENT.txt',\n",
       " 'VERTEXENERGYINC_08_14_2014-EX-10.24-OPERATIONANDMAINTENANCEAGREEMENT.txt',\n",
       " 'VERTICALNETINC_04_01_2002-EX-10.19-MAINTENANCEANDSUPPORTAGREEMENT.txt',\n",
       " 'VIOLINMEMORYINC_12_12_2012-EX-10.14-SPONSORSHIPAGREEMENT.txt',\n",
       " 'VIRGINGALACTICHOLDINGS,INC_04_08_2020-EX-99.1-JOINTFILINGSTATEMENT.txt',\n",
       " 'VIRTUALSCOPICS,INC_11_12_2010-EX-10.1-STRATEGICALLIANCEAGREEMENT.txt',\n",
       " 'VISIUMTECHNOLOGIES,INC_10_20_2004-EX-10.20-DISTRIBUTORAGREEMENT.txt',\n",
       " 'VITAMINSHOPPECOMINC_09_13_1999-EX-10.26-SPONSORSHIPAGREEMENT.txt',\n",
       " 'VIVINTSOLAR,INC.-NON-COMPETITIONAGREEMENT.txt',\n",
       " 'VNUE,INC_07_10_2015-EX-10.1-SPONSORSHIPAGREEMENT.txt',\n",
       " 'VerizonAbsLlc_20200123_8-K_EX-10.4_11952335_EX-10.4_ServiceAgreement.txt',\n",
       " 'VertexEnergyInc_20200113_8-K_EX-10.1_11943624_EX-10.1_MarketingAgreement.txt',\n",
       " 'VgrabCommunicationsInc_20200129_10-K_EX-10.33_11958828_EX-10.33_DevelopmentAgreement.txt',\n",
       " 'VirtuosoSurgicalInc_20191227_1-A_EX1A-6MATCTRCT_11933379_EX1A-6MATCTRCT_LicenseAgreement.txt',\n",
       " 'VitalibisInc_20180316_8-K_EX-10.2_11100168_EX-10.2_HostingAgreement.txt',\n",
       " 'VnueInc_20150914_8-K_EX-10.1_9259571_EX-10.1_PromotionAgreement.txt',\n",
       " 'WARNERCHILCOTTPLC_12_31_2003-EX-4.36-DEVELOPMENTAGREEMENT.txt',\n",
       " 'WARNINGMANAGEMENTSERVICESINC_12_10_1999-EX-10-ENDORSEMENTAGREEMENT.txt',\n",
       " 'WASTE2ENERGYHOLDINGS,INC_06_03_2010-EX-10.2-STRATEGICALLIANCEAGREEMENT.txt',\n",
       " 'WEBHELPCOMINC_03_22_2000-EX-10.8-HOSTINGAGREEMENT.txt',\n",
       " 'WELLSFARGOMORTGAGEBACKEDSECURITIES2006-6TRUST_05_11_2006-EX-10.3-YieldMaintenanceAgreement.txt',\n",
       " 'WESTERNCOPPER-NON-COMPETITIONAGREEMENT.txt',\n",
       " 'WHITESMOKE,INC_11_08_2011-EX-10.26-PROMOTIONANDDISTRIBUTIONAGREEMENT.txt',\n",
       " 'WOMENSGOLFUNLIMITEDINC_03_29_2000-EX-10.13-ENDORSEMENTAGREEMENT.txt',\n",
       " 'WORLDWIDESTRATEGIESINC_11_02_2005-EX-10-RESELLERAGREEMENT.txt',\n",
       " 'WPPPLC_04_30_2020-EX-4.28-SERVICEAGREEMENT.txt',\n",
       " 'WatchitMediaInc_20061201_8-K_EX-10.1_4148672_EX-10.1_ContentLicenseAgreement.txt',\n",
       " 'WaterNowInc_20191120_10-Q_EX-10.12_11900227_EX-10.12_DistributorAgreement.txt',\n",
       " 'WebmdHealthCorp_20050908_S-1A_EX-10.7_1027007_EX-10.7_ContentLicenseAgreement.txt',\n",
       " 'WestPharmaceuticalServicesInc_20200116_8-K_EX-10.1_11947529_EX-10.1_SupplyAgreement.txt',\n",
       " 'XACCTTechnologies,Inc.SUPPORTANDMAINTENANCEAGREEMENT.txt',\n",
       " 'XENCORINC_10_25_2013-EX-10.24-COLLABORATIONAGREEMENT(3).txt',\n",
       " 'XLITECHNOLOGIES,INC_12_02_2015-EX-10.02-STRATEGICALLIANCEAGREEMENT.txt',\n",
       " 'XLITECHNOLOGIES,INC_12_11_2015-EX-10.1-SponsorshipAgreement.txt',\n",
       " 'XYBERNAUTCORP_07_12_2002-EX-4-SPONSORSHIPAGREEMENT.txt',\n",
       " 'XinhuaSportsEntertainmentLtd_20070221_F-1_EX-99.4_645553_EX-99.4_ContentLicenseAgreement.txt',\n",
       " 'XpresspaGroupInc_20190401_10-K_EX-10.28_11599457_EX-10.28_MarketingAgreement.txt',\n",
       " 'ZEBRATECHNOLOGIESCORP_04_16_2014-EX-10.1-INTELLECTUALPROPERTYAGREEMENT.txt',\n",
       " 'ZONDWINDSYSTEMPARTNERSLTDSERIES85-B_04_03_2006-EX-10-MANAGEMENTANDMAINTENANCEAGREEMENT.txt',\n",
       " 'ZogenixInc_20190509_10-Q_EX-10.2_11663313_EX-10.2_DistributorAgreement.txt',\n",
       " 'ZoundsHearing,Inc.-MANUFACTURINGDESIGNMARKETINGAGREEMENT.txt',\n",
       " 'ZtoExpressCaymanInc_20160930_F-1_EX-10.10_9752871_EX-10.10_TransportationAgreement.txt']"
      ]
     },
     "execution_count": 9,
     "metadata": {},
     "output_type": "execute_result"
    }
   ],
   "source": [
    "file_directory = r\"../data/full_contract_txt\"\n",
    "filename_pattern = '.+\\.txt'\n",
    "contracts = PlaintextCorpusReader(file_directory, filename_pattern)\n",
    "\n",
    "contracts.fileids()"
   ]
  },
  {
   "cell_type": "code",
   "execution_count": 10,
   "metadata": {},
   "outputs": [
    {
     "data": {
      "text/plain": [
       "507"
      ]
     },
     "execution_count": 10,
     "metadata": {},
     "output_type": "execute_result"
    }
   ],
   "source": [
    "len(contracts.fileids())"
   ]
  },
  {
   "cell_type": "markdown",
   "metadata": {},
   "source": [
    "### Converting Text Files to CSV"
   ]
  },
  {
   "cell_type": "code",
   "execution_count": 66,
   "metadata": {},
   "outputs": [],
   "source": [
    "contracts_df = pd.DataFrame()"
   ]
  },
  {
   "cell_type": "code",
   "execution_count": 67,
   "metadata": {},
   "outputs": [],
   "source": [
    "contracts_df['contract'] = contracts.fileids()"
   ]
  },
  {
   "cell_type": "code",
   "execution_count": 68,
   "metadata": {},
   "outputs": [],
   "source": [
    "contracts_df['text'] = ''"
   ]
  },
  {
   "cell_type": "code",
   "execution_count": 69,
   "metadata": {},
   "outputs": [],
   "source": [
    "texts = []\n",
    "for contract in contracts.fileids():\n",
    "    contractObject = open(\"data/full_contract_txt/\"+contract, \"rt\", encoding=\"utf8\")\n",
    "    strings = re.findall(r\"\\S+\", contractObject.read())\n",
    "    texts.append(' '.join(strings))"
   ]
  },
  {
   "cell_type": "code",
   "execution_count": 70,
   "metadata": {},
   "outputs": [],
   "source": [
    "contracts_df['text'] = texts"
   ]
  },
  {
   "cell_type": "code",
   "execution_count": 5,
   "metadata": {},
   "outputs": [],
   "source": [
    "#contracts_df.to_csv('contracts.csv', index=False)"
   ]
  },
  {
   "cell_type": "markdown",
   "metadata": {},
   "source": [
    "### Loading CSV file"
   ]
  },
  {
   "cell_type": "code",
   "execution_count": 6,
   "metadata": {},
   "outputs": [],
   "source": [
    "contracts_df = pd.read_csv('../data/contracts.csv')"
   ]
  },
  {
   "cell_type": "code",
   "execution_count": 7,
   "metadata": {},
   "outputs": [],
   "source": [
    "contracts_df['text'] = contracts_df['text'].apply(lambda x: x.lower())"
   ]
  },
  {
   "cell_type": "code",
   "execution_count": 8,
   "metadata": {},
   "outputs": [
    {
     "data": {
      "text/html": [
       "<div>\n",
       "<style scoped>\n",
       "    .dataframe tbody tr th:only-of-type {\n",
       "        vertical-align: middle;\n",
       "    }\n",
       "\n",
       "    .dataframe tbody tr th {\n",
       "        vertical-align: top;\n",
       "    }\n",
       "\n",
       "    .dataframe thead th {\n",
       "        text-align: right;\n",
       "    }\n",
       "</style>\n",
       "<table border=\"1\" class=\"dataframe\">\n",
       "  <thead>\n",
       "    <tr style=\"text-align: right;\">\n",
       "      <th></th>\n",
       "      <th>contract</th>\n",
       "      <th>text</th>\n",
       "    </tr>\n",
       "  </thead>\n",
       "  <tbody>\n",
       "    <tr>\n",
       "      <th>0</th>\n",
       "      <td>2ThemartComInc_19990826_10-12G_EX-10.10_670028...</td>\n",
       "      <td>co-branding and advertising agreement this co-...</td>\n",
       "    </tr>\n",
       "    <tr>\n",
       "      <th>1</th>\n",
       "      <td>ABILITYINC_06_15_2020-EX-4.25-SERVICESAGREEMEN...</td>\n",
       "      <td>exhibit 4.25 information in this exhibit ident...</td>\n",
       "    </tr>\n",
       "    <tr>\n",
       "      <th>2</th>\n",
       "      <td>ACCELERATEDTECHNOLOGIESHOLDINGCORP_04_24_2003-...</td>\n",
       "      <td>exhibit 10.13 joint venture agreement collecti...</td>\n",
       "    </tr>\n",
       "    <tr>\n",
       "      <th>3</th>\n",
       "      <td>ACCURAYINC_09_01_2010-EX-10.31-DISTRIBUTORAGRE...</td>\n",
       "      <td>exhibit 10.31 pursuant to 17 c.f.r. § 240.24b-...</td>\n",
       "    </tr>\n",
       "    <tr>\n",
       "      <th>4</th>\n",
       "      <td>ADAMSGOLFINC_03_21_2005-EX-10.17-ENDORSEMENTAG...</td>\n",
       "      <td>redacted copy confidential treatment requested...</td>\n",
       "    </tr>\n",
       "  </tbody>\n",
       "</table>\n",
       "</div>"
      ],
      "text/plain": [
       "                                            contract  \\\n",
       "0  2ThemartComInc_19990826_10-12G_EX-10.10_670028...   \n",
       "1  ABILITYINC_06_15_2020-EX-4.25-SERVICESAGREEMEN...   \n",
       "2  ACCELERATEDTECHNOLOGIESHOLDINGCORP_04_24_2003-...   \n",
       "3  ACCURAYINC_09_01_2010-EX-10.31-DISTRIBUTORAGRE...   \n",
       "4  ADAMSGOLFINC_03_21_2005-EX-10.17-ENDORSEMENTAG...   \n",
       "\n",
       "                                                text  \n",
       "0  co-branding and advertising agreement this co-...  \n",
       "1  exhibit 4.25 information in this exhibit ident...  \n",
       "2  exhibit 10.13 joint venture agreement collecti...  \n",
       "3  exhibit 10.31 pursuant to 17 c.f.r. § 240.24b-...  \n",
       "4  redacted copy confidential treatment requested...  "
      ]
     },
     "execution_count": 8,
     "metadata": {},
     "output_type": "execute_result"
    }
   ],
   "source": [
    "contracts_df.head()"
   ]
  },
  {
   "cell_type": "markdown",
   "metadata": {},
   "source": [
    "### Data Exploration\n",
    "\n",
    "* Number of sentences\n",
    "* Number of words\n",
    "* Number of characters\n",
    "* Number of stopwords\n",
    "* Number of numerics\n",
    "* Average word length\n",
    "* Sentence density"
   ]
  },
  {
   "cell_type": "markdown",
   "metadata": {},
   "source": [
    "#### Number of sentences"
   ]
  },
  {
   "cell_type": "code",
   "execution_count": 13,
   "metadata": {},
   "outputs": [],
   "source": [
    "contracts_df['sentence_count'] = contracts_df['text'].apply(lambda x: len(tokenize.sent_tokenize(x)))"
   ]
  },
  {
   "cell_type": "code",
   "execution_count": 14,
   "metadata": {},
   "outputs": [
    {
     "data": {
      "text/html": [
       "<div>\n",
       "<style scoped>\n",
       "    .dataframe tbody tr th:only-of-type {\n",
       "        vertical-align: middle;\n",
       "    }\n",
       "\n",
       "    .dataframe tbody tr th {\n",
       "        vertical-align: top;\n",
       "    }\n",
       "\n",
       "    .dataframe thead th {\n",
       "        text-align: right;\n",
       "    }\n",
       "</style>\n",
       "<table border=\"1\" class=\"dataframe\">\n",
       "  <thead>\n",
       "    <tr style=\"text-align: right;\">\n",
       "      <th></th>\n",
       "      <th>text</th>\n",
       "      <th>sentence_count</th>\n",
       "    </tr>\n",
       "  </thead>\n",
       "  <tbody>\n",
       "    <tr>\n",
       "      <th>0</th>\n",
       "      <td>co-branding and advertising agreement this co-...</td>\n",
       "      <td>177</td>\n",
       "    </tr>\n",
       "    <tr>\n",
       "      <th>1</th>\n",
       "      <td>exhibit 4.25 information in this exhibit ident...</td>\n",
       "      <td>121</td>\n",
       "    </tr>\n",
       "    <tr>\n",
       "      <th>2</th>\n",
       "      <td>exhibit 10.13 joint venture agreement collecti...</td>\n",
       "      <td>50</td>\n",
       "    </tr>\n",
       "    <tr>\n",
       "      <th>3</th>\n",
       "      <td>exhibit 10.31 pursuant to 17 c.f.r. § 240.24b-...</td>\n",
       "      <td>477</td>\n",
       "    </tr>\n",
       "    <tr>\n",
       "      <th>4</th>\n",
       "      <td>redacted copy confidential treatment requested...</td>\n",
       "      <td>103</td>\n",
       "    </tr>\n",
       "  </tbody>\n",
       "</table>\n",
       "</div>"
      ],
      "text/plain": [
       "                                                text  sentence_count\n",
       "0  co-branding and advertising agreement this co-...             177\n",
       "1  exhibit 4.25 information in this exhibit ident...             121\n",
       "2  exhibit 10.13 joint venture agreement collecti...              50\n",
       "3  exhibit 10.31 pursuant to 17 c.f.r. § 240.24b-...             477\n",
       "4  redacted copy confidential treatment requested...             103"
      ]
     },
     "execution_count": 14,
     "metadata": {},
     "output_type": "execute_result"
    }
   ],
   "source": [
    "contracts_df[['text', 'sentence_count']].head()"
   ]
  },
  {
   "cell_type": "code",
   "execution_count": 15,
   "metadata": {},
   "outputs": [
    {
     "data": {
      "text/plain": [
       "<matplotlib.axes._subplots.AxesSubplot at 0x225f3545a20>"
      ]
     },
     "execution_count": 15,
     "metadata": {},
     "output_type": "execute_result"
    },
    {
     "data": {
      "image/png": "[encoded data removed]",
      "text/plain": [
       "<Figure size 432x288 with 1 Axes>"
      ]
     },
     "metadata": {
      "needs_background": "light"
     },
     "output_type": "display_data"
    }
   ],
   "source": [
    "contracts_df['sentence_count'].hist()"
   ]
  },
  {
   "cell_type": "markdown",
   "metadata": {},
   "source": [
    "#### Number of words"
   ]
  },
  {
   "cell_type": "code",
   "execution_count": 16,
   "metadata": {},
   "outputs": [],
   "source": [
    "contracts_df['word_count'] = contracts_df['text'].apply(lambda x: len(str(x).split(\" \")))"
   ]
  },
  {
   "cell_type": "code",
   "execution_count": 17,
   "metadata": {},
   "outputs": [
    {
     "data": {
      "text/html": [
       "<div>\n",
       "<style scoped>\n",
       "    .dataframe tbody tr th:only-of-type {\n",
       "        vertical-align: middle;\n",
       "    }\n",
       "\n",
       "    .dataframe tbody tr th {\n",
       "        vertical-align: top;\n",
       "    }\n",
       "\n",
       "    .dataframe thead th {\n",
       "        text-align: right;\n",
       "    }\n",
       "</style>\n",
       "<table border=\"1\" class=\"dataframe\">\n",
       "  <thead>\n",
       "    <tr style=\"text-align: right;\">\n",
       "      <th></th>\n",
       "      <th>text</th>\n",
       "      <th>word_count</th>\n",
       "    </tr>\n",
       "  </thead>\n",
       "  <tbody>\n",
       "    <tr>\n",
       "      <th>0</th>\n",
       "      <td>co-branding and advertising agreement this co-...</td>\n",
       "      <td>4467</td>\n",
       "    </tr>\n",
       "    <tr>\n",
       "      <th>1</th>\n",
       "      <td>exhibit 4.25 information in this exhibit ident...</td>\n",
       "      <td>4115</td>\n",
       "    </tr>\n",
       "    <tr>\n",
       "      <th>2</th>\n",
       "      <td>exhibit 10.13 joint venture agreement collecti...</td>\n",
       "      <td>1911</td>\n",
       "    </tr>\n",
       "    <tr>\n",
       "      <th>3</th>\n",
       "      <td>exhibit 10.31 pursuant to 17 c.f.r. § 240.24b-...</td>\n",
       "      <td>13349</td>\n",
       "    </tr>\n",
       "    <tr>\n",
       "      <th>4</th>\n",
       "      <td>redacted copy confidential treatment requested...</td>\n",
       "      <td>3770</td>\n",
       "    </tr>\n",
       "  </tbody>\n",
       "</table>\n",
       "</div>"
      ],
      "text/plain": [
       "                                                text  word_count\n",
       "0  co-branding and advertising agreement this co-...        4467\n",
       "1  exhibit 4.25 information in this exhibit ident...        4115\n",
       "2  exhibit 10.13 joint venture agreement collecti...        1911\n",
       "3  exhibit 10.31 pursuant to 17 c.f.r. § 240.24b-...       13349\n",
       "4  redacted copy confidential treatment requested...        3770"
      ]
     },
     "execution_count": 17,
     "metadata": {},
     "output_type": "execute_result"
    }
   ],
   "source": [
    "contracts_df[['text', 'word_count']].head()"
   ]
  },
  {
   "cell_type": "code",
   "execution_count": 18,
   "metadata": {},
   "outputs": [
    {
     "data": {
      "text/plain": [
       "<matplotlib.axes._subplots.AxesSubplot at 0x225f377e320>"
      ]
     },
     "execution_count": 18,
     "metadata": {},
     "output_type": "execute_result"
    },
    {
     "data": {
      "image/png": "[encoded data removed]",
      "text/plain": [
       "<Figure size 432x288 with 1 Axes>"
      ]
     },
     "metadata": {
      "needs_background": "light"
     },
     "output_type": "display_data"
    }
   ],
   "source": [
    "contracts_df['word_count'].hist()"
   ]
  },
  {
   "cell_type": "markdown",
   "metadata": {},
   "source": [
    "#### Number of characters"
   ]
  },
  {
   "cell_type": "code",
   "execution_count": 19,
   "metadata": {},
   "outputs": [],
   "source": [
    "contracts_df['char_count'] = contracts_df['text'].str.len()"
   ]
  },
  {
   "cell_type": "code",
   "execution_count": 20,
   "metadata": {},
   "outputs": [
    {
     "data": {
      "text/html": [
       "<div>\n",
       "<style scoped>\n",
       "    .dataframe tbody tr th:only-of-type {\n",
       "        vertical-align: middle;\n",
       "    }\n",
       "\n",
       "    .dataframe tbody tr th {\n",
       "        vertical-align: top;\n",
       "    }\n",
       "\n",
       "    .dataframe thead th {\n",
       "        text-align: right;\n",
       "    }\n",
       "</style>\n",
       "<table border=\"1\" class=\"dataframe\">\n",
       "  <thead>\n",
       "    <tr style=\"text-align: right;\">\n",
       "      <th></th>\n",
       "      <th>text</th>\n",
       "      <th>char_count</th>\n",
       "    </tr>\n",
       "  </thead>\n",
       "  <tbody>\n",
       "    <tr>\n",
       "      <th>0</th>\n",
       "      <td>co-branding and advertising agreement this co-...</td>\n",
       "      <td>28764</td>\n",
       "    </tr>\n",
       "    <tr>\n",
       "      <th>1</th>\n",
       "      <td>exhibit 4.25 information in this exhibit ident...</td>\n",
       "      <td>26287</td>\n",
       "    </tr>\n",
       "    <tr>\n",
       "      <th>2</th>\n",
       "      <td>exhibit 10.13 joint venture agreement collecti...</td>\n",
       "      <td>11917</td>\n",
       "    </tr>\n",
       "    <tr>\n",
       "      <th>3</th>\n",
       "      <td>exhibit 10.31 pursuant to 17 c.f.r. § 240.24b-...</td>\n",
       "      <td>86746</td>\n",
       "    </tr>\n",
       "    <tr>\n",
       "      <th>4</th>\n",
       "      <td>redacted copy confidential treatment requested...</td>\n",
       "      <td>24203</td>\n",
       "    </tr>\n",
       "  </tbody>\n",
       "</table>\n",
       "</div>"
      ],
      "text/plain": [
       "                                                text  char_count\n",
       "0  co-branding and advertising agreement this co-...       28764\n",
       "1  exhibit 4.25 information in this exhibit ident...       26287\n",
       "2  exhibit 10.13 joint venture agreement collecti...       11917\n",
       "3  exhibit 10.31 pursuant to 17 c.f.r. § 240.24b-...       86746\n",
       "4  redacted copy confidential treatment requested...       24203"
      ]
     },
     "execution_count": 20,
     "metadata": {},
     "output_type": "execute_result"
    }
   ],
   "source": [
    "contracts_df[['text','char_count']].head()"
   ]
  },
  {
   "cell_type": "code",
   "execution_count": 21,
   "metadata": {},
   "outputs": [
    {
     "data": {
      "text/plain": [
       "<matplotlib.axes._subplots.AxesSubplot at 0x225f377ea90>"
      ]
     },
     "execution_count": 21,
     "metadata": {},
     "output_type": "execute_result"
    },
    {
     "data": {
      "image/png": "[encoded data removed]",
      "text/plain": [
       "<Figure size 432x288 with 1 Axes>"
      ]
     },
     "metadata": {
      "needs_background": "light"
     },
     "output_type": "display_data"
    }
   ],
   "source": [
    "contracts_df['char_count'].hist()"
   ]
  },
  {
   "cell_type": "markdown",
   "metadata": {},
   "source": [
    "#### Stopwords"
   ]
  },
  {
   "cell_type": "code",
   "execution_count": 22,
   "metadata": {},
   "outputs": [],
   "source": [
    "# number of stopwords\n",
    "stop = stopwords.words('english')\n",
    "contracts_df['stopwords'] = contracts_df['text'].apply(lambda x: len([x for x in x.split() if x in stop]))"
   ]
  },
  {
   "cell_type": "code",
   "execution_count": 23,
   "metadata": {},
   "outputs": [
    {
     "data": {
      "text/html": [
       "<div>\n",
       "<style scoped>\n",
       "    .dataframe tbody tr th:only-of-type {\n",
       "        vertical-align: middle;\n",
       "    }\n",
       "\n",
       "    .dataframe tbody tr th {\n",
       "        vertical-align: top;\n",
       "    }\n",
       "\n",
       "    .dataframe thead th {\n",
       "        text-align: right;\n",
       "    }\n",
       "</style>\n",
       "<table border=\"1\" class=\"dataframe\">\n",
       "  <thead>\n",
       "    <tr style=\"text-align: right;\">\n",
       "      <th></th>\n",
       "      <th>text</th>\n",
       "      <th>stopwords</th>\n",
       "    </tr>\n",
       "  </thead>\n",
       "  <tbody>\n",
       "    <tr>\n",
       "      <th>0</th>\n",
       "      <td>co-branding and advertising agreement this co-...</td>\n",
       "      <td>1753</td>\n",
       "    </tr>\n",
       "    <tr>\n",
       "      <th>1</th>\n",
       "      <td>exhibit 4.25 information in this exhibit ident...</td>\n",
       "      <td>1767</td>\n",
       "    </tr>\n",
       "    <tr>\n",
       "      <th>2</th>\n",
       "      <td>exhibit 10.13 joint venture agreement collecti...</td>\n",
       "      <td>840</td>\n",
       "    </tr>\n",
       "    <tr>\n",
       "      <th>3</th>\n",
       "      <td>exhibit 10.31 pursuant to 17 c.f.r. § 240.24b-...</td>\n",
       "      <td>5225</td>\n",
       "    </tr>\n",
       "    <tr>\n",
       "      <th>4</th>\n",
       "      <td>redacted copy confidential treatment requested...</td>\n",
       "      <td>1407</td>\n",
       "    </tr>\n",
       "  </tbody>\n",
       "</table>\n",
       "</div>"
      ],
      "text/plain": [
       "                                                text  stopwords\n",
       "0  co-branding and advertising agreement this co-...       1753\n",
       "1  exhibit 4.25 information in this exhibit ident...       1767\n",
       "2  exhibit 10.13 joint venture agreement collecti...        840\n",
       "3  exhibit 10.31 pursuant to 17 c.f.r. § 240.24b-...       5225\n",
       "4  redacted copy confidential treatment requested...       1407"
      ]
     },
     "execution_count": 23,
     "metadata": {},
     "output_type": "execute_result"
    }
   ],
   "source": [
    "contracts_df[['text','stopwords']].head()"
   ]
  },
  {
   "cell_type": "code",
   "execution_count": 24,
   "metadata": {},
   "outputs": [
    {
     "data": {
      "text/plain": [
       "<matplotlib.axes._subplots.AxesSubplot at 0x225f388cfd0>"
      ]
     },
     "execution_count": 24,
     "metadata": {},
     "output_type": "execute_result"
    },
    {
     "data": {
      "image/png": "[encoded data removed]",
      "text/plain": [
       "<Figure size 432x288 with 1 Axes>"
      ]
     },
     "metadata": {
      "needs_background": "light"
     },
     "output_type": "display_data"
    }
   ],
   "source": [
    "contracts_df['stopwords'].hist()"
   ]
  },
  {
   "cell_type": "code",
   "execution_count": 30,
   "metadata": {},
   "outputs": [
    {
     "data": {
      "text/plain": [
       "array([[<matplotlib.axes._subplots.AxesSubplot object at 0x00000225F77CF5F8>,\n",
       "        <matplotlib.axes._subplots.AxesSubplot object at 0x00000225F780EF28>],\n",
       "       [<matplotlib.axes._subplots.AxesSubplot object at 0x00000225F70C3438>,\n",
       "        <matplotlib.axes._subplots.AxesSubplot object at 0x00000225F70F3978>]],\n",
       "      dtype=object)"
      ]
     },
     "execution_count": 30,
     "metadata": {},
     "output_type": "execute_result"
    },
    {
     "data": {
      "image/png": "[encoded data removed]",
      "text/plain": [
       "<Figure size 1080x720 with 4 Axes>"
      ]
     },
     "metadata": {
      "needs_background": "light"
     },
     "output_type": "display_data"
    }
   ],
   "source": [
    "contracts_df[['sentence_count', 'word_count', 'char_count', 'stopwords']].hist(figsize=(15,10))"
   ]
  },
  {
   "cell_type": "code",
   "execution_count": 85,
   "metadata": {},
   "outputs": [
    {
     "data": {
      "text/plain": [
       "<BarContainer object of 10 artists>"
      ]
     },
     "execution_count": 85,
     "metadata": {},
     "output_type": "execute_result"
    },
    {
     "data": {
      "image/png": "[encoded data removed]",
      "text/plain": [
       "<Figure size 432x288 with 1 Axes>"
      ]
     },
     "metadata": {
      "needs_background": "light"
     },
     "output_type": "display_data"
    }
   ],
   "source": [
    "#top stopwords used in all documents\n",
    "dic=defaultdict(int)\n",
    "for word in corpus:\n",
    "    if word in stop:\n",
    "        dic[word]+=1\n",
    "\n",
    "top=sorted(dic.items(), key=lambda x:x[1],reverse=True)[:10] \n",
    "x,y=zip(*top)\n",
    "plt.bar(x,y)"
   ]
  },
  {
   "cell_type": "markdown",
   "metadata": {},
   "source": [
    "#### Common Words"
   ]
  },
  {
   "cell_type": "code",
   "execution_count": 86,
   "metadata": {},
   "outputs": [],
   "source": [
    "#create corpus\n",
    "corpus=[]\n",
    "new= contracts_df['text'].str.split()\n",
    "new=new.values.tolist()\n",
    "corpus=[word for i in new for word in i]"
   ]
  },
  {
   "cell_type": "code",
   "execution_count": 87,
   "metadata": {},
   "outputs": [
    {
     "data": {
      "text/plain": [
       "<matplotlib.axes._subplots.AxesSubplot at 0x2663ebe5f60>"
      ]
     },
     "execution_count": 87,
     "metadata": {},
     "output_type": "execute_result"
    },
    {
     "data": {
      "image/png": "[encoded data removed]",
      "text/plain": [
       "<Figure size 432x288 with 1 Axes>"
      ]
     },
     "metadata": {
      "needs_background": "light"
     },
     "output_type": "display_data"
    }
   ],
   "source": [
    "counter=Counter(corpus)\n",
    "most=counter.most_common()\n",
    "\n",
    "x, y= [], []\n",
    "for word,count in most[:40]:\n",
    "    if (word not in stop):\n",
    "        x.append(word)\n",
    "        y.append(count)\n",
    "        \n",
    "sns.barplot(x=y,y=x)"
   ]
  },
  {
   "cell_type": "code",
   "execution_count": 88,
   "metadata": {},
   "outputs": [],
   "source": [
    "#clean out punctuation and special characters\n",
    "contracts_df['text'] = contracts_df['text'].apply(lambda x: re.sub('[^A-Za-z0-9 ]+', ' ', x))"
   ]
  },
  {
   "cell_type": "code",
   "execution_count": 89,
   "metadata": {},
   "outputs": [],
   "source": [
    "#create new corpus without special characters or punctuation\n",
    "corpus=[]\n",
    "new= contracts_df['text'].str.split()\n",
    "new=new.values.tolist()\n",
    "corpus=[word for i in new for word in i]"
   ]
  },
  {
   "cell_type": "code",
   "execution_count": 90,
   "metadata": {},
   "outputs": [
    {
     "data": {
      "text/plain": [
       "<matplotlib.axes._subplots.AxesSubplot at 0x2664d5092b0>"
      ]
     },
     "execution_count": 90,
     "metadata": {},
     "output_type": "execute_result"
    },
    {
     "data": {
      "image/png": "[encoded data removed]",
      "text/plain": [
       "<Figure size 432x288 with 1 Axes>"
      ]
     },
     "metadata": {
      "needs_background": "light"
     },
     "output_type": "display_data"
    }
   ],
   "source": [
    "# most common words\n",
    "counter=Counter(corpus)\n",
    "most=counter.most_common()\n",
    "\n",
    "x, y= [], []\n",
    "for word,count in most[:40]:\n",
    "    if (word not in stop):\n",
    "        x.append(word)\n",
    "        y.append(count)\n",
    "        \n",
    "sns.barplot(x=y,y=x)"
   ]
  },
  {
   "cell_type": "markdown",
   "metadata": {},
   "source": [
    "#### Number of numerics"
   ]
  },
  {
   "cell_type": "code",
   "execution_count": 91,
   "metadata": {},
   "outputs": [],
   "source": [
    "contracts_df['numerics'] = contracts_df['text'].apply(lambda x: len([x for x in x.split() if x.isdigit()]))"
   ]
  },
  {
   "cell_type": "code",
   "execution_count": 92,
   "metadata": {},
   "outputs": [
    {
     "data": {
      "text/html": [
       "<div>\n",
       "<style scoped>\n",
       "    .dataframe tbody tr th:only-of-type {\n",
       "        vertical-align: middle;\n",
       "    }\n",
       "\n",
       "    .dataframe tbody tr th {\n",
       "        vertical-align: top;\n",
       "    }\n",
       "\n",
       "    .dataframe thead th {\n",
       "        text-align: right;\n",
       "    }\n",
       "</style>\n",
       "<table border=\"1\" class=\"dataframe\">\n",
       "  <thead>\n",
       "    <tr style=\"text-align: right;\">\n",
       "      <th></th>\n",
       "      <th>text</th>\n",
       "      <th>numerics</th>\n",
       "    </tr>\n",
       "  </thead>\n",
       "  <tbody>\n",
       "    <tr>\n",
       "      <th>0</th>\n",
       "      <td>co branding and advertising agreement this co ...</td>\n",
       "      <td>188</td>\n",
       "    </tr>\n",
       "    <tr>\n",
       "      <th>1</th>\n",
       "      <td>exhibit 4 25 information in this exhibit ident...</td>\n",
       "      <td>136</td>\n",
       "    </tr>\n",
       "    <tr>\n",
       "      <th>2</th>\n",
       "      <td>exhibit 10 13 joint venture agreement collecti...</td>\n",
       "      <td>45</td>\n",
       "    </tr>\n",
       "    <tr>\n",
       "      <th>3</th>\n",
       "      <td>exhibit 10 31 pursuant to 17 c f r    240 24b ...</td>\n",
       "      <td>749</td>\n",
       "    </tr>\n",
       "    <tr>\n",
       "      <th>4</th>\n",
       "      <td>redacted copy confidential treatment requested...</td>\n",
       "      <td>103</td>\n",
       "    </tr>\n",
       "  </tbody>\n",
       "</table>\n",
       "</div>"
      ],
      "text/plain": [
       "                                                text  numerics\n",
       "0  co branding and advertising agreement this co ...       188\n",
       "1  exhibit 4 25 information in this exhibit ident...       136\n",
       "2  exhibit 10 13 joint venture agreement collecti...        45\n",
       "3  exhibit 10 31 pursuant to 17 c f r    240 24b ...       749\n",
       "4  redacted copy confidential treatment requested...       103"
      ]
     },
     "execution_count": 92,
     "metadata": {},
     "output_type": "execute_result"
    }
   ],
   "source": [
    "contracts_df[['text','numerics']].head()"
   ]
  },
  {
   "cell_type": "code",
   "execution_count": 93,
   "metadata": {},
   "outputs": [
    {
     "data": {
      "text/plain": [
       "<matplotlib.axes._subplots.AxesSubplot at 0x2664d8794a8>"
      ]
     },
     "execution_count": 93,
     "metadata": {},
     "output_type": "execute_result"
    },
    {
     "data": {
      "image/png": "[encoded data removed]",
      "text/plain": [
       "<Figure size 432x288 with 1 Axes>"
      ]
     },
     "metadata": {
      "needs_background": "light"
     },
     "output_type": "display_data"
    }
   ],
   "source": [
    "contracts_df['numerics'].hist()"
   ]
  },
  {
   "cell_type": "markdown",
   "metadata": {},
   "source": [
    "#### Word Density"
   ]
  },
  {
   "cell_type": "code",
   "execution_count": 94,
   "metadata": {},
   "outputs": [],
   "source": [
    "contracts_df['avg_word'] = contracts_df['word_count'] / (contracts_df['char_count'] + 1)"
   ]
  },
  {
   "cell_type": "code",
   "execution_count": 95,
   "metadata": {},
   "outputs": [
    {
     "data": {
      "text/html": [
       "<div>\n",
       "<style scoped>\n",
       "    .dataframe tbody tr th:only-of-type {\n",
       "        vertical-align: middle;\n",
       "    }\n",
       "\n",
       "    .dataframe tbody tr th {\n",
       "        vertical-align: top;\n",
       "    }\n",
       "\n",
       "    .dataframe thead th {\n",
       "        text-align: right;\n",
       "    }\n",
       "</style>\n",
       "<table border=\"1\" class=\"dataframe\">\n",
       "  <thead>\n",
       "    <tr style=\"text-align: right;\">\n",
       "      <th></th>\n",
       "      <th>text</th>\n",
       "      <th>avg_word</th>\n",
       "    </tr>\n",
       "  </thead>\n",
       "  <tbody>\n",
       "    <tr>\n",
       "      <th>0</th>\n",
       "      <td>co branding and advertising agreement this co ...</td>\n",
       "      <td>0.155293</td>\n",
       "    </tr>\n",
       "    <tr>\n",
       "      <th>1</th>\n",
       "      <td>exhibit 4 25 information in this exhibit ident...</td>\n",
       "      <td>0.156535</td>\n",
       "    </tr>\n",
       "    <tr>\n",
       "      <th>2</th>\n",
       "      <td>exhibit 10 13 joint venture agreement collecti...</td>\n",
       "      <td>0.160346</td>\n",
       "    </tr>\n",
       "    <tr>\n",
       "      <th>3</th>\n",
       "      <td>exhibit 10 31 pursuant to 17 c f r    240 24b ...</td>\n",
       "      <td>0.153884</td>\n",
       "    </tr>\n",
       "    <tr>\n",
       "      <th>4</th>\n",
       "      <td>redacted copy confidential treatment requested...</td>\n",
       "      <td>0.155759</td>\n",
       "    </tr>\n",
       "  </tbody>\n",
       "</table>\n",
       "</div>"
      ],
      "text/plain": [
       "                                                text  avg_word\n",
       "0  co branding and advertising agreement this co ...  0.155293\n",
       "1  exhibit 4 25 information in this exhibit ident...  0.156535\n",
       "2  exhibit 10 13 joint venture agreement collecti...  0.160346\n",
       "3  exhibit 10 31 pursuant to 17 c f r    240 24b ...  0.153884\n",
       "4  redacted copy confidential treatment requested...  0.155759"
      ]
     },
     "execution_count": 95,
     "metadata": {},
     "output_type": "execute_result"
    }
   ],
   "source": [
    "contracts_df[['text','avg_word']].head()"
   ]
  },
  {
   "cell_type": "code",
   "execution_count": 102,
   "metadata": {},
   "outputs": [
    {
     "data": {
      "text/plain": [
       "<matplotlib.axes._subplots.AxesSubplot at 0x2664da49d68>"
      ]
     },
     "execution_count": 102,
     "metadata": {},
     "output_type": "execute_result"
    },
    {
     "data": {
      "image/png": "[encoded data removed]",
      "text/plain": [
       "<Figure size 432x288 with 1 Axes>"
      ]
     },
     "metadata": {
      "needs_background": "light"
     },
     "output_type": "display_data"
    }
   ],
   "source": [
    "sns.kdeplot(contracts_df['avg_word'])"
   ]
  },
  {
   "cell_type": "markdown",
   "metadata": {},
   "source": [
    "#### Sentence density"
   ]
  },
  {
   "cell_type": "code",
   "execution_count": 96,
   "metadata": {},
   "outputs": [],
   "source": [
    "contracts_df['sentence_density'] = contracts_df['sentence_count'] / (contracts_df['word_count'] + 1)"
   ]
  },
  {
   "cell_type": "code",
   "execution_count": 97,
   "metadata": {},
   "outputs": [
    {
     "data": {
      "text/html": [
       "<div>\n",
       "<style scoped>\n",
       "    .dataframe tbody tr th:only-of-type {\n",
       "        vertical-align: middle;\n",
       "    }\n",
       "\n",
       "    .dataframe tbody tr th {\n",
       "        vertical-align: top;\n",
       "    }\n",
       "\n",
       "    .dataframe thead th {\n",
       "        text-align: right;\n",
       "    }\n",
       "</style>\n",
       "<table border=\"1\" class=\"dataframe\">\n",
       "  <thead>\n",
       "    <tr style=\"text-align: right;\">\n",
       "      <th></th>\n",
       "      <th>text</th>\n",
       "      <th>sentence_density</th>\n",
       "    </tr>\n",
       "  </thead>\n",
       "  <tbody>\n",
       "    <tr>\n",
       "      <th>0</th>\n",
       "      <td>co branding and advertising agreement this co ...</td>\n",
       "      <td>0.039615</td>\n",
       "    </tr>\n",
       "    <tr>\n",
       "      <th>1</th>\n",
       "      <td>exhibit 4 25 information in this exhibit ident...</td>\n",
       "      <td>0.029397</td>\n",
       "    </tr>\n",
       "    <tr>\n",
       "      <th>2</th>\n",
       "      <td>exhibit 10 13 joint venture agreement collecti...</td>\n",
       "      <td>0.026151</td>\n",
       "    </tr>\n",
       "    <tr>\n",
       "      <th>3</th>\n",
       "      <td>exhibit 10 31 pursuant to 17 c f r    240 24b ...</td>\n",
       "      <td>0.035730</td>\n",
       "    </tr>\n",
       "    <tr>\n",
       "      <th>4</th>\n",
       "      <td>redacted copy confidential treatment requested...</td>\n",
       "      <td>0.027314</td>\n",
       "    </tr>\n",
       "  </tbody>\n",
       "</table>\n",
       "</div>"
      ],
      "text/plain": [
       "                                                text  sentence_density\n",
       "0  co branding and advertising agreement this co ...          0.039615\n",
       "1  exhibit 4 25 information in this exhibit ident...          0.029397\n",
       "2  exhibit 10 13 joint venture agreement collecti...          0.026151\n",
       "3  exhibit 10 31 pursuant to 17 c f r    240 24b ...          0.035730\n",
       "4  redacted copy confidential treatment requested...          0.027314"
      ]
     },
     "execution_count": 97,
     "metadata": {},
     "output_type": "execute_result"
    }
   ],
   "source": [
    "contracts_df[['text','sentence_density']].head()"
   ]
  },
  {
   "cell_type": "code",
   "execution_count": 101,
   "metadata": {},
   "outputs": [
    {
     "data": {
      "text/plain": [
       "<matplotlib.axes._subplots.AxesSubplot at 0x2664da49240>"
      ]
     },
     "execution_count": 101,
     "metadata": {},
     "output_type": "execute_result"
    },
    {
     "data": {
      "image/png": "[encoded data removed]",
      "text/plain": [
       "<Figure size 432x288 with 1 Axes>"
      ]
     },
     "metadata": {
      "needs_background": "light"
     },
     "output_type": "display_data"
    }
   ],
   "source": [
    "sns.kdeplot(contracts_df['sentence_density'])"
   ]
  },
  {
   "cell_type": "markdown",
   "metadata": {},
   "source": [
    "### Analysis of overall feature attributes"
   ]
  },
  {
   "cell_type": "code",
   "execution_count": 31,
   "metadata": {},
   "outputs": [
    {
     "data": {
      "text/html": [
       "<div>\n",
       "<style scoped>\n",
       "    .dataframe tbody tr th:only-of-type {\n",
       "        vertical-align: middle;\n",
       "    }\n",
       "\n",
       "    .dataframe tbody tr th {\n",
       "        vertical-align: top;\n",
       "    }\n",
       "\n",
       "    .dataframe thead th {\n",
       "        text-align: right;\n",
       "    }\n",
       "</style>\n",
       "<table border=\"1\" class=\"dataframe\">\n",
       "  <thead>\n",
       "    <tr style=\"text-align: right;\">\n",
       "      <th></th>\n",
       "      <th>sentence_count</th>\n",
       "      <th>word_count</th>\n",
       "      <th>char_count</th>\n",
       "      <th>stopwords</th>\n",
       "    </tr>\n",
       "  </thead>\n",
       "  <tbody>\n",
       "    <tr>\n",
       "      <th>count</th>\n",
       "      <td>507.000000</td>\n",
       "      <td>507.000000</td>\n",
       "      <td>507.000000</td>\n",
       "      <td>507.000000</td>\n",
       "    </tr>\n",
       "    <tr>\n",
       "      <th>mean</th>\n",
       "      <td>201.938856</td>\n",
       "      <td>7854.100592</td>\n",
       "      <td>50390.437870</td>\n",
       "      <td>3146.504931</td>\n",
       "    </tr>\n",
       "    <tr>\n",
       "      <th>std</th>\n",
       "      <td>210.037476</td>\n",
       "      <td>8377.097147</td>\n",
       "      <td>53795.555428</td>\n",
       "      <td>3368.527018</td>\n",
       "    </tr>\n",
       "    <tr>\n",
       "      <th>min</th>\n",
       "      <td>2.000000</td>\n",
       "      <td>109.000000</td>\n",
       "      <td>645.000000</td>\n",
       "      <td>7.000000</td>\n",
       "    </tr>\n",
       "    <tr>\n",
       "      <th>25%</th>\n",
       "      <td>66.500000</td>\n",
       "      <td>2462.000000</td>\n",
       "      <td>16070.000000</td>\n",
       "      <td>963.500000</td>\n",
       "    </tr>\n",
       "    <tr>\n",
       "      <th>50%</th>\n",
       "      <td>130.000000</td>\n",
       "      <td>4973.000000</td>\n",
       "      <td>31983.000000</td>\n",
       "      <td>2028.000000</td>\n",
       "    </tr>\n",
       "    <tr>\n",
       "      <th>75%</th>\n",
       "      <td>255.500000</td>\n",
       "      <td>10181.500000</td>\n",
       "      <td>65126.000000</td>\n",
       "      <td>4095.000000</td>\n",
       "    </tr>\n",
       "    <tr>\n",
       "      <th>max</th>\n",
       "      <td>1214.000000</td>\n",
       "      <td>47733.000000</td>\n",
       "      <td>299808.000000</td>\n",
       "      <td>21274.000000</td>\n",
       "    </tr>\n",
       "  </tbody>\n",
       "</table>\n",
       "</div>"
      ],
      "text/plain": [
       "       sentence_count    word_count     char_count     stopwords\n",
       "count      507.000000    507.000000     507.000000    507.000000\n",
       "mean       201.938856   7854.100592   50390.437870   3146.504931\n",
       "std        210.037476   8377.097147   53795.555428   3368.527018\n",
       "min          2.000000    109.000000     645.000000      7.000000\n",
       "25%         66.500000   2462.000000   16070.000000    963.500000\n",
       "50%        130.000000   4973.000000   31983.000000   2028.000000\n",
       "75%        255.500000  10181.500000   65126.000000   4095.000000\n",
       "max       1214.000000  47733.000000  299808.000000  21274.000000"
      ]
     },
     "execution_count": 31,
     "metadata": {},
     "output_type": "execute_result"
    }
   ],
   "source": [
    "contracts_df[['sentence_count', 'word_count', 'char_count', 'stopwords']].describe()"
   ]
  },
  {
   "cell_type": "code",
   "execution_count": null,
   "metadata": {},
   "outputs": [],
   "source": []
  }
 ],
 "metadata": {
  "kernelspec": {
   "display_name": "Python 3",
   "language": "python",
   "name": "python3"
  },
  "language_info": {
   "codemirror_mode": {
    "name": "ipython",
    "version": 3
   },
   "file_extension": ".py",
   "mimetype": "text/x-python",
   "name": "python",
   "nbconvert_exporter": "python",
   "pygments_lexer": "ipython3",
   "version": "3.7.3"
  }
 },
 "nbformat": 4,
 "nbformat_minor": 2
}
