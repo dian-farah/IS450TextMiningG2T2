{
 "cells": [
  {
   "cell_type": "markdown",
   "metadata": {},
   "source": [
    "### Import Relevant Libraries"
   ]
  },
  {
   "cell_type": "code",
   "execution_count": 49,
   "metadata": {},
   "outputs": [],
   "source": [
    "import nltk\n",
    "from nltk.corpus import stopwords\n",
    "stopWords = set(stopwords.words(\"english\"))\n",
    "from nltk.tokenize import word_tokenize, sent_tokenize\n",
    "from nltk import tokenize\n",
    "from operator import itemgetter\n",
    "import math\n",
    "from gensim.parsing.preprocessing import remove_stopwords\n",
    "from sumy.parsers.plaintext import PlaintextParser\n",
    "from sumy.nlp.tokenizers import Tokenizer\n",
    "from sumy.summarizers.edmundson import EdmundsonSummarizer\n",
    "\n",
    "import pandas as pd\n",
    "import numpy as np\n",
    "import json\n",
    "import re\n",
    "\n",
    "import spacy\n",
    "import string\n",
    "\n",
    "from gensim.models import Word2Vec\n",
    "from scipy import spatial\n",
    "from scipy.sparse.linalg import svds\n",
    "import networkx as nx\n",
    "from sklearn.feature_extraction.text import TfidfVectorizer\n",
    "\n",
    "import rouge\n",
    "from rouge import Rouge\n",
    "from nltk.translate.bleu_score import sentence_bleu, corpus_bleu"
   ]
  },
  {
   "cell_type": "markdown",
   "metadata": {},
   "source": [
    "### Load Dataset"
   ]
  },
  {
   "cell_type": "code",
   "execution_count": 2,
   "metadata": {},
   "outputs": [
    {
     "data": {
      "text/html": [
       "<div>\n",
       "<style scoped>\n",
       "    .dataframe tbody tr th:only-of-type {\n",
       "        vertical-align: middle;\n",
       "    }\n",
       "\n",
       "    .dataframe tbody tr th {\n",
       "        vertical-align: top;\n",
       "    }\n",
       "\n",
       "    .dataframe thead th {\n",
       "        text-align: right;\n",
       "    }\n",
       "</style>\n",
       "<table border=\"1\" class=\"dataframe\">\n",
       "  <thead>\n",
       "    <tr style=\"text-align: right;\">\n",
       "      <th></th>\n",
       "      <th>contract</th>\n",
       "      <th>text</th>\n",
       "      <th>summary</th>\n",
       "    </tr>\n",
       "  </thead>\n",
       "  <tbody>\n",
       "    <tr>\n",
       "      <th>0</th>\n",
       "      <td>To amend the Internal Revenue Code of 1986 to ...</td>\n",
       "      <td>section 1. short title. this act may be cited ...</td>\n",
       "      <td>national science education tax incentive for b...</td>\n",
       "    </tr>\n",
       "    <tr>\n",
       "      <th>1</th>\n",
       "      <td>To amend the Internal Revenue Code of 1986 to ...</td>\n",
       "      <td>section 1. short title. this act may be cited ...</td>\n",
       "      <td>small business expansion and hiring act of 201...</td>\n",
       "    </tr>\n",
       "    <tr>\n",
       "      <th>2</th>\n",
       "      <td>A bill to require the Director of National Int...</td>\n",
       "      <td>section 1. release of documents captured in ir...</td>\n",
       "      <td>requires the director of national intelligence...</td>\n",
       "    </tr>\n",
       "    <tr>\n",
       "      <th>3</th>\n",
       "      <td>A bill to improve data collection and dissemin...</td>\n",
       "      <td>section 1. short title. this act may be cited ...</td>\n",
       "      <td>national cancer act of 2003 - amends the publi...</td>\n",
       "    </tr>\n",
       "    <tr>\n",
       "      <th>4</th>\n",
       "      <td>A bill to amend the Internal Revenue Code of 1...</td>\n",
       "      <td>section 1. short title. this act may be cited ...</td>\n",
       "      <td>military call-up relief act - amends the inter...</td>\n",
       "    </tr>\n",
       "  </tbody>\n",
       "</table>\n",
       "</div>"
      ],
      "text/plain": [
       "                                            contract  \\\n",
       "0  To amend the Internal Revenue Code of 1986 to ...   \n",
       "1  To amend the Internal Revenue Code of 1986 to ...   \n",
       "2  A bill to require the Director of National Int...   \n",
       "3  A bill to improve data collection and dissemin...   \n",
       "4  A bill to amend the Internal Revenue Code of 1...   \n",
       "\n",
       "                                                text  \\\n",
       "0  section 1. short title. this act may be cited ...   \n",
       "1  section 1. short title. this act may be cited ...   \n",
       "2  section 1. release of documents captured in ir...   \n",
       "3  section 1. short title. this act may be cited ...   \n",
       "4  section 1. short title. this act may be cited ...   \n",
       "\n",
       "                                             summary  \n",
       "0  national science education tax incentive for b...  \n",
       "1  small business expansion and hiring act of 201...  \n",
       "2  requires the director of national intelligence...  \n",
       "3  national cancer act of 2003 - amends the publi...  \n",
       "4  military call-up relief act - amends the inter...  "
      ]
     },
     "execution_count": 2,
     "metadata": {},
     "output_type": "execute_result"
    }
   ],
   "source": [
    "billsum_test = pd.read_excel('../data/billsum_test.xlsx')\n",
    "\n",
    "billsum_test['text'] = billsum_test['text'].apply(lambda x: x.lower())\n",
    "billsum_test['summary'] = billsum_test['summary'].apply(lambda x: x.lower())\n",
    "billsum_test.head()"
   ]
  },
  {
   "cell_type": "markdown",
   "metadata": {},
   "source": [
    "### Pre-processing"
   ]
  },
  {
   "cell_type": "code",
   "execution_count": 3,
   "metadata": {},
   "outputs": [],
   "source": [
    "def replace_semicolon(text, threshold=10):\n",
    "    '''\n",
    "    Get rid of semicolons.\n",
    "    First split text into fragments between the semicolons. If the fragment \n",
    "    is longer than the threshold, turn the semicolon into a period. O.w treat\n",
    "    it as a comma.\n",
    "    Returns new text\n",
    "    '''\n",
    "    new_text = \"\"\n",
    "    for subset in re.split(';', text):\n",
    "        subset = subset.strip() # Clear off spaces\n",
    "        # Check word count\n",
    "        if len(subset.split()) > threshold:\n",
    "            # Turn first char into uppercase\n",
    "            new_text += \". \" + subset[0].upper() + subset[1:]\n",
    "        else:\n",
    "            # Just append with a comma \n",
    "            new_text += \", \" + subset\n",
    "\n",
    "    return new_text"
   ]
  },
  {
   "cell_type": "code",
   "execution_count": 4,
   "metadata": {},
   "outputs": [],
   "source": [
    "USC_re = re.compile('[Uu]\\.*[Ss]\\.*[Cc]\\.]+')\n",
    "PAREN_re = re.compile('\\([^(]+\\ [^\\(]+\\)')\n",
    "BAD_PUNCT_RE = re.compile(r'([%s])' % re.escape('\"#%&\\*\\+/<=>@[\\]^{|}~_'), re.UNICODE)\n",
    "BULLET_RE = re.compile('\\n[\\ \\t]*`*\\([a-zA-Z0-9]*\\)')\n",
    "DASH_RE = re.compile('--+')\n",
    "WHITESPACE_RE = re.compile('\\s+')\n",
    "EMPTY_SENT_RE = re.compile('[,\\.]\\ *[\\.,]')\n",
    "FIX_START_RE = re.compile('^[^A-Za-z]*')\n",
    "FIX_PERIOD = re.compile('\\.([A-Za-z])')\n",
    "SECTION_HEADER_RE = re.compile('SECTION [0-9]{1,2}\\.|\\nSEC\\.* [0-9]{1,2}\\.|Sec\\.* [0-9]{1,2}\\.')\n",
    "\n",
    "FIX_PERIOD = re.compile('\\.([A-Za-z])')\n",
    "\n",
    "SECTION_HEADER_RE = re.compile('SECTION [0-9]{1,2}\\.|\\nSEC\\.* [0-9]{1,2}\\.|Sec\\.* [0-9]{1,2}\\.')"
   ]
  },
  {
   "cell_type": "code",
   "execution_count": 5,
   "metadata": {},
   "outputs": [],
   "source": [
    "def clean_text(text):\n",
    "    \"\"\"\n",
    "    Borrowed from the FNDS text processing with additional logic added in.\n",
    "    Note: we do not take care of token breaking - assume SPACY's tokenizer\n",
    "    will handle this for us.\n",
    "    \"\"\"\n",
    "\n",
    "    # Indicate section headers, we need them for features\n",
    "    text = SECTION_HEADER_RE.sub('SECTION-HEADER', text)\n",
    "    # For simplicity later, remove '.' from most common acronym\n",
    "    text = text.replace(\"U.S.\", \"US\")\n",
    "    text = text.replace('SEC.', 'Section')\n",
    "    text = text.replace('Sec.', 'Section')\n",
    "    text = USC_re.sub('USC', text)\n",
    "\n",
    "    # Remove parantheticals because they are almost always references to laws \n",
    "    # We could add a special tag, but we just remove for now\n",
    "    # Note we dont get rid of nested parens because that is a complex re\n",
    "    #text = PAREN_re.sub('LAWREF', text)\n",
    "    text = PAREN_re.sub('', text)\n",
    "    \n",
    "\n",
    "    # Get rid of enums as bullets or ` as bullets\n",
    "    text = BULLET_RE.sub(' ',text)\n",
    "    \n",
    "    # Clean html \n",
    "    text = text.replace('&lt;all&gt;', '')\n",
    "\n",
    "    # Remove annoying punctuation, that's not relevant\n",
    "    text = BAD_PUNCT_RE.sub('', text)\n",
    "\n",
    "    # Get rid of long sequences of dashes - these are formating\n",
    "    text = DASH_RE.sub( ' ', text)\n",
    "\n",
    "    # removing newlines, tabs, and extra spaces.\n",
    "    text = WHITESPACE_RE.sub(' ', text)\n",
    "    \n",
    "    # If we ended up with \"empty\" sentences - get rid of them.\n",
    "    text = EMPTY_SENT_RE.sub('.', text)\n",
    "    \n",
    "    # Attempt to create sentences from bullets \n",
    "    text = replace_semicolon(text)\n",
    "    \n",
    "    # Fix weird period issues + start of text weirdness\n",
    "    #text = re.sub('\\.(?=[A-Z])', '  . ', text)\n",
    "    # Get rid of anything thats not a word from the start of the text\n",
    "    text = FIX_START_RE.sub( '', text)\n",
    "    # Sometimes periods get formatted weird, make sure there is a space between periods and start of sent   \n",
    "    text = FIX_PERIOD.sub(\". \\g<1>\", text)\n",
    "\n",
    "    # Fix quotes\n",
    "    text = text.replace('``', '\"')\n",
    "    text = text.replace('\\'\\'', '\"')\n",
    "\n",
    "    # Add special punct back in\n",
    "    text = text.replace('SECTION-HEADER', '')\n",
    "\n",
    "    text = remove_stopwords(text)\n",
    "\n",
    "    return text"
   ]
  },
  {
   "cell_type": "code",
   "execution_count": 6,
   "metadata": {},
   "outputs": [],
   "source": [
    "billsum_test['clean_content'] = billsum_test.text.map(clean_text)\n",
    "        \n",
    "billsum_test['clean_summary'] = billsum_test.summary.map(clean_text)\n",
    "\n",
    "billsum_test['clean_contract'] = billsum_test.contract.map(clean_text)"
   ]
  },
  {
   "cell_type": "code",
   "execution_count": 7,
   "metadata": {},
   "outputs": [],
   "source": [
    "content = billsum_test['clean_content'].values.tolist()\n",
    "\n",
    "content_parser = [PlaintextParser.from_string(doc,Tokenizer(\"english\")) for doc in content]"
   ]
  },
  {
   "cell_type": "markdown",
   "metadata": {},
   "source": [
    "### Getting significant and redundant keywords\n",
    "Currently, this is done automatically using tf-idf however, in practice, lawyers can specify what words are significant and what are not significant. Hence, this can be customised"
   ]
  },
  {
   "cell_type": "code",
   "execution_count": 8,
   "metadata": {},
   "outputs": [],
   "source": [
    "def check_sent(word, sentences): \n",
    "    final = [all([w in x for w in word]) for x in sentences] \n",
    "    sent_len = [sentences[i] for i in range(0, len(final)) if final[i]]\n",
    "    return int(len(sent_len))"
   ]
  },
  {
   "cell_type": "code",
   "execution_count": 9,
   "metadata": {},
   "outputs": [],
   "source": [
    "def get_top_n(dict_elem, n):\n",
    "    result = dict(sorted(dict_elem.items(), key = itemgetter(1), reverse = True)[:n]) \n",
    "    return result"
   ]
  },
  {
   "cell_type": "code",
   "execution_count": 16,
   "metadata": {},
   "outputs": [],
   "source": [
    "def keyword_extraction(doc):\n",
    "    total_words = doc.split()\n",
    "    total_word_length = len(total_words)\n",
    "#     print(total_word_length)\n",
    "    \n",
    "    total_sentences = tokenize.sent_tokenize(doc)\n",
    "    total_sent_len = len(total_sentences)\n",
    "#     print(total_sent_len)\n",
    "\n",
    "    tf_score = {}\n",
    "    for each_word in total_words:\n",
    "        each_word = each_word.replace('.','')\n",
    "        if each_word not in stopWords:\n",
    "            if each_word in tf_score:\n",
    "                tf_score[each_word] += 1\n",
    "            else:\n",
    "                tf_score[each_word] = 1\n",
    "\n",
    "    # Dividing by total_word_length for each dictionary element\n",
    "    tf_score.update((x, y/int(total_word_length)) for x, y in tf_score.items())\n",
    "#     print(tf_score)\n",
    "\n",
    "    idf_score = {}\n",
    "    for each_word in total_words:\n",
    "        each_word = each_word.replace('.','')\n",
    "        if each_word not in stopWords:\n",
    "            if each_word in idf_score:\n",
    "                idf_score[each_word] = check_sent(each_word, total_sentences)\n",
    "            else:\n",
    "                idf_score[each_word] = 1\n",
    "\n",
    "    # Performing a log and divide\n",
    "    idf_score.update((x, math.log(int(total_sent_len)/y)) for x, y in idf_score.items())\n",
    "\n",
    "#     print(idf_score)\n",
    "\n",
    "    tf_idf_score = {key: tf_score[key] * idf_score.get(key, 0) for key in tf_score.keys()}\n",
    "#     print(tf_idf_score)\n",
    "\n",
    "    return get_top_n(tf_idf_score, 5)"
   ]
  },
  {
   "cell_type": "code",
   "execution_count": 91,
   "metadata": {},
   "outputs": [],
   "source": [
    "def unique_keywords(top_keywords):\n",
    "    string.punctuation = \"\\!\\\"#&'()*+,./:;<=>?@[\\]^_`{|}~\" #remove $ and % as they are needed in legal documents\n",
    "    keywords = []\n",
    "    for words in top_5_keywords:\n",
    "        for word in words.keys():\n",
    "            if (word not in keywords) and ('(' not in word) and (')' not in word):\n",
    "                word = word.translate(str.maketrans('', '', string.punctuation))\n",
    "                if word != '':\n",
    "                    keywords.append(word)\n",
    "    return keywords"
   ]
  },
  {
   "cell_type": "code",
   "execution_count": 92,
   "metadata": {},
   "outputs": [],
   "source": [
    "#content\n",
    "top_5_keywords = [keyword_extraction(doc.lower()) for doc in content]"
   ]
  },
  {
   "cell_type": "code",
   "execution_count": 93,
   "metadata": {},
   "outputs": [
    {
     "name": "stdout",
     "output_type": "stream",
     "text": [
      "{'technology,': 0.022344044962009806, 'engineering,': 0.0209978425915327, 'science,': 0.01973855437421424, 'property': 0.01973855437421424, '`stem': 0.01803309738042134}\n"
     ]
    }
   ],
   "source": [
    "print(top_5_keywords[0])"
   ]
  },
  {
   "cell_type": "code",
   "execution_count": 94,
   "metadata": {},
   "outputs": [],
   "source": [
    "content_keywords = unique_keywords(top_5_keywords)"
   ]
  },
  {
   "cell_type": "code",
   "execution_count": 108,
   "metadata": {},
   "outputs": [
    {
     "name": "stdout",
     "output_type": "stream",
     "text": [
      "2798\n"
     ]
    }
   ],
   "source": [
    "print(len(set(content_keywords)))"
   ]
  },
  {
   "cell_type": "code",
   "execution_count": 104,
   "metadata": {},
   "outputs": [
    {
     "name": "stdout",
     "output_type": "stream",
     "text": [
      "'2004', 'departments', 'college', '1963', 'forfeiture', 'trucks', 'benchmarks', 'inf', 'voters', 'expert', 'establishment', 'equalization', 'tobacco', 'taxpayers', 'abraham', 'analysis', '75', 'quadrennial', 'obstetric', 'monitoring', 'broadband', 'duty', '1974', 'countrys', '1950', 'science', 'extension', 'nurse-midwife', 'december', 'attorney', 'mapping', 'administrator', 'board', '12', 'se14', 'joaquin', 'exploration', 'qaeda', 'gaming', 'weather', '65', '10', 'mathematics', 'personalized', 'advanced', 'prostate', 'storage', 'violent', 'cost-of-living', 'held', '9', '081092', 'fed', 'advertising', '-a-u-t-h-o-r-i-z-e-d', 'owner-acquirer', 'report', 'level', 'parking', 'cubas', 'lincolns', '89', 'service-connected', 'abstinence', 'gettysburg', '1930', 'cuba', 'womans', 'extremism', 'frequently', 'vehicle', 'infectious', 'standard', 'follows', 'xviii', 'security-based', 'stimulation', 'oxygen', 'cyber', 'navigation', 'repair', '25', '343', 'federally-qualified', 'subcontractor', 'exceed', 'operator', 'afghanistan', 'airport', 'farmer-owned', 'authorized', 'lords', 'ketchikan', 'fishing', 'mortgage', 'johnson', 'therapy', 'antibacterial', 'transmission', 'derivative', 'pelvic', 'knives', 'nw14', 'e-rate', 'regulations', 'non-duty', 'lake', 'diseases', 'problems', 'resources', 'gift', 'claimants', 'improve', 'reentering', 'alcoholism', 'advantage', 'excessive', 'remuneration', 'objections', 'adult', '10-year', 'notwithstanding', 'simulation', 'freddie', 'children', 'savings', 'military', 'arsenic-treated', 'institutions', 'catastrophic', 'individuals', 'fee', 'railcar', 'sized', 'september', 'boxing', 'spending', 'mental', 'eating', 'gas', 'locked', 'dredged', 'reservation', 'overseas', 'school-aged', 'continued', 'helicopter', 'workshops', 'alcohol', 'metropolitan', '10-percent', 'james', 'elementary', '116', 'commissions', 'expected', 'language', 'inflammatory', 'neurological', 'homeowner', 'redeployment', 'subheading', 'cyprus', 'high-priority', 'oxide', '12-month', 'fuel', 'anorexia', 'picture', 'majority', 'administrations', 'sales', 'historic', 'improvements', 'objectives', 'hibben', 'windstorm', '5850-5925', 'coastwise', 'corps', 'conservation', 'riskless', '409', 'perks', 'diacetylmorphine', 'reversible', '408', 'explosive', 'hydrographic', '28', 'under', 'expatriation', 'jointly', 'alteration', 'extrajudicial', 'peer-to-peer', 'rehabilitation', 'programming', 'adequate', 'institutes', 'environment', 'june', 'officers', 'oil-for-food', '72', 'crohns', 'cavernous', 'livestock-derived', 'offender', 'fannie', 'period', 'jobs', 'launch', 'jury', 'quarters', 'backscatter', 'seized', 'supply', 'dsh', 'observance', '1985', 'copyright', 'organization', 'combat', 'textile', 'microbicides', 'right-of-way', '070304', '50000', '1904', 'acquisition', 'salary', 'appropriate', 'length', '2012', '072204', 'follow-up', 'sediment', 'reasonably', 'census', 'three-share', 'feasibility', 'customer-owned', 'self-bond', 'killed', 'hizballah', 'immunization', 'kedytes', 'make-whole', 'flunitrazepam', '12312011', 'integrated', 'advisability', 'packaging', 'minerals', 'consulting', 'adoption', 'boundary', 'worth', 'non-invasive', 'steel', 'efforts', 'megans', 'following', 'marketable', '-o-f', 'state-licensed', 'export-import', 'bovine', '180-day', 'beverage', 'non-fatal', 'drug', '2050', 'residents', '44', '1-year', 'crimes', 'function', 'regulated', '526', '35', 'permit', 'servicemember', 'handgun', '38', 'respirator', 'producer', 'preventive', 'dwelling', 'awarded', '052496', 'security', 'limited', 'army', 'girls', 'self-determination', 'navajo', 'techniques', 'foundation', 'biometric', 'gas-only', 'dolphins', 'emp', 'motorized', 'unfair', 'price', 'quoted', 'visa', 'new', 'advisory', 'contribution', 'bowling', '1994', 'subscribers', 'legitimate', 'extremist', 'applicable', 'homeowners', 'poverty', 'post-hospital', 'court', 'corporation', 'passenger', '$1150000000', 'privately', 'wasteful', 'private', 'injectant', 'pre-existing', 'civil', 'nonprocurement', 'insured', 'kidney', 'totalization', 'influence', 'haiti', 'hydrate', 'continuation', 'digital', '34th', 'medium-sized', 'percent', 'rulemaking', 'frequencies', 'wetland', 'illness', 'leased', 'goods', 'municipal', 'abuse', 'waiting', 'magistrate', 'co-chaired', 'invasive', 'taken', 'ballistic', 'governmental', 'furnished', 'talkers', '-s-u-c-h', 'this', 'zone', 'workout', 'existing', 'employees', 'airports', 'tuberculosis', 'columbia', 'substances', 'feature', 'disseminated', 'governing', 'seeking', 'squadrons', 'tribes', '3114', 'venckiene', 'expensing', 'convention', 'haitis', 'worker', 'griffith', 'truck', 'wine', 'nutria', 'renewable', 'washoe', 'extinguishment', 'cashing', 'w-2', 'requesting', 'small-business', 'hazards', '1977', 'originally', 'undiagnosed', 'probationary', '36', 'availability', 'anthrax', 'professional', 'management', 'scrapping', '2461', 'south', '317r', 'school', 'sec', 'non-federal', 'oodham', 'fluid', 'employer', 'agency', 'special', 'asset-backed', 'foundations', 'waivers', 'manufactured', 'ip-enabled', 'poultry', '20', 'subpart', 'first-time', 'alien', 'positive', '1869', 'semi-submersible', 'hardware', 'mens', 'workforce', 'syndrome', 'wage', 'production', 'public', 'reward', 'hanford', 'baby', 'witness', 'manure', 'right', 'silk', 'homeland', '1316', 'exclusively', 'maryland', 'receiver', 'linkage', 'guaranty', 'administration', 'truancy', 'single-family', 'job-loss', 'campus', '504', 'reserved', 'higher', 'dam', 'position', 'hub', 'high-end', 'child-sex', 'jcpoa', 'years', 'process', 'pay', 'nonqualified', 'energy-saving', 'disqualification', 'disposable', 'pregnant', 'agreement', 'compensatory', 'blank', 'review', 'birth', 'democracy', 'biological', '19', 'naturalization', 'condition', 'liberties', 'c-level', 'system', 'behavioral', 'arizona', 'municipalities', 'chemical', 'bombing', 'outer', 'presidents', 'lakes', 'compensation', 'catch-up', 'navy', 'severe', 'certification', 'imposed', 'hivaids', 'unauthorized', 'bia-funded', 'pueblo', 'mercury', 'change', 'life', 'weapons', 'atrophy', 'korea', 'reviewable', 'television', 'discrimination', 'muscular', 'heart', 'knowingly', 'conversion', 'anti-tobacco', 'charter', 'minutes', 'hearing', 'graduate', 'wheelchair', 'secondary', 'governmentwide', 'clerk', 'vaccine-related', 'bank', '$75000', 'information', 'medicine', 'container', 'unit', 'postsecondary', 'jeopardize', 'boards', 'sensitive', 'wake', 'functions', 'home-based', 'defects', 'wellness', 'hht', 'covered', 'pension', 'risks', 'self-directed', 'prescriber', 'timber', 'mortgagor', 'privatization', 'violence', 'taxpayer', 'yellowstone', 'humanitarian', 'e-911', 'community', 'bylaws', 'design-build', 'potholes', 'adoptive', 'alternative', 'formulary', 'same-sex', 'affordability', 'delaware', 'craft', 'recreation', 'holding', 'indian', 'coins', 'force', '2413', 'century', 'child', 'perchlorate', 'requiring', 'buyback', '113097', 'businesses', 'in-person', 'scheduled', 'players', 'workplace', 'lead', 'previous', 'hazardous', 'off-highway', 'childs', 'congressionally', 'referred', 'shipping', '110', '071996', 'weapon', 'michigan', 'freedom', 'juvenile', 'extraction', 'best', 'stamp', 'high-speed', 'expressed', 'entrepreneurship', 'startup', '-', 'instrument', 'hardship', 'nafta', 'mortgages', 'packer', 'firearm', 'act', 'mortality', 'local', 'entity', 'gold', 'conjunction', 'care', 'involving', 'bets', 'evaluation', 'teacher', 'age', '$10000000', '83', 'checks', 'lawsuit', 'job', 'smoking', 'architect', 'unlicensed', 'improvised', 'united', 'defense', 'voluntary', 'monthly', 'underreporting', 'petition', 'caregivers', 'bias-motivated', 'country', '2008', 'poverty-focused', 'frontpay', 'agreements', 'program', 'sexual', 'uzbekistan', 'bees', 'owned', 'contributions', 'urbanized', 'team', 'commercialization', 'native', '29th', 'establishing', 'customer', 'defendants', 'cemetery', 'sexually', 'contract', '203', 'readjustment', 'reduction', 'al-qaida', 'v', 'exporter', 'manhattan', '1084', 'investments', 'video-related', 'chesapeake', 'facilities', 'bequest', '965', '140', 'right-to-know', '34-hour', 'aliens', 'requests', 'adjusted', 'chickasaw', '48', 'subtitle', 'maintenance', '60', 'roadway', 'diversity', 'support', 'headwaters', '1964', 'light-duty', 'appointed', 'tenakee', '2013', '1970', 'city', 'annuity', 'seizure', 'making', 'niosh', 'knife', 'panel', 'forces', 'surety', 'manufacturing', 'air', '1967', 'owner', 'reserve', 'credit', 'liquid', 'mortgagors', '9n', 'whistleblower', 'methane', 'practices', 'exclusivity', 'eb-5', 'rhinoceros', '1948', 'physician', '93', 'plan', 'preferred', 'software', 'organizations', 'manufacturer', '46', 'mountain', 'post-traumatic', 'affinity', 'study', 'voucher', 'which', 'fund', '16xx', 'enemy', 'blueprint', 'kosova', 'afterschool', 'controls', 'page', 'rail-highway', 'town', 'gambling', 'lupus', 'nursing', 'convicted', 'accounting', 'liquids', 'king', 'surgical', 'small-dollar', 'third-party', 'entitys', 'carbon', 'universal', 'precision', 'makes', 'renovation', 'allotments', 'recovery', 'megahertz', 'intercity', 'subjective', 'raul', 'refuge', 'compact', '022393', 'pain', 'delinquency', 'alert', 'sea', 'quantity', 'expense', 'fracturing', 'handbook', 'settlement', 'submersible', 'kenai', 'dividend', 'hijacking', 'issuer', 'therapeutic', 'parenteral', 'industry', 'warfare', 'preservation', 'makerspace', 'non-proliferation', 'prescription', 'revitalization', '103-32', 'dioxin', 'lawful', 'exports', 'judiciary', 'israel', 'multi-', '1921', 'poland', 'investors', 'wireless', 'community-based', 'jurisdictions', 'north', 'start-up', 'arrangement', 'transmitting', 'asthma-related', 'concussions', '1959', 'aviation', 'publicly', 'federal', 'coordination', 'al-shabaab', 'written', 'magnitsky', 'juan', 'immigration-related', 'frameworks', 'message', 'swaps', 'chief', 'decision-making', 'office', 'burmese', 'marine', '45-day', 'title', 'requirements', 'exascale', '5304', 'nonbank', '2025', 'palestinian', 'website', 'university-based', 'multifamily', 'term', 'construction', 'profits', 'annual', 'watershed', 'coordinating', 'servicer', 'cosmetology', 'ha-leu', 'fab', 'commemorative', 'nazi', 'pregnancy', 'or', 'noxious', 'china', 'licensee', 'harmonization', 'cited', 'transportation', 'prizes', 'description', 'allow', 'victim', '-a-u-t-h-o-r-i-z-a-t-i-o-n', 'pharmacy', 'livestock', 'bill', '322', 'brain', 'lamps', 'monument', 'marksmanship', 'czech', 'demographic', '$1', 'appalachian', 'supreme', 'guidance', 'noncommercial', 'landing', 'material', 'historical', '$005', 'phytophthora', 'member', 'funding', 'facility', 'debt', 'firearms', 'stand-by', 'wildfire', 'group', 'impact', 'cycle', 'enforcement', 'hepatitis', 'waiver', 'arlington', 'owners', 'section', '90', 'russian', 'lead-based', 'person', 'lock', 'peach', 'homeless', 'mpg', 'rights', 'beneficiaries', 'bypass', 'obesity', 'kyoto', 'h-1b', 'projects', 'motion', 'gasoline', 'face-to-face', 'official', 'hours', 'subsidy', '26', 'irrigation', 'pre-effective', 'non-profit', 'out-of-state', 'one-fourth', 'asbestos-containing', '1961', 'data-sharing', 'taxes', 'commercial', 'inserting', 'scholarship', 'neighborhood', 'association', 'pacific', '4181', 'equipment', 'pakistan', 'non-amtrak', 'burden', 'like-minded', '33', 'foster', '30', 'academy', 'restructuring', 'policy', 'bonus', 'beginning', '7527a', 'medically', 'southerly', 'koniag', 'quarter', 'potential-weighted', 'money', 'pro-rated', 'breakfast', 'municipality', 'minors', 'polling', 'chloride', 'value', 'partnership', 'summarized', 'hass', 'servicemembers', 'substantial', 'oversight', 'standardized', 'pick-sloan', 'oconnor', 'described', '29', '705', 'content', 'proposals', 'state-inspected', 'peaks', 'non-tangent', 'chimpanzees', 'vessel', 'crashes', 'aids', 'stem', 'tuskegee', 'antitrust', 'african-american', 'waters', 'teleworking', 'derivatives', '7131', 'marshall', '2020', 'workload', 'congress', 'certifying', '710', 'hour', 'chinese', 'athlete', 'post-baccalaureate', 'agencys', 'general', '073198', 'workers', 'device', 'commandant', '179', 'claims', 'chapters', 'supplier', 'high-quality', 'microbicide', 'commissioner', 'clubs', 'brazil', 'parcel', 'disability', 'registry', 'merchant', '16', 'orthotic', 'e-85', 'temporary', 'combustible', 'jersey', 'fitness', 'farm', 'college-sponsored', 'vocational', 'loan-loss', 'price-fixing', 'transferred', 'iraq', 'instrumentality', 'travelling', 'poison', 'appointee', 'pyramid', 'non-department', 'action', 'beijings', 'highly', 'crop', 'full-time', '081197', 'dealers', 'anesthesia', 'autism', 'minor', 'package', 'activity', 'fiscal-year', '022198', 'individual', 'administrative', 'behavior', 'natural', 'widespread', 'low-income', 'mineral', 'sma', 'peacekeeping', 'backup', '9006', 'small', 'portal', 'excavated', 'research', 'laboratory', 'received', 'texas', 'clean-fuel', 'open', 'developmental', 'niosh-approved', 'food-borne', 'markings', 'response', 'able-bodied', 'methyl-mercury', 'abortion', 'relocation', '1978', 'preserve', 'size', 'lump-sum', 'metal', 'biosafety', 'vehicles', 'remedies', 'border', 'home', '1983', 'refinery', 'shall', 'signatures', '529', 'loan', 'extreme', '072304', 'sixteen', '1954', 'federation', 'map-21', 'cpr', 'qualified', 'angioma', '911', 'kitchens', 'sovereignty', 'growers', 'including', 'mckinney', 'petersburg', 'subpoena', 'crime', 'climate', 'secretary', 'link', '477th', 'cyberspace', 'substance', 'infant', 'certified', 'relief', 'at-will', 'service-disabled', 'payment', '1972', '1965', 'beneficiary', 'replacement', 'safety', 'at-risk', 'primary', 'removal', 'yankton', 'adjacent', 'prize', 'magnuson-stevens', 'distribution', 'methods', 'tuna', 'watch', 'hydronic', 'director', 'debtors', 'harmonized', 'non-violent', 'petroleum', 'smokeless', 'teaching', 'bureau', 'pharmacist', 'sanctions', 'plymouth', '2775', 'tissue', 'population', 'on-site', 'evidence', 'dxa', '472', 'fisheries', 'acre-feet', '304', 'visitor', '7612', 'injuring', 'january', '49', 'awards', 'coastal', '1234-', 'expatriate', 'inspection', 'disqualified', 'interactive', 'oxygenate', 'card', 'guam', '1988', '1938', 'breast', 'pakistans', 'commonwealth', 'polytrauma', 'for-profit', 'restitution', '701', 'infertility', '1717', 'strategy', 'weed', 'health', 'payments', 'quality', 'map', 'one-half', 'cigarette', 're-exportation', 'with', 'sequestration', '57', '1836', 'inquiry', 'fox', 'fly', 'tb', 'bounty', 'governments', 'enclaved', 'jurisdiction', 'president', 'claim', 'pilot', 'two-fiscal', 'require', '1992', '2001', 'ready-to-eat', '513', 'mississippi', 'multi-user', 'skilled', 'league', 'justice', '1651', 'deferred', 'dairy', 'ability', 'states-mexico', '4532', 'regulation', 'paskenta', 'rx', 'chimpanzee', 'habitat', 'equivalent', 'disease', 'concerned', 'fentanyl', 'radiation', 'disadvantaged', 'monetary', 'required', 'distributions', 'fructose', '9-1-1', 'garment', 'bulimia', 'financial', 'korean', 'specialized', 'attorneys', '2007', 'consumers', 'agricultural', 'slaughter', 'exception', 'bowl', 'nato', 'council', 'macau', 'quinault', 'jamestown', 'employee-disputant', 'harvested', 'domestic', 'billing', 'substantially', 'hispanic', 'waivered', 'gulch', 'personal', 'airway', '1059', 'benchmarking', 'theme', 'gaza', 'borrower', '80', 'holocaust', '1990', 'attack', 'survivor', '0', 'requirement', 'chavez', 'citizenship', 'backlog', 'parts', '1037', 'american', 'intellectual', 'religious', '1998', 'clearinghouse', 'valley', 'affairs', 'archeological', 'privacy', 'toxic', 'entry', 'exceeding', 'sub-assemblies', 'days', 'families', 'ballistics', 'two-thirds', 'screenings', 'women-', 'inspector', 'dietary', 'sub-saharan', 'imaging', '1', 'abroad', 'discharged', '4-week', '45', 'screening', 'bioenergy', '312005', 'shellfish', 'x-ray', 'fuel-efficient', 'offense', 'sharing', 'pre-kindergarten', 'seafood', 'teachers', '500', 'tubman', 'skill', 'gang', '351a', 'exercise', 'provide', 'cape', 'trucking', 'vietnam', 'microbial', 'wholesale', 'environmental', 'bridge', 'patients', 'fm', 'protection', 'drivers', '180', 'grazing', 'established', 'visitation', 'telephone', 'hybrid', '1971', 'employment', '2794', 'deemed', 'tunnels', 'branch', 'handguns', 'dingell-johnson', 'americas', 'a-76', 'component', 'providing', 'highway-rail', 'firmware', 'pack', 'minority', 'working', 'jacob', 'centers', 'status', 'complex', '$50000000', 'capital', 'deduction', 'achieving', 'off-reservation', 'statistical', 'innovation', 'year', 'defibrillation', 'five-year', 'h-2a', '7802', 'emerging', 'injury', '$243101250', 'absentee', 'daily', 'feet', '312007', 'high-need', '1996', 'pay-per-view', '17', 'farm-raised', 'expanding', '1993', 'costs', 'methylmercury', 'remediation', 'independent', 'probation', 'principles', 'neonatal', 'immunodeficiency', 'traumatic', 'adequately', 'coverage', 'jails', 'industries', 'meat', 'incentive', 'wilson', 'dextromethorphan', 'transaction', 'republic', 'jg6', 'trawling', 'dodd-frank', 'may', 'development', 'video', 'leasing', 'film', 'classified', 'bachelors', 'overweight', 'animal', 'volcano', '336', '106-554', 'umwa', 'lejeune', '002-0505036-2', 'mammography', 'olympics', 'desalination', 'sudan', 'physics', 'barrier', 'urinary', 'senior', '6-year-old', 'ballot', 'designated', 'anti-terrorism', 'allowances', 'trademark', 'land-sharing', '1966', '4', 'generic', 'continental', 'immune', 'energy', 'affordable', 'cost', 'barrows', 'counter-terrorism', 'zippers', 'specified', 'subdivision', 'infusion', '1949', 'bracket', 'incumbent', 'network', 'plaintiff', 'comptroller', 'schools', 'conveyance', 'captured', 'works', 'reorganization', 'short-', 'funds', 'crosswalk', 'shutdown', 'paleontological', 'great', 'leniency', 'protective', 'labor-management', '062404', 'redevelopment', 'fishery', 'hunting', 'necessary', 'higgins', 'qualifying', 'e-commerce', 'closure', 'governor', 'turkey', 'megawatt', 'self-support', 'obligations', 'oak', 'external', 'highways', 'flagship', 'disapproval', 'river', 'tax-favored', 'spinal', 'sample-to-answer', 'number', 'excellence', 'high-risk', '3-year', 'shelf', 'zoning', 'wallenberg', 'tracking', 'hurricane', 'cobra', 'acquired', 'bulk-power', 'puerto', 'protected', 'spv', 'entitlement', 'ozone', 'acknowledgment', 'on-campus', 'full-benefit', '-t-h-e', 'providers', 'eye', 'defined', 'opaque', 'emergency', 'electronic', 'department', 'debris', 'mexicos', 'internal', '$10000', 'police', 'expansion', 'procedures', 'lewis', 'examined', 'unjustified', 'expertise', 'warning', 'world', '$010', 'sealaska', 'dna', 'broker', 'approved', 'fort', 'employers', 'irans', 'rate', 'armed', '21', 'allowable', 'blood-based', 'stabilization', 'in-network', 'commodity', 'government-wide', 'wages', 'lower', '1960', 'jurisdictional', 'vessels', 'country-of-origin', 'waterways', 'abuse-deterrent', 'ethanol', 'wounding', 'earth', 'midwife', 'interagency', 'web', 'utilization', '071296', 'surface', 'subsection', '5500', 'meridian', 'hills', 'patent', 'within', 'charitable', 'national', 'political', 'ne14', 'spectrum', 'c-17', 'alzheimers', 'internship', '1995', 'swell', 'common', 'fees', '1999', 'mixture', 'heavy-duty', 'key', 'request', 'assessment', 'sports', '1846', 'state', '2011', 'innovative', '1973', 'zimbabwe', 'subchapter', 'labeled', 'lakeshore', 'tick-borne', 'mining', 'block', 'driving', 'education', 'out-of-network', 'west', 'preference', 'set-aside', 'earmark', 'lyndon', 'context', 'banked', 'human', 'creek', '1361', 'voice', 'rent-to-own', '3101', 'sw14', 'methyl', 'wheat', 'powers', 'twelfth', 'demonstration', 'international', 'experience', 'plaque', 'killing', 'activities', 'maternity', '1908', '6-month', 'highway', 'risk-benefit', 'task', 'greenhouse', 'injured', 'time-limited', 'social', 'disciplinary', 'xix', 'brownfield', 'avocados', 'koreas', 'home-', 'vacancy', 'advisors', 'school-sponsored', 'discovery', 'supervised', 'fiscal', 'duck', 'mid-life', 'motor', '1946', 'camp', 'tribally-controlled', 'iran', 'woodrow', 'surveillance', '23', 'x', 'fellowships', 'diagnosis', 'british', 'aquifer', 'aircraft', 'conveyed', 'decedents', 'subsidization', 'district', 'federal-aid', 'speech', 'recording', 'body', 'injuries', 'journal', '2745', 'physical', '$300', '$43997080', 'ambulatory', 'adjustment', '3234', '-a-n-d', '1945', 'jewish', '7', 'nonproliferation', 'renewal', 'reliability', 'fraud', 'japanese', 'bequests', 'school-based', 'materials', 'frequency', 'separation', 'grand', 'gulf', 'credit-based', 'seek', 'self-management', 'cultural', 'hostage', 'cotton', 'awareness', '5-year', 'whitelist', 'lavender', 'mosquito', '242', 'lymphedema', 'like', 'julia', 'pending', 'firm', '1714', 'checklist', 'active', 'wilderness', 'biomass', 'forest', 'shaken', 'maturity', 'andrew', '345', 'expenditures', 'rosoboronexport', 'bisphenol', 'banking', 'write-down', '3-year-aged', 'utah', 'violation', '739', 'creutzfeldt-jacob', 'by', 'township', 'export', 'strike', 'distributed', 'tanks', 'employing', 'third-adjacent', 'europes', 'basketball', 'judge', 'exterior', 'score', 'vaccine', 'prekindergarten', 'taking', 'incident', 'pirate', 'vacant', 'traffic', 'week', 'sprawl', 'objects', 'spaceport', 'two-phase', 'allowance', 'russias', 'recognized', 'hospital', 'acquire', 'delphi', 'dawn', 'end-use', 'anabolic', 'english', 'counseling', 'owed', 'quality-based', 'biweekly', 'unique', 'unemployment', 'gender-based', 'analyze', 'investigations', 'basic', 'major', 'indebtedness', 'trauma', 'rape', 'bulk', '1986', 'survey', 'stroke', 'lyme', 'purchaser', 'party', 'heritage', 'literacy', '$4000000', 'water', 'expedited', 'flammable', 'cost-share', 'sugar', 'muhammad', 'trust', '103', 'franchise', 'body-worn', 'systems', 'merchandise', '401', 'training', 'veterans', '1979', '$125000000', 'striking', 'participating', 'tributary', 'yukon-arctic', 'states-israel', 'nonprofit', 'average', 'orientation', 'performance', 'jews', 'intelligence', '2-1-1', '100', 'reconstruction', 'equal', 'clause', 'short-time', 'ninth', '1936', 'modification', 'index', 'bakken', 'punishment', '1934', 'company', 'richmond', 'refunding', 'farc', 'disabilities', '11', 'exclusion', 'urban', 'out-of-pocket', 'amortization', 'shipbuilding', 'trespass', 'wallenbergs', 'soviet', 'search-and-recovery', 'prisoners', 'kindergarten', 'feeding', 'project', 'explosions', 'products', 'recipients', 'federal-state', 'plant-based', 'stewardship', 'tricare-eligible', 'labor', 'committee', 'university', 'drinking', '2006', 'month', 'an', 'raw', 'refined', 'trade', 'joint', 'expungement', 'subsidize', 'undersecretary', '1729a', 'mayflower', '31', 'rico', 'hiv-positive', 'fundraising', '3', 'corporations', 'exotic', 'amended', 'amateur', 'southern', 'authorization', 'gaylord', '973', '6', 'jr', 'opportunity', 'institution-affiliated', '270', 'locking', 'basin', 'comorbid', 'expenditure', 'cchbp', 'subparagraph', 'likely', 'placement', 'workfare', 'methamphetamine', 'dioxide', '120100', 'table', 'sky', 'sioux', 'dependent', '14', '39', 'nevada', 'borrowers', 'product', 'maximum', 'organized', 'representatives', 'file-sharing', 'fisa', 'levels', 'approximately', 'francisco', 'states', 'enjoyment', 'insurance', '062698', 'proficiency', 'laws', 'vote', 'long-term', 'rivers', 'covert', 'tribe', 'flood', 'syria', 'immigrant', '$1500000', '2015', 'explanation', '66', 'biomedical', 'recycling', 'election-dedicated', 'exposure', '487g', 'permitting', 'book', '$5', 'excise', 'rangeland', 'hawaiian', 'weight', 'journalists', 'low-wage', 'consolidation', 'hazing', 'directors', '0-down', 'hydrocephalus', 'date', 'tax', '920', 'concentrated', 'caribbean', 'certificate', 'award', 'swine', 'responsibilities', 'guidelines', 'internet-related', 'rule', 'knowledge', 'japan', 'library', 'low', 'partys', '153', 'haines', 'pdmp', 'telecommunications', 'federally', 'alaska', '$', 'registered', 'youth', 'global', 'responder', 'pathway', 'museum', 'route', 'hate', 'bond', '27', 'discharge', 'consortium', 'provider', 'toxins', 'headquarters', 'campaign', 'swap', '1942', 'refinancing', '35th', 'fire-retardant', 'termination', '$2800000000', 'rebate', 'ownership', '1807', 'delinquent', 'voter', 'coursework', 'work', 'early', '89-292', 'surcharge', 'coral', 'yuma', 'liquor', 'applicant', 'emotional', 'allowed', 'executive', 'wood', '10705', 'bullying', 'geologic', 'government', 'accessing', 'exempt', 'household', 'multichannel', 'nuclear', '1987', 'rights-of-way', '312009', 'mesothelioma', 'unutilized', 'consumer', 'mass', 'calendar', 'technical', '5316', 'accommodation', 'antidumping', 'testing', 'document', 'requester', 'spouse', 'countries', 'bicycle', 'technologies', 'exigent', 'arab-israeli', '404', 'uniformed', 'prepaid', 'building', 'utility', 'citizen', 'bromide', 'anemia', '20-year', 'yurok', 'equity', 'bodie', 'data', 'cash', 'high-acuity', 'service', 'trafficking', 'available', 'leave', '2018', 'carriers', 'e-verify', 'apprenticeship', '935', 'charged', 'amtrak', 'firefighters', 'initiative', 'immunizations', '305', 'regulatory', 'intensity', 'nations', 'virgin', 'tumors', 'ratings', 'examination', 'surgery', 'overtime', 'survivors', 'sudans', 'greek-thgt', '2014', 'high', '-t-o', '2010', 'multi-serving', '100899', 'financing', 'pre-paid', 'worlds', 'capitol', 'iraqs', 'developing', 'nondisclosure', 'self-service', 'paragraph', 'levee', 'advertisement', '40', 'diabetes', 'earmarks', '1034', 'prescribed', 'cooperative', 'biodiesel', 'crew', 'designation', 'ambulance', 'published', 'liquefied', 'qualify', 'courts', 'travel', 'volunteer', 'game', 'growth', 'anxiety', 'victims', '516', 'fighter', 'peoples', 'bronze', 'missile', 'class', 'uranium', 'life-saving', 'jet', 'drawing', 'public-private', 'broadcast', 'southwest', 'benefits', 'safe', 'palliative', 'delhi', 'darfur', 'work-related', 'weekly', 'procurement', 'secretarys', 'measurement', 'kazakhstan', 'women', 'hizballahs', 'uterine', 'county', 'inventory', 'treasury', 'engineering', 'power', 'withheld', 'revenue', 'duty-free', 'dental', 'c-5', 'backpay', 'abatement', 'older', 'design', 'zero', '18', 'cost-sharing', 'survivorship', 'explanatory', '515', 'rocky', 'characterized', 'control', 'experimental', 'funeral', 'automobile', 'use', 'expended', 'junior', 'officials', 'physicians', 'medical', 'extended', 'veteran', 'womens', 'magazine', 'technology-based', 'default', 'near-simultaneous', 'producers', 'adjudicated', 'state-owned', 'classification', 'background', 'tri-cities', 'addiction', 'supervisory', '3099', 'waste', 'code', 'company-owned', 'citizens', 'risk', '5-month', 'amounts', 'kurdistan', 'influenza', 'deployment', 'debt-to-income', 'delta', 'spongiform', 'withdrawal', '47', 'ivig', '13611', 'colombia', 'immigration', 'licensed', 'childrens', 'decennial', '$750000', 'bone', 'propane', 'cybersecurity', 'panama', 'post-program', 'split-interest', 'processing', 'drowsy', 'takings', 'explicit', 'writers', 'mayor', 'wildlife', 'law', 'musculoskeletal', 'childhood', 'item', 'the', 'axle', 'subsections', 'excess', 'depository', '2477', 'share', 'members', 'katrina', 'subsequent', 'family', 'washington', 'criminal', 'posthumous', 'cherokee', 'cyberattacks', 'provision', 'educational', 'mexico', 'tax-indifferent', 'proposed', 'stabilize', 'controlled', 'drought', 'projected', '3626', 'medals', 'flooding', 'kake', 'jackson', 'lending', 'samoa', 'windfall', 'recyclable', 'hospitalization', 'cool', 'viewing', 'outlays', 'band', 'boys', 'deficit', 'wampanoag', 'parkinsons', 'communications', 'currency', 'outbreak', 'medal', 'principal', 'mailing', '070904', 'tribal', 'dispensing', 'trumps', 'alexander', 'modeling', '4-year', 'runoff', 'prosthetic', 'empowerment', 'unlawful', 'disposal', 'framework', 'migratory', 'challenge', 'assistance', '698', 'exempted', '1865', 'holiday', '2000', 'treaty', 'bonded', 'unprocessed', '5', 'hague', 'mail', '$1600000', 'family-owned', 'six-month', '2024', 'examines', 'quota', 'chapter', 'means', 'congenital', 'curve', 'complaint', 'legislation', 'tree-planting', 'al-sham', 'carryover', 'gun', 'labeling', 'formula', 'medicare', '42', 'allotment', 'cathode-ray', 'markets', 'technology', 'facility-related', 'banks', 'war', '1940', 'gifted', 'business', 'probabilistic', 'exploitive', '1202', 'provided', 'circuit', 'reporting', '302', 'entrepreneur-in-residence', 'confederate', 'park', 'injunctive', 'books', 'coke', 'competitive', '4475', 'young', 'freedmens', 'remote', 'programs', 'death', 'choice-enabling', 'nonmajor', 'provisional', 'facsimile', 'trade-related', 'post-delivery', 'nurses', 'self-employment', 'transportation-related', 'shortfall', '15-percent', '24', 'landfill', 'uganda', 'transfer', '1st', 'mhz', 'marriage', 'reagan', 'stability', 'beaufort', 'high-gwp', 'investigator', 'buyer', 'fusion', 'lobbying', '307', 'regional', 'western', 'nurse', 'states-turkey', 'crocker', 'problem', 'improvement', 'stalking', 'realtime', 'underage', '670', '$8000000', 'guard', 'carrier', 'take-back', 'frank', 'chairman', 'california', 'energy-related', 'dividends', 'value-added', 'nicotine', '5-cent', 'memorial', 'wekiva', 'chicagos', 'neighbor', 'intoxicating', 'combat-related', 'harassment', 'flint', 'signal', 'officer', 'freight', '95-495', 'election', 'spent', 'prohibited', 'disclosure', 'students', 'pharmaceutical', 'ticket', 'flight', 'lamprey', 'determination', 'market', 'asks', 'meal', 'short', 'liability', 'vulnerable', '1982', 'shawnee', 'welfare', 'services', 'sarbanes-oxley', 'evading', 'black', 'subclause', 'bowel', 'civilian', 'judicial', '217402', '926a', 'suspension', 'shared', '16000', 'struck', 'mobile', 'high-growth', 'thereof', 'securities', 'asthma', 'purposes', 'islands', 'ms', 'interlock', 'damages', '1997', 'taxpayer-teacher', 'flag', 'comparability', 'modernization', 'transboundary', 'effectiveness', 'exemption', 'medicare-eligible', 'agriculture', 'marketplace', 'part-time', '105', 'application', 'village', 'house', 'organ', 'ill-treatment', 'intermodal', 'selection', 'transport', 'critical', 'commission', 'target', 'diamond-blackfan', '74', 'telemarketing', 'freeze', 'suppression', '85', 'prevention', 'institution', 'housing', 'fibroids', '1937', 'genetic', 'general-use', 'experiments', 'fee-for-service', 'kissimmee', 'permanent', 'anti-semitism', 'lt', 'according', 'industry-recognized', 'notification', '10th', 'biosphere', 'veterinary', 'immunosuppressive', 'budget', 'jefferson', 'non-native', 'bands', 'psoriasis', 'breakthrough', 'first-year', 'exchange', 'income', 'taxable', '5896', 'mandatory', 'comprehensive', 'chinas', 'check', 'bird', 'battlefield', 'slavery', 'flexibility', 'valor', 'sludge', '922', 'foreign', 'reimbursement', 'debtor', 'referral', 'wild', 'ebola', '15', 'drugs', 'judgment', '2041', 'medicarechoice', 'authorizes', '8', 'expenses', 'expiration', 'affectional', 'purchase', '508', 'off-', 'health-care', 'field', 'economy', 'skills', 'pool', 'iv', '280i', 'delivery', 'affected', 'subject', 'fixed', 'back', 'advocate', 'inland', 'effect', 'encephalopathy', 'marijuana-related', 'legal', 'believed', 'smoking-related', 'juveniles', 'account', 'aquaculture', '97', 'investigation', 'hydrogen', '092097', 'institutionalized', 'eligibility', 'tokamak', 'percentage', 'pal', 'jeopardizes', 'escrow', 'bottoms', 'oil', 'woven', 'on-the-job', 'computing', 'reinvestment', 'hiv', 'taiwan', 'space', '351', 'israels', 'lands', 'maternal', '2002', 'child-occupied', 'stocks', 'risk-based', '2', 'adjust', 'over-the-counter', 'employee', 'rural', 'e-mail', 'debarment', 'cross-cutting', 'ethiopia', 'yield', 'attacks', 'decision', '50', 'refund', 'affirmative', 'provisions', '1968', 'student', 'york', '052298', 'flower-loving', 'wayne', 'presentment', 'math', 'grant', 'months', 'cancer', 'involved', '1956', 'applicants', '318', 'lifesaving', '1-cent', 'free', 'efficiency', 'scenic', 'f-16cd', 'performed', 'threshold', '$500000000', 'july', '2017', '2003', 'institute', '1980', 'unmanned', '1135', 'taxation', 'voting', 'quillayute', 'laundering', '$5000000', 'marketing', '1933', 'proprietary', 'child-serving', 'effective', 'authority', 'smaller', 'benefit', 'solid', '43', 'lebensversicherungs', 'infrastructure', '2005', 'hospice', 'flounder', 'search', 'hydraulic', 'capacity', 'games', 'exclusive', 'messaging', 'hazard', 'doctor', 'supplemental', 'open-end', 'ynez', 'dakota', 'customs', 'brief', 'center', 'devices', 'milk', 'property', 'broadcasting', 'marshals', 'for', 'inter-american', 'cable', 'northern', '2016', 'known', '2009', 'discount', 'paragraphs', 'takes', 'forced-air', 'woman', 'peopling', 'non-letter', 'roof', 'hov', 'know', 'undocumented', 'land', 'acquiring', 'species', 'exit', 'possession', '1981', 'bay', 'minuteman', 'extradition', 'undertaken', 'involuntary', 'food', 'grid', 'anaphylaxis', 'fish', 'virus', 'eligible', 'express', 'coal', 'surviving', 'odorized', 'treatment', '6097', 'custodial', '104-204', 'sex', 'palladium', 'investment', 'over-classification', 'presidential', 'extent', 'doyles', 'metalworking', 'vaccines', 'defendant', 'african', 'resolution', 'stock', 'purple', 'self-dealing', "
     ]
    }
   ],
   "source": [
    "for k in set(content_keywords):\n",
    "    print(f\"'{k}'\", end = ', ')"
   ]
  },
  {
   "cell_type": "code",
   "execution_count": 105,
   "metadata": {},
   "outputs": [],
   "source": [
    "redundant = ['following',\n",
    "             'section',\n",
    "             'shall',\n",
    "             'which',\n",
    "             'the',\n",
    "             'thereof', \n",
    "             'an', \n",
    "             '-a-u-t-h-o-r-i-z-e-d', \n",
    "             'under', \n",
    "             'this', \n",
    "             '-s-u-c-h', \n",
    "             ' - ', \n",
    "             '-a-u-t-h-o-r-i-z-a-t-i-o-n', \n",
    "             'allow', \n",
    "             'held',\n",
    "            'previous',\n",
    "            'makes']\n",
    "\n",
    "significant = []\n",
    "for k in set(content_keywords):\n",
    "    if k not in redundant:\n",
    "        significant.append(k)"
   ]
  },
  {
   "cell_type": "code",
   "execution_count": 106,
   "metadata": {},
   "outputs": [
    {
     "data": {
      "text/plain": [
       "2782"
      ]
     },
     "execution_count": 106,
     "metadata": {},
     "output_type": "execute_result"
    }
   ],
   "source": [
    "len(significant)"
   ]
  },
  {
   "cell_type": "markdown",
   "metadata": {},
   "source": [
    "### Edmundson Algorithm\n",
    "Edmundson Implementation: https://iq.opengenus.org/edmundson-heuristic-method-for-text-summarization/"
   ]
  },
  {
   "cell_type": "code",
   "execution_count": 43,
   "metadata": {},
   "outputs": [],
   "source": [
    "summarizer_edm = EdmundsonSummarizer(cue_weight=1, key_weight=1, title_weight=0, location_weight=0)"
   ]
  },
  {
   "cell_type": "code",
   "execution_count": 111,
   "metadata": {},
   "outputs": [],
   "source": [
    "# bonus words are considered significant keywords that model should take note while stigma words are words that model think is significant bu\n",
    "summarizer_edm.bonus_words = tuple(significant)\n",
    "summarizer_edm.stigma_words = tuple(redundant)"
   ]
  },
  {
   "cell_type": "code",
   "execution_count": 118,
   "metadata": {},
   "outputs": [],
   "source": [
    "edm_sum_train = [summarizer_edm(doc.document, 8) for doc in content_parser]"
   ]
  },
  {
   "cell_type": "code",
   "execution_count": 119,
   "metadata": {},
   "outputs": [],
   "source": [
    "edm_summary = []\n",
    "\n",
    "for doc in edm_sum_train:\n",
    "    summary = \"\"\n",
    "    for s in doc:\n",
    "        #print(type(s))\n",
    "        summary = summary + str(s) + \" \"\n",
    "    edm_summary.append(summary)"
   ]
  },
  {
   "cell_type": "code",
   "execution_count": 120,
   "metadata": {},
   "outputs": [
    {
     "data": {
      "text/plain": [
       "'purposes section 38, elementary secondary science, technology, engineering, mathematics (stem) contributions credit determined section taxable year equal 100 percent qualified stem contributions taxpayer taxable year. purposes section, term `qualified stem contributions\\' means \"(1) stem school contributions, \"(2) stem teacher externship expenses, \"(3) stem teacher training expenses. term `stem property contributions\\' means (but subsection (f)) allowed deduction section 170 charitable contribution stem inventory property \"(a) donee elementary secondary school described section 170(b)(1)(a)(ii), \"(b) substantially use property donee united states defense dependents\\' education educational purposes grades k-12 related purpose function donee, \"(c) original use property begins donee, \"(d) property fit productively donee\\'s education plan, \"(e) property transferred donee exchange money, property, services, shipping, installation transfer costs, \"(f) donee\\'s use disposition property accordance provisions subparagraphs (b) (e). term `stem service contributions\\' means paid incurred taxable year stem services provided united states defense dependents\\' education exclusive benefit students elementary secondary school described section 170(b)(1)(a)(ii) \"(a) taxpayer engaged trade business providing services commercial basis, \"(b) charge imposed providing services. term `stem teacher externship expenses\\' means paid incurred carry stem externship program taxpayer extent attributable participation program eligible stem teacher, including amounts paid teacher stipend participating program. term `stem externship program\\' means program \"(a) established taxpayer engaged trade business area science, technology, engineering, mathematics, \"(b) eligible stem teachers receive training enhance teaching skills areas science, technology, engineering, mathematics improve knowledge areas. term `eligible stem teacher\\' means individual \"(a) teacher grades k-12 educational organization described section 170(b)(1)(a)(ii) located united states located united states military base outside united states, \"(b) teaching responsibilities school include, likely include, course areas science, technology, engineering, mathematics. term `stem teacher training expenses\\' means paid incurred taxpayer engaged trade business area science, technology, engineering, mathematics attributable participation eligible stem teacher regular training program provided employees taxpayer determined teacher\\'s school enhancing teacher\\'s teaching skills areas science, technology, engineering, mathematics. '"
      ]
     },
     "execution_count": 120,
     "metadata": {},
     "output_type": "execute_result"
    }
   ],
   "source": [
    "edm_summary[0]"
   ]
  },
  {
   "cell_type": "markdown",
   "metadata": {},
   "source": [
    "### Rouge Evaluation\n",
    "Rouge Implementation Python: https://github.com/pltrdy/rouge"
   ]
  },
  {
   "cell_type": "code",
   "execution_count": 121,
   "metadata": {},
   "outputs": [],
   "source": [
    "summary = billsum_test['clean_summary'].values.tolist()"
   ]
  },
  {
   "cell_type": "code",
   "execution_count": 122,
   "metadata": {},
   "outputs": [],
   "source": [
    "rouge = Rouge()\n",
    "\n",
    "Scores = rouge.get_scores(edm_summary, summary, avg=True)"
   ]
  },
  {
   "cell_type": "code",
   "execution_count": 124,
   "metadata": {},
   "outputs": [
    {
     "name": "stdout",
     "output_type": "stream",
     "text": [
      "rouge-1:\n",
      "precision: 0.2550725921574602\n",
      "recall: 0.4964914797929329\n",
      "f1-score: 0.31916416353262794\n",
      "\n",
      "rouge-2:\n",
      "precision: 0.12584844717049415\n",
      "recall: 0.26533318431856145\n",
      "f1-score: 0.15992918917612772\n",
      "\n",
      "rouge-l:\n",
      "precision: 0.24110785772822635\n",
      "recall: 0.46713319761869243\n",
      "f1-score: 0.3012420819537806\n",
      "\n"
     ]
    }
   ],
   "source": [
    "for score, f1 in Scores.items():\n",
    "    print(f\"{score}:\")\n",
    "    print(f\"precision: {f1['p']}\")\n",
    "    print(f\"recall: {f1['r']}\")\n",
    "    print(f\"f1-score: {f1['f']}\\n\")"
   ]
  },
  {
   "cell_type": "code",
   "execution_count": null,
   "metadata": {},
   "outputs": [],
   "source": []
  }
 ],
 "metadata": {
  "kernelspec": {
   "display_name": "Python 3",
   "language": "python",
   "name": "python3"
  },
  "language_info": {
   "codemirror_mode": {
    "name": "ipython",
    "version": 3
   },
   "file_extension": ".py",
   "mimetype": "text/x-python",
   "name": "python",
   "nbconvert_exporter": "python",
   "pygments_lexer": "ipython3",
   "version": "3.7.3"
  }
 },
 "nbformat": 4,
 "nbformat_minor": 2
}
