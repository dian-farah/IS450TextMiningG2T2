{
 "cells": [
  {
   "cell_type": "markdown",
   "metadata": {},
   "source": [
    "## This Extractive Text Summarisation was based on the links below:\n",
    "* https://www.mygreatlearning.com/blog/text-summarization-in-python/#Approaches%20used%20for%20Text%20Summarization\n",
    "* https://affine.ai/how-to-build-a-legal-document-summarizer/\n",
    "* https://medium.com/data-science-in-your-pocket/text-summarization-using-textrank-in-nlp-4bce52c5b390"
   ]
  },
  {
   "cell_type": "markdown",
   "metadata": {},
   "source": [
    "### Import Relevant Libraries"
   ]
  },
  {
   "cell_type": "code",
   "execution_count": 51,
   "metadata": {},
   "outputs": [],
   "source": [
    "import nltk\n",
    "from nltk.corpus import stopwords\n",
    "from nltk.tokenize import word_tokenize, sent_tokenize\n",
    "\n",
    "import pandas as pd\n",
    "import numpy as np\n",
    "import json\n",
    "import re\n",
    "\n",
    "import spacy\n",
    "\n",
    "from gensim.models import Word2Vec\n",
    "from scipy import spatial\n",
    "import networkx as nx"
   ]
  },
  {
   "cell_type": "markdown",
   "metadata": {},
   "source": [
    "### Load Dataset"
   ]
  },
  {
   "cell_type": "code",
   "execution_count": 56,
   "metadata": {},
   "outputs": [],
   "source": [
    "#CUAD\n",
    "# contracts_cuad = pd.read_excel('../data/contract_new.xlsx')\n",
    "# contracts_cuad['content'] = contracts_cuad['content'].apply(lambda x: x.lower())\n",
    "# contracts_cuad.head()"
   ]
  },
  {
   "cell_type": "code",
   "execution_count": 45,
   "metadata": {
    "scrolled": true
   },
   "outputs": [
    {
     "data": {
      "text/html": [
       "<div>\n",
       "<style scoped>\n",
       "    .dataframe tbody tr th:only-of-type {\n",
       "        vertical-align: middle;\n",
       "    }\n",
       "\n",
       "    .dataframe tbody tr th {\n",
       "        vertical-align: top;\n",
       "    }\n",
       "\n",
       "    .dataframe thead th {\n",
       "        text-align: right;\n",
       "    }\n",
       "</style>\n",
       "<table border=\"1\" class=\"dataframe\">\n",
       "  <thead>\n",
       "    <tr style=\"text-align: right;\">\n",
       "      <th></th>\n",
       "      <th>contract</th>\n",
       "      <th>content</th>\n",
       "      <th>summary</th>\n",
       "    </tr>\n",
       "  </thead>\n",
       "  <tbody>\n",
       "    <tr>\n",
       "      <th>0</th>\n",
       "      <td>To amend the Public Health Service Act to esta...</td>\n",
       "      <td>section 1. short title. this act may be cited ...</td>\n",
       "      <td>border hospital survival and illegal immigrant...</td>\n",
       "    </tr>\n",
       "    <tr>\n",
       "      <th>1</th>\n",
       "      <td>To amend the Richard B. Russell National Schoo...</td>\n",
       "      <td>section 1. short title. this act may be cited ...</td>\n",
       "      <td>farm to school improvements act of 2010 - amen...</td>\n",
       "    </tr>\n",
       "    <tr>\n",
       "      <th>2</th>\n",
       "      <td>A bill to amend title 38, United States Code, ...</td>\n",
       "      <td>section 1. short title. this act may be cited ...</td>\n",
       "      <td>persian gulf war illness compensation act of 2...</td>\n",
       "    </tr>\n",
       "    <tr>\n",
       "      <th>3</th>\n",
       "      <td>A bill to provide for additional outreach and ...</td>\n",
       "      <td>section 1. short title. this act may be cited ...</td>\n",
       "      <td>medicare part d outreach and enrollment enhanc...</td>\n",
       "    </tr>\n",
       "    <tr>\n",
       "      <th>4</th>\n",
       "      <td>To amend the Internal Revenue Code of 1986 to ...</td>\n",
       "      <td>section 1. short title. this act may be cited ...</td>\n",
       "      <td>seniors' retirement recovery act of 2002 - ame...</td>\n",
       "    </tr>\n",
       "  </tbody>\n",
       "</table>\n",
       "</div>"
      ],
      "text/plain": [
       "                                            contract  \\\n",
       "0  To amend the Public Health Service Act to esta...   \n",
       "1  To amend the Richard B. Russell National Schoo...   \n",
       "2  A bill to amend title 38, United States Code, ...   \n",
       "3  A bill to provide for additional outreach and ...   \n",
       "4  To amend the Internal Revenue Code of 1986 to ...   \n",
       "\n",
       "                                             content  \\\n",
       "0  section 1. short title. this act may be cited ...   \n",
       "1  section 1. short title. this act may be cited ...   \n",
       "2  section 1. short title. this act may be cited ...   \n",
       "3  section 1. short title. this act may be cited ...   \n",
       "4  section 1. short title. this act may be cited ...   \n",
       "\n",
       "                                             summary  \n",
       "0  border hospital survival and illegal immigrant...  \n",
       "1  farm to school improvements act of 2010 - amen...  \n",
       "2  persian gulf war illness compensation act of 2...  \n",
       "3  medicare part d outreach and enrollment enhanc...  \n",
       "4  seniors' retirement recovery act of 2002 - ame...  "
      ]
     },
     "execution_count": 45,
     "metadata": {},
     "output_type": "execute_result"
    }
   ],
   "source": [
    "#BillSum\n",
    "billsum_train = pd.read_excel('../data/billsum_train.xlsx')\n",
    "\n",
    "billsum_train['content'] = billsum_train['content'].apply(lambda x: x.lower())\n",
    "billsum_train['summary'] = billsum_train['summary'].apply(lambda x: x.lower())\n",
    "billsum_train.head()"
   ]
  },
  {
   "cell_type": "markdown",
   "metadata": {},
   "source": [
    "### Text Pre-processing"
   ]
  },
  {
   "cell_type": "code",
   "execution_count": 55,
   "metadata": {},
   "outputs": [],
   "source": [
    "input_text = str(billsum_train['content'][0])\n",
    "print(input_text)"
   ]
  },
  {
   "cell_type": "code",
   "execution_count": 47,
   "metadata": {},
   "outputs": [],
   "source": [
    "sentences = sent_tokenize(input_text)"
   ]
  },
  {
   "cell_type": "code",
   "execution_count": 53,
   "metadata": {},
   "outputs": [],
   "source": [
    "# remove punctuations and special characters\n",
    "sentences_clean=[re.sub(r'[^\\w\\s]','',sentence.lower()) for sentence in sentences]\n",
    "\n",
    "# remove stopwords\n",
    "stopWords = set(stopwords.words(\"english\"))\n",
    "\n",
    "sentence_tokens=[[words for words in sentence.split(' ') if words not in stopWords] for sentence in sentences_clean]"
   ]
  },
  {
   "cell_type": "code",
   "execution_count": 105,
   "metadata": {},
   "outputs": [],
   "source": [
    "# word embedding\n",
    "w2v=Word2Vec(sentence_tokens, vector_size=1, min_count=1, epochs=1000)\n",
    "\n",
    "sentence_embeddings=[[w2v.wv[word][0] for word in words] for words in sentence_tokens]\n",
    "max_len=max([len(tokens) for tokens in sentence_tokens])\n",
    "\n",
    "# padding\n",
    "sentence_embeddings=[np.pad(embedding,(0,max_len-len(embedding)),'constant') for embedding in sentence_embeddings]"
   ]
  },
  {
   "cell_type": "code",
   "execution_count": 100,
   "metadata": {},
   "outputs": [],
   "source": [
    "def cosine(u, v):\n",
    "#     u = np.squeeze(np.asarray(u))\n",
    "#     v = np.squeeze(np.asarray(v))\n",
    "    return np.dot(u, v) / (np.linalg.norm(u) * np.linalg.norm(v))"
   ]
  },
  {
   "cell_type": "code",
   "execution_count": 106,
   "metadata": {},
   "outputs": [],
   "source": [
    "# creating a matrix of NxN where N is the total number of sentences in the text\n",
    "similarity_matrix = np.zeros([len(sentence_tokens), len(sentence_tokens)])\n",
    "\n",
    "# calculate the similarity between every 2 pairs of sentences\n",
    "for i,row_embedding in enumerate(sentence_embeddings):\n",
    "    for j,column_embedding in enumerate(sentence_embeddings):\n",
    "        similarity_matrix[i][j]=1-spatial.distance.cosine(row_embedding,column_embedding)"
   ]
  },
  {
   "cell_type": "markdown",
   "metadata": {},
   "source": [
    "### Entity Recognition"
   ]
  },
  {
   "cell_type": "code",
   "execution_count": 25,
   "metadata": {},
   "outputs": [],
   "source": [
    "# load large English NLP model\n",
    "nlp = spacy.load('en_core_web_lg')\n",
    "\n",
    "#parse text with spacy\n",
    "text=clean_text[0]\n",
    "doc = nlp(text)"
   ]
  },
  {
   "cell_type": "code",
   "execution_count": 26,
   "metadata": {},
   "outputs": [
    {
     "name": "stdout",
     "output_type": "stream",
     "text": [
      "section 1 (LAW)\n",
      "sec (ORG)\n",
      "2 (CARDINAL)\n",
      "congress (ORG)\n",
      "1 (CARDINAL)\n",
      "2 (CARDINAL)\n",
      "united states (GPE)\n",
      "42 (CARDINAL)\n",
      "united states (GPE)\n",
      "4 (CARDINAL)\n",
      "5 (CARDINAL)\n",
      "332 (CARDINAL)\n",
      "42 (CARDINAL)\n",
      "arizona (GPE)\n",
      "3 (CARDINAL)\n",
      "section 322 public health service (LAW)\n",
      "42 (CARDINAL)\n",
      "249 (CARDINAL)\n",
      "1 (CARDINAL)\n",
      "5 year (DATE)\n",
      "6 (CARDINAL)\n",
      "411 (CARDINAL)\n",
      "1 (CARDINAL)\n",
      "1996 8 (DATE)\n",
      "1 (CARDINAL)\n",
      "arizona (GPE)\n",
      "3 (CARDINAL)\n",
      "arizona (GPE)\n",
      "2 (CARDINAL)\n",
      "3 (CARDINAL)\n",
      "arizona (GPE)\n",
      "1 (CARDINAL)\n",
      "42 (CARDINAL)\n",
      "1 (CARDINAL)\n",
      "6 (CARDINAL)\n",
      "united states (GPE)\n",
      "24 hours (TIME)\n",
      "3 (CARDINAL)\n",
      "united states (GPE)\n",
      "united states (GPE)\n",
      "5 (CARDINAL)\n",
      "8 (CARDINAL)\n",
      "one year (DATE)\n",
      "4 (CARDINAL)\n",
      "annual (DATE)\n",
      "congress (ORG)\n",
      "previous year (DATE)\n",
      "united states (GPE)\n",
      "6 (CARDINAL)\n",
      "5 fiscal years (DATE)\n",
      "fiscal year (DATE)\n",
      "health resources services administration department health human services (ORG)\n",
      "50 000 000 year (MONEY)\n"
     ]
    }
   ],
   "source": [
    "# print entities for first document\n",
    "for entity in doc.ents:\n",
    "    print(f\"{entity.text} ({entity.label_})\")"
   ]
  },
  {
   "cell_type": "markdown",
   "metadata": {},
   "source": [
    "### Summarize using Avg Sentence Score"
   ]
  },
  {
   "cell_type": "code",
   "execution_count": 113,
   "metadata": {},
   "outputs": [],
   "source": [
    "#tokenise the text\n",
    "# words = word_tokenize(input_text)"
   ]
  },
  {
   "cell_type": "code",
   "execution_count": 114,
   "metadata": {},
   "outputs": [],
   "source": [
    "#create a freq table to keep the score of each word\n",
    "# freqTable = dict()\n",
    "# for word in words:\n",
    "#     if word in stopWords:\n",
    "#         continue\n",
    "#     if word in freqTable:\n",
    "#         freqTable[word] += 1\n",
    "#     else:\n",
    "#         freqTable[word] = 1"
   ]
  },
  {
   "cell_type": "code",
   "execution_count": 115,
   "metadata": {},
   "outputs": [],
   "source": [
    "# Create dictionary to keep the score of each sentence\n",
    "# sentences = sent_tokenize(input_text)\n",
    "# sentenceValue = dict()\n",
    "# for sentence in sentences:\n",
    "#     for word, freq in freqTable.items():\n",
    "#         if word in sentence:\n",
    "#             if sentence in sentenceValue:\n",
    "#                 sentenceValue[sentence] += freq\n",
    "#             else:\n",
    "#                 sentenceValue[sentence] = freq\n",
    "                \n",
    "# sumValue = 0\n",
    "# for sentence in sentenceValue:\n",
    "#     sumValue += sentenceValue[sentence]"
   ]
  },
  {
   "cell_type": "code",
   "execution_count": 116,
   "metadata": {},
   "outputs": [],
   "source": [
    "# Average value of a sentence from the original text\n",
    "# avg = int(sumValue/len(sentenceValue))"
   ]
  },
  {
   "cell_type": "code",
   "execution_count": 117,
   "metadata": {},
   "outputs": [],
   "source": [
    "# Storing sentences into our summary\n",
    "# summary = ''\n",
    "# summary_list = []\n",
    "# for sentence in sentences:\n",
    "#     if (sentence in sentenceValue) and (sentenceValue[sentence]>(1.2*avg)):\n",
    "#         summary_list.append(sentence)\n",
    "#         summary += ' '+ sentence\n",
    "        \n",
    "# print(summary)"
   ]
  },
  {
   "cell_type": "code",
   "execution_count": 118,
   "metadata": {},
   "outputs": [],
   "source": [
    "# print(len(sentences))\n",
    "# print(len(summary_list))"
   ]
  },
  {
   "cell_type": "markdown",
   "metadata": {},
   "source": [
    "### TextRank Algorithm (Using PageRank)"
   ]
  },
  {
   "cell_type": "code",
   "execution_count": 107,
   "metadata": {},
   "outputs": [],
   "source": [
    "#convert similarity matrix to a network/graph\n",
    "nx_graph = nx.from_numpy_array(similarity_matrix)\n",
    "\n",
    "#apply pagerank\n",
    "scores = nx.pagerank(nx_graph)"
   ]
  },
  {
   "cell_type": "code",
   "execution_count": 108,
   "metadata": {},
   "outputs": [],
   "source": [
    "#create a sorted dictionary with sentences and their pagerank value. pick the top 4 sentences\n",
    "top_sentence={sentence:scores[index] for index,sentence in enumerate(sentences)}\n",
    "top=dict(sorted(top_sentence.items(), key=lambda x: x[1], reverse=True)[:4])"
   ]
  },
  {
   "cell_type": "code",
   "execution_count": 110,
   "metadata": {},
   "outputs": [],
   "source": [
    "#print the top 4 sentences\n",
    "summary = ''\n",
    "for sent in sentences:\n",
    "    if sent in top.keys():\n",
    "        summary += sent + ' '"
   ]
  },
  {
   "cell_type": "code",
   "execution_count": 111,
   "metadata": {},
   "outputs": [
    {
     "name": "stdout",
     "output_type": "stream",
     "text": [
      "(2) the immigration and naturalization service does not take into custody all aliens who are unlawfully present in the united states. 1182(d)(5)) for less than one year in order to receive treatment for an emergency medical condition. each report shall contain at least the following information: ``(a) the number of aliens to whom assistance was rendered for which payment was made under this subsection during the previous year. ``(e) the feasibility and estimated cost of expanding the pilot program to items and services provided anywhere in the southwest border region of the united states. \n"
     ]
    }
   ],
   "source": [
    "print(summary)"
   ]
  },
  {
   "cell_type": "code",
   "execution_count": 112,
   "metadata": {},
   "outputs": [
    {
     "name": "stdout",
     "output_type": "stream",
     "text": [
      "border hospital survival and illegal immigrant care act - amends the public health service act to direct the secretary of health and human services to establish a five-year pilot program of health care provider reimbursement for the costs associated with providing emergency medical and ambulance services in arizona to: (1) illegal aliens who are not detained by any federal, state, or local law enforcement authority. or (2) aliens paroled into the united states for less than one year to receive emergency medical treatment.\n"
     ]
    }
   ],
   "source": [
    "print(billsum_train['summary'][0])"
   ]
  },
  {
   "cell_type": "markdown",
   "metadata": {},
   "source": [
    "### Evaluation - Rouge and Bleu"
   ]
  },
  {
   "cell_type": "code",
   "execution_count": null,
   "metadata": {},
   "outputs": [],
   "source": []
  }
 ],
 "metadata": {
  "kernelspec": {
   "display_name": "Python 3",
   "language": "python",
   "name": "python3"
  },
  "language_info": {
   "codemirror_mode": {
    "name": "ipython",
    "version": 3
   },
   "file_extension": ".py",
   "mimetype": "text/x-python",
   "name": "python",
   "nbconvert_exporter": "python",
   "pygments_lexer": "ipython3",
   "version": "3.7.3"
  }
 },
 "nbformat": 4,
 "nbformat_minor": 2
}
