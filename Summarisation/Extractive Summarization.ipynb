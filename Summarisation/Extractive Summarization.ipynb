{
 "cells": [
  {
   "cell_type": "markdown",
   "metadata": {},
   "source": [
    "## This Extractive Text Summarisation was based on the links below:\n",
    "* https://www.mygreatlearning.com/blog/text-summarization-in-python/#Approaches%20used%20for%20Text%20Summarization"
   ]
  },
  {
   "cell_type": "markdown",
   "metadata": {},
   "source": [
    "### Import Relevant Libraries"
   ]
  },
  {
   "cell_type": "code",
   "execution_count": 2,
   "metadata": {},
   "outputs": [
    {
     "name": "stderr",
     "output_type": "stream",
     "text": [
      "C:\\Users\\dianfarahr.2019\\AppData\\Local\\Continuum\\anaconda3\\lib\\site-packages\\pandas\\compat\\_optional.py:138: UserWarning: Pandas requires version '2.7.0' or newer of 'numexpr' (version '2.6.9' currently installed).\n",
      "  warnings.warn(msg, UserWarning)\n"
     ]
    }
   ],
   "source": [
    "import nltk\n",
    "from nltk.corpus import stopwords\n",
    "from nltk.tokenize import word_tokenize, sent_tokenize\n",
    "\n",
    "import pandas as pd\n",
    "import numpy as np"
   ]
  },
  {
   "cell_type": "markdown",
   "metadata": {},
   "source": [
    "### Load Dataset"
   ]
  },
  {
   "cell_type": "code",
   "execution_count": 4,
   "metadata": {},
   "outputs": [
    {
     "data": {
      "text/html": [
       "<div>\n",
       "<style scoped>\n",
       "    .dataframe tbody tr th:only-of-type {\n",
       "        vertical-align: middle;\n",
       "    }\n",
       "\n",
       "    .dataframe tbody tr th {\n",
       "        vertical-align: top;\n",
       "    }\n",
       "\n",
       "    .dataframe thead th {\n",
       "        text-align: right;\n",
       "    }\n",
       "</style>\n",
       "<table border=\"1\" class=\"dataframe\">\n",
       "  <thead>\n",
       "    <tr style=\"text-align: right;\">\n",
       "      <th></th>\n",
       "      <th>contract</th>\n",
       "      <th>content</th>\n",
       "    </tr>\n",
       "  </thead>\n",
       "  <tbody>\n",
       "    <tr>\n",
       "      <th>0</th>\n",
       "      <td>2ThemartComInc_19990826_10-12G_EX-10.10_670028...</td>\n",
       "      <td>co-branding and advertising agreement this co-...</td>\n",
       "    </tr>\n",
       "    <tr>\n",
       "      <th>1</th>\n",
       "      <td>ABILITYINC_06_15_2020-EX-4.25-SERVICESAGREEMEN...</td>\n",
       "      <td>exhibit 4.25 information in this exhibit ident...</td>\n",
       "    </tr>\n",
       "    <tr>\n",
       "      <th>2</th>\n",
       "      <td>ACCELERATEDTECHNOLOGIESHOLDINGCORP_04_24_2003-...</td>\n",
       "      <td>exhibit 10.13 joint venture agreement collecti...</td>\n",
       "    </tr>\n",
       "    <tr>\n",
       "      <th>3</th>\n",
       "      <td>ACCURAYINC_09_01_2010-EX-10.31-DISTRIBUTORAGRE...</td>\n",
       "      <td>exhibit 10.31 pursuant to 17 c.f.r. § 240.24b-...</td>\n",
       "    </tr>\n",
       "    <tr>\n",
       "      <th>4</th>\n",
       "      <td>ADAMSGOLFINC_03_21_2005-EX-10.17-ENDORSEMENTAG...</td>\n",
       "      <td>redacted copy confidential treatment requested...</td>\n",
       "    </tr>\n",
       "  </tbody>\n",
       "</table>\n",
       "</div>"
      ],
      "text/plain": [
       "                                            contract  \\\n",
       "0  2ThemartComInc_19990826_10-12G_EX-10.10_670028...   \n",
       "1  ABILITYINC_06_15_2020-EX-4.25-SERVICESAGREEMEN...   \n",
       "2  ACCELERATEDTECHNOLOGIESHOLDINGCORP_04_24_2003-...   \n",
       "3  ACCURAYINC_09_01_2010-EX-10.31-DISTRIBUTORAGRE...   \n",
       "4  ADAMSGOLFINC_03_21_2005-EX-10.17-ENDORSEMENTAG...   \n",
       "\n",
       "                                             content  \n",
       "0  co-branding and advertising agreement this co-...  \n",
       "1  exhibit 4.25 information in this exhibit ident...  \n",
       "2  exhibit 10.13 joint venture agreement collecti...  \n",
       "3  exhibit 10.31 pursuant to 17 c.f.r. § 240.24b-...  \n",
       "4  redacted copy confidential treatment requested...  "
      ]
     },
     "execution_count": 4,
     "metadata": {},
     "output_type": "execute_result"
    }
   ],
   "source": [
    "contracts = pd.read_excel('../data/contract_new.xlsx')\n",
    "contracts['content'] = contracts['content'].apply(lambda x: x.lower())\n",
    "contracts.head()"
   ]
  },
  {
   "cell_type": "markdown",
   "metadata": {},
   "source": [
    "### Summarize using Avg Sentence Score"
   ]
  },
  {
   "cell_type": "code",
   "execution_count": 8,
   "metadata": {},
   "outputs": [
    {
     "name": "stdout",
     "output_type": "stream",
     "text": [
      "exhibit 4.25 information in this exhibit identified by [ * * * ] is confidential and has been excluded because it is both (i) not material and (ii) would likely cause competitive harm to the registrant if publicly disclosed. services agreement this services agreement (this \"agreement\") is entered into on october 1, 2019 and is made effective as of november 1, 2019 (the \"effective date\"), by and between [ * * * ] (the \"provider\"), and telcostar pte, ltd., a company organized and existing under the laws of singapore and ability computer & software industries ltd, a company organized and existing under the laws of the state of israel (each and both of them \"recipient\"). each of the foregoing parties is referred to herein as a \"party\" and together as the \"parties\". recitals a. recipient wishes to engage the provider to provide certain services and resources (the \"services\") and provider desires to provide recipient with the services all in accordance with the terms and conditions set forth herein. agreement the parties hereby agree as follows: 1. services. 1.1 provision of services. (a) provider agrees to provide the services set forth on the exhibit a attached hereto (as such exhibit may be amended or supplemented pursuant to the terms of this agreement, the \"exhibit\") to recipient for the respective periods and on the other terms and conditions set forth in this agreement and in the exhibit. notwithstanding the contents of the exhibit, provider agrees to respond in good faith to any reasonable request by recipient for access to any additional services and resources that are necessary for the operation of the recipient and which are not currently contemplated in the exhibit, at a price to be agreed upon after good faith negotiations between the parties. any such additional services and resources so provided by provider shall constitute services under this agreement and be subject in all respect to the provisions of this agreement as if fully set forth on the exhibit as of the date hereof. (b) recipient may freely assign its rights under this agreement to receive the services to any of its affiliates. 1.2 standard of service. (a) provider represents, warrants and agrees that the services shall be provided in good faith, in accordance with applicable law and in a manner generally consistent with the historical provision of the services and with the same standard of care as historically provided. (b) provider shall maintain complete and accurate records relating to the provision of the services under this agreement, in such form as recipient shall approve. (c) provider shall use its best efforts to provide for employees or contractors to perform the services, each of whose names, positions, and respective levels of experience and relevant licenses shall be set out in exhibit a attached hereto (collectively, the \"provider representatives\"). provider may not make any change in the provider representatives without the prior consent of the recipient. provider representatives shall be dedicated to solely providing the services to recipient and shall not provide any such services or resources to provider or any other customer of provider. (d) recipient acknowledges that this agreement does not create a fiduciary relationship, partnership, joint venture or relationships of trust or agency between the parties and that all services are provided by provider as an independent contractor. (e) notwithstanding anything to the contrary in this section 1.2: (a) in the event that provider uses any subcontractors to perform any services, provider is not released from responsibility for its obligations under this agreement; (b) provider shall remain fully responsible, financially and otherwise, for the services provided by each subcontractor to the same extent as if provider had performed the services itself (subject to the limitations set forth in this agreement) and agrees to pay the fees and expenses of any such subcontractor; (c) provider shall remain ultimately responsible for ensuring that the services are provided and any such subcontractor performs any such obligations in accordance with the terms of this agreement, and (d) the obligations with respect to the nature, quality and standards of care set forth in section 1.2 are satisfied with respect to any service provided by any subcontractor. (f) provider shall at all times during the term of this agreement maintain, or cause to be maintained, the computer software and computer hardware that is used in connection with the services with substantially the same degree of care, skill and diligence with which provider maintains, or causes to be maintained, as of the effective date, such computer software and computer hardware for itself, consistent with past practices, as of the effective date, including without limitation, with respect to type, quality and timeliness of such maintenance. 1.3 additional services. nothing in this agreement shall be construed to prevent the recipient from itself performing or from acquiring services from other providers that are similar to or identical to the services. 1.4 intellectual property. (a) recipient shall own, and provider hereby irrevocably assigns to the recipient, all rights, title, and interest in any invention, technique, process, device, discovery, improvement, or know-how, whether patentable or not and all other proprietary rights, industrial rights and any other similar rights, in each case on a worldwide basis, and all copies and tangible embodiments thereof, or any part thereof, in whatever form or medium hereafter made or conceived solely or jointly by provider while working for or on behalf of the recipient, which relate to, is suggested by, or results from the services. (b) at recipient's request, provider shall disclose any such invention, technique, process, device, discovery, improvement, or know-how promptly to recipient. provider shall, upon request of recipient, promptly execute a specific assignment of title to recipient, and do anything else reasonably necessary to enable recipient to secure for itself, patent, trade secret, or any other proprietary rights. 2 (c) all writings or works of authorship, including, without limitation, program codes or documentation, produced or authored by provider in the course of performing services for the recipient, together with any associated copyrights, are works made for hire and the exclusive property of the recipient. to the extent that any writings or works of authorship may not, by operation of law, be works made for hire, this agreement shall constitute an irrevocable assignment by provider to the recipient of the ownership of and all rights of copyright in, such items, and the recipient shall have the right to obtain and hold in its own name, rights of copyright, copyright registrations, and similar protections which may be available in the works. provider shall give the recipient or its designees all assistance reasonably required to perfect such rights. 2. compensation. 2.1 responsibility for wages and fees. for such time as any employees of provider are providing the services to recipient under this agreement, (a) such employees will remain employees of provider and shall not be deemed to be employees of recipient for any purpose, and (b) provider shall be solely responsible for the payment and provision of all wages, bonuses and commissions, employee benefits, including severance and worker's compensation, and the withholding and payment of applicable taxes relating to such employment. 2.2 terms of payment and related matters. (a) as consideration for provision of the services following the effective date, recipient shall pay provider an amount equal to provider's actual cost of providing the services plus a 10% service fee. in addition to such amount, in the event that provider incurs reasonable and documented out-of-pocket expenses in the provision of any service, including, without limitation, license fees and payments to third-party service providers or subcontractors (such included expenses, collectively, \"out-of-pocket costs\"), recipient shall reimburse provider for all such out-of-pocket costs. (b) (i) provider shall provide recipient with monthly invoices (\"invoices\"), which shall set forth in reasonable detail, with such supporting documentation as recipient may reasonably request with respect to out-of-pocket costs, amounts payable under this agreement, and (ii) payments pursuant to this agreement shall be made within fifteen (15) days after the date of receipt of an invoice by recipient from provider. (c) provider shall allow the recipient to use [ * * * ] at no cost, until december 31, 2021. 2.3 invoice disputes. in the event of an invoice dispute, recipient shall deliver a written statement to provider prior to the date payment is due on the disputed invoice listing all disputed items and providing a reasonably detailed description of each disputed item. amounts not so disputed shall be deemed accepted and shall be paid, notwithstanding disputes on other items. the parties shall seek to resolve all such disputes expeditiously and in good faith. provider shall continue performing the services in accordance with this agreement pending resolution of any dispute. 3 2.4 no right of setoff. each of the parties hereby acknowledges that it shall have no right under this agreement to offset any amounts owed (or to become due and owing) to the other party, whether under this agreement, the purchase agreement or otherwise, against any other amount owed (or to become due and owing) to it by the other party. 3. termination. 3.1 termination of agreement. this agreement be deemed effective as of the effective date, agreement and shall terminate on december 31, 2020, unless terminated earlier in accordance with section 3.2. 3.2 each of the recipient and the provider may, in their sole discretion, terminate this agreement in whole or in part, at any time without cause, and without liability except, in the case of the recipient, for required payment for services rendered and reimbursement for authorized expenses incurred, by providing at least 90 (ninety) days' prior written notice to the other party (such date, the \"services termination date\"). 3.3 breach. any party (the \"non-breaching party\") may terminate this agreement with respect to any service, in whole but not in part, at any time upon prior written notice to the other party (the \"breaching party\"), if the breaching party has failed (other than pursuant to section 3.6) to perform any of its material obligations under this agreement relating to such service, and such failure shall have continued without cure for a period of 30 days after receipt by the breaching party of a written notice of such failure from the non-breaching party seeking to terminate such service. for the avoidance of doubt, non-payment by recipient for a service provided by provider in accordance with this agreement and not the subject of a good-faith dispute shall be deemed a breach for purposes of this section 3.3. 3.4 insolvency. in the event that either party hereto shall (a) file a petition in bankruptcy, (b) become or be declared insolvent, or become the subject of any proceedings (not dismissed within sixty (60) days) related to its liquidation, insolvency or the appointment of a receiver, (c) make an assignment on behalf of all or substantially all of its creditors, or (d) take any corporate action for its winding up or dissolution, then the other party shall have the right to terminate this agreement by providing written notice in accordance with section 6.6. 3.5 effect of termination. upon termination of this agreement in its entirety pursuant to section 3.1, all obligations of the parties hereto shall terminate, except for the provisions of section 2.2, and the entirety of sections 4, 5 and 6, which shall survive any termination or expiration of this agreement. 3.6 upon expiration or termination of this agreement for any reason, provider shall promptly: (a) deliver to recipient all documents, work product, and other materials, whether or not complete, prepared by or on behalf of provider in the course of performing the services for which recipient has paid. (b) return to recipient all recipient -owned property, equipment, or materials in its possession or control. 4 (c) remove any provider-owned property, equipment, or materials located at recipient's locations. (d) deliver to recipient, all documents and tangible materials (and any copies) containing, reflecting, incorporating, or based on recipient's confidential information. (e) on a pro rata basis, repay all fees and expenses paid in advance for any services which have not been provided. (f) permanently erase all of recipient's confidential information from its computer systems. (g) certify in writing to recipient that it has complied with the requirements of this section 3.6 3.7 force majeure. if provider is prevented from or delayed in complying, either totally or in part, with any of the terms or provisions of this agreement by reason of fire, flood, storm, strike, lockout or other labor trouble or shortage, delays by unaffiliated suppliers or carriers, shortages of fuel, power, raw materials or components, any law, order, proclamation, regulation, ordinance, demand, seizure or requirement of any governmental authority, riot, civil commotion, war, rebellion, acts of terrorism, nuclear accident or other causes beyond the reasonable control of provider, or acts, omissions, or delays in acting by any governmental or military authority or recipient (each, a \"force majeure\"), then upon written notice to recipient, the services affected by the force majeure (the \"affected services\") and/or other requirements of this agreement will be suspended during the period of such force majeure and provider will have no liability to recipient or any other party in connection with such affected services. if the force majeure in question prevails for a continuous period in excess of three months after the date on which the force majeure begins, provider shall be entitled to give notice to recipient to terminate the affected services. the notice to terminate must specify the termination date, which must be not less than ten (10) days after the date on which the notice to terminate is given. once a notice to terminate has been validly given, the affected services will terminate on the termination date set out in the notice. neither party shall have any liability to the other in respect of termination of the affected services due to force majeure, but rights and liabilities which have accrued prior to termination shall subsist. 5 4. confidentiality. 4.1 confidentiality. during the term of this agreement and thereafter, the parties hereto shall, and shall instruct their respective representatives to, maintain in confidence and not disclose the other party's financial, technical, sales, marketing, development, personnel, and other information, records, or data, including, without limitation, customer lists, supplier lists, trade secrets, designs, product formulations, product specifications or any other proprietary or confidential information, however recorded or preserved, whether written or oral (any such information, \"confidential information\"). each party hereto shall use the same degree of care, but no less than reasonable care, to protect the other party's confidential information as it uses to protect its own confidential information of like nature. unless otherwise authorized in any other agreement between the parties, any party receiving any confidential information of the other party (the \"receiving party\") may use confidential information only for the purposes of fulfilling its obligations under this agreement (the \"permitted purpose\"). any receiving party may disclose such confidential information only to its representatives who have a need to know such information for the permitted purpose and who have been advised of the terms of this section 4.1 and the receiving party shall be liable for any breach of these confidentiality provisions by such persons; provided, however, that any receiving party may disclose such confidential information to the extent such confidential information is required to be disclosed by law, in which case the receiving party shall promptly notify, to the extent possible, the disclosing party (the \"disclosing party\"), and take reasonable steps to assist in contesting such disclosure requirement or in protecting the disclosing party's rights prior to disclosure, and in which case the receiving party shall only disclose such confidential information that it is advised by its counsel in writing that it is legally bound to disclose. notwithstanding the foregoing, \"confidential information\" shall not include any information that the receiving party can demonstrate: (a) was publicly known at the time of disclosure to it, or has become publicly known through no act of the receiving party or its representatives in breach of this section 4.1, (b) was rightfully received from a third party without a duty of confidentiality, or (c) was developed by it independently without any reliance on the confidential information. 4.2 return of confidential information. upon demand by the disclosing party at any time, or upon expiration or termination of this agreement with respect to any service, the receiving party agrees promptly to return or destroy, at the disclosing party's option, all confidential information received in connection with this agreement. if such confidential information is destroyed, an authorized officer of the receiving party shall certify to such destruction in writing. 5. indemnification. 5.1 indemnification. provider shall indemnify, defend, and hold harmless recipient and its officers, directors, employees, agents, affiliates, successors, and permitted assigns (collectively, \"indemnified party\") against any and all losses, damages, liabilities, deficiencies, claims, actions, judgments, settlements, interest, awards, penalties, fines, costs, or expenses of whatever kind, including attorneys' fees, fees and the costs of enforcing any right to indemnification under this agreement, and the cost of pursuing any insurance providers, incurred by indemnified party or awarded against indemnified party (collectively, \"losses\"), relating to/arising out of or resulting from any claim of a third party or recipient arising out of or occurring in connection with provider's negligence, willful misconduct, or breach of this agreement. provider shall not enter into any settlement without recipient's or indemnified party's prior written consent. 6. miscellaneous. 6.1 entire agreement. this agreement, the purchase agreement and the documents referred to herein and therein constitute the entire agreement among the parties and supersedes any prior understandings, agreements, or representations by or among the parties, written or oral, to the extent they relate in any way to the subject matter hereof. 6 6.2 succession and assignment. this agreement shall be binding upon and inure to the benefit of the parties named herein and their respective successors and permitted assigns. provider may not assign, delegate or otherwise transfer either this agreement or any of its rights, interests, or obligations hereunder without the prior written approval of recipient. 6.3 counterparts. this agreement may be executed in one or more counterparts, each of which shall be deemed an original but all of which together will constitute one and the same instrument. counterparts may be delivered via facsimile and electronic mail (including portable document format (pdf) or any electronic signature complying with the u.s. federal esign act of 2000, e.g., www.docusign.com). 6.4 titles and headings. titles and section headings contained in this agreement are inserted for convenience only and shall not affect in any way the meaning or interpretation of this agreement. 7. notices. all notices, requests, consents, claims, demands, waivers and other communications hereunder shall be in writing and shall be deemed to have been given (a) when delivered by hand (with written confirmation of receipt); (b) when received by the addressee if sent by a nationally recognized overnight courier (receipt requested); (c) on the date sent by facsimile or e-mail of a pdf document (with confirmation of transmission) if sent during normal business hours of the recipient, and on the next business day if sent after normal business hours of the recipient or (d) on the third day after the date mailed, by certified or registered mail, return receipt requested, postage prepaid. such communications must be sent to the respective parties at the following addresses (or at such other address for a party as shall be specified in a notice given in accordance with this section 7: if to provider: [ * * * ] with a copy to: n/a if to recipient: telcostar pte. ltd 6 eu tong sen street tel aviv, israel, 6770007 #10-15 the central singapore 059817 email: avi@ability.co.il attention: avi levin with a copy to: mcdermott will & emery llp 340 madison avenue new york, ny 10173-1922 telephone: (212) 547-5541 facsimile: (212) 547-5444 email: gemmanuel@mwe.com attention: gary emmanuel 7 any party may change the address to which notices, requests, demands, claims, and other communications hereunder are to be delivered by giving the other parties notice in the manner herein set forth. 7.1 further assurances. the parties agree (a) to furnish upon request to each other such further information, (b) to execute and deliver to each other such other documents, and (c) to do such other acts and things, all as the other party may reasonably request for the purpose of carrying out the intent of this agreement and the documents referred to in this agreement. 7.2 governing law. this agreement and any claim, controversy or dispute arising out of or related to this agreement, any of the transactions contemplated hereby and/or the interpretation and enforcement of the rights and duties of the parties, whether arising in contract, tort, equity or otherwise, shall be governed by and construed in accordance with the domestic laws of the state of israel (including in respect of the statute of limitations or other limitations period applicable to any such claim, controversy or dispute), without giving effect to any choice or conflict of law provision or rule (whether of the state of israel or any other jurisdiction) that would cause the application of the laws of any jurisdiction other than the state of israel. 7.3 consent to jurisdiction. the parties hereby irrevocably submit any disputes under this agreement to the exclusive jurisdiction of the courts located in tel-aviv, israel, provided however, that recipient shall be entitled to seek an injunction or other appropriate remedy against provider in the country in which provider has acted in breach of the terms hereof. 7.4 specific performance. the parties hereby agree that, in the event of breach of this agreement, damages would be difficult, if not impossible, to ascertain and that irreparable damage would occur in the event that any of the provisions of this agreement were not performed in accordance with their specific terms or were otherwise breached. accordingly, it is hereby agreed that the parties shall be entitled to seek an injunction or other equitable relief in any court of competent jurisdiction to enjoin any such breach and enforce specifically the terms and provisions hereof, this being in addition to any other remedy or right to which they are entitled at law or in equity, without any necessity of proving damages or any requirement for the posting of a bond or other security. 7.5 amendments and waivers. no amendment of any provision of this agreement shall be valid unless the same shall be in writing and signed by recipient and the provider. no waiver by any party of any provision of this agreement or any default, misrepresentation, or breach of warranty or covenant hereunder, whether intentional or not, shall be valid unless the same shall be in writing and signed by the party making such waiver nor shall such waiver be deemed to extend to any prior or subsequent default, misrepresentation, or breach of warranty or covenant hereunder or affect in any way any rights arising by virtue of any prior or subsequent such occurrence. 8 7.6 severability. any term or provision of this agreement that is held invalid or unenforceable by a court of competent jurisdiction or other competent governmental authority in any situation in any jurisdiction shall not affect the validity or enforceability of the remaining terms and provisions hereof or the validity or enforceability of the offending term or provision in any other situation or in any other jurisdiction. upon such a determination, the parties shall negotiate in good faith to replace invalid or unenforceable provisions with valid provisions, the economic effect of which comes as close as possible to that of the invalid or unenforceable provisions. 7.7 construction. the parties have participated jointly in the negotiation and drafting of this agreement. in the event an ambiguity or question of intent or interpretation arises, this agreement shall be construed as if drafted jointly by the parties and no presumption or burden of proof shall arise favoring or disfavoring any party by virtue of the authorship of any of the provisions of this agreement. any reference to any law shall be deemed also to refer to all rules and regulations promulgated thereunder, unless the context requires otherwise. the word \"including\" shall mean including without limitation. 7.8 incorporation of exhibits and disclosure schedule. the exhibit identified in this agreement is incorporated herein by reference and made a part hereof. 7.9 amendment and restatement. this agreement amends and restates in full the production contract. [signature page follows] 9 in witness whereof, the parties have executed this services agreement as of the date first written above. provider: recipient: [ * * * ] [ * * * ] by: by: name: name: title: title: 10 exhibit a services [ * * * ] 11\n"
     ]
    }
   ],
   "source": [
    "#get an input text to do a rough test\n",
    "input_text = contracts['content'][1]\n",
    "print(input_text)"
   ]
  },
  {
   "cell_type": "code",
   "execution_count": 9,
   "metadata": {},
   "outputs": [],
   "source": [
    "#tokenise the text\n",
    "stopWords = set(stopwords.words(\"english\"))\n",
    "words = word_tokenize(input_text)"
   ]
  },
  {
   "cell_type": "code",
   "execution_count": 10,
   "metadata": {},
   "outputs": [],
   "source": [
    "#create a freq table to keep the score of each word\n",
    "freqTable = dict()\n",
    "for word in words:\n",
    "    if word in stopWords:\n",
    "        continue\n",
    "    if word in freqTable:\n",
    "        freqTable[word] += 1\n",
    "    else:\n",
    "        freqTable[word] = 1"
   ]
  },
  {
   "cell_type": "code",
   "execution_count": 14,
   "metadata": {},
   "outputs": [],
   "source": [
    "# Create dictionary to keep the score of each sentence\n",
    "sentences = sent_tokenize(input_text)\n",
    "sentenceValue = dict()\n",
    "for sentence in sentences:\n",
    "    for word, freq in freqTable.items():\n",
    "        if word in sentence:\n",
    "            if sentence in sentenceValue:\n",
    "                sentenceValue[sentence] += freq\n",
    "            else:\n",
    "                sentenceValue[sentence] = freq\n",
    "                \n",
    "sumValue = 0\n",
    "for sentence in sentenceValue:\n",
    "    sumValue += sentenceValue[sentence]"
   ]
  },
  {
   "cell_type": "code",
   "execution_count": 15,
   "metadata": {},
   "outputs": [],
   "source": [
    "# Average value of a sentence from the original text\n",
    "avg = int(sumValue/len(sentenceValue))"
   ]
  },
  {
   "cell_type": "code",
   "execution_count": 17,
   "metadata": {},
   "outputs": [
    {
     "name": "stdout",
     "output_type": "stream",
     "text": [
      " services agreement this services agreement (this \"agreement\") is entered into on october 1, 2019 and is made effective as of november 1, 2019 (the \"effective date\"), by and between [ * * * ] (the \"provider\"), and telcostar pte, ltd., a company organized and existing under the laws of singapore and ability computer & software industries ltd, a company organized and existing under the laws of the state of israel (each and both of them \"recipient\"). (a) provider agrees to provide the services set forth on the exhibit a attached hereto (as such exhibit may be amended or supplemented pursuant to the terms of this agreement, the \"exhibit\") to recipient for the respective periods and on the other terms and conditions set forth in this agreement and in the exhibit. notwithstanding the contents of the exhibit, provider agrees to respond in good faith to any reasonable request by recipient for access to any additional services and resources that are necessary for the operation of the recipient and which are not currently contemplated in the exhibit, at a price to be agreed upon after good faith negotiations between the parties. (a) provider represents, warrants and agrees that the services shall be provided in good faith, in accordance with applicable law and in a manner generally consistent with the historical provision of the services and with the same standard of care as historically provided. (b) provider shall maintain complete and accurate records relating to the provision of the services under this agreement, in such form as recipient shall approve. (c) provider shall use its best efforts to provide for employees or contractors to perform the services, each of whose names, positions, and respective levels of experience and relevant licenses shall be set out in exhibit a attached hereto (collectively, the \"provider representatives\"). (d) recipient acknowledges that this agreement does not create a fiduciary relationship, partnership, joint venture or relationships of trust or agency between the parties and that all services are provided by provider as an independent contractor. (e) notwithstanding anything to the contrary in this section 1.2: (a) in the event that provider uses any subcontractors to perform any services, provider is not released from responsibility for its obligations under this agreement; (b) provider shall remain fully responsible, financially and otherwise, for the services provided by each subcontractor to the same extent as if provider had performed the services itself (subject to the limitations set forth in this agreement) and agrees to pay the fees and expenses of any such subcontractor; (c) provider shall remain ultimately responsible for ensuring that the services are provided and any such subcontractor performs any such obligations in accordance with the terms of this agreement, and (d) the obligations with respect to the nature, quality and standards of care set forth in section 1.2 are satisfied with respect to any service provided by any subcontractor. (f) provider shall at all times during the term of this agreement maintain, or cause to be maintained, the computer software and computer hardware that is used in connection with the services with substantially the same degree of care, skill and diligence with which provider maintains, or causes to be maintained, as of the effective date, such computer software and computer hardware for itself, consistent with past practices, as of the effective date, including without limitation, with respect to type, quality and timeliness of such maintenance. (a) recipient shall own, and provider hereby irrevocably assigns to the recipient, all rights, title, and interest in any invention, technique, process, device, discovery, improvement, or know-how, whether patentable or not and all other proprietary rights, industrial rights and any other similar rights, in each case on a worldwide basis, and all copies and tangible embodiments thereof, or any part thereof, in whatever form or medium hereafter made or conceived solely or jointly by provider while working for or on behalf of the recipient, which relate to, is suggested by, or results from the services. (b) at recipient's request, provider shall disclose any such invention, technique, process, device, discovery, improvement, or know-how promptly to recipient. provider shall, upon request of recipient, promptly execute a specific assignment of title to recipient, and do anything else reasonably necessary to enable recipient to secure for itself, patent, trade secret, or any other proprietary rights. 2 (c) all writings or works of authorship, including, without limitation, program codes or documentation, produced or authored by provider in the course of performing services for the recipient, together with any associated copyrights, are works made for hire and the exclusive property of the recipient. to the extent that any writings or works of authorship may not, by operation of law, be works made for hire, this agreement shall constitute an irrevocable assignment by provider to the recipient of the ownership of and all rights of copyright in, such items, and the recipient shall have the right to obtain and hold in its own name, rights of copyright, copyright registrations, and similar protections which may be available in the works. for such time as any employees of provider are providing the services to recipient under this agreement, (a) such employees will remain employees of provider and shall not be deemed to be employees of recipient for any purpose, and (b) provider shall be solely responsible for the payment and provision of all wages, bonuses and commissions, employee benefits, including severance and worker's compensation, and the withholding and payment of applicable taxes relating to such employment. (a) as consideration for provision of the services following the effective date, recipient shall pay provider an amount equal to provider's actual cost of providing the services plus a 10% service fee. in addition to such amount, in the event that provider incurs reasonable and documented out-of-pocket expenses in the provision of any service, including, without limitation, license fees and payments to third-party service providers or subcontractors (such included expenses, collectively, \"out-of-pocket costs\"), recipient shall reimburse provider for all such out-of-pocket costs. (b) (i) provider shall provide recipient with monthly invoices (\"invoices\"), which shall set forth in reasonable detail, with such supporting documentation as recipient may reasonably request with respect to out-of-pocket costs, amounts payable under this agreement, and (ii) payments pursuant to this agreement shall be made within fifteen (15) days after the date of receipt of an invoice by recipient from provider. (c) provider shall allow the recipient to use [ * * * ] at no cost, until december 31, 2021. in the event of an invoice dispute, recipient shall deliver a written statement to provider prior to the date payment is due on the disputed invoice listing all disputed items and providing a reasonably detailed description of each disputed item. each of the parties hereby acknowledges that it shall have no right under this agreement to offset any amounts owed (or to become due and owing) to the other party, whether under this agreement, the purchase agreement or otherwise, against any other amount owed (or to become due and owing) to it by the other party. this agreement be deemed effective as of the effective date, agreement and shall terminate on december 31, 2020, unless terminated earlier in accordance with section 3.2. 3.2 each of the recipient and the provider may, in their sole discretion, terminate this agreement in whole or in part, at any time without cause, and without liability except, in the case of the recipient, for required payment for services rendered and reimbursement for authorized expenses incurred, by providing at least 90 (ninety) days' prior written notice to the other party (such date, the \"services termination date\"). any party (the \"non-breaching party\") may terminate this agreement with respect to any service, in whole but not in part, at any time upon prior written notice to the other party (the \"breaching party\"), if the breaching party has failed (other than pursuant to section 3.6) to perform any of its material obligations under this agreement relating to such service, and such failure shall have continued without cure for a period of 30 days after receipt by the breaching party of a written notice of such failure from the non-breaching party seeking to terminate such service. for the avoidance of doubt, non-payment by recipient for a service provided by provider in accordance with this agreement and not the subject of a good-faith dispute shall be deemed a breach for purposes of this section 3.3. in the event that either party hereto shall (a) file a petition in bankruptcy, (b) become or be declared insolvent, or become the subject of any proceedings (not dismissed within sixty (60) days) related to its liquidation, insolvency or the appointment of a receiver, (c) make an assignment on behalf of all or substantially all of its creditors, or (d) take any corporate action for its winding up or dissolution, then the other party shall have the right to terminate this agreement by providing written notice in accordance with section 6.6. upon termination of this agreement in its entirety pursuant to section 3.1, all obligations of the parties hereto shall terminate, except for the provisions of section 2.2, and the entirety of sections 4, 5 and 6, which shall survive any termination or expiration of this agreement. 3.6 upon expiration or termination of this agreement for any reason, provider shall promptly: (a) deliver to recipient all documents, work product, and other materials, whether or not complete, prepared by or on behalf of provider in the course of performing the services for which recipient has paid. (b) return to recipient all recipient -owned property, equipment, or materials in its possession or control. 4 (c) remove any provider-owned property, equipment, or materials located at recipient's locations. (d) deliver to recipient, all documents and tangible materials (and any copies) containing, reflecting, incorporating, or based on recipient's confidential information. (e) on a pro rata basis, repay all fees and expenses paid in advance for any services which have not been provided. if provider is prevented from or delayed in complying, either totally or in part, with any of the terms or provisions of this agreement by reason of fire, flood, storm, strike, lockout or other labor trouble or shortage, delays by unaffiliated suppliers or carriers, shortages of fuel, power, raw materials or components, any law, order, proclamation, regulation, ordinance, demand, seizure or requirement of any governmental authority, riot, civil commotion, war, rebellion, acts of terrorism, nuclear accident or other causes beyond the reasonable control of provider, or acts, omissions, or delays in acting by any governmental or military authority or recipient (each, a \"force majeure\"), then upon written notice to recipient, the services affected by the force majeure (the \"affected services\") and/or other requirements of this agreement will be suspended during the period of such force majeure and provider will have no liability to recipient or any other party in connection with such affected services. if the force majeure in question prevails for a continuous period in excess of three months after the date on which the force majeure begins, provider shall be entitled to give notice to recipient to terminate the affected services. the notice to terminate must specify the termination date, which must be not less than ten (10) days after the date on which the notice to terminate is given. neither party shall have any liability to the other in respect of termination of the affected services due to force majeure, but rights and liabilities which have accrued prior to termination shall subsist. during the term of this agreement and thereafter, the parties hereto shall, and shall instruct their respective representatives to, maintain in confidence and not disclose the other party's financial, technical, sales, marketing, development, personnel, and other information, records, or data, including, without limitation, customer lists, supplier lists, trade secrets, designs, product formulations, product specifications or any other proprietary or confidential information, however recorded or preserved, whether written or oral (any such information, \"confidential information\"). each party hereto shall use the same degree of care, but no less than reasonable care, to protect the other party's confidential information as it uses to protect its own confidential information of like nature. unless otherwise authorized in any other agreement between the parties, any party receiving any confidential information of the other party (the \"receiving party\") may use confidential information only for the purposes of fulfilling its obligations under this agreement (the \"permitted purpose\"). any receiving party may disclose such confidential information only to its representatives who have a need to know such information for the permitted purpose and who have been advised of the terms of this section 4.1 and the receiving party shall be liable for any breach of these confidentiality provisions by such persons; provided, however, that any receiving party may disclose such confidential information to the extent such confidential information is required to be disclosed by law, in which case the receiving party shall promptly notify, to the extent possible, the disclosing party (the \"disclosing party\"), and take reasonable steps to assist in contesting such disclosure requirement or in protecting the disclosing party's rights prior to disclosure, and in which case the receiving party shall only disclose such confidential information that it is advised by its counsel in writing that it is legally bound to disclose. notwithstanding the foregoing, \"confidential information\" shall not include any information that the receiving party can demonstrate: (a) was publicly known at the time of disclosure to it, or has become publicly known through no act of the receiving party or its representatives in breach of this section 4.1, (b) was rightfully received from a third party without a duty of confidentiality, or (c) was developed by it independently without any reliance on the confidential information. upon demand by the disclosing party at any time, or upon expiration or termination of this agreement with respect to any service, the receiving party agrees promptly to return or destroy, at the disclosing party's option, all confidential information received in connection with this agreement. provider shall indemnify, defend, and hold harmless recipient and its officers, directors, employees, agents, affiliates, successors, and permitted assigns (collectively, \"indemnified party\") against any and all losses, damages, liabilities, deficiencies, claims, actions, judgments, settlements, interest, awards, penalties, fines, costs, or expenses of whatever kind, including attorneys' fees, fees and the costs of enforcing any right to indemnification under this agreement, and the cost of pursuing any insurance providers, incurred by indemnified party or awarded against indemnified party (collectively, \"losses\"), relating to/arising out of or resulting from any claim of a third party or recipient arising out of or occurring in connection with provider's negligence, willful misconduct, or breach of this agreement. provider may not assign, delegate or otherwise transfer either this agreement or any of its rights, interests, or obligations hereunder without the prior written approval of recipient. counterparts may be delivered via facsimile and electronic mail (including portable document format (pdf) or any electronic signature complying with the u.s. federal esign act of 2000, e.g., www.docusign.com). all notices, requests, consents, claims, demands, waivers and other communications hereunder shall be in writing and shall be deemed to have been given (a) when delivered by hand (with written confirmation of receipt); (b) when received by the addressee if sent by a nationally recognized overnight courier (receipt requested); (c) on the date sent by facsimile or e-mail of a pdf document (with confirmation of transmission) if sent during normal business hours of the recipient, and on the next business day if sent after normal business hours of the recipient or (d) on the third day after the date mailed, by certified or registered mail, return receipt requested, postage prepaid. ltd 6 eu tong sen street tel aviv, israel, 6770007 #10-15 the central singapore 059817 email: avi@ability.co.il attention: avi levin with a copy to: mcdermott will & emery llp 340 madison avenue new york, ny 10173-1922 telephone: (212) 547-5541 facsimile: (212) 547-5444 email: gemmanuel@mwe.com attention: gary emmanuel 7 any party may change the address to which notices, requests, demands, claims, and other communications hereunder are to be delivered by giving the other parties notice in the manner herein set forth. the parties agree (a) to furnish upon request to each other such further information, (b) to execute and deliver to each other such other documents, and (c) to do such other acts and things, all as the other party may reasonably request for the purpose of carrying out the intent of this agreement and the documents referred to in this agreement. this agreement and any claim, controversy or dispute arising out of or related to this agreement, any of the transactions contemplated hereby and/or the interpretation and enforcement of the rights and duties of the parties, whether arising in contract, tort, equity or otherwise, shall be governed by and construed in accordance with the domestic laws of the state of israel (including in respect of the statute of limitations or other limitations period applicable to any such claim, controversy or dispute), without giving effect to any choice or conflict of law provision or rule (whether of the state of israel or any other jurisdiction) that would cause the application of the laws of any jurisdiction other than the state of israel. the parties hereby irrevocably submit any disputes under this agreement to the exclusive jurisdiction of the courts located in tel-aviv, israel, provided however, that recipient shall be entitled to seek an injunction or other appropriate remedy against provider in the country in which provider has acted in breach of the terms hereof. accordingly, it is hereby agreed that the parties shall be entitled to seek an injunction or other equitable relief in any court of competent jurisdiction to enjoin any such breach and enforce specifically the terms and provisions hereof, this being in addition to any other remedy or right to which they are entitled at law or in equity, without any necessity of proving damages or any requirement for the posting of a bond or other security. no waiver by any party of any provision of this agreement or any default, misrepresentation, or breach of warranty or covenant hereunder, whether intentional or not, shall be valid unless the same shall be in writing and signed by the party making such waiver nor shall such waiver be deemed to extend to any prior or subsequent default, misrepresentation, or breach of warranty or covenant hereunder or affect in any way any rights arising by virtue of any prior or subsequent such occurrence. in the event an ambiguity or question of intent or interpretation arises, this agreement shall be construed as if drafted jointly by the parties and no presumption or burden of proof shall arise favoring or disfavoring any party by virtue of the authorship of any of the provisions of this agreement. [signature page follows] 9 in witness whereof, the parties have executed this services agreement as of the date first written above.\n"
     ]
    }
   ],
   "source": [
    "# Storing sentences into our summary\n",
    "summary = ''\n",
    "summary_list = []\n",
    "for sentence in sentences:\n",
    "    if (sentence in sentenceValue) and (sentenceValue[sentence]>(1.2*avg)):\n",
    "        summary_list.append(sentence)\n",
    "        summary += ' '+ sentence\n",
    "        \n",
    "print(summary)"
   ]
  },
  {
   "cell_type": "code",
   "execution_count": 19,
   "metadata": {},
   "outputs": [
    {
     "name": "stdout",
     "output_type": "stream",
     "text": [
      "121\n",
      "54\n"
     ]
    }
   ],
   "source": [
    "print(len(sentences))\n",
    "print(len(summary_list))"
   ]
  },
  {
   "cell_type": "code",
   "execution_count": null,
   "metadata": {},
   "outputs": [],
   "source": []
  }
 ],
 "metadata": {
  "kernelspec": {
   "display_name": "Python 3",
   "language": "python",
   "name": "python3"
  },
  "language_info": {
   "codemirror_mode": {
    "name": "ipython",
    "version": 3
   },
   "file_extension": ".py",
   "mimetype": "text/x-python",
   "name": "python",
   "nbconvert_exporter": "python",
   "pygments_lexer": "ipython3",
   "version": "3.7.3"
  }
 },
 "nbformat": 4,
 "nbformat_minor": 2
}
