{
 "cells": [
  {
   "cell_type": "markdown",
   "metadata": {},
   "source": [
    "# Load Libraries"
   ]
  },
  {
   "cell_type": "code",
   "execution_count": 1,
   "metadata": {},
   "outputs": [],
   "source": [
    "from zipfile import ZipFile\n",
    "import pandas as pd"
   ]
  },
  {
   "cell_type": "markdown",
   "metadata": {},
   "source": [
    "# Load File"
   ]
  },
  {
   "cell_type": "code",
   "execution_count": 2,
   "metadata": {},
   "outputs": [],
   "source": [
    "filen = \"full_contract_txt.zip\""
   ]
  },
  {
   "cell_type": "markdown",
   "metadata": {},
   "source": [
    "# Load Zip files as DataFrame"
   ]
  },
  {
   "cell_type": "code",
   "execution_count": 3,
   "metadata": {},
   "outputs": [],
   "source": [
    "file_name = []\n",
    "file_content = []\n",
    "file_pd = pd.DataFrame()"
   ]
  },
  {
   "cell_type": "code",
   "execution_count": 4,
   "metadata": {},
   "outputs": [
    {
     "name": "stdout",
     "output_type": "stream",
     "text": [
      "Done!\n"
     ]
    }
   ],
   "source": [
    "with ZipFile(filen, \"r\") as zip:\n",
    "    listofnames = zip.infolist()\n",
    "\n",
    "    for elem in listofnames:\n",
    "        file_name.append(str(elem.filename.rpartition(\"/\")[-1]))\n",
    "        with zip.open(elem.filename) as myfile:\n",
    "            file_content.append(str(myfile.read().decode(\"utf-8\")))\n",
    "\n",
    "    print('Done!')"
   ]
  },
  {
   "cell_type": "code",
   "execution_count": 5,
   "metadata": {},
   "outputs": [
    {
     "data": {
      "text/plain": [
       "510"
      ]
     },
     "execution_count": 5,
     "metadata": {},
     "output_type": "execute_result"
    }
   ],
   "source": [
    "len(file_content)"
   ]
  },
  {
   "cell_type": "code",
   "execution_count": 6,
   "metadata": {},
   "outputs": [],
   "source": [
    "file_pd['contract'] = file_name\n",
    "file_pd['content'] = file_content"
   ]
  },
  {
   "cell_type": "code",
   "execution_count": 7,
   "metadata": {},
   "outputs": [
    {
     "data": {
      "text/html": [
       "<div>\n",
       "<style scoped>\n",
       "    .dataframe tbody tr th:only-of-type {\n",
       "        vertical-align: middle;\n",
       "    }\n",
       "\n",
       "    .dataframe tbody tr th {\n",
       "        vertical-align: top;\n",
       "    }\n",
       "\n",
       "    .dataframe thead th {\n",
       "        text-align: right;\n",
       "    }\n",
       "</style>\n",
       "<table border=\"1\" class=\"dataframe\">\n",
       "  <thead>\n",
       "    <tr style=\"text-align: right;\">\n",
       "      <th></th>\n",
       "      <th>contract</th>\n",
       "      <th>content</th>\n",
       "    </tr>\n",
       "  </thead>\n",
       "  <tbody>\n",
       "    <tr>\n",
       "      <th>0</th>\n",
       "      <td>2ThemartComInc_19990826_10-12G_EX-10.10_670028...</td>\n",
       "      <td>CO-BRANDING AND ADVERTISING AGREEMENT\\n\\nTHIS ...</td>\n",
       "    </tr>\n",
       "    <tr>\n",
       "      <th>1</th>\n",
       "      <td>ABILITYINC_06_15_2020-EX-4.25-SERVICESAGREEMEN...</td>\n",
       "      <td>EXHIBIT 4.25 INFORMATION IN THIS EXHIBIT IDENT...</td>\n",
       "    </tr>\n",
       "    <tr>\n",
       "      <th>2</th>\n",
       "      <td>ACCELERATEDTECHNOLOGIESHOLDINGCORP_04_24_2003-...</td>\n",
       "      <td>EXHIBIT 10.13\\n\\n                             ...</td>\n",
       "    </tr>\n",
       "    <tr>\n",
       "      <th>3</th>\n",
       "      <td>ACCURAYINC_09_01_2010-EX-10.31-DISTRIBUTORAGRE...</td>\n",
       "      <td>Exhibit 10.31    PURSUANT TO 17 C.F.R. § 240.2...</td>\n",
       "    </tr>\n",
       "    <tr>\n",
       "      <th>4</th>\n",
       "      <td>ADAMSGOLFINC_03_21_2005-EX-10.17-ENDORSEMENTAG...</td>\n",
       "      <td>REDACTED COPY\\n\\nCONFIDENTIAL TREATMENT REQUES...</td>\n",
       "    </tr>\n",
       "    <tr>\n",
       "      <th>...</th>\n",
       "      <td>...</td>\n",
       "      <td>...</td>\n",
       "    </tr>\n",
       "    <tr>\n",
       "      <th>505</th>\n",
       "      <td>ZEBRATECHNOLOGIESCORP_04_16_2014-EX-10.1-INTEL...</td>\n",
       "      <td>Exhibit 10.1\\n\\nINTELLECTUAL PROPERTY AGREEMEN...</td>\n",
       "    </tr>\n",
       "    <tr>\n",
       "      <th>506</th>\n",
       "      <td>ZogenixInc_20190509_10-Q_EX-10.2_11663313_EX-1...</td>\n",
       "      <td>Exhibit 10.2\\n\\nCERTAIN INFORMATION (INDICATED...</td>\n",
       "    </tr>\n",
       "    <tr>\n",
       "      <th>507</th>\n",
       "      <td>ZONDWINDSYSTEMPARTNERSLTDSERIES85-B_04_03_2006...</td>\n",
       "      <td>Exhibit 10.17(b)                              ...</td>\n",
       "    </tr>\n",
       "    <tr>\n",
       "      <th>508</th>\n",
       "      <td>ZoundsHearing,Inc.-MANUFACTURINGDESIGNMARKETIN...</td>\n",
       "      <td>Exhibit 10.1 MANUFACTURING, DESIGN AND MARKETI...</td>\n",
       "    </tr>\n",
       "    <tr>\n",
       "      <th>509</th>\n",
       "      <td>ZtoExpressCaymanInc_20160930_F-1_EX-10.10_9752...</td>\n",
       "      <td>Exhibit 10.10   Road Transportation Agreement ...</td>\n",
       "    </tr>\n",
       "  </tbody>\n",
       "</table>\n",
       "<p>510 rows × 2 columns</p>\n",
       "</div>"
      ],
      "text/plain": [
       "                                              contract  \\\n",
       "0    2ThemartComInc_19990826_10-12G_EX-10.10_670028...   \n",
       "1    ABILITYINC_06_15_2020-EX-4.25-SERVICESAGREEMEN...   \n",
       "2    ACCELERATEDTECHNOLOGIESHOLDINGCORP_04_24_2003-...   \n",
       "3    ACCURAYINC_09_01_2010-EX-10.31-DISTRIBUTORAGRE...   \n",
       "4    ADAMSGOLFINC_03_21_2005-EX-10.17-ENDORSEMENTAG...   \n",
       "..                                                 ...   \n",
       "505  ZEBRATECHNOLOGIESCORP_04_16_2014-EX-10.1-INTEL...   \n",
       "506  ZogenixInc_20190509_10-Q_EX-10.2_11663313_EX-1...   \n",
       "507  ZONDWINDSYSTEMPARTNERSLTDSERIES85-B_04_03_2006...   \n",
       "508  ZoundsHearing,Inc.-MANUFACTURINGDESIGNMARKETIN...   \n",
       "509  ZtoExpressCaymanInc_20160930_F-1_EX-10.10_9752...   \n",
       "\n",
       "                                               content  \n",
       "0    CO-BRANDING AND ADVERTISING AGREEMENT\\n\\nTHIS ...  \n",
       "1    EXHIBIT 4.25 INFORMATION IN THIS EXHIBIT IDENT...  \n",
       "2    EXHIBIT 10.13\\n\\n                             ...  \n",
       "3    Exhibit 10.31    PURSUANT TO 17 C.F.R. § 240.2...  \n",
       "4    REDACTED COPY\\n\\nCONFIDENTIAL TREATMENT REQUES...  \n",
       "..                                                 ...  \n",
       "505  Exhibit 10.1\\n\\nINTELLECTUAL PROPERTY AGREEMEN...  \n",
       "506  Exhibit 10.2\\n\\nCERTAIN INFORMATION (INDICATED...  \n",
       "507  Exhibit 10.17(b)                              ...  \n",
       "508  Exhibit 10.1 MANUFACTURING, DESIGN AND MARKETI...  \n",
       "509  Exhibit 10.10   Road Transportation Agreement ...  \n",
       "\n",
       "[510 rows x 2 columns]"
      ]
     },
     "execution_count": 7,
     "metadata": {},
     "output_type": "execute_result"
    }
   ],
   "source": [
    "file_pd"
   ]
  },
  {
   "cell_type": "code",
   "execution_count": 8,
   "metadata": {},
   "outputs": [],
   "source": [
    "file_pd['content'] = file_pd['content'].astype('str')\n",
    "file_pd['contract'] = file_pd['contract'].astype('str')"
   ]
  },
  {
   "cell_type": "markdown",
   "metadata": {},
   "source": [
    "# Remove white spaces"
   ]
  },
  {
   "cell_type": "code",
   "execution_count": 9,
   "metadata": {},
   "outputs": [],
   "source": [
    "file_new = file_pd\n",
    "\n",
    "file_new = file_new.replace(r'\\n',' ', regex=True)\n",
    "file_new = file_new.replace(r'\\n\\n',' ', regex=True)\n",
    "file_new = file_new.replace(r'\\\\n',' ', regex=True)\n",
    "file_new = file_new.replace('\\s+', ' ', regex=True)"
   ]
  },
  {
   "cell_type": "markdown",
   "metadata": {},
   "source": [
    "# Export to excel"
   ]
  },
  {
   "cell_type": "code",
   "execution_count": 10,
   "metadata": {},
   "outputs": [],
   "source": [
    "file_new.to_excel('contract_new.xlsx', encoding='utf-8', index=False)"
   ]
  }
 ],
 "metadata": {
  "interpreter": {
   "hash": "097a94cc1bfc5a0a380b63d1eb45dc603bb0f63840061a2276c4020d01d7c102"
  },
  "kernelspec": {
   "display_name": "Python 3.7.0 64-bit",
   "language": "python",
   "name": "python3"
  },
  "language_info": {
   "codemirror_mode": {
    "name": "ipython",
    "version": 3
   },
   "file_extension": ".py",
   "mimetype": "text/x-python",
   "name": "python",
   "nbconvert_exporter": "python",
   "pygments_lexer": "ipython3",
   "version": "3.7.0"
  },
  "orig_nbformat": 4
 },
 "nbformat": 4,
 "nbformat_minor": 2
}
