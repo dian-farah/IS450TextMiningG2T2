{
 "cells": [
  {
   "cell_type": "markdown",
   "metadata": {},
   "source": [
    "# Load Libraries"
   ]
  },
  {
   "cell_type": "code",
   "execution_count": 1,
   "metadata": {},
   "outputs": [
    {
     "name": "stderr",
     "output_type": "stream",
     "text": [
      "C:\\Users\\dianfarahr.2019\\AppData\\Local\\Continuum\\anaconda3\\lib\\site-packages\\pandas\\compat\\_optional.py:138: UserWarning: Pandas requires version '2.7.0' or newer of 'numexpr' (version '2.6.9' currently installed).\n",
      "  warnings.warn(msg, UserWarning)\n"
     ]
    }
   ],
   "source": [
    "from zipfile import ZipFile\n",
    "import pandas as pd\n",
    "import json"
   ]
  },
  {
   "cell_type": "markdown",
   "metadata": {},
   "source": [
    "# Load File"
   ]
  },
  {
   "cell_type": "code",
   "execution_count": 2,
   "metadata": {},
   "outputs": [],
   "source": [
    "filen = \"full_contract_txt.zip\"\n",
    "\n",
    "#Note that I manually unzipped the billsum folder before running the code\n",
    "filebillsum = 'billsum_v4_1/us_train_data_final_OFFICIAL.jsonl' \n",
    "filebillsum_test = 'billsum_v4_1/us_test_data_final_OFFICIAL.jsonl'"
   ]
  },
  {
   "cell_type": "markdown",
   "metadata": {},
   "source": [
    "# Load Zip files as DataFrame"
   ]
  },
  {
   "cell_type": "code",
   "execution_count": 3,
   "metadata": {},
   "outputs": [],
   "source": [
    "file_name = []\n",
    "file_content = []\n",
    "file_pd = pd.DataFrame()"
   ]
  },
  {
   "cell_type": "code",
   "execution_count": 4,
   "metadata": {},
   "outputs": [
    {
     "name": "stdout",
     "output_type": "stream",
     "text": [
      "Done!\n"
     ]
    }
   ],
   "source": [
    "with ZipFile(filen, \"r\") as zip:\n",
    "    listofnames = zip.infolist()\n",
    "\n",
    "    for elem in listofnames:\n",
    "        file_name.append(str(elem.filename.rpartition(\"/\")[-1]))\n",
    "        with zip.open(elem.filename) as myfile:\n",
    "            file_content.append(str(myfile.read().decode(\"utf-8\")))\n",
    "\n",
    "    print('Done!')"
   ]
  },
  {
   "cell_type": "code",
   "execution_count": 5,
   "metadata": {},
   "outputs": [
    {
     "data": {
      "text/plain": [
       "510"
      ]
     },
     "execution_count": 5,
     "metadata": {},
     "output_type": "execute_result"
    }
   ],
   "source": [
    "len(file_content)"
   ]
  },
  {
   "cell_type": "code",
   "execution_count": 6,
   "metadata": {},
   "outputs": [],
   "source": [
    "file_pd['contract'] = file_name\n",
    "file_pd['content'] = file_content"
   ]
  },
  {
   "cell_type": "code",
   "execution_count": 7,
   "metadata": {},
   "outputs": [
    {
     "data": {
      "text/html": [
       "<div>\n",
       "<style scoped>\n",
       "    .dataframe tbody tr th:only-of-type {\n",
       "        vertical-align: middle;\n",
       "    }\n",
       "\n",
       "    .dataframe tbody tr th {\n",
       "        vertical-align: top;\n",
       "    }\n",
       "\n",
       "    .dataframe thead th {\n",
       "        text-align: right;\n",
       "    }\n",
       "</style>\n",
       "<table border=\"1\" class=\"dataframe\">\n",
       "  <thead>\n",
       "    <tr style=\"text-align: right;\">\n",
       "      <th></th>\n",
       "      <th>contract</th>\n",
       "      <th>content</th>\n",
       "    </tr>\n",
       "  </thead>\n",
       "  <tbody>\n",
       "    <tr>\n",
       "      <th>0</th>\n",
       "      <td>2ThemartComInc_19990826_10-12G_EX-10.10_670028...</td>\n",
       "      <td>CO-BRANDING AND ADVERTISING AGREEMENT\\n\\nTHIS ...</td>\n",
       "    </tr>\n",
       "    <tr>\n",
       "      <th>1</th>\n",
       "      <td>ABILITYINC_06_15_2020-EX-4.25-SERVICESAGREEMEN...</td>\n",
       "      <td>EXHIBIT 4.25 INFORMATION IN THIS EXHIBIT IDENT...</td>\n",
       "    </tr>\n",
       "    <tr>\n",
       "      <th>2</th>\n",
       "      <td>ACCELERATEDTECHNOLOGIESHOLDINGCORP_04_24_2003-...</td>\n",
       "      <td>EXHIBIT 10.13\\n\\n                             ...</td>\n",
       "    </tr>\n",
       "    <tr>\n",
       "      <th>3</th>\n",
       "      <td>ACCURAYINC_09_01_2010-EX-10.31-DISTRIBUTORAGRE...</td>\n",
       "      <td>Exhibit 10.31    PURSUANT TO 17 C.F.R. § 240.2...</td>\n",
       "    </tr>\n",
       "    <tr>\n",
       "      <th>4</th>\n",
       "      <td>ADAMSGOLFINC_03_21_2005-EX-10.17-ENDORSEMENTAG...</td>\n",
       "      <td>REDACTED COPY\\n\\nCONFIDENTIAL TREATMENT REQUES...</td>\n",
       "    </tr>\n",
       "    <tr>\n",
       "      <th>...</th>\n",
       "      <td>...</td>\n",
       "      <td>...</td>\n",
       "    </tr>\n",
       "    <tr>\n",
       "      <th>505</th>\n",
       "      <td>ZEBRATECHNOLOGIESCORP_04_16_2014-EX-10.1-INTEL...</td>\n",
       "      <td>Exhibit 10.1\\n\\nINTELLECTUAL PROPERTY AGREEMEN...</td>\n",
       "    </tr>\n",
       "    <tr>\n",
       "      <th>506</th>\n",
       "      <td>ZogenixInc_20190509_10-Q_EX-10.2_11663313_EX-1...</td>\n",
       "      <td>Exhibit 10.2\\n\\nCERTAIN INFORMATION (INDICATED...</td>\n",
       "    </tr>\n",
       "    <tr>\n",
       "      <th>507</th>\n",
       "      <td>ZONDWINDSYSTEMPARTNERSLTDSERIES85-B_04_03_2006...</td>\n",
       "      <td>Exhibit 10.17(b)                              ...</td>\n",
       "    </tr>\n",
       "    <tr>\n",
       "      <th>508</th>\n",
       "      <td>ZoundsHearing,Inc.-MANUFACTURINGDESIGNMARKETIN...</td>\n",
       "      <td>Exhibit 10.1 MANUFACTURING, DESIGN AND MARKETI...</td>\n",
       "    </tr>\n",
       "    <tr>\n",
       "      <th>509</th>\n",
       "      <td>ZtoExpressCaymanInc_20160930_F-1_EX-10.10_9752...</td>\n",
       "      <td>Exhibit 10.10   Road Transportation Agreement ...</td>\n",
       "    </tr>\n",
       "  </tbody>\n",
       "</table>\n",
       "<p>510 rows × 2 columns</p>\n",
       "</div>"
      ],
      "text/plain": [
       "                                              contract  \\\n",
       "0    2ThemartComInc_19990826_10-12G_EX-10.10_670028...   \n",
       "1    ABILITYINC_06_15_2020-EX-4.25-SERVICESAGREEMEN...   \n",
       "2    ACCELERATEDTECHNOLOGIESHOLDINGCORP_04_24_2003-...   \n",
       "3    ACCURAYINC_09_01_2010-EX-10.31-DISTRIBUTORAGRE...   \n",
       "4    ADAMSGOLFINC_03_21_2005-EX-10.17-ENDORSEMENTAG...   \n",
       "..                                                 ...   \n",
       "505  ZEBRATECHNOLOGIESCORP_04_16_2014-EX-10.1-INTEL...   \n",
       "506  ZogenixInc_20190509_10-Q_EX-10.2_11663313_EX-1...   \n",
       "507  ZONDWINDSYSTEMPARTNERSLTDSERIES85-B_04_03_2006...   \n",
       "508  ZoundsHearing,Inc.-MANUFACTURINGDESIGNMARKETIN...   \n",
       "509  ZtoExpressCaymanInc_20160930_F-1_EX-10.10_9752...   \n",
       "\n",
       "                                               content  \n",
       "0    CO-BRANDING AND ADVERTISING AGREEMENT\\n\\nTHIS ...  \n",
       "1    EXHIBIT 4.25 INFORMATION IN THIS EXHIBIT IDENT...  \n",
       "2    EXHIBIT 10.13\\n\\n                             ...  \n",
       "3    Exhibit 10.31    PURSUANT TO 17 C.F.R. § 240.2...  \n",
       "4    REDACTED COPY\\n\\nCONFIDENTIAL TREATMENT REQUES...  \n",
       "..                                                 ...  \n",
       "505  Exhibit 10.1\\n\\nINTELLECTUAL PROPERTY AGREEMEN...  \n",
       "506  Exhibit 10.2\\n\\nCERTAIN INFORMATION (INDICATED...  \n",
       "507  Exhibit 10.17(b)                              ...  \n",
       "508  Exhibit 10.1 MANUFACTURING, DESIGN AND MARKETI...  \n",
       "509  Exhibit 10.10   Road Transportation Agreement ...  \n",
       "\n",
       "[510 rows x 2 columns]"
      ]
     },
     "execution_count": 7,
     "metadata": {},
     "output_type": "execute_result"
    }
   ],
   "source": [
    "file_pd"
   ]
  },
  {
   "cell_type": "code",
   "execution_count": 8,
   "metadata": {},
   "outputs": [],
   "source": [
    "file_pd['content'] = file_pd['content'].astype('str')\n",
    "file_pd['contract'] = file_pd['contract'].astype('str')"
   ]
  },
  {
   "cell_type": "markdown",
   "metadata": {},
   "source": [
    "# Load JSON file to DataFrame"
   ]
  },
  {
   "cell_type": "code",
   "execution_count": 3,
   "metadata": {},
   "outputs": [],
   "source": [
    "billsum_train = []\n",
    "billsum_test = []\n",
    "for line in open(filebillsum, 'r'):\n",
    "    billsum_train.append(json.loads(line))\n",
    "    \n",
    "for line2 in open(filebillsum_test, 'r'):\n",
    "    billsum_test.append(json.loads(line2))"
   ]
  },
  {
   "cell_type": "code",
   "execution_count": 8,
   "metadata": {},
   "outputs": [],
   "source": [
    "text1 = []\n",
    "title1 = []\n",
    "summary1 = []\n",
    "billsum_train_filepd = pd.DataFrame()\n",
    "\n",
    "text2 = []\n",
    "title2 = []\n",
    "summary2 = []\n",
    "billsum_test_filepd = pd.DataFrame()"
   ]
  },
  {
   "cell_type": "code",
   "execution_count": 9,
   "metadata": {},
   "outputs": [],
   "source": [
    "for jsn in billsum_train:\n",
    "    title1.append(jsn['title'])\n",
    "    text1.append(jsn['text'])\n",
    "    summary1.append(jsn['summary'])\n",
    "    \n",
    "for jsn2 in billsum_test:\n",
    "    title2.append(jsn2['title'])\n",
    "    text2.append(jsn2['text'])\n",
    "    summary2.append(jsn2['summary'])"
   ]
  },
  {
   "cell_type": "code",
   "execution_count": 10,
   "metadata": {},
   "outputs": [],
   "source": [
    "billsum_train_filepd['contract'] = title1\n",
    "billsum_train_filepd['content'] = text1\n",
    "billsum_train_filepd['summary'] = summary1\n",
    "\n",
    "billsum_test_filepd['contract'] = title2\n",
    "billsum_test_filepd['content'] = text2\n",
    "billsum_test_filepd['summary'] = summary2"
   ]
  },
  {
   "cell_type": "code",
   "execution_count": 11,
   "metadata": {},
   "outputs": [
    {
     "data": {
      "text/html": [
       "<div>\n",
       "<style scoped>\n",
       "    .dataframe tbody tr th:only-of-type {\n",
       "        vertical-align: middle;\n",
       "    }\n",
       "\n",
       "    .dataframe tbody tr th {\n",
       "        vertical-align: top;\n",
       "    }\n",
       "\n",
       "    .dataframe thead th {\n",
       "        text-align: right;\n",
       "    }\n",
       "</style>\n",
       "<table border=\"1\" class=\"dataframe\">\n",
       "  <thead>\n",
       "    <tr style=\"text-align: right;\">\n",
       "      <th></th>\n",
       "      <th>contract</th>\n",
       "      <th>content</th>\n",
       "      <th>summary</th>\n",
       "    </tr>\n",
       "  </thead>\n",
       "  <tbody>\n",
       "    <tr>\n",
       "      <th>0</th>\n",
       "      <td>To amend the Public Health Service Act to esta...</td>\n",
       "      <td>SECTION 1. SHORT TITLE.\\n\\n    This Act may be...</td>\n",
       "      <td>Border Hospital Survival and Illegal Immigrant...</td>\n",
       "    </tr>\n",
       "    <tr>\n",
       "      <th>1</th>\n",
       "      <td>To amend the Richard B. Russell National Schoo...</td>\n",
       "      <td>SECTION 1. SHORT TITLE.\\n\\n    This Act may be...</td>\n",
       "      <td>Farm to School Improvements Act of 2010 - Amen...</td>\n",
       "    </tr>\n",
       "    <tr>\n",
       "      <th>2</th>\n",
       "      <td>A bill to amend title 38, United States Code, ...</td>\n",
       "      <td>SECTION 1. SHORT TITLE.\\n\\n    This Act may be...</td>\n",
       "      <td>Persian Gulf War Illness Compensation Act of 2...</td>\n",
       "    </tr>\n",
       "    <tr>\n",
       "      <th>3</th>\n",
       "      <td>A bill to provide for additional outreach and ...</td>\n",
       "      <td>SECTION 1. SHORT TITLE.\\n\\n    This Act may be...</td>\n",
       "      <td>Medicare Part D Outreach and Enrollment Enhanc...</td>\n",
       "    </tr>\n",
       "    <tr>\n",
       "      <th>4</th>\n",
       "      <td>To amend the Internal Revenue Code of 1986 to ...</td>\n",
       "      <td>SECTION 1. SHORT TITLE.\\n\\n    This Act may be...</td>\n",
       "      <td>Seniors' Retirement Recovery Act of 2002 - Ame...</td>\n",
       "    </tr>\n",
       "  </tbody>\n",
       "</table>\n",
       "</div>"
      ],
      "text/plain": [
       "                                            contract  \\\n",
       "0  To amend the Public Health Service Act to esta...   \n",
       "1  To amend the Richard B. Russell National Schoo...   \n",
       "2  A bill to amend title 38, United States Code, ...   \n",
       "3  A bill to provide for additional outreach and ...   \n",
       "4  To amend the Internal Revenue Code of 1986 to ...   \n",
       "\n",
       "                                             content  \\\n",
       "0  SECTION 1. SHORT TITLE.\\n\\n    This Act may be...   \n",
       "1  SECTION 1. SHORT TITLE.\\n\\n    This Act may be...   \n",
       "2  SECTION 1. SHORT TITLE.\\n\\n    This Act may be...   \n",
       "3  SECTION 1. SHORT TITLE.\\n\\n    This Act may be...   \n",
       "4  SECTION 1. SHORT TITLE.\\n\\n    This Act may be...   \n",
       "\n",
       "                                             summary  \n",
       "0  Border Hospital Survival and Illegal Immigrant...  \n",
       "1  Farm to School Improvements Act of 2010 - Amen...  \n",
       "2  Persian Gulf War Illness Compensation Act of 2...  \n",
       "3  Medicare Part D Outreach and Enrollment Enhanc...  \n",
       "4  Seniors' Retirement Recovery Act of 2002 - Ame...  "
      ]
     },
     "execution_count": 11,
     "metadata": {},
     "output_type": "execute_result"
    }
   ],
   "source": [
    "billsum_train_filepd.head()"
   ]
  },
  {
   "cell_type": "code",
   "execution_count": 13,
   "metadata": {},
   "outputs": [
    {
     "data": {
      "text/plain": [
       "18949"
      ]
     },
     "execution_count": 13,
     "metadata": {},
     "output_type": "execute_result"
    }
   ],
   "source": [
    "len(billsum_train_filepd)"
   ]
  },
  {
   "cell_type": "code",
   "execution_count": 14,
   "metadata": {},
   "outputs": [
    {
     "data": {
      "text/html": [
       "<div>\n",
       "<style scoped>\n",
       "    .dataframe tbody tr th:only-of-type {\n",
       "        vertical-align: middle;\n",
       "    }\n",
       "\n",
       "    .dataframe tbody tr th {\n",
       "        vertical-align: top;\n",
       "    }\n",
       "\n",
       "    .dataframe thead th {\n",
       "        text-align: right;\n",
       "    }\n",
       "</style>\n",
       "<table border=\"1\" class=\"dataframe\">\n",
       "  <thead>\n",
       "    <tr style=\"text-align: right;\">\n",
       "      <th></th>\n",
       "      <th>contract</th>\n",
       "      <th>content</th>\n",
       "      <th>summary</th>\n",
       "    </tr>\n",
       "  </thead>\n",
       "  <tbody>\n",
       "    <tr>\n",
       "      <th>0</th>\n",
       "      <td>To amend the Internal Revenue Code of 1986 to ...</td>\n",
       "      <td>SECTION 1. SHORT TITLE.\\n\\n    This Act may be...</td>\n",
       "      <td>National Science Education Tax Incentive for B...</td>\n",
       "    </tr>\n",
       "    <tr>\n",
       "      <th>1</th>\n",
       "      <td>To amend the Internal Revenue Code of 1986 to ...</td>\n",
       "      <td>SECTION 1. SHORT TITLE.\\n\\n    This Act may be...</td>\n",
       "      <td>Small Business Expansion and Hiring Act of 201...</td>\n",
       "    </tr>\n",
       "    <tr>\n",
       "      <th>2</th>\n",
       "      <td>A bill to require the Director of National Int...</td>\n",
       "      <td>SECTION 1. RELEASE OF DOCUMENTS CAPTURED IN IR...</td>\n",
       "      <td>Requires the Director of National Intelligence...</td>\n",
       "    </tr>\n",
       "    <tr>\n",
       "      <th>3</th>\n",
       "      <td>A bill to improve data collection and dissemin...</td>\n",
       "      <td>SECTION 1. SHORT TITLE.\\n\\n    This Act may be...</td>\n",
       "      <td>National Cancer Act of 2003 - Amends the Publi...</td>\n",
       "    </tr>\n",
       "    <tr>\n",
       "      <th>4</th>\n",
       "      <td>A bill to amend the Internal Revenue Code of 1...</td>\n",
       "      <td>SECTION 1. SHORT TITLE.\\n\\n    This Act may be...</td>\n",
       "      <td>Military Call-up Relief Act - Amends the Inter...</td>\n",
       "    </tr>\n",
       "  </tbody>\n",
       "</table>\n",
       "</div>"
      ],
      "text/plain": [
       "                                            contract  \\\n",
       "0  To amend the Internal Revenue Code of 1986 to ...   \n",
       "1  To amend the Internal Revenue Code of 1986 to ...   \n",
       "2  A bill to require the Director of National Int...   \n",
       "3  A bill to improve data collection and dissemin...   \n",
       "4  A bill to amend the Internal Revenue Code of 1...   \n",
       "\n",
       "                                             content  \\\n",
       "0  SECTION 1. SHORT TITLE.\\n\\n    This Act may be...   \n",
       "1  SECTION 1. SHORT TITLE.\\n\\n    This Act may be...   \n",
       "2  SECTION 1. RELEASE OF DOCUMENTS CAPTURED IN IR...   \n",
       "3  SECTION 1. SHORT TITLE.\\n\\n    This Act may be...   \n",
       "4  SECTION 1. SHORT TITLE.\\n\\n    This Act may be...   \n",
       "\n",
       "                                             summary  \n",
       "0  National Science Education Tax Incentive for B...  \n",
       "1  Small Business Expansion and Hiring Act of 201...  \n",
       "2  Requires the Director of National Intelligence...  \n",
       "3  National Cancer Act of 2003 - Amends the Publi...  \n",
       "4  Military Call-up Relief Act - Amends the Inter...  "
      ]
     },
     "execution_count": 14,
     "metadata": {},
     "output_type": "execute_result"
    }
   ],
   "source": [
    "billsum_test_filepd.head()"
   ]
  },
  {
   "cell_type": "code",
   "execution_count": 15,
   "metadata": {},
   "outputs": [
    {
     "data": {
      "text/plain": [
       "3269"
      ]
     },
     "execution_count": 15,
     "metadata": {},
     "output_type": "execute_result"
    }
   ],
   "source": [
    "len(billsum_test_filepd)"
   ]
  },
  {
   "cell_type": "markdown",
   "metadata": {},
   "source": [
    "# Remove white spaces"
   ]
  },
  {
   "cell_type": "code",
   "execution_count": 9,
   "metadata": {},
   "outputs": [],
   "source": [
    "#CUAD\n",
    "file_new = file_pd\n",
    "\n",
    "file_new = file_new.replace(r'\\n',' ', regex=True)\n",
    "file_new = file_new.replace(r'\\n\\n',' ', regex=True)\n",
    "file_new = file_new.replace(r'\\\\n',' ', regex=True)\n",
    "file_new = file_new.replace('\\s+', ' ', regex=True)"
   ]
  },
  {
   "cell_type": "code",
   "execution_count": 16,
   "metadata": {},
   "outputs": [],
   "source": [
    "#Billsum\n",
    "billsum_train = billsum_train_filepd\n",
    "\n",
    "billsum_train = billsum_train.replace(r'\\n',' ', regex=True)\n",
    "billsum_train = billsum_train.replace(r'\\n\\n',' ', regex=True)\n",
    "billsum_train = billsum_train.replace(r'\\\\n',' ', regex=True)\n",
    "billsum_train = billsum_train.replace('\\s+', ' ', regex=True)\n",
    "\n",
    "billsum_test = billsum_test_filepd\n",
    "\n",
    "billsum_test = billsum_test.replace(r'\\n',' ', regex=True)\n",
    "billsum_test = billsum_test.replace(r'\\n\\n',' ', regex=True)\n",
    "billsum_test = billsum_test.replace(r'\\\\n',' ', regex=True)\n",
    "billsum_test = billsum_test.replace('\\s+', ' ', regex=True)"
   ]
  },
  {
   "cell_type": "markdown",
   "metadata": {},
   "source": [
    "# Export to excel"
   ]
  },
  {
   "cell_type": "code",
   "execution_count": 10,
   "metadata": {},
   "outputs": [],
   "source": [
    "#CUAD\n",
    "file_new.to_excel('contract_new.xlsx', encoding='utf-8', index=False)"
   ]
  },
  {
   "cell_type": "code",
   "execution_count": 19,
   "metadata": {},
   "outputs": [],
   "source": [
    "#Billsum\n",
    "billsum_train.to_excel('billsum_train.xlsx', encoding='utf-8', index=False)"
   ]
  },
  {
   "cell_type": "code",
   "execution_count": 20,
   "metadata": {},
   "outputs": [],
   "source": [
    "billsum_test.to_excel('billsum_test.xlsx', encoding='utf-8', index=False)"
   ]
  },
  {
   "cell_type": "code",
   "execution_count": null,
   "metadata": {},
   "outputs": [],
   "source": []
  }
 ],
 "metadata": {
  "interpreter": {
   "hash": "097a94cc1bfc5a0a380b63d1eb45dc603bb0f63840061a2276c4020d01d7c102"
  },
  "kernelspec": {
   "display_name": "Python 3",
   "language": "python",
   "name": "python3"
  },
  "language_info": {
   "codemirror_mode": {
    "name": "ipython",
    "version": 3
   },
   "file_extension": ".py",
   "mimetype": "text/x-python",
   "name": "python",
   "nbconvert_exporter": "python",
   "pygments_lexer": "ipython3",
   "version": "3.7.3"
  }
 },
 "nbformat": 4,
 "nbformat_minor": 2
}
